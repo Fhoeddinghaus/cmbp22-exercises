{
 "cells": [
  {
   "cell_type": "markdown",
   "id": "b02be58a",
   "metadata": {},
   "source": [
    "# Hamilton matrices for spin models\n",
    "\n",
    "Consider a spin model of the form\n",
    "\\begin{equation}\n",
    "    H = -\\sum\\limits_{ij\\alpha} J_{ij}^\\alpha S_i^\\alpha S_j^\\alpha\n",
    "\\end{equation}\n",
    "with $i,j=1,\\dots, N$ and $\\alpha=x,y,z$.\n",
    "\n",
    "## a) Implementation"
   ]
  },
  {
   "cell_type": "code",
   "execution_count": 174,
   "id": "aecae25d",
   "metadata": {},
   "outputs": [
    {
     "name": "stderr",
     "output_type": "stream",
     "text": [
      "WARNING: using SymPy.N in module Main conflicts with an existing identifier.\n"
     ]
    }
   ],
   "source": [
    "using SparseArrays\n",
    "using LinearAlgebra\n",
    "using Latexify\n",
    "using SymPy"
   ]
  },
  {
   "cell_type": "code",
   "execution_count": 285,
   "id": "036dd89c",
   "metadata": {},
   "outputs": [],
   "source": [
    "N = 3\n",
    "\n",
    "function reset_Js(N) \n",
    "    Js = [sparse(zeros(N,N)) for α in 1:3]; # 3 N×N matrices (α = x,y,z)\n",
    "    return Js\n",
    "end\n",
    "\n",
    "Js = reset_Js(N);\n",
    "\n",
    "# initialize Js with values here\n",
    "# ..."
   ]
  },
  {
   "cell_type": "code",
   "execution_count": 283,
   "id": "581e11f8",
   "metadata": {},
   "outputs": [
    {
     "data": {
      "text/plain": [
       "l (generic function with 1 method)"
      ]
     },
     "execution_count": 283,
     "metadata": {},
     "output_type": "execute_result"
    }
   ],
   "source": [
    "# convert [n]₁₀ to [n]₂ (in reversed order of notation, that is also used for |n⟩)\n",
    "n_dual(n) = digits(n, base=2, pad=N)\n",
    "\n",
    "# Function to calculate |n⟩ ↦ |l⟩ for the action of SᵢSⱼ for α = x,y\n",
    "l(n,i,j) = n + (1 - 2 * n_dual(n)[i]) * 2^(i-1) + (1 - 2 * n_dual(n)[j]) * 2^(j-1)"
   ]
  },
  {
   "cell_type": "code",
   "execution_count": 284,
   "id": "e28600c8",
   "metadata": {},
   "outputs": [
    {
     "data": {
      "text/plain": [
       "z_link_prefactor (generic function with 2 methods)"
      ]
     },
     "execution_count": 284,
     "metadata": {},
     "output_type": "execute_result"
    }
   ],
   "source": [
    "# prefactor λˣ for the x-component of the interaction of spins i and j of |n⟩ \n",
    "#    -JˣᵢⱼSˣᵢSˣⱼ|n⟩ ↦ λʸ|l⟩\n",
    "function x_link_prefactor(Js, n, i, j)\n",
    "    α = 1 # x =̂ 1\n",
    "    return -1//4 * Js[α][i,j]\n",
    "end\n",
    "\n",
    "# prefactor λʸ for the y-component of the interaction of spins i and j of |n⟩ \n",
    "#    -JʸᵢⱼSʸᵢSʸⱼ|n⟩ ↦ λʸ|l⟩\n",
    "function y_link_prefactor(Js, n, i, j)\n",
    "    α = 2 # y =̂ 2\n",
    "    # calculate the sign, +1 for nᵢ != nⱼ, -1 for nᵢ == nⱼ\n",
    "    s = - (2 * n_dual(n)[i] - 1) * (2 * n_dual(n)[j] - 1)\n",
    "    return - 1//4 * s * Js[α][i,j]\n",
    "end\n",
    "\n",
    "# prefactor λᶻ for the z-component of the interaction of spins i and j of |n⟩ \n",
    "#    -JᶻᵢⱼSᶻᵢSᶻⱼ|n⟩ ↦ λᶻ|l⟩\n",
    "function z_link_prefactor(Js, n, i, j)\n",
    "    α = 3 # z =̂ 3\n",
    "    # calculate the sign, +1 for nᵢ == nⱼ, -1 for nᵢ != nⱼ\n",
    "    s = (2 * n_dual(n)[i] - 1) * (2 * n_dual(n)[j] - 1)\n",
    "    return -1//4 * s * Js[α][i,j]\n",
    "end"
   ]
  },
  {
   "cell_type": "code",
   "execution_count": 287,
   "id": "02b5ba01",
   "metadata": {},
   "outputs": [
    {
     "data": {
      "text/plain": [
       "calculate_hamilton_matrix (generic function with 1 method)"
      ]
     },
     "execution_count": 287,
     "metadata": {},
     "output_type": "execute_result"
    }
   ],
   "source": [
    "function calculate_hamilton_matrix(Js, N)\n",
    "    H̄ = zeros(2^N, 2^N) # empty 2ᴺ×2ᴺ matrix\n",
    "    for n in 0:(2^N-1)\n",
    "        # for each |n⟩ set the non-zero matrix elements\n",
    "        \n",
    "        # 1. loop over all components α = x,y,z \n",
    "        for α in [1,2,3]\n",
    "            # 2. loop over only non-zero links in Js\n",
    "            # iterate over non-zero elements by using findnz()\n",
    "            for (i, j, J) in zip(findnz(Js[α])...)\n",
    "                \n",
    "                if α == 1 # α =̂ x\n",
    "                    m = l(n, i, j) # calculate |l⟩ from |n⟩ for i,j\n",
    "                    # add to the matrix element ⟨l|H|n⟩ the x-link-term\n",
    "                    H̄[m+1,n+1] += x_link_prefactor(Js, n, i, j)\n",
    "                elseif α == 2 # α =̂ y\n",
    "                    m = l(n, i, j) # calculate |l⟩ from |n⟩ for i,j\n",
    "                    # add to the matrix element ⟨l|H|n⟩ the y-link-term\n",
    "                    H̄[m+1,n+1] += y_link_prefactor(Js, n, i, j)\n",
    "                else\n",
    "                    # α =̂ z, diagonal element\n",
    "                    H̄[n+1,n+1] += z_link_prefactor(Js, n, i, j)\n",
    "                end\n",
    "            end\n",
    "        end\n",
    "    end\n",
    "    return H̄\n",
    "end"
   ]
  },
  {
   "cell_type": "markdown",
   "id": "c08dad68",
   "metadata": {},
   "source": [
    "## b) Three-site clusters\n",
    "### Ising-model\n",
    "$J_{ij}^\\alpha = J\\delta_{\\alpha, z}$ and $i < j$"
   ]
  },
  {
   "cell_type": "code",
   "execution_count": 292,
   "id": "d87757ef",
   "metadata": {},
   "outputs": [
    {
     "data": {
      "text/plain": [
       "8×8 Matrix{Float64}:\n",
       " -0.75  0.0   0.0   0.0   0.0   0.0   0.0    0.0\n",
       "  0.0   0.25  0.0   0.0   0.0   0.0   0.0    0.0\n",
       "  0.0   0.0   0.25  0.0   0.0   0.0   0.0    0.0\n",
       "  0.0   0.0   0.0   0.25  0.0   0.0   0.0    0.0\n",
       "  0.0   0.0   0.0   0.0   0.25  0.0   0.0    0.0\n",
       "  0.0   0.0   0.0   0.0   0.0   0.25  0.0    0.0\n",
       "  0.0   0.0   0.0   0.0   0.0   0.0   0.25   0.0\n",
       "  0.0   0.0   0.0   0.0   0.0   0.0   0.0   -0.75"
      ]
     },
     "execution_count": 292,
     "metadata": {},
     "output_type": "execute_result"
    }
   ],
   "source": [
    "N = 3\n",
    "\n",
    "# Ising\n",
    "Js_ising = reset_Js(N)\n",
    "# 1 (J) for all i<j for α =̂ z, 0 for α ≠ z\n",
    "Js_ising[3] = [\n",
    "    0 1 1\n",
    "    0 0 1\n",
    "    0 0 0\n",
    "]\n",
    "\n",
    "H̄_ising = calculate_hamilton_matrix(Js_ising, N)"
   ]
  },
  {
   "cell_type": "code",
   "execution_count": 293,
   "id": "238fbe63",
   "metadata": {
    "scrolled": true
   },
   "outputs": [
    {
     "data": {
      "text/latex": [
       "$\\left[ \\begin{array}{rrrrrrrr}- \\frac{3 J}{4}&0&0&0&0&0&0&0\\\\0&\\frac{J}{4}&0&0&0&0&0&0\\\\0&0&\\frac{J}{4}&0&0&0&0&0\\\\0&0&0&\\frac{J}{4}&0&0&0&0\\\\0&0&0&0&\\frac{J}{4}&0&0&0\\\\0&0&0&0&0&\\frac{J}{4}&0&0\\\\0&0&0&0&0&0&\\frac{J}{4}&0\\\\0&0&0&0&0&0&0&- \\frac{3 J}{4}\\end{array}\\right]$\n"
      ],
      "text/plain": [
       "8×8 Matrix{Sym}:\n",
       " -3*J/4    0    0    0    0    0    0       0\n",
       "      0  J/4    0    0    0    0    0       0\n",
       "      0    0  J/4    0    0    0    0       0\n",
       "      0    0    0  J/4    0    0    0       0\n",
       "      0    0    0    0  J/4    0    0       0\n",
       "      0    0    0    0    0  J/4    0       0\n",
       "      0    0    0    0    0    0  J/4       0\n",
       "      0    0    0    0    0    0    0  -3*J/4"
      ]
     },
     "execution_count": 293,
     "metadata": {},
     "output_type": "execute_result"
    }
   ],
   "source": [
    "rationalize.(H̄_ising) * sympify(\"J\")"
   ]
  },
  {
   "cell_type": "markdown",
   "id": "db4b64c1",
   "metadata": {},
   "source": [
    "#### Eigenenergies"
   ]
  },
  {
   "cell_type": "code",
   "execution_count": 444,
   "id": "768845b3",
   "metadata": {},
   "outputs": [
    {
     "data": {
      "text/latex": [
       "$\\left[ \\begin{array}{r}- \\frac{3 J}{4}\\\\\\frac{J}{4}\\end{array} \\right]$\n"
      ],
      "text/plain": [
       "2-element Vector{Sym}:\n",
       " -3*J/4\n",
       "    J/4"
      ]
     },
     "execution_count": 444,
     "metadata": {},
     "output_type": "execute_result"
    }
   ],
   "source": [
    "E_ising = eigvals(rationalize.(H̄_ising) * sympify(\"J\"))"
   ]
  },
  {
   "cell_type": "markdown",
   "id": "510c3ca6",
   "metadata": {},
   "source": [
    "### Isotropic Heisenberg\n",
    "$J_{ij}^\\alpha = J$ and $i<j$"
   ]
  },
  {
   "cell_type": "code",
   "execution_count": 295,
   "id": "6063cfcc",
   "metadata": {},
   "outputs": [
    {
     "data": {
      "text/plain": [
       "8×8 Matrix{Float64}:\n",
       " -0.75   0.0    0.0    0.0    0.0    0.0    0.0    0.0\n",
       "  0.0    0.25  -0.5    0.0   -0.5    0.0    0.0    0.0\n",
       "  0.0   -0.5    0.25   0.0   -0.5    0.0    0.0    0.0\n",
       "  0.0    0.0    0.0    0.25   0.0   -0.5   -0.5    0.0\n",
       "  0.0   -0.5   -0.5    0.0    0.25   0.0    0.0    0.0\n",
       "  0.0    0.0    0.0   -0.5    0.0    0.25  -0.5    0.0\n",
       "  0.0    0.0    0.0   -0.5    0.0   -0.5    0.25   0.0\n",
       "  0.0    0.0    0.0    0.0    0.0    0.0    0.0   -0.75"
      ]
     },
     "execution_count": 295,
     "metadata": {},
     "output_type": "execute_result"
    }
   ],
   "source": [
    "N = 3\n",
    "\n",
    "# Isotropic Heisenberg\n",
    "Js_Heisenberg = reset_Js(N)\n",
    "# 1 (J) for all i<j for α =̂ z, 0 for α ≠ z\n",
    "Js_Heisenberg[1] = [\n",
    "    0 1 1\n",
    "    0 0 1\n",
    "    0 0 0\n",
    "]\n",
    "Js_Heisenberg[2] = Js_Heisenberg[1]\n",
    "Js_Heisenberg[3] = Js_Heisenberg[1]\n",
    "\n",
    "H̄_Heisenberg = calculate_hamilton_matrix(Js_Heisenberg, N)"
   ]
  },
  {
   "cell_type": "code",
   "execution_count": 296,
   "id": "4370dd1e",
   "metadata": {
    "scrolled": true
   },
   "outputs": [
    {
     "data": {
      "text/latex": [
       "$\\left[ \\begin{array}{rrrrrrrr}- \\frac{3 J}{4}&0&0&0&0&0&0&0\\\\0&\\frac{J}{4}&- \\frac{J}{2}&0&- \\frac{J}{2}&0&0&0\\\\0&- \\frac{J}{2}&\\frac{J}{4}&0&- \\frac{J}{2}&0&0&0\\\\0&0&0&\\frac{J}{4}&0&- \\frac{J}{2}&- \\frac{J}{2}&0\\\\0&- \\frac{J}{2}&- \\frac{J}{2}&0&\\frac{J}{4}&0&0&0\\\\0&0&0&- \\frac{J}{2}&0&\\frac{J}{4}&- \\frac{J}{2}&0\\\\0&0&0&- \\frac{J}{2}&0&- \\frac{J}{2}&\\frac{J}{4}&0\\\\0&0&0&0&0&0&0&- \\frac{3 J}{4}\\end{array}\\right]$\n"
      ],
      "text/plain": [
       "8×8 Matrix{Sym}:\n",
       " -3*J/4     0     0     0     0     0     0       0\n",
       "      0   J/4  -J/2     0  -J/2     0     0       0\n",
       "      0  -J/2   J/4     0  -J/2     0     0       0\n",
       "      0     0     0   J/4     0  -J/2  -J/2       0\n",
       "      0  -J/2  -J/2     0   J/4     0     0       0\n",
       "      0     0     0  -J/2     0   J/4  -J/2       0\n",
       "      0     0     0  -J/2     0  -J/2   J/4       0\n",
       "      0     0     0     0     0     0     0  -3*J/4"
      ]
     },
     "execution_count": 296,
     "metadata": {},
     "output_type": "execute_result"
    }
   ],
   "source": [
    "rationalize.(H̄_Heisenberg) * sympify(\"J\")"
   ]
  },
  {
   "cell_type": "markdown",
   "id": "ac212800",
   "metadata": {},
   "source": [
    "#### Eigenenergies"
   ]
  },
  {
   "cell_type": "code",
   "execution_count": 445,
   "id": "ec81dda4",
   "metadata": {},
   "outputs": [
    {
     "data": {
      "text/latex": [
       "$\\left[ \\begin{array}{r}- \\frac{3 J}{4}\\\\\\frac{3 J}{4}\\end{array} \\right]$\n"
      ],
      "text/plain": [
       "2-element Vector{Sym}:\n",
       " -3*J/4\n",
       "  3*J/4"
      ]
     },
     "execution_count": 445,
     "metadata": {},
     "output_type": "execute_result"
    }
   ],
   "source": [
    "E_Heisenberg = eigvals(rationalize.(H̄_Heisenberg) * sympify(\"J\"))"
   ]
  },
  {
   "cell_type": "markdown",
   "id": "23e7a991",
   "metadata": {},
   "source": [
    "### model 1d\n",
    "$J_{12}^x = J_{23}^y = J_{13}^z = J$ and all other $J_{ij}^\\alpha = 0$ and $i<j$"
   ]
  },
  {
   "cell_type": "code",
   "execution_count": 297,
   "id": "11203e5d",
   "metadata": {},
   "outputs": [
    {
     "data": {
      "text/plain": [
       "8×8 Matrix{Float64}:\n",
       " -0.25   0.0    0.0   -0.25   0.0    0.0    0.25   0.0\n",
       "  0.0    0.25  -0.25   0.0    0.0    0.0    0.0    0.25\n",
       "  0.0   -0.25  -0.25   0.0   -0.25   0.0    0.0    0.0\n",
       " -0.25   0.0    0.0    0.25   0.0   -0.25   0.0    0.0\n",
       "  0.0    0.0   -0.25   0.0    0.25   0.0    0.0   -0.25\n",
       "  0.0    0.0    0.0   -0.25   0.0   -0.25  -0.25   0.0\n",
       "  0.25   0.0    0.0    0.0    0.0   -0.25   0.25   0.0\n",
       "  0.0    0.25   0.0    0.0   -0.25   0.0    0.0   -0.25"
      ]
     },
     "execution_count": 297,
     "metadata": {},
     "output_type": "execute_result"
    }
   ],
   "source": [
    "N = 3\n",
    "\n",
    "# Isotropic Heisenberg\n",
    "Js_1d = reset_Js(N)\n",
    "# 1 (J) for all (1,2,x), (2,3,y), (1,3,z)\n",
    "Js_1d[1][1,2] = 1\n",
    "Js_1d[2][2,3] = 1\n",
    "Js_1d[3][1,3] = 1\n",
    "H̄_1d = calculate_hamilton_matrix(Js_1d, N)"
   ]
  },
  {
   "cell_type": "code",
   "execution_count": 298,
   "id": "f2bb284c",
   "metadata": {},
   "outputs": [
    {
     "data": {
      "text/latex": [
       "$\\left[ \\begin{array}{rrrrrrrr}- \\frac{J}{4}&0&0&- \\frac{J}{4}&0&0&\\frac{J}{4}&0\\\\0&\\frac{J}{4}&- \\frac{J}{4}&0&0&0&0&\\frac{J}{4}\\\\0&- \\frac{J}{4}&- \\frac{J}{4}&0&- \\frac{J}{4}&0&0&0\\\\- \\frac{J}{4}&0&0&\\frac{J}{4}&0&- \\frac{J}{4}&0&0\\\\0&0&- \\frac{J}{4}&0&\\frac{J}{4}&0&0&- \\frac{J}{4}\\\\0&0&0&- \\frac{J}{4}&0&- \\frac{J}{4}&- \\frac{J}{4}&0\\\\\\frac{J}{4}&0&0&0&0&- \\frac{J}{4}&\\frac{J}{4}&0\\\\0&\\frac{J}{4}&0&0&- \\frac{J}{4}&0&0&- \\frac{J}{4}\\end{array}\\right]$\n"
      ],
      "text/plain": [
       "8×8 Matrix{Sym}:\n",
       " -J/4     0     0  -J/4     0     0   J/4     0\n",
       "    0   J/4  -J/4     0     0     0     0   J/4\n",
       "    0  -J/4  -J/4     0  -J/4     0     0     0\n",
       " -J/4     0     0   J/4     0  -J/4     0     0\n",
       "    0     0  -J/4     0   J/4     0     0  -J/4\n",
       "    0     0     0  -J/4     0  -J/4  -J/4     0\n",
       "  J/4     0     0     0     0  -J/4   J/4     0\n",
       "    0   J/4     0     0  -J/4     0     0  -J/4"
      ]
     },
     "execution_count": 298,
     "metadata": {},
     "output_type": "execute_result"
    }
   ],
   "source": [
    "rationalize.(H̄_1d) * sympify(\"J\")"
   ]
  },
  {
   "cell_type": "code",
   "execution_count": 446,
   "id": "489cea60",
   "metadata": {},
   "outputs": [
    {
     "data": {
      "text/latex": [
       "$\\left[ \\begin{array}{r}- \\frac{\\sqrt{3} J}{4}\\\\\\frac{\\sqrt{3} J}{4}\\end{array} \\right]$\n"
      ],
      "text/plain": [
       "2-element Vector{Sym}:\n",
       " -sqrt(3)*J/4\n",
       "  sqrt(3)*J/4"
      ]
     },
     "execution_count": 446,
     "metadata": {},
     "output_type": "execute_result"
    }
   ],
   "source": [
    "E_1d = eigvals(rationalize.(H̄_1d) * sympify(\"J\"))"
   ]
  },
  {
   "cell_type": "code",
   "execution_count": null,
   "id": "53646083",
   "metadata": {},
   "outputs": [],
   "source": []
  },
  {
   "cell_type": "code",
   "execution_count": null,
   "id": "ba0357da",
   "metadata": {},
   "outputs": [],
   "source": []
  },
  {
   "cell_type": "code",
   "execution_count": null,
   "id": "09a74b53",
   "metadata": {},
   "outputs": [],
   "source": []
  },
  {
   "cell_type": "code",
   "execution_count": null,
   "id": "69a36d2f",
   "metadata": {},
   "outputs": [],
   "source": []
  },
  {
   "cell_type": "code",
   "execution_count": 396,
   "id": "867ac4a7",
   "metadata": {},
   "outputs": [
    {
     "name": "stdout",
     "output_type": "stream",
     "text": [
      "search: \u001b[0m\u001b[1me\u001b[22m\u001b[0m\u001b[1mi\u001b[22m\u001b[0m\u001b[1mg\u001b[22m\u001b[0m\u001b[1me\u001b[22m\u001b[0m\u001b[1mn\u001b[22m \u001b[0m\u001b[1me\u001b[22m\u001b[0m\u001b[1mi\u001b[22m\u001b[0m\u001b[1mg\u001b[22m\u001b[0m\u001b[1me\u001b[22m\u001b[0m\u001b[1mn\u001b[22m! \u001b[0m\u001b[1mE\u001b[22m\u001b[0m\u001b[1mi\u001b[22m\u001b[0m\u001b[1mg\u001b[22m\u001b[0m\u001b[1me\u001b[22m\u001b[0m\u001b[1mn\u001b[22m G\u001b[0m\u001b[1me\u001b[22mneral\u001b[0m\u001b[1mi\u001b[22mzedEi\u001b[0m\u001b[1mg\u001b[22m\u001b[0m\u001b[1me\u001b[22m\u001b[0m\u001b[1mn\u001b[22m \u001b[0m\u001b[1me\u001b[22m\u001b[0m\u001b[1mi\u001b[22m\u001b[0m\u001b[1mg\u001b[22mv\u001b[0m\u001b[1me\u001b[22mcs l\u001b[0m\u001b[1me\u001b[22mad\u001b[0m\u001b[1mi\u001b[22mn\u001b[0m\u001b[1mg\u001b[22m_z\u001b[0m\u001b[1me\u001b[22mros l\u001b[0m\u001b[1me\u001b[22mad\u001b[0m\u001b[1mi\u001b[22mn\u001b[0m\u001b[1mg\u001b[22m_on\u001b[0m\u001b[1me\u001b[22ms\n",
      "\n"
     ]
    },
    {
     "data": {
      "text/latex": [
       "\\begin{verbatim}\n",
       "eigen(A; permute::Bool=true, scale::Bool=true, sortby) -> Eigen\n",
       "\\end{verbatim}\n",
       "Computes the eigenvalue decomposition of \\texttt{A}, returning an \\href{@ref}{\\texttt{Eigen}} factorization object \\texttt{F} which contains the eigenvalues in \\texttt{F.values} and the eigenvectors in the columns of the matrix \\texttt{F.vectors}. (The \\texttt{k}th eigenvector can be obtained from the slice \\texttt{F.vectors[:, k]}.)\n",
       "\n",
       "Iterating the decomposition produces the components \\texttt{F.values} and \\texttt{F.vectors}.\n",
       "\n",
       "The following functions are available for \\texttt{Eigen} objects: \\href{@ref}{\\texttt{inv}}, \\href{@ref}{\\texttt{det}}, and \\href{@ref}{\\texttt{isposdef}}.\n",
       "\n",
       "For general nonsymmetric matrices it is possible to specify how the matrix is balanced before the eigenvector calculation. The option \\texttt{permute=true} permutes the matrix to become closer to upper triangular, and \\texttt{scale=true} scales the matrix by its diagonal elements to make rows and columns more equal in norm. The default is \\texttt{true} for both options.\n",
       "\n",
       "By default, the eigenvalues and vectors are sorted lexicographically by \\texttt{(real(λ),imag(λ))}. A different comparison function \\texttt{by(λ)} can be passed to \\texttt{sortby}, or you can pass \\texttt{sortby=nothing} to leave the eigenvalues in an arbitrary order.   Some special matrix types (e.g. \\href{@ref}{\\texttt{Diagonal}} or \\href{@ref}{\\texttt{SymTridiagonal}}) may implement their own sorting convention and not accept a \\texttt{sortby} keyword.\n",
       "\n",
       "\\section{Examples}\n",
       "\\begin{verbatim}\n",
       "julia> F = eigen([1.0 0.0 0.0; 0.0 3.0 0.0; 0.0 0.0 18.0])\n",
       "Eigen{Float64, Float64, Matrix{Float64}, Vector{Float64}}\n",
       "values:\n",
       "3-element Vector{Float64}:\n",
       "  1.0\n",
       "  3.0\n",
       " 18.0\n",
       "vectors:\n",
       "3×3 Matrix{Float64}:\n",
       " 1.0  0.0  0.0\n",
       " 0.0  1.0  0.0\n",
       " 0.0  0.0  1.0\n",
       "\n",
       "julia> F.values\n",
       "3-element Vector{Float64}:\n",
       "  1.0\n",
       "  3.0\n",
       " 18.0\n",
       "\n",
       "julia> F.vectors\n",
       "3×3 Matrix{Float64}:\n",
       " 1.0  0.0  0.0\n",
       " 0.0  1.0  0.0\n",
       " 0.0  0.0  1.0\n",
       "\n",
       "julia> vals, vecs = F; # destructuring via iteration\n",
       "\n",
       "julia> vals == F.values && vecs == F.vectors\n",
       "true\n",
       "\\end{verbatim}\n",
       "\\rule{\\textwidth}{1pt}\n",
       "\\begin{verbatim}\n",
       "eigen(A, B) -> GeneralizedEigen\n",
       "\\end{verbatim}\n",
       "Computes the generalized eigenvalue decomposition of \\texttt{A} and \\texttt{B}, returning a \\href{@ref}{\\texttt{GeneralizedEigen}} factorization object \\texttt{F} which contains the generalized eigenvalues in \\texttt{F.values} and the generalized eigenvectors in the columns of the matrix \\texttt{F.vectors}. (The \\texttt{k}th generalized eigenvector can be obtained from the slice \\texttt{F.vectors[:, k]}.)\n",
       "\n",
       "Iterating the decomposition produces the components \\texttt{F.values} and \\texttt{F.vectors}.\n",
       "\n",
       "Any keyword arguments passed to \\texttt{eigen} are passed through to the lower-level \\href{@ref}{\\texttt{eigen!}} function.\n",
       "\n",
       "\\section{Examples}\n",
       "\\begin{verbatim}\n",
       "julia> A = [1 0; 0 -1]\n",
       "2×2 Matrix{Int64}:\n",
       " 1   0\n",
       " 0  -1\n",
       "\n",
       "julia> B = [0 1; 1 0]\n",
       "2×2 Matrix{Int64}:\n",
       " 0  1\n",
       " 1  0\n",
       "\n",
       "julia> F = eigen(A, B);\n",
       "\n",
       "julia> F.values\n",
       "2-element Vector{ComplexF64}:\n",
       " 0.0 - 1.0im\n",
       " 0.0 + 1.0im\n",
       "\n",
       "julia> F.vectors\n",
       "2×2 Matrix{ComplexF64}:\n",
       "  0.0+1.0im   0.0-1.0im\n",
       " -1.0+0.0im  -1.0-0.0im\n",
       "\n",
       "julia> vals, vecs = F; # destructuring via iteration\n",
       "\n",
       "julia> vals == F.values && vecs == F.vectors\n",
       "true\n",
       "\\end{verbatim}\n",
       "\\rule{\\textwidth}{1pt}\n",
       "\\begin{verbatim}\n",
       "eigen(A::Union{SymTridiagonal, Hermitian, Symmetric}, irange::UnitRange) -> Eigen\n",
       "\\end{verbatim}\n",
       "Computes the eigenvalue decomposition of \\texttt{A}, returning an \\href{@ref}{\\texttt{Eigen}} factorization object \\texttt{F} which contains the eigenvalues in \\texttt{F.values} and the eigenvectors in the columns of the matrix \\texttt{F.vectors}. (The \\texttt{k}th eigenvector can be obtained from the slice \\texttt{F.vectors[:, k]}.)\n",
       "\n",
       "Iterating the decomposition produces the components \\texttt{F.values} and \\texttt{F.vectors}.\n",
       "\n",
       "The following functions are available for \\texttt{Eigen} objects: \\href{@ref}{\\texttt{inv}}, \\href{@ref}{\\texttt{det}}, and \\href{@ref}{\\texttt{isposdef}}.\n",
       "\n",
       "The \\href{@ref}{\\texttt{UnitRange}} \\texttt{irange} specifies indices of the sorted eigenvalues to search for.\n",
       "\n",
       "\\begin{quote}\n",
       "\\textbf{note}\n",
       "\n",
       "Note\n",
       "\n",
       "If \\texttt{irange} is not \\texttt{1:n}, where \\texttt{n} is the dimension of \\texttt{A}, then the returned factorization will be a \\emph{truncated} factorization.\n",
       "\n",
       "\\end{quote}\n",
       "\\rule{\\textwidth}{1pt}\n",
       "\\begin{verbatim}\n",
       "eigen(A::Union{SymTridiagonal, Hermitian, Symmetric}, vl::Real, vu::Real) -> Eigen\n",
       "\\end{verbatim}\n",
       "Computes the eigenvalue decomposition of \\texttt{A}, returning an \\href{@ref}{\\texttt{Eigen}} factorization object \\texttt{F} which contains the eigenvalues in \\texttt{F.values} and the eigenvectors in the columns of the matrix \\texttt{F.vectors}. (The \\texttt{k}th eigenvector can be obtained from the slice \\texttt{F.vectors[:, k]}.)\n",
       "\n",
       "Iterating the decomposition produces the components \\texttt{F.values} and \\texttt{F.vectors}.\n",
       "\n",
       "The following functions are available for \\texttt{Eigen} objects: \\href{@ref}{\\texttt{inv}}, \\href{@ref}{\\texttt{det}}, and \\href{@ref}{\\texttt{isposdef}}.\n",
       "\n",
       "\\texttt{vl} is the lower bound of the window of eigenvalues to search for, and \\texttt{vu} is the upper bound.\n",
       "\n",
       "\\begin{quote}\n",
       "\\textbf{note}\n",
       "\n",
       "Note\n",
       "\n",
       "If [\\texttt{vl}, \\texttt{vu}] does not contain all eigenvalues of \\texttt{A}, then the returned factorization will be a \\emph{truncated} factorization.\n",
       "\n",
       "\\end{quote}\n"
      ],
      "text/markdown": [
       "```\n",
       "eigen(A; permute::Bool=true, scale::Bool=true, sortby) -> Eigen\n",
       "```\n",
       "\n",
       "Computes the eigenvalue decomposition of `A`, returning an [`Eigen`](@ref) factorization object `F` which contains the eigenvalues in `F.values` and the eigenvectors in the columns of the matrix `F.vectors`. (The `k`th eigenvector can be obtained from the slice `F.vectors[:, k]`.)\n",
       "\n",
       "Iterating the decomposition produces the components `F.values` and `F.vectors`.\n",
       "\n",
       "The following functions are available for `Eigen` objects: [`inv`](@ref), [`det`](@ref), and [`isposdef`](@ref).\n",
       "\n",
       "For general nonsymmetric matrices it is possible to specify how the matrix is balanced before the eigenvector calculation. The option `permute=true` permutes the matrix to become closer to upper triangular, and `scale=true` scales the matrix by its diagonal elements to make rows and columns more equal in norm. The default is `true` for both options.\n",
       "\n",
       "By default, the eigenvalues and vectors are sorted lexicographically by `(real(λ),imag(λ))`. A different comparison function `by(λ)` can be passed to `sortby`, or you can pass `sortby=nothing` to leave the eigenvalues in an arbitrary order.   Some special matrix types (e.g. [`Diagonal`](@ref) or [`SymTridiagonal`](@ref)) may implement their own sorting convention and not accept a `sortby` keyword.\n",
       "\n",
       "# Examples\n",
       "\n",
       "```jldoctest\n",
       "julia> F = eigen([1.0 0.0 0.0; 0.0 3.0 0.0; 0.0 0.0 18.0])\n",
       "Eigen{Float64, Float64, Matrix{Float64}, Vector{Float64}}\n",
       "values:\n",
       "3-element Vector{Float64}:\n",
       "  1.0\n",
       "  3.0\n",
       " 18.0\n",
       "vectors:\n",
       "3×3 Matrix{Float64}:\n",
       " 1.0  0.0  0.0\n",
       " 0.0  1.0  0.0\n",
       " 0.0  0.0  1.0\n",
       "\n",
       "julia> F.values\n",
       "3-element Vector{Float64}:\n",
       "  1.0\n",
       "  3.0\n",
       " 18.0\n",
       "\n",
       "julia> F.vectors\n",
       "3×3 Matrix{Float64}:\n",
       " 1.0  0.0  0.0\n",
       " 0.0  1.0  0.0\n",
       " 0.0  0.0  1.0\n",
       "\n",
       "julia> vals, vecs = F; # destructuring via iteration\n",
       "\n",
       "julia> vals == F.values && vecs == F.vectors\n",
       "true\n",
       "```\n",
       "\n",
       "---\n",
       "\n",
       "```\n",
       "eigen(A, B) -> GeneralizedEigen\n",
       "```\n",
       "\n",
       "Computes the generalized eigenvalue decomposition of `A` and `B`, returning a [`GeneralizedEigen`](@ref) factorization object `F` which contains the generalized eigenvalues in `F.values` and the generalized eigenvectors in the columns of the matrix `F.vectors`. (The `k`th generalized eigenvector can be obtained from the slice `F.vectors[:, k]`.)\n",
       "\n",
       "Iterating the decomposition produces the components `F.values` and `F.vectors`.\n",
       "\n",
       "Any keyword arguments passed to `eigen` are passed through to the lower-level [`eigen!`](@ref) function.\n",
       "\n",
       "# Examples\n",
       "\n",
       "```jldoctest\n",
       "julia> A = [1 0; 0 -1]\n",
       "2×2 Matrix{Int64}:\n",
       " 1   0\n",
       " 0  -1\n",
       "\n",
       "julia> B = [0 1; 1 0]\n",
       "2×2 Matrix{Int64}:\n",
       " 0  1\n",
       " 1  0\n",
       "\n",
       "julia> F = eigen(A, B);\n",
       "\n",
       "julia> F.values\n",
       "2-element Vector{ComplexF64}:\n",
       " 0.0 - 1.0im\n",
       " 0.0 + 1.0im\n",
       "\n",
       "julia> F.vectors\n",
       "2×2 Matrix{ComplexF64}:\n",
       "  0.0+1.0im   0.0-1.0im\n",
       " -1.0+0.0im  -1.0-0.0im\n",
       "\n",
       "julia> vals, vecs = F; # destructuring via iteration\n",
       "\n",
       "julia> vals == F.values && vecs == F.vectors\n",
       "true\n",
       "```\n",
       "\n",
       "---\n",
       "\n",
       "```\n",
       "eigen(A::Union{SymTridiagonal, Hermitian, Symmetric}, irange::UnitRange) -> Eigen\n",
       "```\n",
       "\n",
       "Computes the eigenvalue decomposition of `A`, returning an [`Eigen`](@ref) factorization object `F` which contains the eigenvalues in `F.values` and the eigenvectors in the columns of the matrix `F.vectors`. (The `k`th eigenvector can be obtained from the slice `F.vectors[:, k]`.)\n",
       "\n",
       "Iterating the decomposition produces the components `F.values` and `F.vectors`.\n",
       "\n",
       "The following functions are available for `Eigen` objects: [`inv`](@ref), [`det`](@ref), and [`isposdef`](@ref).\n",
       "\n",
       "The [`UnitRange`](@ref) `irange` specifies indices of the sorted eigenvalues to search for.\n",
       "\n",
       "!!! note\n",
       "    If `irange` is not `1:n`, where `n` is the dimension of `A`, then the returned factorization will be a *truncated* factorization.\n",
       "\n",
       "\n",
       "---\n",
       "\n",
       "```\n",
       "eigen(A::Union{SymTridiagonal, Hermitian, Symmetric}, vl::Real, vu::Real) -> Eigen\n",
       "```\n",
       "\n",
       "Computes the eigenvalue decomposition of `A`, returning an [`Eigen`](@ref) factorization object `F` which contains the eigenvalues in `F.values` and the eigenvectors in the columns of the matrix `F.vectors`. (The `k`th eigenvector can be obtained from the slice `F.vectors[:, k]`.)\n",
       "\n",
       "Iterating the decomposition produces the components `F.values` and `F.vectors`.\n",
       "\n",
       "The following functions are available for `Eigen` objects: [`inv`](@ref), [`det`](@ref), and [`isposdef`](@ref).\n",
       "\n",
       "`vl` is the lower bound of the window of eigenvalues to search for, and `vu` is the upper bound.\n",
       "\n",
       "!!! note\n",
       "    If [`vl`, `vu`] does not contain all eigenvalues of `A`, then the returned factorization will be a *truncated* factorization.\n",
       "\n"
      ],
      "text/plain": [
       "\u001b[36m  eigen(A; permute::Bool=true, scale::Bool=true, sortby) -> Eigen\u001b[39m\n",
       "\n",
       "  Computes the eigenvalue decomposition of \u001b[36mA\u001b[39m, returning an \u001b[36mEigen\u001b[39m factorization\n",
       "  object \u001b[36mF\u001b[39m which contains the eigenvalues in \u001b[36mF.values\u001b[39m and the eigenvectors in\n",
       "  the columns of the matrix \u001b[36mF.vectors\u001b[39m. (The \u001b[36mk\u001b[39mth eigenvector can be obtained\n",
       "  from the slice \u001b[36mF.vectors[:, k]\u001b[39m.)\n",
       "\n",
       "  Iterating the decomposition produces the components \u001b[36mF.values\u001b[39m and \u001b[36mF.vectors\u001b[39m.\n",
       "\n",
       "  The following functions are available for \u001b[36mEigen\u001b[39m objects: \u001b[36minv\u001b[39m, \u001b[36mdet\u001b[39m, and\n",
       "  \u001b[36misposdef\u001b[39m.\n",
       "\n",
       "  For general nonsymmetric matrices it is possible to specify how the matrix\n",
       "  is balanced before the eigenvector calculation. The option \u001b[36mpermute=true\u001b[39m\n",
       "  permutes the matrix to become closer to upper triangular, and \u001b[36mscale=true\u001b[39m\n",
       "  scales the matrix by its diagonal elements to make rows and columns more\n",
       "  equal in norm. The default is \u001b[36mtrue\u001b[39m for both options.\n",
       "\n",
       "  By default, the eigenvalues and vectors are sorted lexicographically by\n",
       "  \u001b[36m(real(λ),imag(λ))\u001b[39m. A different comparison function \u001b[36mby(λ)\u001b[39m can be passed to\n",
       "  \u001b[36msortby\u001b[39m, or you can pass \u001b[36msortby=nothing\u001b[39m to leave the eigenvalues in an\n",
       "  arbitrary order. Some special matrix types (e.g. \u001b[36mDiagonal\u001b[39m or \u001b[36mSymTridiagonal\u001b[39m)\n",
       "  may implement their own sorting convention and not accept a \u001b[36msortby\u001b[39m keyword.\n",
       "\n",
       "\u001b[1m  Examples\u001b[22m\n",
       "\u001b[1m  ≡≡≡≡≡≡≡≡≡≡\u001b[22m\n",
       "\n",
       "\u001b[36m  julia> F = eigen([1.0 0.0 0.0; 0.0 3.0 0.0; 0.0 0.0 18.0])\u001b[39m\n",
       "\u001b[36m  Eigen{Float64, Float64, Matrix{Float64}, Vector{Float64}}\u001b[39m\n",
       "\u001b[36m  values:\u001b[39m\n",
       "\u001b[36m  3-element Vector{Float64}:\u001b[39m\n",
       "\u001b[36m    1.0\u001b[39m\n",
       "\u001b[36m    3.0\u001b[39m\n",
       "\u001b[36m   18.0\u001b[39m\n",
       "\u001b[36m  vectors:\u001b[39m\n",
       "\u001b[36m  3×3 Matrix{Float64}:\u001b[39m\n",
       "\u001b[36m   1.0  0.0  0.0\u001b[39m\n",
       "\u001b[36m   0.0  1.0  0.0\u001b[39m\n",
       "\u001b[36m   0.0  0.0  1.0\u001b[39m\n",
       "\u001b[36m  \u001b[39m\n",
       "\u001b[36m  julia> F.values\u001b[39m\n",
       "\u001b[36m  3-element Vector{Float64}:\u001b[39m\n",
       "\u001b[36m    1.0\u001b[39m\n",
       "\u001b[36m    3.0\u001b[39m\n",
       "\u001b[36m   18.0\u001b[39m\n",
       "\u001b[36m  \u001b[39m\n",
       "\u001b[36m  julia> F.vectors\u001b[39m\n",
       "\u001b[36m  3×3 Matrix{Float64}:\u001b[39m\n",
       "\u001b[36m   1.0  0.0  0.0\u001b[39m\n",
       "\u001b[36m   0.0  1.0  0.0\u001b[39m\n",
       "\u001b[36m   0.0  0.0  1.0\u001b[39m\n",
       "\u001b[36m  \u001b[39m\n",
       "\u001b[36m  julia> vals, vecs = F; # destructuring via iteration\u001b[39m\n",
       "\u001b[36m  \u001b[39m\n",
       "\u001b[36m  julia> vals == F.values && vecs == F.vectors\u001b[39m\n",
       "\u001b[36m  true\u001b[39m\n",
       "\n",
       "  ────────────────────────────────────────────────────────────────────────────\n",
       "\n",
       "\u001b[36m  eigen(A, B) -> GeneralizedEigen\u001b[39m\n",
       "\n",
       "  Computes the generalized eigenvalue decomposition of \u001b[36mA\u001b[39m and \u001b[36mB\u001b[39m, returning a\n",
       "  \u001b[36mGeneralizedEigen\u001b[39m factorization object \u001b[36mF\u001b[39m which contains the generalized\n",
       "  eigenvalues in \u001b[36mF.values\u001b[39m and the generalized eigenvectors in the columns of\n",
       "  the matrix \u001b[36mF.vectors\u001b[39m. (The \u001b[36mk\u001b[39mth generalized eigenvector can be obtained from\n",
       "  the slice \u001b[36mF.vectors[:, k]\u001b[39m.)\n",
       "\n",
       "  Iterating the decomposition produces the components \u001b[36mF.values\u001b[39m and \u001b[36mF.vectors\u001b[39m.\n",
       "\n",
       "  Any keyword arguments passed to \u001b[36meigen\u001b[39m are passed through to the lower-level\n",
       "  \u001b[36meigen!\u001b[39m function.\n",
       "\n",
       "\u001b[1m  Examples\u001b[22m\n",
       "\u001b[1m  ≡≡≡≡≡≡≡≡≡≡\u001b[22m\n",
       "\n",
       "\u001b[36m  julia> A = [1 0; 0 -1]\u001b[39m\n",
       "\u001b[36m  2×2 Matrix{Int64}:\u001b[39m\n",
       "\u001b[36m   1   0\u001b[39m\n",
       "\u001b[36m   0  -1\u001b[39m\n",
       "\u001b[36m  \u001b[39m\n",
       "\u001b[36m  julia> B = [0 1; 1 0]\u001b[39m\n",
       "\u001b[36m  2×2 Matrix{Int64}:\u001b[39m\n",
       "\u001b[36m   0  1\u001b[39m\n",
       "\u001b[36m   1  0\u001b[39m\n",
       "\u001b[36m  \u001b[39m\n",
       "\u001b[36m  julia> F = eigen(A, B);\u001b[39m\n",
       "\u001b[36m  \u001b[39m\n",
       "\u001b[36m  julia> F.values\u001b[39m\n",
       "\u001b[36m  2-element Vector{ComplexF64}:\u001b[39m\n",
       "\u001b[36m   0.0 - 1.0im\u001b[39m\n",
       "\u001b[36m   0.0 + 1.0im\u001b[39m\n",
       "\u001b[36m  \u001b[39m\n",
       "\u001b[36m  julia> F.vectors\u001b[39m\n",
       "\u001b[36m  2×2 Matrix{ComplexF64}:\u001b[39m\n",
       "\u001b[36m    0.0+1.0im   0.0-1.0im\u001b[39m\n",
       "\u001b[36m   -1.0+0.0im  -1.0-0.0im\u001b[39m\n",
       "\u001b[36m  \u001b[39m\n",
       "\u001b[36m  julia> vals, vecs = F; # destructuring via iteration\u001b[39m\n",
       "\u001b[36m  \u001b[39m\n",
       "\u001b[36m  julia> vals == F.values && vecs == F.vectors\u001b[39m\n",
       "\u001b[36m  true\u001b[39m\n",
       "\n",
       "  ────────────────────────────────────────────────────────────────────────────\n",
       "\n",
       "\u001b[36m  eigen(A::Union{SymTridiagonal, Hermitian, Symmetric}, irange::UnitRange) -> Eigen\u001b[39m\n",
       "\n",
       "  Computes the eigenvalue decomposition of \u001b[36mA\u001b[39m, returning an \u001b[36mEigen\u001b[39m factorization\n",
       "  object \u001b[36mF\u001b[39m which contains the eigenvalues in \u001b[36mF.values\u001b[39m and the eigenvectors in\n",
       "  the columns of the matrix \u001b[36mF.vectors\u001b[39m. (The \u001b[36mk\u001b[39mth eigenvector can be obtained\n",
       "  from the slice \u001b[36mF.vectors[:, k]\u001b[39m.)\n",
       "\n",
       "  Iterating the decomposition produces the components \u001b[36mF.values\u001b[39m and \u001b[36mF.vectors\u001b[39m.\n",
       "\n",
       "  The following functions are available for \u001b[36mEigen\u001b[39m objects: \u001b[36minv\u001b[39m, \u001b[36mdet\u001b[39m, and\n",
       "  \u001b[36misposdef\u001b[39m.\n",
       "\n",
       "  The \u001b[36mUnitRange\u001b[39m \u001b[36mirange\u001b[39m specifies indices of the sorted eigenvalues to search\n",
       "  for.\n",
       "\n",
       "\u001b[36m\u001b[1m  │ \u001b[22m\u001b[39m\u001b[36m\u001b[1mNote\u001b[22m\u001b[39m\n",
       "\u001b[36m\u001b[1m  │\u001b[22m\u001b[39m\n",
       "\u001b[36m\u001b[1m  │\u001b[22m\u001b[39m  If \u001b[36mirange\u001b[39m is not \u001b[36m1:n\u001b[39m, where \u001b[36mn\u001b[39m is the dimension of \u001b[36mA\u001b[39m, then the\n",
       "\u001b[36m\u001b[1m  │\u001b[22m\u001b[39m  returned factorization will be a \u001b[4mtruncated\u001b[24m factorization.\n",
       "\n",
       "  ────────────────────────────────────────────────────────────────────────────\n",
       "\n",
       "\u001b[36m  eigen(A::Union{SymTridiagonal, Hermitian, Symmetric}, vl::Real, vu::Real) -> Eigen\u001b[39m\n",
       "\n",
       "  Computes the eigenvalue decomposition of \u001b[36mA\u001b[39m, returning an \u001b[36mEigen\u001b[39m factorization\n",
       "  object \u001b[36mF\u001b[39m which contains the eigenvalues in \u001b[36mF.values\u001b[39m and the eigenvectors in\n",
       "  the columns of the matrix \u001b[36mF.vectors\u001b[39m. (The \u001b[36mk\u001b[39mth eigenvector can be obtained\n",
       "  from the slice \u001b[36mF.vectors[:, k]\u001b[39m.)\n",
       "\n",
       "  Iterating the decomposition produces the components \u001b[36mF.values\u001b[39m and \u001b[36mF.vectors\u001b[39m.\n",
       "\n",
       "  The following functions are available for \u001b[36mEigen\u001b[39m objects: \u001b[36minv\u001b[39m, \u001b[36mdet\u001b[39m, and\n",
       "  \u001b[36misposdef\u001b[39m.\n",
       "\n",
       "  \u001b[36mvl\u001b[39m is the lower bound of the window of eigenvalues to search for, and \u001b[36mvu\u001b[39m is\n",
       "  the upper bound.\n",
       "\n",
       "\u001b[36m\u001b[1m  │ \u001b[22m\u001b[39m\u001b[36m\u001b[1mNote\u001b[22m\u001b[39m\n",
       "\u001b[36m\u001b[1m  │\u001b[22m\u001b[39m\n",
       "\u001b[36m\u001b[1m  │\u001b[22m\u001b[39m  If [\u001b[36mvl\u001b[39m, \u001b[36mvu\u001b[39m] does not contain all eigenvalues of \u001b[36mA\u001b[39m, then the\n",
       "\u001b[36m\u001b[1m  │\u001b[22m\u001b[39m  returned factorization will be a \u001b[4mtruncated\u001b[24m factorization."
      ]
     },
     "execution_count": 396,
     "metadata": {},
     "output_type": "execute_result"
    }
   ],
   "source": []
  },
  {
   "cell_type": "code",
   "execution_count": null,
   "id": "b44b428a",
   "metadata": {},
   "outputs": [],
   "source": []
  }
 ],
 "metadata": {
  "kernelspec": {
   "display_name": "Julia 1.7.2",
   "language": "julia",
   "name": "julia-1.7"
  },
  "language_info": {
   "file_extension": ".jl",
   "mimetype": "application/julia",
   "name": "julia",
   "version": "1.7.2"
  }
 },
 "nbformat": 4,
 "nbformat_minor": 5
}
