{
 "cells": [
  {
   "cell_type": "markdown",
   "id": "cf2e43ae",
   "metadata": {},
   "source": [
    "## 1b) Ising"
   ]
  },
  {
   "cell_type": "code",
   "execution_count": 90,
   "id": "e11a6000",
   "metadata": {},
   "outputs": [],
   "source": [
    "using Latexify\n",
    "using SymPy"
   ]
  },
  {
   "cell_type": "code",
   "execution_count": 257,
   "id": "d4173c63",
   "metadata": {},
   "outputs": [
    {
     "name": "stdout",
     "output_type": "stream",
     "text": [
      "\\left[\n",
      "\\begin{array}{cccccccc}\n",
      "\\frac{-3 \\cdot J}{4} & 0 & 0 & 0 & 0 & 0 & 0 & 0 \\\\\n",
      "0 & \\frac{J}{4} & 0 & 0 & 0 & 0 & 0 & 0 \\\\\n",
      "0 & 0 & \\frac{J}{4} & 0 & 0 & 0 & 0 & 0 \\\\\n",
      "0 & 0 & 0 & \\frac{J}{4} & 0 & 0 & 0 & 0 \\\\\n",
      "0 & 0 & 0 & 0 & \\frac{J}{4} & 0 & 0 & 0 \\\\\n",
      "0 & 0 & 0 & 0 & 0 & \\frac{J}{4} & 0 & 0 \\\\\n",
      "0 & 0 & 0 & 0 & 0 & 0 & \\frac{J}{4} & 0 \\\\\n",
      "0 & 0 & 0 & 0 & 0 & 0 & 0 & \\frac{-3 \\cdot J}{4} \\\\\n",
      "\\end{array}\n",
      "\\right]\n"
     ]
    }
   ],
   "source": [
    "ns = [\"000\",\"100\",\"010\",\"110\",\"001\",\"101\",\"011\",\"111\"]\n",
    "ms = ns\n",
    "\n",
    "J = sympify(\"-J/4\")\n",
    "H̄_Ising = zeros(Int,8,8);\n",
    "\n",
    "neg(x) = string(Int(string(x) == string(0))) # 0 ↦ (0==0) = 1 = 0̄, 1 ↦ (1==0) = 0 = 1̄\n",
    "δ(x,y) = Int(string(x)==string(y))\n",
    "\n",
    "for i in 1:8\n",
    "    n = ns[i]\n",
    "    for j in 1:8\n",
    "        m = ms[j]\n",
    "        \n",
    "        H̄_Ising[i,j] = (\n",
    "            #δ(n[1], neg(m[1])) * δ(n[2], neg(m[2])) * δ(n[3], m[3]) \n",
    "            #+ δ(n[1],neg(m[1])) * δ(n[2],m[2]) * δ(n[3],neg(m[3]))\n",
    "            #+ δ(n[1], m[1]) * δ(n[2],neg(m[2])) * δ(n[3],neg(m[3]))\n",
    "            (sgnz(m[1],m[2]) + sgnz(m[1],m[3]) + sgnz(m[2],m[3])) * δ(n,m)\n",
    "        )\n",
    "    end\n",
    "end\n",
    "println(latexarray(\n",
    "J * H̄_Ising\n",
    "))"
   ]
  },
  {
   "cell_type": "markdown",
   "id": "583091dc",
   "metadata": {},
   "source": [
    "## 1c) isotropic Heisenberg"
   ]
  },
  {
   "cell_type": "code",
   "execution_count": 196,
   "id": "793fc061",
   "metadata": {},
   "outputs": [
    {
     "data": {
      "text/plain": [
       "sgny (generic function with 1 method)"
      ]
     },
     "execution_count": 196,
     "metadata": {},
     "output_type": "execute_result"
    }
   ],
   "source": [
    "sgnz(x,y) = (-1)^(x!=y)\n",
    "sgny(x,y) = (-1)^(x==y)"
   ]
  },
  {
   "cell_type": "code",
   "execution_count": 251,
   "id": "7e1fd2e9",
   "metadata": {},
   "outputs": [
    {
     "data": {
      "text/latex": [
       "$\\left[ \\begin{array}{rrrrrrrr}- \\frac{3 J}{4}&0&0&0&0&0&0&0\\\\0&\\frac{J}{4}&- \\frac{J}{2}&0&- \\frac{J}{2}&0&0&0\\\\0&- \\frac{J}{2}&\\frac{J}{4}&0&- \\frac{J}{2}&0&0&0\\\\0&0&0&\\frac{J}{4}&0&- \\frac{J}{2}&- \\frac{J}{2}&0\\\\0&- \\frac{J}{2}&- \\frac{J}{2}&0&\\frac{J}{4}&0&0&0\\\\0&0&0&- \\frac{J}{2}&0&\\frac{J}{4}&- \\frac{J}{2}&0\\\\0&0&0&- \\frac{J}{2}&0&- \\frac{J}{2}&\\frac{J}{4}&0\\\\0&0&0&0&0&0&0&- \\frac{3 J}{4}\\end{array}\\right]$\n"
      ],
      "text/plain": [
       "8×8 Matrix{Sym}:\n",
       " -3*J/4     0     0     0     0     0     0       0\n",
       "      0   J/4  -J/2     0  -J/2     0     0       0\n",
       "      0  -J/2   J/4     0  -J/2     0     0       0\n",
       "      0     0     0   J/4     0  -J/2  -J/2       0\n",
       "      0  -J/2  -J/2     0   J/4     0     0       0\n",
       "      0     0     0  -J/2     0   J/4  -J/2       0\n",
       "      0     0     0  -J/2     0  -J/2   J/4       0\n",
       "      0     0     0     0     0     0     0  -3*J/4"
      ]
     },
     "execution_count": 251,
     "metadata": {},
     "output_type": "execute_result"
    }
   ],
   "source": [
    "H̄_Heisenberg = zeros(Int,8,8);\n",
    "\n",
    "for i in 1:8\n",
    "    n = ns[i]\n",
    "    for j in 1:8\n",
    "        m = ms[j]\n",
    "        \n",
    "        H̄_Heisenberg[i,j] = (\n",
    "            (1 + sgny(m[1],m[2])) * δ(n[1], neg(m[1])) * δ(n[2], neg(m[2])) * δ(n[3], m[3]) \n",
    "            + (1 + sgny(m[1],m[3])) * δ(n[1],neg(m[1])) * δ(n[2],m[2]) * δ(n[3],neg(m[3]))\n",
    "            + (1 + sgny(m[2],m[3])) * δ(n[1], m[1]) * δ(n[2],neg(m[2])) * δ(n[3],neg(m[3]))\n",
    "            + (sgnz(m[1],m[2]) + sgnz(m[1],m[3]) + sgnz(m[2],m[3])) * δ(n,m)\n",
    "        )\n",
    "    end\n",
    "end\n",
    "J2 =  sympify(\"-J/4\")\n",
    "#println(latexarray(\n",
    "J2 * H̄_Heisenberg\n",
    "#))"
   ]
  },
  {
   "cell_type": "markdown",
   "id": "877b2ed3",
   "metadata": {},
   "source": [
    "## 1d)"
   ]
  },
  {
   "cell_type": "code",
   "execution_count": 260,
   "id": "bc0fcb27",
   "metadata": {},
   "outputs": [
    {
     "data": {
      "text/latex": [
       "$\\left[ \\begin{array}{rrrrrrrr}- \\frac{J}{4}&0&0&- \\frac{J}{4}&0&0&\\frac{J}{4}&0\\\\0&\\frac{J}{4}&- \\frac{J}{4}&0&0&0&0&\\frac{J}{4}\\\\0&- \\frac{J}{4}&- \\frac{J}{4}&0&- \\frac{J}{4}&0&0&0\\\\- \\frac{J}{4}&0&0&\\frac{J}{4}&0&- \\frac{J}{4}&0&0\\\\0&0&- \\frac{J}{4}&0&\\frac{J}{4}&0&0&- \\frac{J}{4}\\\\0&0&0&- \\frac{J}{4}&0&- \\frac{J}{4}&- \\frac{J}{4}&0\\\\\\frac{J}{4}&0&0&0&0&- \\frac{J}{4}&\\frac{J}{4}&0\\\\0&\\frac{J}{4}&0&0&- \\frac{J}{4}&0&0&- \\frac{J}{4}\\end{array}\\right]$\n"
      ],
      "text/plain": [
       "8×8 Matrix{Sym}:\n",
       " -J/4     0     0  -J/4     0     0   J/4     0\n",
       "    0   J/4  -J/4     0     0     0     0   J/4\n",
       "    0  -J/4  -J/4     0  -J/4     0     0     0\n",
       " -J/4     0     0   J/4     0  -J/4     0     0\n",
       "    0     0  -J/4     0   J/4     0     0  -J/4\n",
       "    0     0     0  -J/4     0  -J/4  -J/4     0\n",
       "  J/4     0     0     0     0  -J/4   J/4     0\n",
       "    0   J/4     0     0  -J/4     0     0  -J/4"
      ]
     },
     "execution_count": 260,
     "metadata": {},
     "output_type": "execute_result"
    }
   ],
   "source": [
    "H̄_1d = zeros(Int,8,8);\n",
    "\n",
    "for i in 1:8\n",
    "    n = ns[i]\n",
    "    for j in 1:8\n",
    "        m = ms[j]\n",
    "        \n",
    "        H̄_1d[i,j] = (\n",
    "            δ(n[1],neg(m[1])) * δ(n[2],neg(m[2])) * δ(n[3],m[3])\n",
    "            + sgny(m[2],m[3]) * δ(n[1],m[1]) * δ(n[2],neg(m[2])) * δ(n[3],neg(m[3]))\n",
    "            + sgnz(m[1],m[3]) * δ(n,m)\n",
    "        )\n",
    "    end\n",
    "end\n",
    "J3 =  sympify(\"-J/4\") \n",
    "#println(latexequation(\n",
    "J3 * H̄_1d\n",
    "#))"
   ]
  },
  {
   "cell_type": "code",
   "execution_count": null,
   "id": "4411fa63",
   "metadata": {},
   "outputs": [],
   "source": []
  }
 ],
 "metadata": {
  "kernelspec": {
   "display_name": "Julia 1.7.2",
   "language": "julia",
   "name": "julia-1.7"
  },
  "language_info": {
   "file_extension": ".jl",
   "mimetype": "application/julia",
   "name": "julia",
   "version": "1.7.2"
  }
 },
 "nbformat": 4,
 "nbformat_minor": 5
}
