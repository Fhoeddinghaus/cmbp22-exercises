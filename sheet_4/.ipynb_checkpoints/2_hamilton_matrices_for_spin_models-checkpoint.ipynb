{
 "cells": [
  {
   "cell_type": "markdown",
   "id": "42c7e414",
   "metadata": {},
   "source": [
    "# Hamilton matrices for spin models\n",
    "\n",
    "Consider a spin model of the form\n",
    "\\begin{equation}\n",
    "    H = -\\sum\\limits_{ij\\alpha} J_{ij}^\\alpha S_i^\\alpha S_j^\\alpha\n",
    "\\end{equation}\n",
    "with $i,j=1,\\dots, N$ and $\\alpha=x,y,z$.\n",
    "\n",
    "## a) Implementation"
   ]
  },
  {
   "cell_type": "code",
   "execution_count": 174,
   "id": "ba97bd4c",
   "metadata": {},
   "outputs": [
    {
     "name": "stderr",
     "output_type": "stream",
     "text": [
      "WARNING: using SymPy.N in module Main conflicts with an existing identifier.\n"
     ]
    }
   ],
   "source": [
    "using SparseArrays\n",
    "using LinearAlgebra\n",
    "using Latexify\n",
    "using SymPy"
   ]
  },
  {
   "cell_type": "code",
   "execution_count": 285,
   "id": "865c81ae",
   "metadata": {},
   "outputs": [],
   "source": [
    "N = 3\n",
    "\n",
    "function reset_Js(N) \n",
    "    Js = [sparse(zeros(N,N)) for α in 1:3]; # 3 N×N matrices (α = x,y,z)\n",
    "    return Js\n",
    "end\n",
    "\n",
    "Js = reset_Js(N);\n",
    "\n",
    "# initialize Js with values here\n",
    "# ..."
   ]
  },
  {
   "cell_type": "code",
   "execution_count": 283,
   "id": "007b625d",
   "metadata": {},
   "outputs": [
    {
     "data": {
      "text/plain": [
       "l (generic function with 1 method)"
      ]
     },
     "execution_count": 283,
     "metadata": {},
     "output_type": "execute_result"
    }
   ],
   "source": [
    "# convert [n]₁₀ to [n]₂ (in reversed order of notation, that is also used for |n⟩)\n",
    "n_dual(n) = digits(n, base=2, pad=N)\n",
    "\n",
    "# Function to calculate |n⟩ ↦ |l⟩ for the action of SᵢSⱼ for α = x,y\n",
    "l(n,i,j) = n + (1 - 2 * n_dual(n)[i]) * 2^(i-1) + (1 - 2 * n_dual(n)[j]) * 2^(j-1)"
   ]
  },
  {
   "cell_type": "code",
   "execution_count": 284,
   "id": "7612c4de",
   "metadata": {},
   "outputs": [
    {
     "data": {
      "text/plain": [
       "z_link_prefactor (generic function with 2 methods)"
      ]
     },
     "execution_count": 284,
     "metadata": {},
     "output_type": "execute_result"
    }
   ],
   "source": [
    "# prefactor λˣ for the x-component of the interaction of spins i and j of |n⟩ \n",
    "#    -JˣᵢⱼSˣᵢSˣⱼ|n⟩ ↦ λʸ|l⟩\n",
    "function x_link_prefactor(Js, n, i, j)\n",
    "    α = 1 # x =̂ 1\n",
    "    return -1//4 * Js[α][i,j]\n",
    "end\n",
    "\n",
    "# prefactor λʸ for the y-component of the interaction of spins i and j of |n⟩ \n",
    "#    -JʸᵢⱼSʸᵢSʸⱼ|n⟩ ↦ λʸ|l⟩\n",
    "function y_link_prefactor(Js, n, i, j)\n",
    "    α = 2 # y =̂ 2\n",
    "    # calculate the sign, +1 for nᵢ != nⱼ, -1 for nᵢ == nⱼ\n",
    "    s = - (2 * n_dual(n)[i] - 1) * (2 * n_dual(n)[j] - 1)\n",
    "    return - 1//4 * s * Js[α][i,j]\n",
    "end\n",
    "\n",
    "# prefactor λᶻ for the z-component of the interaction of spins i and j of |n⟩ \n",
    "#    -JᶻᵢⱼSᶻᵢSᶻⱼ|n⟩ ↦ λᶻ|l⟩\n",
    "function z_link_prefactor(Js, n, i, j)\n",
    "    α = 3 # z =̂ 3\n",
    "    # calculate the sign, +1 for nᵢ == nⱼ, -1 for nᵢ != nⱼ\n",
    "    s = (2 * n_dual(n)[i] - 1) * (2 * n_dual(n)[j] - 1)\n",
    "    return -1//4 * s * Js[α][i,j]\n",
    "end"
   ]
  },
  {
   "cell_type": "code",
   "execution_count": 447,
   "id": "f38bc2e8",
   "metadata": {},
   "outputs": [
    {
     "data": {
      "text/plain": [
       "calculate_hamilton_matrix (generic function with 1 method)"
      ]
     },
     "execution_count": 447,
     "metadata": {},
     "output_type": "execute_result"
    }
   ],
   "source": [
    "function calculate_hamilton_matrix(Js, N)\n",
    "    H̄ = sparse(zeros(2^N, 2^N)) # empty 2ᴺ×2ᴺ matrix\n",
    "    for n in 0:(2^N-1)\n",
    "        # for each |n⟩ set the non-zero matrix elements\n",
    "        \n",
    "        # 1. loop over all components α = x,y,z \n",
    "        for α in [1,2,3]\n",
    "            # 2. loop over only non-zero links in Js\n",
    "            # iterate over non-zero elements by using findnz()\n",
    "            for (i, j, J) in zip(findnz(Js[α])...)\n",
    "                \n",
    "                if α == 1 # α =̂ x\n",
    "                    m = l(n, i, j) # calculate |l⟩ from |n⟩ for i,j\n",
    "                    # add to the matrix element ⟨l|H|n⟩ the x-link-term\n",
    "                    H̄[m+1,n+1] += x_link_prefactor(Js, n, i, j)\n",
    "                elseif α == 2 # α =̂ y\n",
    "                    m = l(n, i, j) # calculate |l⟩ from |n⟩ for i,j\n",
    "                    # add to the matrix element ⟨l|H|n⟩ the y-link-term\n",
    "                    H̄[m+1,n+1] += y_link_prefactor(Js, n, i, j)\n",
    "                else\n",
    "                    # α =̂ z, diagonal element\n",
    "                    H̄[n+1,n+1] += z_link_prefactor(Js, n, i, j)\n",
    "                end\n",
    "            end\n",
    "        end\n",
    "    end\n",
    "    return H̄\n",
    "end"
   ]
  },
  {
   "cell_type": "markdown",
   "id": "6b9c860a",
   "metadata": {},
   "source": [
    "## b) Three-site clusters\n",
    "### Ising-model\n",
    "$J_{ij}^\\alpha = J\\delta_{\\alpha, z}$ and $i < j$"
   ]
  },
  {
   "cell_type": "code",
   "execution_count": 476,
   "id": "ed9639c1",
   "metadata": {},
   "outputs": [
    {
     "data": {
      "text/plain": [
       "8×8 SparseMatrixCSC{Float64, Int64} with 8 stored entries:\n",
       " -0.75   ⋅     ⋅     ⋅     ⋅     ⋅     ⋅      ⋅ \n",
       "   ⋅    0.25   ⋅     ⋅     ⋅     ⋅     ⋅      ⋅ \n",
       "   ⋅     ⋅    0.25   ⋅     ⋅     ⋅     ⋅      ⋅ \n",
       "   ⋅     ⋅     ⋅    0.25   ⋅     ⋅     ⋅      ⋅ \n",
       "   ⋅     ⋅     ⋅     ⋅    0.25   ⋅     ⋅      ⋅ \n",
       "   ⋅     ⋅     ⋅     ⋅     ⋅    0.25   ⋅      ⋅ \n",
       "   ⋅     ⋅     ⋅     ⋅     ⋅     ⋅    0.25    ⋅ \n",
       "   ⋅     ⋅     ⋅     ⋅     ⋅     ⋅     ⋅    -0.75"
      ]
     },
     "execution_count": 476,
     "metadata": {},
     "output_type": "execute_result"
    }
   ],
   "source": [
    "N = 3\n",
    "\n",
    "# Ising\n",
    "Js_ising = reset_Js(N)\n",
    "# 1 (J) for all i<j for α =̂ z, 0 for α ≠ z\n",
    "Js_ising[3] = [\n",
    "    0 1 1\n",
    "    0 0 1\n",
    "    0 0 0\n",
    "]\n",
    "#println(latexify(Js_ising[3]))\n",
    "\n",
    "H̄_ising = calculate_hamilton_matrix(Js_ising, N)"
   ]
  },
  {
   "cell_type": "code",
   "execution_count": 485,
   "id": "4982b510",
   "metadata": {},
   "outputs": [
    {
     "data": {
      "text/latex": [
       "$\\left[ \\begin{array}{rrrrrrrr}- \\frac{3 J}{4}&0&0&0&0&0&0&0\\\\0&\\frac{J}{4}&0&0&0&0&0&0\\\\0&0&\\frac{J}{4}&0&0&0&0&0\\\\0&0&0&\\frac{J}{4}&0&0&0&0\\\\0&0&0&0&\\frac{J}{4}&0&0&0\\\\0&0&0&0&0&\\frac{J}{4}&0&0\\\\0&0&0&0&0&0&\\frac{J}{4}&0\\\\0&0&0&0&0&0&0&- \\frac{3 J}{4}\\end{array}\\right]$\n"
      ],
      "text/plain": [
       "8×8 Matrix{Sym}:\n",
       " -3*J/4    0    0    0    0    0    0       0\n",
       "      0  J/4    0    0    0    0    0       0\n",
       "      0    0  J/4    0    0    0    0       0\n",
       "      0    0    0  J/4    0    0    0       0\n",
       "      0    0    0    0  J/4    0    0       0\n",
       "      0    0    0    0    0  J/4    0       0\n",
       "      0    0    0    0    0    0  J/4       0\n",
       "      0    0    0    0    0    0    0  -3*J/4"
      ]
     },
     "execution_count": 485,
     "metadata": {},
     "output_type": "execute_result"
    }
   ],
   "source": [
    "#println(latexify(\n",
    "Matrix(rationalize.(H̄_ising)) * sympify(\"J\")\n",
    "#))"
   ]
  },
  {
   "cell_type": "markdown",
   "id": "7df4bacb",
   "metadata": {},
   "source": [
    "#### Eigenenergies"
   ]
  },
  {
   "cell_type": "code",
   "execution_count": 490,
   "id": "2581adfa",
   "metadata": {},
   "outputs": [
    {
     "data": {
      "text/latex": [
       "$\\left[ \\begin{array}{r}- \\frac{3 J}{4}\\\\\\frac{J}{4}\\end{array} \\right]$\n"
      ],
      "text/plain": [
       "2-element Vector{Sym}:\n",
       " -3*J/4\n",
       "    J/4"
      ]
     },
     "execution_count": 490,
     "metadata": {},
     "output_type": "execute_result"
    }
   ],
   "source": [
    "E_ising = eigvals(Matrix(rationalize.(H̄_ising)) * sympify(\"J\"))\n",
    "#eigvecs(Matrix(rationalize.(H̄_ising)) * sympify(\"J\"))"
   ]
  },
  {
   "cell_type": "markdown",
   "id": "61157b19",
   "metadata": {},
   "source": [
    "### Isotropic Heisenberg\n",
    "$J_{ij}^\\alpha = J$ and $i<j$"
   ]
  },
  {
   "cell_type": "code",
   "execution_count": 492,
   "id": "a0d3aab7",
   "metadata": {},
   "outputs": [
    {
     "data": {
      "text/plain": [
       "8×8 SparseMatrixCSC{Float64, Int64} with 32 stored entries:\n",
       " -0.75    ⋅      ⋅     0.0     ⋅     0.0    0.0     ⋅ \n",
       "   ⋅     0.25  -0.5     ⋅    -0.5     ⋅      ⋅     0.0\n",
       "   ⋅    -0.5    0.25    ⋅    -0.5     ⋅      ⋅     0.0\n",
       "  0.0     ⋅      ⋅     0.25    ⋅    -0.5   -0.5     ⋅ \n",
       "   ⋅    -0.5   -0.5     ⋅     0.25    ⋅      ⋅     0.0\n",
       "  0.0     ⋅      ⋅    -0.5     ⋅     0.25  -0.5     ⋅ \n",
       "  0.0     ⋅      ⋅    -0.5     ⋅    -0.5    0.25    ⋅ \n",
       "   ⋅     0.0    0.0     ⋅     0.0     ⋅      ⋅    -0.75"
      ]
     },
     "execution_count": 492,
     "metadata": {},
     "output_type": "execute_result"
    }
   ],
   "source": [
    "N = 3\n",
    "\n",
    "# Isotropic Heisenberg\n",
    "Js_Heisenberg = reset_Js(N)\n",
    "# 1 (J) for all i<j for α =̂ z, 0 for α ≠ z\n",
    "Js_Heisenberg[1] = [\n",
    "    0 1 1\n",
    "    0 0 1\n",
    "    0 0 0\n",
    "]\n",
    "Js_Heisenberg[2] = Js_Heisenberg[1]\n",
    "Js_Heisenberg[3] = Js_Heisenberg[1]\n",
    "\n",
    "H̄_Heisenberg = calculate_hamilton_matrix(Js_Heisenberg, N)"
   ]
  },
  {
   "cell_type": "code",
   "execution_count": 524,
   "id": "9396e8e4",
   "metadata": {
    "scrolled": false
   },
   "outputs": [
    {
     "data": {
      "text/latex": [
       "$\\left[ \\begin{array}{rrrrrrrr}- \\frac{3 J}{4}&0&0&0&0&0&0&0\\\\0&\\frac{J}{4}&- \\frac{J}{2}&0&- \\frac{J}{2}&0&0&0\\\\0&- \\frac{J}{2}&\\frac{J}{4}&0&- \\frac{J}{2}&0&0&0\\\\0&0&0&\\frac{J}{4}&0&- \\frac{J}{2}&- \\frac{J}{2}&0\\\\0&- \\frac{J}{2}&- \\frac{J}{2}&0&\\frac{J}{4}&0&0&0\\\\0&0&0&- \\frac{J}{2}&0&\\frac{J}{4}&- \\frac{J}{2}&0\\\\0&0&0&- \\frac{J}{2}&0&- \\frac{J}{2}&\\frac{J}{4}&0\\\\0&0&0&0&0&0&0&- \\frac{3 J}{4}\\end{array}\\right]$\n"
      ],
      "text/plain": [
       "8×8 Matrix{Sym}:\n",
       " -3*J/4     0     0     0     0     0     0       0\n",
       "      0   J/4  -J/2     0  -J/2     0     0       0\n",
       "      0  -J/2   J/4     0  -J/2     0     0       0\n",
       "      0     0     0   J/4     0  -J/2  -J/2       0\n",
       "      0  -J/2  -J/2     0   J/4     0     0       0\n",
       "      0     0     0  -J/2     0   J/4  -J/2       0\n",
       "      0     0     0  -J/2     0  -J/2   J/4       0\n",
       "      0     0     0     0     0     0     0  -3*J/4"
      ]
     },
     "execution_count": 524,
     "metadata": {},
     "output_type": "execute_result"
    }
   ],
   "source": [
    "#println(latexify(\n",
    "Matrix(rationalize.(H̄_Heisenberg)) * sympify(\"J\")\n",
    "#))"
   ]
  },
  {
   "cell_type": "markdown",
   "id": "7533b481",
   "metadata": {},
   "source": [
    "#### Eigenenergies"
   ]
  },
  {
   "cell_type": "code",
   "execution_count": 506,
   "id": "a03579f1",
   "metadata": {
    "scrolled": true
   },
   "outputs": [
    {
     "data": {
      "text/latex": [
       "$\\left[ \\begin{array}{rrrrrrrr}1&0&0&0&0&0&0&0\\\\0&1&0&0&-1&-1&0&0\\\\0&1&0&0&1&0&0&0\\\\0&0&1&0&0&0&-1&-1\\\\0&1&0&0&0&1&0&0\\\\0&0&1&0&0&0&1&0\\\\0&0&1&0&0&0&0&1\\\\0&0&0&1&0&0&0&0\\end{array}\\right]$\n"
      ],
      "text/plain": [
       "8×8 Matrix{Sym}:\n",
       " 1  0  0  0   0   0   0   0\n",
       " 0  1  0  0  -1  -1   0   0\n",
       " 0  1  0  0   1   0   0   0\n",
       " 0  0  1  0   0   0  -1  -1\n",
       " 0  1  0  0   0   1   0   0\n",
       " 0  0  1  0   0   0   1   0\n",
       " 0  0  1  0   0   0   0   1\n",
       " 0  0  0  1   0   0   0   0"
      ]
     },
     "execution_count": 506,
     "metadata": {},
     "output_type": "execute_result"
    }
   ],
   "source": [
    "E_Heisenberg = eigvals(Matrix(rationalize.(H̄_Heisenberg)) * sympify(\"J\"))\n",
    "#eigvecs(Matrix(rationalize.(H̄_Heisenberg)) * sympify(\"J\"))"
   ]
  },
  {
   "cell_type": "code",
   "execution_count": null,
   "id": "7af3f11c",
   "metadata": {},
   "outputs": [],
   "source": []
  },
  {
   "cell_type": "markdown",
   "id": "c1c7d015",
   "metadata": {},
   "source": [
    "### model 1d\n",
    "$J_{12}^x = J_{23}^y = J_{13}^z = J$ and all other $J_{ij}^\\alpha = 0$ and $i<j$"
   ]
  },
  {
   "cell_type": "code",
   "execution_count": 521,
   "id": "d3bb8750",
   "metadata": {},
   "outputs": [
    {
     "data": {
      "text/plain": [
       "8×8 SparseMatrixCSC{Float64, Int64} with 24 stored entries:\n",
       " -0.25    ⋅      ⋅    -0.25    ⋅      ⋅     0.25    ⋅ \n",
       "   ⋅     0.25  -0.25    ⋅      ⋅      ⋅      ⋅     0.25\n",
       "   ⋅    -0.25  -0.25    ⋅    -0.25    ⋅      ⋅      ⋅ \n",
       " -0.25    ⋅      ⋅     0.25    ⋅    -0.25    ⋅      ⋅ \n",
       "   ⋅      ⋅    -0.25    ⋅     0.25    ⋅      ⋅    -0.25\n",
       "   ⋅      ⋅      ⋅    -0.25    ⋅    -0.25  -0.25    ⋅ \n",
       "  0.25    ⋅      ⋅      ⋅      ⋅    -0.25   0.25    ⋅ \n",
       "   ⋅     0.25    ⋅      ⋅    -0.25    ⋅      ⋅    -0.25"
      ]
     },
     "execution_count": 521,
     "metadata": {},
     "output_type": "execute_result"
    }
   ],
   "source": [
    "N = 3\n",
    "\n",
    "# Isotropic Heisenberg\n",
    "Js_1d = reset_Js(N)\n",
    "# 1 (J) for all (1,2,x), (2,3,y), (1,3,z)\n",
    "Js_1d[1][1,2] = 1\n",
    "Js_1d[2][2,3] = 1\n",
    "Js_1d[3][1,3] = 1\n",
    "\n",
    "H̄_1d = calculate_hamilton_matrix(Js_1d, N)"
   ]
  },
  {
   "cell_type": "code",
   "execution_count": 525,
   "id": "f495a8ee",
   "metadata": {},
   "outputs": [
    {
     "data": {
      "text/latex": [
       "$\\left[ \\begin{array}{rrrrrrrr}- \\frac{J}{4}&0&0&- \\frac{J}{4}&0&0&\\frac{J}{4}&0\\\\0&\\frac{J}{4}&- \\frac{J}{4}&0&0&0&0&\\frac{J}{4}\\\\0&- \\frac{J}{4}&- \\frac{J}{4}&0&- \\frac{J}{4}&0&0&0\\\\- \\frac{J}{4}&0&0&\\frac{J}{4}&0&- \\frac{J}{4}&0&0\\\\0&0&- \\frac{J}{4}&0&\\frac{J}{4}&0&0&- \\frac{J}{4}\\\\0&0&0&- \\frac{J}{4}&0&- \\frac{J}{4}&- \\frac{J}{4}&0\\\\\\frac{J}{4}&0&0&0&0&- \\frac{J}{4}&\\frac{J}{4}&0\\\\0&\\frac{J}{4}&0&0&- \\frac{J}{4}&0&0&- \\frac{J}{4}\\end{array}\\right]$\n"
      ],
      "text/plain": [
       "8×8 Matrix{Sym}:\n",
       " -J/4     0     0  -J/4     0     0   J/4     0\n",
       "    0   J/4  -J/4     0     0     0     0   J/4\n",
       "    0  -J/4  -J/4     0  -J/4     0     0     0\n",
       " -J/4     0     0   J/4     0  -J/4     0     0\n",
       "    0     0  -J/4     0   J/4     0     0  -J/4\n",
       "    0     0     0  -J/4     0  -J/4  -J/4     0\n",
       "  J/4     0     0     0     0  -J/4   J/4     0\n",
       "    0   J/4     0     0  -J/4     0     0  -J/4"
      ]
     },
     "execution_count": 525,
     "metadata": {},
     "output_type": "execute_result"
    }
   ],
   "source": [
    "#println(latexify(\n",
    "Matrix(rationalize.(H̄_1d)) * sympify(\"J\")\n",
    "#))"
   ]
  },
  {
   "cell_type": "code",
   "execution_count": 535,
   "id": "1150b940",
   "metadata": {},
   "outputs": [
    {
     "data": {
      "text/latex": [
       "$\\left[ \\begin{array}{r}- \\frac{\\sqrt{3} J}{4}\\\\\\frac{\\sqrt{3} J}{4}\\end{array} \\right]$\n"
      ],
      "text/plain": [
       "2-element Vector{Sym}:\n",
       " -sqrt(3)*J/4\n",
       "  sqrt(3)*J/4"
      ]
     },
     "execution_count": 535,
     "metadata": {},
     "output_type": "execute_result"
    }
   ],
   "source": [
    "E_1d = eigvals(Matrix(rationalize.(H̄_1d)) * sympify(\"J\"))\n",
    "#eigvecs(Matrix(rationalize.(H̄_1d)) * sympify(\"J\"))"
   ]
  },
  {
   "cell_type": "code",
   "execution_count": null,
   "id": "f8b0c465",
   "metadata": {},
   "outputs": [],
   "source": []
  },
  {
   "cell_type": "code",
   "execution_count": null,
   "id": "0375f98e",
   "metadata": {},
   "outputs": [],
   "source": []
  },
  {
   "cell_type": "code",
   "execution_count": null,
   "id": "fee6417e",
   "metadata": {},
   "outputs": [],
   "source": []
  },
  {
   "cell_type": "code",
   "execution_count": null,
   "id": "bc7ce0d7",
   "metadata": {},
   "outputs": [],
   "source": []
  },
  {
   "cell_type": "code",
   "execution_count": null,
   "id": "d6c233a0",
   "metadata": {},
   "outputs": [],
   "source": []
  },
  {
   "cell_type": "code",
   "execution_count": null,
   "id": "62b1380f",
   "metadata": {},
   "outputs": [],
   "source": []
  }
 ],
 "metadata": {
  "kernelspec": {
   "display_name": "Julia 1.7.2",
   "language": "julia",
   "name": "julia-1.7"
  },
  "language_info": {
   "file_extension": ".jl",
   "mimetype": "application/julia",
   "name": "julia",
   "version": "1.7.2"
  }
 },
 "nbformat": 4,
 "nbformat_minor": 5
}
