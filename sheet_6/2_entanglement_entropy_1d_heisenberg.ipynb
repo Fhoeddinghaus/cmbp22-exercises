{
 "cells": [
  {
   "cell_type": "markdown",
   "id": "5b77ddd6",
   "metadata": {},
   "source": [
    "# 2) Entanglement entropy for the one-dimensional Heisenberg model\n",
    "\n",
    "\n",
    "Consider the one-dimensional Heisenberg model with open boundary conditions:\n",
    "\\begin{equation}\n",
    "    H = -\\sum\\limits_{i=1}^{N-1}J_i \\vec S_i \\cdot \\vec S_{i+1}.\n",
    "\\end{equation}\n",
    "For an even number of sites $N$ and $J_i<0$ (anti-ferromagnetic case), the ground state is non-degenerate.\n",
    "\n",
    "Now divide the system in two parts $A$ and $B$ with sites $1,\\dots, M_A$ and $M_A+1,\\dots,N$.\n",
    "\n",
    "\n",
    "**Entanglement entropy**\n",
    "\n",
    "For a state\n",
    "\\begin{equation}\n",
    "    |\\psi\\rangle = \\sum\\limits_{i=1}^{\\dim_A} \\sum\\limits_{j=1}^{\\dim_B} c_{ij} |{i}\\rangle_A |{j}\\rangle_B\n",
    "\\end{equation}\n",
    "\n",
    "the reduced density operator is (with density operator $\\hat\\rho = |{\\psi}\\rangle\\langle{\\psi}|$)\n",
    "\\begin{align}\n",
    "    \\hat\\rho_A \n",
    "        &= \\operatorname{Tr}_B(\\underbrace{|{\\psi}\\rangle\\langle{\\psi}|}_{=\\hat\\rho})\n",
    "        \\\\\n",
    "        &= \\sum\\limits_l \\sum\\limits_{i,i'} c_{i'l}c_{il}^* |{i'}\\rangle_{AA}\\langle{i}| \n",
    "        \\\\\n",
    "        \\leadsto \\rho_A &= C C^\\dagger\n",
    "\\end{align}\n",
    "where $C$ is the matrix $(c_{ij})_{i=1,\\dots,\\dim_A; j=1,\\dots,\\dim_B}$, because $(\\rho_A)_{nm} = \\sum\\limits_l \\underbrace{(C)_{nl}}_{=c_{nl}} \\underbrace{(C^\\dagger)_{lm}}_{=c_{ml}^*}$.\n",
    "\n",
    "Then the entanglement entropy is\n",
    "\\begin{align}\n",
    "    S_e \n",
    "        &= - \\operatorname{Tr}_A [\\hat\\rho_A \\cdot \\ln\\hat\\rho_A] \\\\\n",
    "        &= - \\sum\\limits_\\alpha w_\\alpha \\cdot \\ln w_\\alpha\n",
    "\\end{align}\n",
    "with eigenvalues $w_\\alpha$ of $\\rho_A$."
   ]
  },
  {
   "cell_type": "markdown",
   "id": "2e85df3d",
   "metadata": {},
   "source": [
    "<blockquote>\n",
    "Analogous for $\\rho_B$ it is:\n",
    "\\begin{align}\n",
    "    \\hat\\rho_B \n",
    "        &= \\operatorname{Tr}_A(\\underbrace{|{\\psi}\\rangle\\langle{\\psi}|}_{=\\hat\\rho})\n",
    "        \\\\\n",
    "        &= \\sum\\limits_l \\sum\\limits_{j,j'} c_{lj'}c_{lj}^* |{j'}\\rangle_{BB}\\langle{j}| \n",
    "        \\\\\n",
    "        (\\rho_A)_{nm} &= \\sum\\limits_l \\underbrace{(C)_{ln}}_{=c_{ln}} \\underbrace{(C^\\dagger)_{ml}}_{=c_{lm}^*}\n",
    "        \\\\\n",
    "        &= \\sum\\limits_l (C^\\dagger)_{ml}(C)_{ln}\n",
    "        \\\\\n",
    "        \\leadsto \\rho_A &= C^\\dagger C\n",
    "\\end{align}\n",
    "</blockquote>"
   ]
  },
  {
   "cell_type": "markdown",
   "id": "369eee96",
   "metadata": {},
   "source": [
    "To numerically figure out $\\rho_A$ to calculater $S_e$, we need to find $C$ from a given $|\\psi\\rangle$.\n",
    "\n",
    "<blockquote>\n",
    "The direct method over the definition: Calculate the partial trace of $|\\psi\\rangle\\langle\\psi|$ to get $\\rho_A$ and then proceed (complicated and includes all steps of the better option below).\n",
    "</blockquote>\n",
    "\n",
    "**Calculate $C$ directly from $|\\psi\\rangle$:** <br/>\n",
    "Consider $|\\psi\\rangle$ is given in the computational basis of the joint system as a vector of coefficients $\\psi:=\\vec\\psi$ with\n",
    "\\begin{align}\n",
    "    |\\psi\\rangle \n",
    "        = \\sum\\limits_{i=0}^{2^N-1} \\psi_i |i\\rangle_N\n",
    "        = \\sum\\limits_{i=0}^{2^N-1} \\psi_i |i_1,i_2,\\dots,i_N\\rangle\n",
    "\\end{align}\n",
    "\n",
    "If we now divide the system of $N$ sites in $M_A$ and $M_B = N-M_A$ sites, this can be seen as writing $|i_1,i_2,\\dots,i_N\\rangle$ as a product state $|i_1,i_2,\\dots,i_{M_A}\\rangle\\otimes |i_{M_A+1},\\dots,i_N\\rangle$\n",
    "\n",
    "\\begin{align}\n",
    "    |\\psi\\rangle \n",
    "        &= \\sum\\limits_{i=0}^{2^N-1} \\psi_i \\underbrace{|i_1,\\dots,i_{M_A}\\rangle}_{=:|j\\rangle} \\otimes \\underbrace{|i_{M_A+1},\\dots,i_N\\rangle}_{=:|l\\rangle}\n",
    "        \\\\\n",
    "        &= \\sum\\limits_{j=0}^{2^{M_A}-1}\\sum\\limits_{l=0}^{2^{M_B}-1} (C)_{jl} |j\\rangle \\otimes |l\\rangle\n",
    "\\end{align}\n",
    "with now constructed $C$:\n",
    "\\begin{equation}\n",
    "    (C)_{jl} = \\psi_{dec([j\\otimes l]_2)} = \\psi_{dec([j_1,\\dots,j_{M_A},l_1,\\dots,l_{M_B}]_2)} = \\psi_{i(j,l)},\n",
    "\\end{equation}\n",
    "where $dec(x)$ is the decimal representation of binary $x$.\n"
   ]
  },
  {
   "cell_type": "code",
   "execution_count": 168,
   "id": "6eefc3af",
   "metadata": {},
   "outputs": [],
   "source": [
    "using LinearAlgebra"
   ]
  },
  {
   "cell_type": "code",
   "execution_count": 259,
   "id": "f73eb8be",
   "metadata": {},
   "outputs": [
    {
     "data": {
      "text/plain": [
       "bin2dec (generic function with 1 method)"
      ]
     },
     "execution_count": 259,
     "metadata": {},
     "output_type": "execute_result"
    }
   ],
   "source": [
    "# some helper functions\n",
    "n_dual(n, pad=0) = digits(n, base=2, pad=pad)\n",
    "dec2bin(x, pad=0) = join(digits(x, base=2, pad=pad))\n",
    "bin2dec(x) = parse(Int, join(reverse(string.(x))), base=2)"
   ]
  },
  {
   "cell_type": "code",
   "execution_count": 287,
   "id": "d5fc3b1f",
   "metadata": {},
   "outputs": [
    {
     "data": {
      "text/plain": [
       "1×8 Matrix{Int64}:\n",
       " 1  0  1  0  0  0  0  0"
      ]
     },
     "execution_count": 287,
     "metadata": {},
     "output_type": "execute_result"
    }
   ],
   "source": [
    "ψ = [1 0 1 0 0 0 0 0] # =̂ |000⟩ + |010⟩ = |0⟩⊗(|00⟩ + |10⟩)"
   ]
  },
  {
   "cell_type": "code",
   "execution_count": 289,
   "id": "93db8318",
   "metadata": {},
   "outputs": [
    {
     "data": {
      "text/plain": [
       "ψ2C (generic function with 1 method)"
      ]
     },
     "execution_count": 289,
     "metadata": {},
     "output_type": "execute_result"
    }
   ],
   "source": [
    "M_A = 1 # dim_A = 2^M_A\n",
    "M_B = 2 # dim_B = 2^M_B\n",
    "\n",
    "# convert ψ to C:\n",
    "function ψ2C(ψ, M_A, M_B)\n",
    "    C = zeros(2^M_A,2^M_B)\n",
    "    for j in 0:(2^M_A-1)\n",
    "        for l in 0:(2^M_B-1)\n",
    "            C[j+1,l+1] = ψ[bin2dec(dec2bin(j,M_A) * dec2bin(l, M_B)) + 1]\n",
    "            #println(\"$j, $l: \", dec2bin(j,M_A),\",\", dec2bin(l, M_B), \" → \", C[j+1,l+1])\n",
    "        end\n",
    "    end\n",
    "    return C\n",
    "end"
   ]
  },
  {
   "cell_type": "code",
   "execution_count": 290,
   "id": "ebcd5fed",
   "metadata": {},
   "outputs": [
    {
     "data": {
      "text/plain": [
       "2×4 Matrix{Float64}:\n",
       " 1.0  1.0  0.0  0.0\n",
       " 0.0  0.0  0.0  0.0"
      ]
     },
     "execution_count": 290,
     "metadata": {},
     "output_type": "execute_result"
    }
   ],
   "source": [
    "C = ψ2C(ψ, 1,2 )"
   ]
  },
  {
   "cell_type": "code",
   "execution_count": null,
   "id": "f438ef44",
   "metadata": {},
   "outputs": [],
   "source": []
  },
  {
   "cell_type": "code",
   "execution_count": 194,
   "id": "8cd3fe88",
   "metadata": {},
   "outputs": [
    {
     "data": {
      "text/plain": [
       "wₐlog₂wₐ (generic function with 1 method)"
      ]
     },
     "execution_count": 194,
     "metadata": {},
     "output_type": "execute_result"
    }
   ],
   "source": [
    "function wₐlog₂wₐ(wₐ)\n",
    "    if wₐ == 0\n",
    "        return 0.0 # lim(x→0) x log2(x) = 0\n",
    "    end\n",
    "    return wₐ * log2(wₐ)\n",
    "end"
   ]
  },
  {
   "cell_type": "code",
   "execution_count": 222,
   "id": "f08e4eaa",
   "metadata": {},
   "outputs": [
    {
     "data": {
      "text/plain": [
       "Sₑ (generic function with 1 method)"
      ]
     },
     "execution_count": 222,
     "metadata": {},
     "output_type": "execute_result"
    }
   ],
   "source": [
    "function Sₑ(ρ)\n",
    "    return -sum(wₐlog₂wₐ.(eigvals(ρ)))\n",
    "end"
   ]
  },
  {
   "cell_type": "code",
   "execution_count": 291,
   "id": "5ca2f094",
   "metadata": {},
   "outputs": [
    {
     "data": {
      "text/plain": [
       "2×2 Matrix{Float64}:\n",
       " 1.0  0.0\n",
       " 0.0  0.0"
      ]
     },
     "execution_count": 291,
     "metadata": {},
     "output_type": "execute_result"
    }
   ],
   "source": [
    "ρ = 1/2 * C * C' # normalization here for precision"
   ]
  },
  {
   "cell_type": "code",
   "execution_count": 292,
   "id": "be91d53c",
   "metadata": {},
   "outputs": [
    {
     "data": {
      "text/plain": [
       "2-element Vector{Float64}:\n",
       " 0.0\n",
       " 1.0"
      ]
     },
     "execution_count": 292,
     "metadata": {},
     "output_type": "execute_result"
    }
   ],
   "source": [
    "eigvals(ρ)"
   ]
  },
  {
   "cell_type": "code",
   "execution_count": 286,
   "id": "91e213d7",
   "metadata": {},
   "outputs": [
    {
     "data": {
      "text/plain": [
       "1.0"
      ]
     },
     "execution_count": 286,
     "metadata": {},
     "output_type": "execute_result"
    }
   ],
   "source": [
    "Sₑ(ρ)"
   ]
  },
  {
   "cell_type": "code",
   "execution_count": null,
   "id": "c5d7d4f6",
   "metadata": {},
   "outputs": [],
   "source": []
  }
 ],
 "metadata": {
  "kernelspec": {
   "display_name": "Julia 1.6.6",
   "language": "julia",
   "name": "julia-1.6"
  },
  "language_info": {
   "file_extension": ".jl",
   "mimetype": "application/julia",
   "name": "julia",
   "version": "1.6.6"
  }
 },
 "nbformat": 4,
 "nbformat_minor": 5
}
