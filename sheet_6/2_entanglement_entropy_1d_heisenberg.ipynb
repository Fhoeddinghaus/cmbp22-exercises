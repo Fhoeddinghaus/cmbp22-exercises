{
 "cells": [
  {
   "cell_type": "markdown",
   "id": "66c74482",
   "metadata": {},
   "source": [
    "# 2) Entanglement entropy for the one-dimensional Heisenberg model\n",
    "\n",
    "\n",
    "Consider the one-dimensional Heisenberg model with open boundary conditions:\n",
    "\\begin{equation}\n",
    "    H = -\\sum\\limits_{i=1}^{N-1}J_i \\vec S_i \\cdot \\vec S_{i+1}.\n",
    "\\end{equation}\n",
    "For an even number of sites $N$ and $J_i<0$ (anti-ferromagnetic case), the ground state is non-degenerate.\n",
    "\n",
    "Now divide the system in two parts $A$ and $B$ with sites $1,\\dots, M_A$ and $M_A+1,\\dots,N$.\n",
    "\n",
    "\n",
    "**Entanglement entropy**\n",
    "\n",
    "For a state\n",
    "\\begin{equation}\n",
    "    |\\psi\\rangle = \\sum\\limits_{i=1}^{\\dim_A} \\sum\\limits_{j=1}^{\\dim_B} c_{ij} |{i}\\rangle_A |{j}\\rangle_B\n",
    "\\end{equation}\n",
    "\n",
    "the reduced density operator is (with density operator $\\hat\\rho = |{\\psi}\\rangle\\langle{\\psi}|$)\n",
    "\\begin{align}\n",
    "    \\hat\\rho_A \n",
    "        &= \\operatorname{Tr}_B(\\underbrace{|{\\psi}\\rangle\\langle{\\psi}|}_{=\\hat\\rho})\n",
    "        \\\\\n",
    "        &= \\sum\\limits_l \\sum\\limits_{i,i'} c_{i'l}c_{il}^* |{i'}\\rangle_{AA}\\langle{i}| \n",
    "        \\\\\n",
    "        \\leadsto \\rho_A &= C C^\\dagger\n",
    "\\end{align}\n",
    "where $C$ is the matrix $(c_{ij})_{i=1,\\dots,\\dim_A; j=1,\\dots,\\dim_B}$, because $(\\rho_A)_{nm} = \\sum\\limits_l \\underbrace{(C)_{nl}}_{=c_{nl}} \\underbrace{(C^\\dagger)_{lm}}_{=c_{ml}^*}$.\n",
    "\n",
    "Then the entanglement entropy is\n",
    "\\begin{align}\n",
    "    S_e \n",
    "        &= - \\operatorname{Tr}_A [\\hat\\rho_A \\cdot \\ln\\hat\\rho_A] \\\\\n",
    "        &= - \\sum\\limits_\\alpha w_\\alpha \\cdot \\ln w_\\alpha\n",
    "\\end{align}\n",
    "with eigenvalues $w_\\alpha$ of $\\rho_A$."
   ]
  },
  {
   "cell_type": "markdown",
   "id": "320466cb",
   "metadata": {},
   "source": [
    "<blockquote>\n",
    "Analogous for $\\rho_B$ it is:\n",
    "\\begin{align}\n",
    "    \\hat\\rho_B \n",
    "        &= \\operatorname{Tr}_A(\\underbrace{|{\\psi}\\rangle\\langle{\\psi}|}_{=\\hat\\rho})\n",
    "        \\\\\n",
    "        &= \\sum\\limits_l \\sum\\limits_{j,j'} c_{lj'}c_{lj}^* |{j'}\\rangle_{BB}\\langle{j}| \n",
    "        \\\\\n",
    "        (\\rho_A)_{nm} &= \\sum\\limits_l \\underbrace{(C)_{ln}}_{=c_{ln}} \\underbrace{(C^\\dagger)_{ml}}_{=c_{lm}^*}\n",
    "        \\\\\n",
    "        &= \\sum\\limits_l (C^\\dagger)_{ml}(C)_{ln}\n",
    "        \\\\\n",
    "        \\leadsto \\rho_A &= C^\\dagger C\n",
    "\\end{align}\n",
    "</blockquote>"
   ]
  },
  {
   "cell_type": "markdown",
   "id": "7b855283",
   "metadata": {},
   "source": [
    "To numerically figure out $\\rho_A$ to calculater $S_e$, we need to find $C$ from a given $|\\psi\\rangle$.\n",
    "\n",
    "<blockquote>\n",
    "The direct method over the definition: Calculate the partial trace of $|\\psi\\rangle\\langle\\psi|$ to get $\\rho_A$ and then proceed (complicated and includes all steps of the better option below).\n",
    "</blockquote>\n",
    "\n",
    "**Calculate $C$ directly from $|\\psi\\rangle$:** <br/>\n",
    "Consider $|\\psi\\rangle$ is given in the computational basis of the joint system as a vector of coefficients $\\psi:=\\vec\\psi$ with\n",
    "\\begin{align}\n",
    "    |\\psi\\rangle \n",
    "        = \\sum\\limits_{i=0}^{2^N-1} \\psi_i |i\\rangle_N\n",
    "        = \\sum\\limits_{i=0}^{2^N-1} \\psi_i |i_1,i_2,\\dots,i_N\\rangle\n",
    "\\end{align}\n",
    "\n",
    "If we now divide the system of $N$ sites in $M_A$ and $M_B = N-M_A$ sites, this can be seen as writing $|i_1,i_2,\\dots,i_N\\rangle$ as a product state $|i_1,i_2,\\dots,i_{M_A}\\rangle\\otimes |i_{M_A+1},\\dots,i_N\\rangle$\n",
    "\n",
    "\\begin{align}\n",
    "    |\\psi\\rangle \n",
    "        &= \\sum\\limits_{i=0}^{2^N-1} \\psi_i \\underbrace{|i_1,\\dots,i_{M_A}\\rangle}_{=:|j\\rangle} \\otimes \\underbrace{|i_{M_A+1},\\dots,i_N\\rangle}_{=:|l\\rangle}\n",
    "        \\\\\n",
    "        &= \\sum\\limits_{j=0}^{2^{M_A}-1}\\sum\\limits_{l=0}^{2^{M_B}-1} (C)_{jl} |j\\rangle \\otimes |l\\rangle\n",
    "\\end{align}\n",
    "with now constructed $C$:\n",
    "\\begin{equation}\n",
    "    (C)_{jl} = \\psi_{dec([j\\otimes l]_2)} = \\psi_{dec([j_1,\\dots,j_{M_A},l_1,\\dots,l_{M_B}]_2)} = \\psi_{i(j,l)},\n",
    "\\end{equation}\n",
    "where $dec(x)$ is the decimal representation of binary $x$.\n"
   ]
  },
  {
   "cell_type": "code",
   "execution_count": 340,
   "id": "3f9779a4",
   "metadata": {},
   "outputs": [],
   "source": [
    "using ProgressMeter\n",
    "using Plots"
   ]
  },
  {
   "cell_type": "code",
   "execution_count": 343,
   "id": "26012feb",
   "metadata": {},
   "outputs": [],
   "source": [
    "using LinearAlgebra"
   ]
  },
  {
   "cell_type": "code",
   "execution_count": 344,
   "id": "ca9516a6",
   "metadata": {},
   "outputs": [
    {
     "data": {
      "text/plain": [
       "bin2dec (generic function with 1 method)"
      ]
     },
     "execution_count": 344,
     "metadata": {},
     "output_type": "execute_result"
    }
   ],
   "source": [
    "begin\n",
    "    # some helper functions\n",
    "    #n_dual(n, pad=0) = digits(n, base=2, pad=pad)\n",
    "    dec2bin(x, pad=0) = join(digits(x, base=2, pad=pad))\n",
    "    bin2dec(x) = parse(Int, join(reverse(string.(x))), base=2)\n",
    "end"
   ]
  },
  {
   "cell_type": "code",
   "execution_count": 208,
   "id": "27422609",
   "metadata": {},
   "outputs": [
    {
     "data": {
      "text/plain": [
       "1×8 Matrix{Int64}:\n",
       " 1  0  1  0  0  0  0  0"
      ]
     },
     "execution_count": 208,
     "metadata": {},
     "output_type": "execute_result"
    }
   ],
   "source": [
    "# Test N=3\n",
    "ψ = [1 0 1 0 0 0 0 0] # =̂ |000⟩ + |010⟩ = |0⟩⊗(|00⟩ + |10⟩)"
   ]
  },
  {
   "cell_type": "code",
   "execution_count": 350,
   "id": "7aff75a1",
   "metadata": {},
   "outputs": [
    {
     "data": {
      "text/plain": [
       "ψ2C (generic function with 1 method)"
      ]
     },
     "execution_count": 350,
     "metadata": {},
     "output_type": "execute_result"
    }
   ],
   "source": [
    "# Test\n",
    "M_A = 1 # dim_A = 2^M_A\n",
    "M_B = 2 # dim_B = 2^M_B\n",
    "\n",
    "# convert ψ to C:\n",
    "function ψ2C(ψ, M_A, M_B)\n",
    "    C = zeros(2^M_A,2^M_B)\n",
    "    for j in 0:(2^M_A-1)\n",
    "        for l in 0:(2^M_B-1)\n",
    "            C[j+1,l+1] = ψ[bin2dec(dec2bin(j, M_A) * dec2bin(l, M_B)) + 1]\n",
    "            #println(\"$j, $l: \", dec2bin(j,M_A),\",\", dec2bin(l, M_B), \" → \", C[j+1,l+1])\n",
    "        end\n",
    "    end\n",
    "    return C\n",
    "end"
   ]
  },
  {
   "cell_type": "code",
   "execution_count": 351,
   "id": "906ee714",
   "metadata": {},
   "outputs": [
    {
     "data": {
      "text/plain": [
       "2×4 Matrix{Float64}:\n",
       " 1.0  1.0  0.0  0.0\n",
       " 0.0  0.0  0.0  0.0"
      ]
     },
     "execution_count": 351,
     "metadata": {},
     "output_type": "execute_result"
    }
   ],
   "source": [
    "# Test\n",
    "C = ψ2C(ψ, M_A, M_B)"
   ]
  },
  {
   "cell_type": "code",
   "execution_count": 352,
   "id": "f0c9d77a",
   "metadata": {},
   "outputs": [
    {
     "data": {
      "text/plain": [
       "wₐlnwₐ (generic function with 1 method)"
      ]
     },
     "execution_count": 352,
     "metadata": {},
     "output_type": "execute_result"
    }
   ],
   "source": [
    "function wₐlnwₐ(wₐ)\n",
    "    if wₐ <= eps() \n",
    "        return 0.0 # lim(x→0) x ln(x) = 0\n",
    "    end\n",
    "    return wₐ * log(wₐ)\n",
    "end"
   ]
  },
  {
   "cell_type": "code",
   "execution_count": 353,
   "id": "df82f730",
   "metadata": {},
   "outputs": [
    {
     "data": {
      "text/plain": [
       "Sₑ (generic function with 1 method)"
      ]
     },
     "execution_count": 353,
     "metadata": {},
     "output_type": "execute_result"
    }
   ],
   "source": [
    "function Sₑ(ρ)\n",
    "    return -sum(wₐlnwₐ.(eigvals(ρ)))\n",
    "end"
   ]
  },
  {
   "cell_type": "code",
   "execution_count": 354,
   "id": "a1710a4f",
   "metadata": {},
   "outputs": [
    {
     "data": {
      "text/plain": [
       "2×2 Matrix{Float64}:\n",
       " 1.0  0.0\n",
       " 0.0  0.0"
      ]
     },
     "execution_count": 354,
     "metadata": {},
     "output_type": "execute_result"
    }
   ],
   "source": [
    "# Test\n",
    "ρ = 1/2 * C * C' # normalization here for precision"
   ]
  },
  {
   "cell_type": "code",
   "execution_count": 355,
   "id": "7726fe7f",
   "metadata": {},
   "outputs": [
    {
     "name": "stdout",
     "output_type": "stream",
     "text": [
      "[0.0, 1.0]\n",
      "-0.0\n"
     ]
    }
   ],
   "source": [
    "# Test\n",
    "println(eigvals(ρ))\n",
    "println(Sₑ(ρ))"
   ]
  },
  {
   "cell_type": "markdown",
   "id": "cadecb7c",
   "metadata": {},
   "source": [
    "## a) 1d-Heisenberg model for $N=10$ and $J=-1$"
   ]
  },
  {
   "cell_type": "code",
   "execution_count": 357,
   "id": "613937ed",
   "metadata": {},
   "outputs": [],
   "source": [
    "include(\"hamilton_spins.jl\");"
   ]
  },
  {
   "cell_type": "markdown",
   "id": "eb0568c4",
   "metadata": {},
   "source": [
    "Calculate the ground state of the 1d-Heisenberg model:"
   ]
  },
  {
   "cell_type": "code",
   "execution_count": 358,
   "id": "c80c3d36",
   "metadata": {},
   "outputs": [],
   "source": [
    "J = -1\n",
    "N = 10\n",
    "\n",
    "Js = reset_Js(N)\n",
    "\n",
    "# couplings between (i,i+1) for α=x (1)\n",
    "for i in 1:(N-1)\n",
    "    Js[1][i,i+1] = J\n",
    "end\n",
    "\n",
    "Js[2] = Js[1]\n",
    "Js[3] = Js[1]\n",
    "\n",
    "H = calculate_hamilton_matrix(Js, N)\n",
    "ψ_g = eigvecs(rationalize.(Matrix(H)))[:,1];"
   ]
  },
  {
   "cell_type": "code",
   "execution_count": 359,
   "id": "02d709a5",
   "metadata": {},
   "outputs": [
    {
     "data": {
      "text/plain": [
       "-4.258035207282881"
      ]
     },
     "execution_count": 359,
     "metadata": {},
     "output_type": "execute_result"
    }
   ],
   "source": [
    "E_g = eigvals(rationalize.(Matrix(H)))[1]"
   ]
  },
  {
   "cell_type": "code",
   "execution_count": 360,
   "id": "0f2d1206",
   "metadata": {},
   "outputs": [
    {
     "name": "stdout",
     "output_type": "stream",
     "text": [
      "1: 0.6931471805599454\n",
      "2: 0.4078929253951651\n",
      "3: 0.7261925797876849\n",
      "4: 0.4923347211598358\n",
      "5: 0.7378694353603878\n",
      "6: 0.49233472115983545\n",
      "7: 0.7261925797876837\n",
      "8: 0.4078929253951949\n",
      "9: 0.6931471805599454\n"
     ]
    },
    {
     "data": {
      "text/plain": [
       "9-element Vector{Float64}:\n",
       " 0.6931471805599454\n",
       " 0.4078929253951651\n",
       " 0.7261925797876849\n",
       " 0.4923347211598358\n",
       " 0.7378694353603878\n",
       " 0.49233472115983545\n",
       " 0.7261925797876837\n",
       " 0.4078929253951949\n",
       " 0.6931471805599454"
      ]
     },
     "execution_count": 360,
     "metadata": {},
     "output_type": "execute_result"
    }
   ],
   "source": [
    "Sₑs = zeros(N-1)\n",
    "\n",
    "for M_A in 1:(N-1)\n",
    "    M_B = N-M_A\n",
    "    # calculate C\n",
    "    C = ψ2C(ψ_g, M_A, M_B)\n",
    "    Sₑs[M_A] = Sₑ(C * C')\n",
    "    println(\"$M_A: \", Sₑs[M_A])\n",
    "end\n",
    "\n",
    "Sₑs"
   ]
  },
  {
   "cell_type": "code",
   "execution_count": null,
   "id": "6552db04",
   "metadata": {},
   "outputs": [],
   "source": []
  },
  {
   "cell_type": "markdown",
   "id": "ce75d526",
   "metadata": {},
   "source": [
    "## b)"
   ]
  },
  {
   "cell_type": "code",
   "execution_count": 361,
   "id": "5449e167",
   "metadata": {},
   "outputs": [
    {
     "data": {
      "text/plain": [
       "Sₑmax (generic function with 1 method)"
      ]
     },
     "execution_count": 361,
     "metadata": {},
     "output_type": "execute_result"
    }
   ],
   "source": [
    "function Sₑmax(M_A, M_B)\n",
    "    return log(minimum([2^M_A, 2^M_B]))\n",
    "end"
   ]
  },
  {
   "cell_type": "code",
   "execution_count": 362,
   "id": "f1f7da17",
   "metadata": {},
   "outputs": [
    {
     "data": {
      "image/svg+xml": [
       "<?xml version=\"1.0\" encoding=\"utf-8\"?>\n",
       "<svg xmlns=\"http://www.w3.org/2000/svg\" xmlns:xlink=\"http://www.w3.org/1999/xlink\" width=\"600\" height=\"400\" viewBox=\"0 0 2400 1600\">\n",
       "<defs>\n",
       "  <clipPath id=\"clip350\">\n",
       "    <rect x=\"0\" y=\"0\" width=\"2400\" height=\"1600\"/>\n",
       "  </clipPath>\n",
       "</defs>\n",
       "<path clip-path=\"url(#clip350)\" d=\"\n",
       "M0 1600 L2400 1600 L2400 0 L0 0  Z\n",
       "  \" fill=\"#ffffff\" fill-rule=\"evenodd\" fill-opacity=\"1\"/>\n",
       "<defs>\n",
       "  <clipPath id=\"clip351\">\n",
       "    <rect x=\"480\" y=\"0\" width=\"1681\" height=\"1600\"/>\n",
       "  </clipPath>\n",
       "</defs>\n",
       "<path clip-path=\"url(#clip350)\" d=\"\n",
       "M219.033 1423.18 L2352.76 1423.18 L2352.76 47.2441 L219.033 47.2441  Z\n",
       "  \" fill=\"#ffffff\" fill-rule=\"evenodd\" fill-opacity=\"1\"/>\n",
       "<defs>\n",
       "  <clipPath id=\"clip352\">\n",
       "    <rect x=\"219\" y=\"47\" width=\"2135\" height=\"1377\"/>\n",
       "  </clipPath>\n",
       "</defs>\n",
       "<polyline clip-path=\"url(#clip352)\" style=\"stroke:#000000; stroke-linecap:butt; stroke-linejoin:round; stroke-width:2; stroke-opacity:0.1; fill:none\" points=\"\n",
       "  279.421,1423.18 279.421,47.2441 \n",
       "  \"/>\n",
       "<polyline clip-path=\"url(#clip352)\" style=\"stroke:#000000; stroke-linecap:butt; stroke-linejoin:round; stroke-width:2; stroke-opacity:0.1; fill:none\" points=\"\n",
       "  531.04,1423.18 531.04,47.2441 \n",
       "  \"/>\n",
       "<polyline clip-path=\"url(#clip352)\" style=\"stroke:#000000; stroke-linecap:butt; stroke-linejoin:round; stroke-width:2; stroke-opacity:0.1; fill:none\" points=\"\n",
       "  782.658,1423.18 782.658,47.2441 \n",
       "  \"/>\n",
       "<polyline clip-path=\"url(#clip352)\" style=\"stroke:#000000; stroke-linecap:butt; stroke-linejoin:round; stroke-width:2; stroke-opacity:0.1; fill:none\" points=\"\n",
       "  1034.28,1423.18 1034.28,47.2441 \n",
       "  \"/>\n",
       "<polyline clip-path=\"url(#clip352)\" style=\"stroke:#000000; stroke-linecap:butt; stroke-linejoin:round; stroke-width:2; stroke-opacity:0.1; fill:none\" points=\"\n",
       "  1285.89,1423.18 1285.89,47.2441 \n",
       "  \"/>\n",
       "<polyline clip-path=\"url(#clip352)\" style=\"stroke:#000000; stroke-linecap:butt; stroke-linejoin:round; stroke-width:2; stroke-opacity:0.1; fill:none\" points=\"\n",
       "  1537.51,1423.18 1537.51,47.2441 \n",
       "  \"/>\n",
       "<polyline clip-path=\"url(#clip352)\" style=\"stroke:#000000; stroke-linecap:butt; stroke-linejoin:round; stroke-width:2; stroke-opacity:0.1; fill:none\" points=\"\n",
       "  1789.13,1423.18 1789.13,47.2441 \n",
       "  \"/>\n",
       "<polyline clip-path=\"url(#clip352)\" style=\"stroke:#000000; stroke-linecap:butt; stroke-linejoin:round; stroke-width:2; stroke-opacity:0.1; fill:none\" points=\"\n",
       "  2040.75,1423.18 2040.75,47.2441 \n",
       "  \"/>\n",
       "<polyline clip-path=\"url(#clip352)\" style=\"stroke:#000000; stroke-linecap:butt; stroke-linejoin:round; stroke-width:2; stroke-opacity:0.1; fill:none\" points=\"\n",
       "  2292.37,1423.18 2292.37,47.2441 \n",
       "  \"/>\n",
       "<polyline clip-path=\"url(#clip350)\" style=\"stroke:#000000; stroke-linecap:butt; stroke-linejoin:round; stroke-width:4; stroke-opacity:1; fill:none\" points=\"\n",
       "  219.033,1423.18 2352.76,1423.18 \n",
       "  \"/>\n",
       "<polyline clip-path=\"url(#clip350)\" style=\"stroke:#000000; stroke-linecap:butt; stroke-linejoin:round; stroke-width:4; stroke-opacity:1; fill:none\" points=\"\n",
       "  279.421,1423.18 279.421,1404.28 \n",
       "  \"/>\n",
       "<polyline clip-path=\"url(#clip350)\" style=\"stroke:#000000; stroke-linecap:butt; stroke-linejoin:round; stroke-width:4; stroke-opacity:1; fill:none\" points=\"\n",
       "  531.04,1423.18 531.04,1404.28 \n",
       "  \"/>\n",
       "<polyline clip-path=\"url(#clip350)\" style=\"stroke:#000000; stroke-linecap:butt; stroke-linejoin:round; stroke-width:4; stroke-opacity:1; fill:none\" points=\"\n",
       "  782.658,1423.18 782.658,1404.28 \n",
       "  \"/>\n",
       "<polyline clip-path=\"url(#clip350)\" style=\"stroke:#000000; stroke-linecap:butt; stroke-linejoin:round; stroke-width:4; stroke-opacity:1; fill:none\" points=\"\n",
       "  1034.28,1423.18 1034.28,1404.28 \n",
       "  \"/>\n",
       "<polyline clip-path=\"url(#clip350)\" style=\"stroke:#000000; stroke-linecap:butt; stroke-linejoin:round; stroke-width:4; stroke-opacity:1; fill:none\" points=\"\n",
       "  1285.89,1423.18 1285.89,1404.28 \n",
       "  \"/>\n",
       "<polyline clip-path=\"url(#clip350)\" style=\"stroke:#000000; stroke-linecap:butt; stroke-linejoin:round; stroke-width:4; stroke-opacity:1; fill:none\" points=\"\n",
       "  1537.51,1423.18 1537.51,1404.28 \n",
       "  \"/>\n",
       "<polyline clip-path=\"url(#clip350)\" style=\"stroke:#000000; stroke-linecap:butt; stroke-linejoin:round; stroke-width:4; stroke-opacity:1; fill:none\" points=\"\n",
       "  1789.13,1423.18 1789.13,1404.28 \n",
       "  \"/>\n",
       "<polyline clip-path=\"url(#clip350)\" style=\"stroke:#000000; stroke-linecap:butt; stroke-linejoin:round; stroke-width:4; stroke-opacity:1; fill:none\" points=\"\n",
       "  2040.75,1423.18 2040.75,1404.28 \n",
       "  \"/>\n",
       "<polyline clip-path=\"url(#clip350)\" style=\"stroke:#000000; stroke-linecap:butt; stroke-linejoin:round; stroke-width:4; stroke-opacity:1; fill:none\" points=\"\n",
       "  2292.37,1423.18 2292.37,1404.28 \n",
       "  \"/>\n",
       "<path clip-path=\"url(#clip350)\" d=\"M269.803 1481.64 L277.442 1481.64 L277.442 1455.28 L269.132 1456.95 L269.132 1452.69 L277.396 1451.02 L282.072 1451.02 L282.072 1481.64 L289.711 1481.64 L289.711 1485.58 L269.803 1485.58 L269.803 1481.64 Z\" fill=\"#000000\" fill-rule=\"evenodd\" fill-opacity=\"1\" /><path clip-path=\"url(#clip350)\" d=\"M525.692 1481.64 L542.012 1481.64 L542.012 1485.58 L520.067 1485.58 L520.067 1481.64 Q522.729 1478.89 527.313 1474.26 Q531.919 1469.61 533.1 1468.27 Q535.345 1465.74 536.225 1464.01 Q537.128 1462.25 537.128 1460.56 Q537.128 1457.8 535.183 1456.07 Q533.262 1454.33 530.16 1454.33 Q527.961 1454.33 525.507 1455.09 Q523.077 1455.86 520.299 1457.41 L520.299 1452.69 Q523.123 1451.55 525.577 1450.97 Q528.03 1450.39 530.067 1450.39 Q535.438 1450.39 538.632 1453.08 Q541.827 1455.77 541.827 1460.26 Q541.827 1462.39 541.016 1464.31 Q540.229 1466.2 538.123 1468.8 Q537.544 1469.47 534.442 1472.69 Q531.341 1475.88 525.692 1481.64 Z\" fill=\"#000000\" fill-rule=\"evenodd\" fill-opacity=\"1\" /><path clip-path=\"url(#clip350)\" d=\"M786.906 1466.95 Q790.262 1467.66 792.137 1469.93 Q794.035 1472.2 794.035 1475.53 Q794.035 1480.65 790.517 1483.45 Q786.998 1486.25 780.517 1486.25 Q778.341 1486.25 776.026 1485.81 Q773.734 1485.39 771.281 1484.54 L771.281 1480.02 Q773.225 1481.16 775.54 1481.74 Q777.855 1482.32 780.378 1482.32 Q784.776 1482.32 787.068 1480.58 Q789.382 1478.84 789.382 1475.53 Q789.382 1472.48 787.23 1470.77 Q785.1 1469.03 781.281 1469.03 L777.253 1469.03 L777.253 1465.19 L781.466 1465.19 Q784.915 1465.19 786.743 1463.82 Q788.572 1462.43 788.572 1459.84 Q788.572 1457.18 786.674 1455.77 Q784.799 1454.33 781.281 1454.33 Q779.359 1454.33 777.16 1454.75 Q774.961 1455.16 772.322 1456.04 L772.322 1451.88 Q774.984 1451.14 777.299 1450.77 Q779.637 1450.39 781.697 1450.39 Q787.021 1450.39 790.123 1452.83 Q793.225 1455.23 793.225 1459.35 Q793.225 1462.22 791.581 1464.21 Q789.938 1466.18 786.906 1466.95 Z\" fill=\"#000000\" fill-rule=\"evenodd\" fill-opacity=\"1\" /><path clip-path=\"url(#clip350)\" d=\"M1037.29 1455.09 L1025.48 1473.54 L1037.29 1473.54 L1037.29 1455.09 M1036.06 1451.02 L1041.94 1451.02 L1041.94 1473.54 L1046.87 1473.54 L1046.87 1477.43 L1041.94 1477.43 L1041.94 1485.58 L1037.29 1485.58 L1037.29 1477.43 L1021.68 1477.43 L1021.68 1472.92 L1036.06 1451.02 Z\" fill=\"#000000\" fill-rule=\"evenodd\" fill-opacity=\"1\" /><path clip-path=\"url(#clip350)\" d=\"M1276.17 1451.02 L1294.53 1451.02 L1294.53 1454.96 L1280.45 1454.96 L1280.45 1463.43 Q1281.47 1463.08 1282.49 1462.92 Q1283.51 1462.73 1284.53 1462.73 Q1290.32 1462.73 1293.7 1465.9 Q1297.07 1469.08 1297.07 1474.49 Q1297.07 1480.07 1293.6 1483.17 Q1290.13 1486.25 1283.81 1486.25 Q1281.64 1486.25 1279.37 1485.88 Q1277.12 1485.51 1274.71 1484.77 L1274.71 1480.07 Q1276.8 1481.2 1279.02 1481.76 Q1281.24 1482.32 1283.72 1482.32 Q1287.72 1482.32 1290.06 1480.21 Q1292.4 1478.1 1292.4 1474.49 Q1292.4 1470.88 1290.06 1468.77 Q1287.72 1466.67 1283.72 1466.67 Q1281.84 1466.67 1279.97 1467.08 Q1278.12 1467.5 1276.17 1468.38 L1276.17 1451.02 Z\" fill=\"#000000\" fill-rule=\"evenodd\" fill-opacity=\"1\" /><path clip-path=\"url(#clip350)\" d=\"M1537.92 1466.44 Q1534.77 1466.44 1532.92 1468.59 Q1531.09 1470.74 1531.09 1474.49 Q1531.09 1478.22 1532.92 1480.39 Q1534.77 1482.55 1537.92 1482.55 Q1541.07 1482.55 1542.89 1480.39 Q1544.75 1478.22 1544.75 1474.49 Q1544.75 1470.74 1542.89 1468.59 Q1541.07 1466.44 1537.92 1466.44 M1547.2 1451.78 L1547.2 1456.04 Q1545.44 1455.21 1543.64 1454.77 Q1541.85 1454.33 1540.09 1454.33 Q1535.46 1454.33 1533.01 1457.45 Q1530.58 1460.58 1530.23 1466.9 Q1531.6 1464.89 1533.66 1463.82 Q1535.72 1462.73 1538.2 1462.73 Q1543.4 1462.73 1546.41 1465.9 Q1549.45 1469.05 1549.45 1474.49 Q1549.45 1479.82 1546.3 1483.03 Q1543.15 1486.25 1537.92 1486.25 Q1531.92 1486.25 1528.75 1481.67 Q1525.58 1477.06 1525.58 1468.33 Q1525.58 1460.14 1529.47 1455.28 Q1533.36 1450.39 1539.91 1450.39 Q1541.67 1450.39 1543.45 1450.74 Q1545.26 1451.09 1547.2 1451.78 Z\" fill=\"#000000\" fill-rule=\"evenodd\" fill-opacity=\"1\" /><path clip-path=\"url(#clip350)\" d=\"M1778.02 1451.02 L1800.24 1451.02 L1800.24 1453.01 L1787.7 1485.58 L1782.81 1485.58 L1794.62 1454.96 L1778.02 1454.96 L1778.02 1451.02 Z\" fill=\"#000000\" fill-rule=\"evenodd\" fill-opacity=\"1\" /><path clip-path=\"url(#clip350)\" d=\"M2040.75 1469.17 Q2037.42 1469.17 2035.49 1470.95 Q2033.6 1472.73 2033.6 1475.86 Q2033.6 1478.98 2035.49 1480.77 Q2037.42 1482.55 2040.75 1482.55 Q2044.08 1482.55 2046 1480.77 Q2047.93 1478.96 2047.93 1475.86 Q2047.93 1472.73 2046 1470.95 Q2044.11 1469.17 2040.75 1469.17 M2036.07 1467.18 Q2033.06 1466.44 2031.37 1464.38 Q2029.71 1462.32 2029.71 1459.35 Q2029.71 1455.21 2032.65 1452.8 Q2035.61 1450.39 2040.75 1450.39 Q2045.91 1450.39 2048.85 1452.8 Q2051.79 1455.21 2051.79 1459.35 Q2051.79 1462.32 2050.1 1464.38 Q2048.43 1466.44 2045.45 1467.18 Q2048.83 1467.96 2050.7 1470.26 Q2052.6 1472.55 2052.6 1475.86 Q2052.6 1480.88 2049.52 1483.57 Q2046.47 1486.25 2040.75 1486.25 Q2035.03 1486.25 2031.95 1483.57 Q2028.9 1480.88 2028.9 1475.86 Q2028.9 1472.55 2030.8 1470.26 Q2032.69 1467.96 2036.07 1467.18 M2034.36 1459.79 Q2034.36 1462.48 2036.03 1463.98 Q2037.72 1465.49 2040.75 1465.49 Q2043.76 1465.49 2045.45 1463.98 Q2047.16 1462.48 2047.16 1459.79 Q2047.16 1457.11 2045.45 1455.6 Q2043.76 1454.1 2040.75 1454.1 Q2037.72 1454.1 2036.03 1455.6 Q2034.36 1457.11 2034.36 1459.79 Z\" fill=\"#000000\" fill-rule=\"evenodd\" fill-opacity=\"1\" /><path clip-path=\"url(#clip350)\" d=\"M2282.67 1484.86 L2282.67 1480.6 Q2284.43 1481.44 2286.23 1481.88 Q2288.04 1482.32 2289.77 1482.32 Q2294.4 1482.32 2296.84 1479.21 Q2299.29 1476.09 2299.64 1469.75 Q2298.29 1471.74 2296.23 1472.8 Q2294.17 1473.87 2291.67 1473.87 Q2286.49 1473.87 2283.46 1470.74 Q2280.45 1467.59 2280.45 1462.15 Q2280.45 1456.83 2283.59 1453.61 Q2286.74 1450.39 2291.97 1450.39 Q2297.97 1450.39 2301.12 1455 Q2304.29 1459.58 2304.29 1468.33 Q2304.29 1476.51 2300.4 1481.39 Q2296.53 1486.25 2289.98 1486.25 Q2288.22 1486.25 2286.42 1485.9 Q2284.61 1485.56 2282.67 1484.86 M2291.97 1470.21 Q2295.12 1470.21 2296.95 1468.06 Q2298.8 1465.9 2298.8 1462.15 Q2298.8 1458.43 2296.95 1456.27 Q2295.12 1454.1 2291.97 1454.1 Q2288.83 1454.1 2286.97 1456.27 Q2285.15 1458.43 2285.15 1462.15 Q2285.15 1465.9 2286.97 1468.06 Q2288.83 1470.21 2291.97 1470.21 Z\" fill=\"#000000\" fill-rule=\"evenodd\" fill-opacity=\"1\" /><path clip-path=\"url(#clip350)\" d=\"M1222.65 1520.52 L1232.23 1520.52 L1244.36 1552.86 L1256.55 1520.52 L1266.13 1520.52 L1266.13 1568.04 L1259.86 1568.04 L1259.86 1526.32 L1247.6 1558.91 L1241.14 1558.91 L1228.89 1526.32 L1228.89 1568.04 L1222.65 1568.04 L1222.65 1520.52 Z\" fill=\"#000000\" fill-rule=\"evenodd\" fill-opacity=\"1\" /><path clip-path=\"url(#clip350)\" d=\"M1305.72 1578.87 L1305.72 1583.42 L1271.86 1583.42 L1271.86 1578.87 L1305.72 1578.87 Z\" fill=\"#000000\" fill-rule=\"evenodd\" fill-opacity=\"1\" /><path clip-path=\"url(#clip350)\" d=\"M1327.37 1526.86 L1318.65 1550.51 L1336.12 1550.51 L1327.37 1526.86 M1323.74 1520.52 L1331.03 1520.52 L1349.14 1568.04 L1342.45 1568.04 L1338.13 1555.85 L1316.7 1555.85 L1312.38 1568.04 L1305.6 1568.04 L1323.74 1520.52 Z\" fill=\"#000000\" fill-rule=\"evenodd\" fill-opacity=\"1\" /><polyline clip-path=\"url(#clip352)\" style=\"stroke:#000000; stroke-linecap:butt; stroke-linejoin:round; stroke-width:2; stroke-opacity:0.1; fill:none\" points=\"\n",
       "  219.033,1345.14 2352.76,1345.14 \n",
       "  \"/>\n",
       "<polyline clip-path=\"url(#clip352)\" style=\"stroke:#000000; stroke-linecap:butt; stroke-linejoin:round; stroke-width:2; stroke-opacity:0.1; fill:none\" points=\"\n",
       "  219.033,1132.89 2352.76,1132.89 \n",
       "  \"/>\n",
       "<polyline clip-path=\"url(#clip352)\" style=\"stroke:#000000; stroke-linecap:butt; stroke-linejoin:round; stroke-width:2; stroke-opacity:0.1; fill:none\" points=\"\n",
       "  219.033,920.639 2352.76,920.639 \n",
       "  \"/>\n",
       "<polyline clip-path=\"url(#clip352)\" style=\"stroke:#000000; stroke-linecap:butt; stroke-linejoin:round; stroke-width:2; stroke-opacity:0.1; fill:none\" points=\"\n",
       "  219.033,708.39 2352.76,708.39 \n",
       "  \"/>\n",
       "<polyline clip-path=\"url(#clip352)\" style=\"stroke:#000000; stroke-linecap:butt; stroke-linejoin:round; stroke-width:2; stroke-opacity:0.1; fill:none\" points=\"\n",
       "  219.033,496.14 2352.76,496.14 \n",
       "  \"/>\n",
       "<polyline clip-path=\"url(#clip352)\" style=\"stroke:#000000; stroke-linecap:butt; stroke-linejoin:round; stroke-width:2; stroke-opacity:0.1; fill:none\" points=\"\n",
       "  219.033,283.89 2352.76,283.89 \n",
       "  \"/>\n",
       "<polyline clip-path=\"url(#clip352)\" style=\"stroke:#000000; stroke-linecap:butt; stroke-linejoin:round; stroke-width:2; stroke-opacity:0.1; fill:none\" points=\"\n",
       "  219.033,71.6406 2352.76,71.6406 \n",
       "  \"/>\n",
       "<polyline clip-path=\"url(#clip350)\" style=\"stroke:#000000; stroke-linecap:butt; stroke-linejoin:round; stroke-width:4; stroke-opacity:1; fill:none\" points=\"\n",
       "  219.033,1423.18 219.033,47.2441 \n",
       "  \"/>\n",
       "<polyline clip-path=\"url(#clip350)\" style=\"stroke:#000000; stroke-linecap:butt; stroke-linejoin:round; stroke-width:4; stroke-opacity:1; fill:none\" points=\"\n",
       "  219.033,1345.14 237.931,1345.14 \n",
       "  \"/>\n",
       "<polyline clip-path=\"url(#clip350)\" style=\"stroke:#000000; stroke-linecap:butt; stroke-linejoin:round; stroke-width:4; stroke-opacity:1; fill:none\" points=\"\n",
       "  219.033,1132.89 237.931,1132.89 \n",
       "  \"/>\n",
       "<polyline clip-path=\"url(#clip350)\" style=\"stroke:#000000; stroke-linecap:butt; stroke-linejoin:round; stroke-width:4; stroke-opacity:1; fill:none\" points=\"\n",
       "  219.033,920.639 237.931,920.639 \n",
       "  \"/>\n",
       "<polyline clip-path=\"url(#clip350)\" style=\"stroke:#000000; stroke-linecap:butt; stroke-linejoin:round; stroke-width:4; stroke-opacity:1; fill:none\" points=\"\n",
       "  219.033,708.39 237.931,708.39 \n",
       "  \"/>\n",
       "<polyline clip-path=\"url(#clip350)\" style=\"stroke:#000000; stroke-linecap:butt; stroke-linejoin:round; stroke-width:4; stroke-opacity:1; fill:none\" points=\"\n",
       "  219.033,496.14 237.931,496.14 \n",
       "  \"/>\n",
       "<polyline clip-path=\"url(#clip350)\" style=\"stroke:#000000; stroke-linecap:butt; stroke-linejoin:round; stroke-width:4; stroke-opacity:1; fill:none\" points=\"\n",
       "  219.033,283.89 237.931,283.89 \n",
       "  \"/>\n",
       "<polyline clip-path=\"url(#clip350)\" style=\"stroke:#000000; stroke-linecap:butt; stroke-linejoin:round; stroke-width:4; stroke-opacity:1; fill:none\" points=\"\n",
       "  219.033,71.6406 237.931,71.6406 \n",
       "  \"/>\n",
       "<path clip-path=\"url(#clip350)\" d=\"M126.853 1330.94 Q123.242 1330.94 121.413 1334.5 Q119.607 1338.04 119.607 1345.17 Q119.607 1352.28 121.413 1355.84 Q123.242 1359.39 126.853 1359.39 Q130.487 1359.39 132.292 1355.84 Q134.121 1352.28 134.121 1345.17 Q134.121 1338.04 132.292 1334.5 Q130.487 1330.94 126.853 1330.94 M126.853 1327.23 Q132.663 1327.23 135.718 1331.84 Q138.797 1336.42 138.797 1345.17 Q138.797 1353.9 135.718 1358.51 Q132.663 1363.09 126.853 1363.09 Q121.043 1363.09 117.964 1358.51 Q114.908 1353.9 114.908 1345.17 Q114.908 1336.42 117.964 1331.84 Q121.043 1327.23 126.853 1327.23 Z\" fill=\"#000000\" fill-rule=\"evenodd\" fill-opacity=\"1\" /><path clip-path=\"url(#clip350)\" d=\"M147.015 1356.54 L151.899 1356.54 L151.899 1362.42 L147.015 1362.42 L147.015 1356.54 Z\" fill=\"#000000\" fill-rule=\"evenodd\" fill-opacity=\"1\" /><path clip-path=\"url(#clip350)\" d=\"M162.13 1327.86 L180.487 1327.86 L180.487 1331.79 L166.413 1331.79 L166.413 1340.27 Q167.431 1339.92 168.45 1339.76 Q169.468 1339.57 170.487 1339.57 Q176.274 1339.57 179.653 1342.74 Q183.033 1345.91 183.033 1351.33 Q183.033 1356.91 179.561 1360.01 Q176.089 1363.09 169.769 1363.09 Q167.593 1363.09 165.325 1362.72 Q163.079 1362.35 160.672 1361.61 L160.672 1356.91 Q162.755 1358.04 164.977 1358.6 Q167.2 1359.15 169.677 1359.15 Q173.681 1359.15 176.019 1357.05 Q178.357 1354.94 178.357 1351.33 Q178.357 1347.72 176.019 1345.61 Q173.681 1343.51 169.677 1343.51 Q167.802 1343.51 165.927 1343.92 Q164.075 1344.34 162.13 1345.22 L162.13 1327.86 Z\" fill=\"#000000\" fill-rule=\"evenodd\" fill-opacity=\"1\" /><path clip-path=\"url(#clip350)\" d=\"M116.668 1146.23 L124.306 1146.23 L124.306 1119.87 L115.996 1121.54 L115.996 1117.28 L124.26 1115.61 L128.936 1115.61 L128.936 1146.23 L136.575 1146.23 L136.575 1150.17 L116.668 1150.17 L116.668 1146.23 Z\" fill=\"#000000\" fill-rule=\"evenodd\" fill-opacity=\"1\" /><path clip-path=\"url(#clip350)\" d=\"M146.019 1144.29 L150.903 1144.29 L150.903 1150.17 L146.019 1150.17 L146.019 1144.29 Z\" fill=\"#000000\" fill-rule=\"evenodd\" fill-opacity=\"1\" /><path clip-path=\"url(#clip350)\" d=\"M171.089 1118.69 Q167.477 1118.69 165.649 1122.25 Q163.843 1125.79 163.843 1132.92 Q163.843 1140.03 165.649 1143.6 Q167.477 1147.14 171.089 1147.14 Q174.723 1147.14 176.528 1143.6 Q178.357 1140.03 178.357 1132.92 Q178.357 1125.79 176.528 1122.25 Q174.723 1118.69 171.089 1118.69 M171.089 1114.98 Q176.899 1114.98 179.954 1119.59 Q183.033 1124.17 183.033 1132.92 Q183.033 1141.65 179.954 1146.26 Q176.899 1150.84 171.089 1150.84 Q165.278 1150.84 162.2 1146.26 Q159.144 1141.65 159.144 1132.92 Q159.144 1124.17 162.2 1119.59 Q165.278 1114.98 171.089 1114.98 Z\" fill=\"#000000\" fill-rule=\"evenodd\" fill-opacity=\"1\" /><path clip-path=\"url(#clip350)\" d=\"M117.663 933.984 L125.302 933.984 L125.302 907.619 L116.992 909.285 L116.992 905.026 L125.255 903.359 L129.931 903.359 L129.931 933.984 L137.57 933.984 L137.57 937.919 L117.663 937.919 L117.663 933.984 Z\" fill=\"#000000\" fill-rule=\"evenodd\" fill-opacity=\"1\" /><path clip-path=\"url(#clip350)\" d=\"M147.015 932.04 L151.899 932.04 L151.899 937.919 L147.015 937.919 L147.015 932.04 Z\" fill=\"#000000\" fill-rule=\"evenodd\" fill-opacity=\"1\" /><path clip-path=\"url(#clip350)\" d=\"M162.13 903.359 L180.487 903.359 L180.487 907.295 L166.413 907.295 L166.413 915.767 Q167.431 915.42 168.45 915.258 Q169.468 915.072 170.487 915.072 Q176.274 915.072 179.653 918.244 Q183.033 921.415 183.033 926.832 Q183.033 932.41 179.561 935.512 Q176.089 938.591 169.769 938.591 Q167.593 938.591 165.325 938.22 Q163.079 937.85 160.672 937.109 L160.672 932.41 Q162.755 933.544 164.977 934.1 Q167.2 934.656 169.677 934.656 Q173.681 934.656 176.019 932.549 Q178.357 930.443 178.357 926.832 Q178.357 923.22 176.019 921.114 Q173.681 919.008 169.677 919.008 Q167.802 919.008 165.927 919.424 Q164.075 919.841 162.13 920.72 L162.13 903.359 Z\" fill=\"#000000\" fill-rule=\"evenodd\" fill-opacity=\"1\" /><path clip-path=\"url(#clip350)\" d=\"M119.885 721.735 L136.204 721.735 L136.204 725.67 L114.26 725.67 L114.26 721.735 Q116.922 718.98 121.505 714.35 Q126.112 709.698 127.292 708.355 Q129.538 705.832 130.417 704.096 Q131.32 702.337 131.32 700.647 Q131.32 697.892 129.376 696.156 Q127.455 694.42 124.353 694.42 Q122.154 694.42 119.7 695.184 Q117.269 695.948 114.492 697.499 L114.492 692.776 Q117.316 691.642 119.769 691.063 Q122.223 690.485 124.26 690.485 Q129.63 690.485 132.825 693.17 Q136.019 695.855 136.019 700.346 Q136.019 702.475 135.209 704.397 Q134.422 706.295 132.316 708.887 Q131.737 709.559 128.635 712.776 Q125.533 715.971 119.885 721.735 Z\" fill=\"#000000\" fill-rule=\"evenodd\" fill-opacity=\"1\" /><path clip-path=\"url(#clip350)\" d=\"M146.019 719.79 L150.903 719.79 L150.903 725.67 L146.019 725.67 L146.019 719.79 Z\" fill=\"#000000\" fill-rule=\"evenodd\" fill-opacity=\"1\" /><path clip-path=\"url(#clip350)\" d=\"M171.089 694.188 Q167.477 694.188 165.649 697.753 Q163.843 701.295 163.843 708.424 Q163.843 715.531 165.649 719.096 Q167.477 722.637 171.089 722.637 Q174.723 722.637 176.528 719.096 Q178.357 715.531 178.357 708.424 Q178.357 701.295 176.528 697.753 Q174.723 694.188 171.089 694.188 M171.089 690.485 Q176.899 690.485 179.954 695.091 Q183.033 699.674 183.033 708.424 Q183.033 717.151 179.954 721.758 Q176.899 726.341 171.089 726.341 Q165.278 726.341 162.2 721.758 Q159.144 717.151 159.144 708.424 Q159.144 699.674 162.2 695.091 Q165.278 690.485 171.089 690.485 Z\" fill=\"#000000\" fill-rule=\"evenodd\" fill-opacity=\"1\" /><path clip-path=\"url(#clip350)\" d=\"M120.88 509.485 L137.2 509.485 L137.2 513.42 L115.256 513.42 L115.256 509.485 Q117.918 506.73 122.501 502.101 Q127.107 497.448 128.288 496.105 Q130.533 493.582 131.413 491.846 Q132.316 490.087 132.316 488.397 Q132.316 485.642 130.371 483.906 Q128.45 482.17 125.348 482.17 Q123.149 482.17 120.695 482.934 Q118.265 483.698 115.487 485.249 L115.487 480.527 Q118.311 479.392 120.765 478.814 Q123.218 478.235 125.255 478.235 Q130.626 478.235 133.82 480.92 Q137.015 483.605 137.015 488.096 Q137.015 490.226 136.204 492.147 Q135.417 494.045 133.311 496.638 Q132.732 497.309 129.63 500.527 Q126.529 503.721 120.88 509.485 Z\" fill=\"#000000\" fill-rule=\"evenodd\" fill-opacity=\"1\" /><path clip-path=\"url(#clip350)\" d=\"M147.015 507.54 L151.899 507.54 L151.899 513.42 L147.015 513.42 L147.015 507.54 Z\" fill=\"#000000\" fill-rule=\"evenodd\" fill-opacity=\"1\" /><path clip-path=\"url(#clip350)\" d=\"M162.13 478.86 L180.487 478.86 L180.487 482.795 L166.413 482.795 L166.413 491.267 Q167.431 490.92 168.45 490.758 Q169.468 490.573 170.487 490.573 Q176.274 490.573 179.653 493.744 Q183.033 496.915 183.033 502.332 Q183.033 507.911 179.561 511.013 Q176.089 514.091 169.769 514.091 Q167.593 514.091 165.325 513.721 Q163.079 513.351 160.672 512.61 L160.672 507.911 Q162.755 509.045 164.977 509.601 Q167.2 510.156 169.677 510.156 Q173.681 510.156 176.019 508.05 Q178.357 505.943 178.357 502.332 Q178.357 498.721 176.019 496.615 Q173.681 494.508 169.677 494.508 Q167.802 494.508 165.927 494.925 Q164.075 495.341 162.13 496.221 L162.13 478.86 Z\" fill=\"#000000\" fill-rule=\"evenodd\" fill-opacity=\"1\" /><path clip-path=\"url(#clip350)\" d=\"M130.024 282.536 Q133.38 283.254 135.255 285.522 Q137.154 287.791 137.154 291.124 Q137.154 296.24 133.635 299.041 Q130.117 301.842 123.635 301.842 Q121.459 301.842 119.144 301.402 Q116.853 300.985 114.399 300.129 L114.399 295.615 Q116.343 296.749 118.658 297.328 Q120.973 297.906 123.496 297.906 Q127.894 297.906 130.186 296.17 Q132.501 294.434 132.501 291.124 Q132.501 288.069 130.348 286.356 Q128.218 284.619 124.399 284.619 L120.371 284.619 L120.371 280.777 L124.584 280.777 Q128.033 280.777 129.862 279.411 Q131.691 278.022 131.691 275.43 Q131.691 272.768 129.792 271.356 Q127.917 269.92 124.399 269.92 Q122.478 269.92 120.279 270.337 Q118.08 270.754 115.441 271.633 L115.441 267.467 Q118.103 266.726 120.418 266.356 Q122.755 265.985 124.816 265.985 Q130.14 265.985 133.242 268.416 Q136.343 270.823 136.343 274.944 Q136.343 277.814 134.7 279.805 Q133.056 281.772 130.024 282.536 Z\" fill=\"#000000\" fill-rule=\"evenodd\" fill-opacity=\"1\" /><path clip-path=\"url(#clip350)\" d=\"M146.019 295.291 L150.903 295.291 L150.903 301.17 L146.019 301.17 L146.019 295.291 Z\" fill=\"#000000\" fill-rule=\"evenodd\" fill-opacity=\"1\" /><path clip-path=\"url(#clip350)\" d=\"M171.089 269.689 Q167.477 269.689 165.649 273.254 Q163.843 276.795 163.843 283.925 Q163.843 291.031 165.649 294.596 Q167.477 298.138 171.089 298.138 Q174.723 298.138 176.528 294.596 Q178.357 291.031 178.357 283.925 Q178.357 276.795 176.528 273.254 Q174.723 269.689 171.089 269.689 M171.089 265.985 Q176.899 265.985 179.954 270.592 Q183.033 275.175 183.033 283.925 Q183.033 292.652 179.954 297.258 Q176.899 301.842 171.089 301.842 Q165.278 301.842 162.2 297.258 Q159.144 292.652 159.144 283.925 Q159.144 275.175 162.2 270.592 Q165.278 265.985 171.089 265.985 Z\" fill=\"#000000\" fill-rule=\"evenodd\" fill-opacity=\"1\" /><path clip-path=\"url(#clip350)\" d=\"M131.019 70.2864 Q134.376 71.004 136.251 73.2725 Q138.149 75.541 138.149 78.8743 Q138.149 83.9901 134.63 86.791 Q131.112 89.5919 124.63 89.5919 Q122.455 89.5919 120.14 89.1521 Q117.848 88.7354 115.394 87.8789 L115.394 83.3651 Q117.339 84.4993 119.654 85.078 Q121.968 85.6567 124.492 85.6567 Q128.89 85.6567 131.181 83.9206 Q133.496 82.1845 133.496 78.8743 Q133.496 75.8188 131.343 74.1058 Q129.214 72.3697 125.394 72.3697 L121.367 72.3697 L121.367 68.5272 L125.58 68.5272 Q129.029 68.5272 130.857 67.1614 Q132.686 65.7726 132.686 63.18 Q132.686 60.518 130.788 59.1059 Q128.913 57.6708 125.394 57.6708 Q123.473 57.6708 121.274 58.0874 Q119.075 58.5041 116.436 59.3837 L116.436 55.2171 Q119.098 54.4763 121.413 54.106 Q123.751 53.7356 125.811 53.7356 Q131.135 53.7356 134.237 56.1661 Q137.339 58.5735 137.339 62.6939 Q137.339 65.5642 135.695 67.555 Q134.052 69.5225 131.019 70.2864 Z\" fill=\"#000000\" fill-rule=\"evenodd\" fill-opacity=\"1\" /><path clip-path=\"url(#clip350)\" d=\"M147.015 83.041 L151.899 83.041 L151.899 88.9206 L147.015 88.9206 L147.015 83.041 Z\" fill=\"#000000\" fill-rule=\"evenodd\" fill-opacity=\"1\" /><path clip-path=\"url(#clip350)\" d=\"M162.13 54.3606 L180.487 54.3606 L180.487 58.2957 L166.413 58.2957 L166.413 66.7679 Q167.431 66.4207 168.45 66.2587 Q169.468 66.0735 170.487 66.0735 Q176.274 66.0735 179.653 69.2448 Q183.033 72.416 183.033 77.8327 Q183.033 83.4114 179.561 86.5132 Q176.089 89.5919 169.769 89.5919 Q167.593 89.5919 165.325 89.2215 Q163.079 88.8511 160.672 88.1104 L160.672 83.4114 Q162.755 84.5456 164.977 85.1012 Q167.2 85.6567 169.677 85.6567 Q173.681 85.6567 176.019 83.5502 Q178.357 81.4438 178.357 77.8327 Q178.357 74.2216 176.019 72.1151 Q173.681 70.0086 169.677 70.0086 Q167.802 70.0086 165.927 70.4253 Q164.075 70.842 162.13 71.7216 L162.13 54.3606 Z\" fill=\"#000000\" fill-rule=\"evenodd\" fill-opacity=\"1\" /><path clip-path=\"url(#clip350)\" d=\"M18.0438 734.703 L24.314 734.703 Q22.5634 738.363 21.704 741.61 Q20.8447 744.856 20.8447 747.88 Q20.8447 753.131 22.8817 755.996 Q24.9187 758.829 28.6745 758.829 Q31.8255 758.829 33.4488 756.951 Q35.0402 755.041 36.0269 749.758 L36.8226 745.875 Q38.1912 738.681 41.6605 735.276 Q45.098 731.838 50.8908 731.838 Q57.7976 731.838 61.3624 736.485 Q64.9272 741.1 64.9272 750.044 Q64.9272 753.418 64.1633 757.237 Q63.3994 761.025 61.9035 765.099 L55.2831 765.099 Q57.4793 761.184 58.5933 757.428 Q59.7073 753.673 59.7073 750.044 Q59.7073 744.538 57.543 741.546 Q55.3786 738.554 51.3682 738.554 Q47.8671 738.554 45.8937 740.718 Q43.9204 742.851 42.9337 747.752 L42.1698 751.667 Q40.7375 758.861 37.682 762.075 Q34.6264 765.29 29.1837 765.29 Q22.8817 765.29 19.2532 760.866 Q15.6248 756.41 15.6248 748.612 Q15.6248 745.27 16.2295 741.8 Q16.8343 738.331 18.0438 734.703 Z\" fill=\"#000000\" fill-rule=\"evenodd\" fill-opacity=\"1\" /><path clip-path=\"url(#clip350)\" d=\"M53.2143 705.134 L54.8057 705.134 L54.8057 722.099 Q58.1795 721.844 59.9619 719.807 Q61.7443 717.738 61.7443 714.078 Q61.7443 711.945 61.2669 709.94 Q60.8213 707.967 59.8983 705.993 L62.9856 705.993 Q63.7495 707.967 64.1315 710.067 Q64.5134 712.136 64.5134 714.301 Q64.5134 719.68 61.7443 722.799 Q58.9752 725.95 54.2328 725.95 Q49.3312 725.95 46.4348 722.958 Q43.5702 719.998 43.5702 714.937 Q43.5702 710.418 46.1484 707.776 Q48.7583 705.134 53.2143 705.134 M52.2276 708.826 Q49.554 708.858 47.9307 710.513 Q46.3393 712.168 46.3393 714.905 Q46.3393 717.993 47.8989 719.839 Q49.4267 721.685 52.2276 721.971 L52.2276 708.826 Z\" fill=\"#000000\" fill-rule=\"evenodd\" fill-opacity=\"1\" /><polyline clip-path=\"url(#clip352)\" style=\"stroke:#009af9; stroke-linecap:butt; stroke-linejoin:round; stroke-width:4; stroke-opacity:1; fill:none\" points=\"\n",
       "  279.421,1263.15 531.04,1384.24 782.658,1249.12 1034.28,1348.39 1285.89,1244.16 1537.51,1348.39 1789.13,1249.12 2040.75,1384.24 2292.37,1263.15 \n",
       "  \"/>\n",
       "<polyline clip-path=\"url(#clip352)\" style=\"stroke:#e26f46; stroke-linecap:butt; stroke-linejoin:round; stroke-width:4; stroke-opacity:1; fill:none\" points=\"\n",
       "  279.421,1263.15 531.04,968.907 782.658,674.667 1034.28,380.426 1285.89,86.1857 1537.51,380.426 1789.13,674.667 2040.75,968.907 2292.37,1263.15 \n",
       "  \"/>\n",
       "<path clip-path=\"url(#clip350)\" d=\"\n",
       "M1931.17 248.629 L2281.63 248.629 L2281.63 93.1086 L1931.17 93.1086  Z\n",
       "  \" fill=\"#ffffff\" fill-rule=\"evenodd\" fill-opacity=\"1\"/>\n",
       "<polyline clip-path=\"url(#clip350)\" style=\"stroke:#000000; stroke-linecap:butt; stroke-linejoin:round; stroke-width:4; stroke-opacity:1; fill:none\" points=\"\n",
       "  1931.17,248.629 2281.63,248.629 2281.63,93.1086 1931.17,93.1086 1931.17,248.629 \n",
       "  \"/>\n",
       "<polyline clip-path=\"url(#clip350)\" style=\"stroke:#009af9; stroke-linecap:butt; stroke-linejoin:round; stroke-width:4; stroke-opacity:1; fill:none\" points=\"\n",
       "  1954.88,144.949 2097.13,144.949 \n",
       "  \"/>\n",
       "<path clip-path=\"url(#clip350)\" d=\"M2143.08 128.803 L2143.08 133.363 Q2140.42 132.09 2138.06 131.465 Q2135.7 130.84 2133.5 130.84 Q2129.68 130.84 2127.6 132.321 Q2125.54 133.803 2125.54 136.534 Q2125.54 138.826 2126.9 140.007 Q2128.29 141.164 2132.13 141.882 L2134.96 142.46 Q2140.19 143.456 2142.67 145.979 Q2145.17 148.479 2145.17 152.692 Q2145.17 157.715 2141.79 160.307 Q2138.43 162.9 2131.92 162.9 Q2129.47 162.9 2126.69 162.344 Q2123.94 161.789 2120.98 160.701 L2120.98 155.886 Q2123.82 157.483 2126.55 158.293 Q2129.29 159.104 2131.92 159.104 Q2135.93 159.104 2138.11 157.53 Q2140.28 155.956 2140.28 153.039 Q2140.28 150.493 2138.71 149.057 Q2137.16 147.622 2133.59 146.905 L2130.74 146.349 Q2125.51 145.307 2123.17 143.085 Q2120.84 140.863 2120.84 136.905 Q2120.84 132.321 2124.05 129.682 Q2127.3 127.044 2132.97 127.044 Q2135.4 127.044 2137.92 127.483 Q2140.44 127.923 2143.08 128.803 Z\" fill=\"#000000\" fill-rule=\"evenodd\" fill-opacity=\"1\" /><path clip-path=\"url(#clip350)\" d=\"M2164.59 154.381 L2164.59 155.539 L2152.25 155.539 Q2152.43 157.993 2153.92 159.289 Q2155.42 160.585 2158.08 160.585 Q2159.63 160.585 2161.09 160.238 Q2162.53 159.914 2163.96 159.243 L2163.96 161.488 Q2162.53 162.043 2161 162.321 Q2159.49 162.599 2157.92 162.599 Q2154.01 162.599 2151.74 160.585 Q2149.45 158.571 2149.45 155.122 Q2149.45 151.557 2151.62 149.451 Q2153.78 147.368 2157.46 147.368 Q2160.74 147.368 2162.67 149.243 Q2164.59 151.141 2164.59 154.381 M2161.9 153.664 Q2161.88 151.719 2160.67 150.539 Q2159.47 149.381 2157.48 149.381 Q2155.23 149.381 2153.89 150.516 Q2152.55 151.627 2152.34 153.664 L2161.9 153.664 Z\" fill=\"#000000\" fill-rule=\"evenodd\" fill-opacity=\"1\" /><polyline clip-path=\"url(#clip350)\" style=\"stroke:#e26f46; stroke-linecap:butt; stroke-linejoin:round; stroke-width:4; stroke-opacity:1; fill:none\" points=\"\n",
       "  1954.88,196.789 2097.13,196.789 \n",
       "  \"/>\n",
       "<path clip-path=\"url(#clip350)\" d=\"M2143.08 180.643 L2143.08 185.203 Q2140.42 183.93 2138.06 183.305 Q2135.7 182.68 2133.5 182.68 Q2129.68 182.68 2127.6 184.161 Q2125.54 185.643 2125.54 188.374 Q2125.54 190.666 2126.9 191.847 Q2128.29 193.004 2132.13 193.722 L2134.96 194.3 Q2140.19 195.296 2142.67 197.819 Q2145.17 200.319 2145.17 204.532 Q2145.17 209.555 2141.79 212.147 Q2138.43 214.74 2131.92 214.74 Q2129.47 214.74 2126.69 214.184 Q2123.94 213.629 2120.98 212.541 L2120.98 207.726 Q2123.82 209.323 2126.55 210.133 Q2129.29 210.944 2131.92 210.944 Q2135.93 210.944 2138.11 209.37 Q2140.28 207.796 2140.28 204.879 Q2140.28 202.333 2138.71 200.897 Q2137.16 199.462 2133.59 198.745 L2130.74 198.189 Q2125.51 197.147 2123.17 194.925 Q2120.84 192.703 2120.84 188.745 Q2120.84 184.161 2124.05 181.522 Q2127.3 178.884 2132.97 178.884 Q2135.4 178.884 2137.92 179.323 Q2140.44 179.763 2143.08 180.643 Z\" fill=\"#000000\" fill-rule=\"evenodd\" fill-opacity=\"1\" /><path clip-path=\"url(#clip350)\" d=\"M2164.59 206.221 L2164.59 207.379 L2152.25 207.379 Q2152.43 209.833 2153.92 211.129 Q2155.42 212.425 2158.08 212.425 Q2159.63 212.425 2161.09 212.078 Q2162.53 211.754 2163.96 211.083 L2163.96 213.328 Q2162.53 213.883 2161 214.161 Q2159.49 214.439 2157.92 214.439 Q2154.01 214.439 2151.74 212.425 Q2149.45 210.411 2149.45 206.962 Q2149.45 203.397 2151.62 201.291 Q2153.78 199.208 2157.46 199.208 Q2160.74 199.208 2162.67 201.083 Q2164.59 202.981 2164.59 206.221 M2161.9 205.504 Q2161.88 203.559 2160.67 202.379 Q2159.47 201.221 2157.48 201.221 Q2155.23 201.221 2153.89 202.356 Q2152.55 203.467 2152.34 205.504 L2161.9 205.504 Z\" fill=\"#000000\" fill-rule=\"evenodd\" fill-opacity=\"1\" /><path clip-path=\"url(#clip350)\" d=\"M2183.54 190.411 L2183.54 198.606 L2180.86 198.606 L2180.86 189.925 Q2180.86 187.819 2180.03 186.823 Q2179.19 185.805 2177.46 185.805 Q2175.4 185.805 2174.19 187.055 Q2172.99 188.282 2172.99 190.411 L2172.99 198.606 L2170.28 198.606 L2170.28 184.092 L2172.99 184.092 L2172.99 186.337 Q2173.89 185.018 2175.17 184.393 Q2176.46 183.745 2178.24 183.745 Q2180 183.745 2181.25 184.555 Q2182.5 185.342 2183.1 186.87 Q2184.1 185.272 2185.49 184.509 Q2186.9 183.745 2188.8 183.745 Q2191.37 183.745 2192.73 185.342 Q2194.12 186.916 2194.12 189.833 L2194.12 198.606 L2191.44 198.606 L2191.44 189.925 Q2191.44 187.842 2190.6 186.823 Q2189.77 185.805 2188.06 185.805 Q2185.98 185.805 2184.75 187.055 Q2183.54 188.282 2183.54 190.411 Z\" fill=\"#000000\" fill-rule=\"evenodd\" fill-opacity=\"1\" /><path clip-path=\"url(#clip350)\" d=\"M2207.34 191.314 Q2204.1 191.314 2202.85 191.962 Q2201.58 192.634 2201.58 194.231 Q2201.58 195.504 2202.53 196.245 Q2203.48 196.985 2205.1 196.985 Q2207.32 196.985 2208.66 195.573 Q2210.03 194.161 2210.03 191.847 L2210.03 191.314 L2207.34 191.314 M2212.69 190.319 L2212.69 198.606 L2210.03 198.606 L2210.03 196.407 Q2209.1 197.726 2207.73 198.351 Q2206.35 198.976 2204.38 198.976 Q2201.85 198.976 2200.37 197.726 Q2198.89 196.476 2198.89 194.37 Q2198.89 191.939 2200.74 190.689 Q2202.6 189.439 2206.25 189.439 L2210.03 189.439 L2210.03 189.208 Q2210.03 187.564 2208.8 186.661 Q2207.57 185.759 2205.37 185.759 Q2203.98 185.759 2202.64 186.06 Q2201.32 186.36 2200.1 186.962 L2200.1 184.74 Q2201.58 184.254 2202.97 183.999 Q2204.33 183.745 2205.65 183.745 Q2209.19 183.745 2210.95 185.365 Q2212.69 187.009 2212.69 190.319 Z\" fill=\"#000000\" fill-rule=\"evenodd\" fill-opacity=\"1\" /><path clip-path=\"url(#clip350)\" d=\"M2233.91 184.092 L2228.01 191.152 L2234.22 198.606 L2231.04 198.606 L2226.3 192.911 L2221.55 198.606 L2218.38 198.606 L2224.73 191.013 L2218.91 184.092 L2222.09 184.092 L2226.41 189.254 L2230.74 184.092 L2233.91 184.092 Z\" fill=\"#000000\" fill-rule=\"evenodd\" fill-opacity=\"1\" /></svg>\n"
      ]
     },
     "execution_count": 362,
     "metadata": {},
     "output_type": "execute_result"
    }
   ],
   "source": [
    "plot(Sₑs, label=\"Sₑ\")\n",
    "plot!(1:(N-1), Sₑmax.(1:(N-1), N .- collect(1:(N-1))), label=\"Sₑᵐᵃˣ\")\n",
    "xlabel!(\"M_A\")\n",
    "ylabel!(\"Sₑ\")\n",
    "xticks!(1:N-1)"
   ]
  },
  {
   "cell_type": "markdown",
   "id": "1375a230",
   "metadata": {},
   "source": [
    "## c)\n",
    "\n",
    "### verifying the $J=-1$ case"
   ]
  },
  {
   "cell_type": "code",
   "execution_count": 367,
   "id": "051aaa4a",
   "metadata": {},
   "outputs": [],
   "source": [
    "N6 = 6\n",
    "N = 6\n",
    "\n",
    "Ji = (-0.00001, -0.25, -1.0, -0.25, -0.00001) #-1 * ones(N6-1)\n",
    "\n",
    "Js_N6 = reset_Js(N6)\n",
    "\n",
    "# couplings between (i,i+1) for α=x (1)\n",
    "for i in 1:(N6-1)\n",
    "    Js_N6[1][i,i+1] = Ji[i]\n",
    "end\n",
    "\n",
    "Js_N6[2] = Js_N6[1]\n",
    "Js_N6[3] = Js_N6[1]\n",
    "\n",
    "H_N6 = calculate_hamilton_matrix(Js_N6, N6)\n",
    "ψ_N6_g = eigvecs(rationalize.(Matrix(H_N6)))[:,1];"
   ]
  },
  {
   "cell_type": "code",
   "execution_count": 368,
   "id": "67150c96",
   "metadata": {
    "scrolled": true
   },
   "outputs": [
    {
     "data": {
      "text/plain": [
       "1.935600433969269"
      ]
     },
     "execution_count": 368,
     "metadata": {},
     "output_type": "execute_result"
    }
   ],
   "source": [
    "C_N6 = ψ2C(ψ_N6_g, 3,3)\n",
    "\n",
    "Sₑ(C_N6 * C_N6')"
   ]
  },
  {
   "cell_type": "code",
   "execution_count": 369,
   "id": "f83e9451",
   "metadata": {},
   "outputs": [],
   "source": [
    "#ψ_N6_g = round.(ψ_N6_g, digits=5);"
   ]
  },
  {
   "cell_type": "code",
   "execution_count": 370,
   "id": "b8c25dea",
   "metadata": {},
   "outputs": [
    {
     "name": "stdout",
     "output_type": "stream",
     "text": [
      "1,5: 0.6931471805588341\n",
      "2,4: 1.3862942858655758\n",
      "3,3: 1.935600433969269\n",
      "4,2: 1.3862942858655758\n",
      "5,1: 0.693147180558834\n"
     ]
    },
    {
     "data": {
      "image/svg+xml": [
       "<?xml version=\"1.0\" encoding=\"utf-8\"?>\n",
       "<svg xmlns=\"http://www.w3.org/2000/svg\" xmlns:xlink=\"http://www.w3.org/1999/xlink\" width=\"600\" height=\"400\" viewBox=\"0 0 2400 1600\">\n",
       "<defs>\n",
       "  <clipPath id=\"clip430\">\n",
       "    <rect x=\"0\" y=\"0\" width=\"2400\" height=\"1600\"/>\n",
       "  </clipPath>\n",
       "</defs>\n",
       "<path clip-path=\"url(#clip430)\" d=\"\n",
       "M0 1600 L2400 1600 L2400 0 L0 0  Z\n",
       "  \" fill=\"#ffffff\" fill-rule=\"evenodd\" fill-opacity=\"1\"/>\n",
       "<defs>\n",
       "  <clipPath id=\"clip431\">\n",
       "    <rect x=\"480\" y=\"0\" width=\"1681\" height=\"1600\"/>\n",
       "  </clipPath>\n",
       "</defs>\n",
       "<path clip-path=\"url(#clip430)\" d=\"\n",
       "M219.288 1423.18 L2352.76 1423.18 L2352.76 47.2441 L219.288 47.2441  Z\n",
       "  \" fill=\"#ffffff\" fill-rule=\"evenodd\" fill-opacity=\"1\"/>\n",
       "<defs>\n",
       "  <clipPath id=\"clip432\">\n",
       "    <rect x=\"219\" y=\"47\" width=\"2134\" height=\"1377\"/>\n",
       "  </clipPath>\n",
       "</defs>\n",
       "<polyline clip-path=\"url(#clip432)\" style=\"stroke:#000000; stroke-linecap:butt; stroke-linejoin:round; stroke-width:2; stroke-opacity:0.1; fill:none\" points=\"\n",
       "  279.669,1423.18 279.669,47.2441 \n",
       "  \"/>\n",
       "<polyline clip-path=\"url(#clip432)\" style=\"stroke:#000000; stroke-linecap:butt; stroke-linejoin:round; stroke-width:2; stroke-opacity:0.1; fill:none\" points=\"\n",
       "  782.845,1423.18 782.845,47.2441 \n",
       "  \"/>\n",
       "<polyline clip-path=\"url(#clip432)\" style=\"stroke:#000000; stroke-linecap:butt; stroke-linejoin:round; stroke-width:2; stroke-opacity:0.1; fill:none\" points=\"\n",
       "  1286.02,1423.18 1286.02,47.2441 \n",
       "  \"/>\n",
       "<polyline clip-path=\"url(#clip432)\" style=\"stroke:#000000; stroke-linecap:butt; stroke-linejoin:round; stroke-width:2; stroke-opacity:0.1; fill:none\" points=\"\n",
       "  1789.2,1423.18 1789.2,47.2441 \n",
       "  \"/>\n",
       "<polyline clip-path=\"url(#clip432)\" style=\"stroke:#000000; stroke-linecap:butt; stroke-linejoin:round; stroke-width:2; stroke-opacity:0.1; fill:none\" points=\"\n",
       "  2292.37,1423.18 2292.37,47.2441 \n",
       "  \"/>\n",
       "<polyline clip-path=\"url(#clip430)\" style=\"stroke:#000000; stroke-linecap:butt; stroke-linejoin:round; stroke-width:4; stroke-opacity:1; fill:none\" points=\"\n",
       "  219.288,1423.18 2352.76,1423.18 \n",
       "  \"/>\n",
       "<polyline clip-path=\"url(#clip430)\" style=\"stroke:#000000; stroke-linecap:butt; stroke-linejoin:round; stroke-width:4; stroke-opacity:1; fill:none\" points=\"\n",
       "  279.669,1423.18 279.669,1404.28 \n",
       "  \"/>\n",
       "<polyline clip-path=\"url(#clip430)\" style=\"stroke:#000000; stroke-linecap:butt; stroke-linejoin:round; stroke-width:4; stroke-opacity:1; fill:none\" points=\"\n",
       "  782.845,1423.18 782.845,1404.28 \n",
       "  \"/>\n",
       "<polyline clip-path=\"url(#clip430)\" style=\"stroke:#000000; stroke-linecap:butt; stroke-linejoin:round; stroke-width:4; stroke-opacity:1; fill:none\" points=\"\n",
       "  1286.02,1423.18 1286.02,1404.28 \n",
       "  \"/>\n",
       "<polyline clip-path=\"url(#clip430)\" style=\"stroke:#000000; stroke-linecap:butt; stroke-linejoin:round; stroke-width:4; stroke-opacity:1; fill:none\" points=\"\n",
       "  1789.2,1423.18 1789.2,1404.28 \n",
       "  \"/>\n",
       "<polyline clip-path=\"url(#clip430)\" style=\"stroke:#000000; stroke-linecap:butt; stroke-linejoin:round; stroke-width:4; stroke-opacity:1; fill:none\" points=\"\n",
       "  2292.37,1423.18 2292.37,1404.28 \n",
       "  \"/>\n",
       "<path clip-path=\"url(#clip430)\" d=\"M270.051 1481.64 L277.69 1481.64 L277.69 1455.28 L269.379 1456.95 L269.379 1452.69 L277.643 1451.02 L282.319 1451.02 L282.319 1481.64 L289.958 1481.64 L289.958 1485.58 L270.051 1485.58 L270.051 1481.64 Z\" fill=\"#000000\" fill-rule=\"evenodd\" fill-opacity=\"1\" /><path clip-path=\"url(#clip430)\" d=\"M777.498 1481.64 L793.817 1481.64 L793.817 1485.58 L771.873 1485.58 L771.873 1481.64 Q774.535 1478.89 779.118 1474.26 Q783.725 1469.61 784.905 1468.27 Q787.151 1465.74 788.03 1464.01 Q788.933 1462.25 788.933 1460.56 Q788.933 1457.8 786.989 1456.07 Q785.067 1454.33 781.966 1454.33 Q779.767 1454.33 777.313 1455.09 Q774.882 1455.86 772.105 1457.41 L772.105 1452.69 Q774.929 1451.55 777.382 1450.97 Q779.836 1450.39 781.873 1450.39 Q787.243 1450.39 790.438 1453.08 Q793.632 1455.77 793.632 1460.26 Q793.632 1462.39 792.822 1464.31 Q792.035 1466.2 789.929 1468.8 Q789.35 1469.47 786.248 1472.69 Q783.146 1475.88 777.498 1481.64 Z\" fill=\"#000000\" fill-rule=\"evenodd\" fill-opacity=\"1\" /><path clip-path=\"url(#clip430)\" d=\"M1290.27 1466.95 Q1293.63 1467.66 1295.5 1469.93 Q1297.4 1472.2 1297.4 1475.53 Q1297.4 1480.65 1293.88 1483.45 Q1290.36 1486.25 1283.88 1486.25 Q1281.7 1486.25 1279.39 1485.81 Q1277.1 1485.39 1274.64 1484.54 L1274.64 1480.02 Q1276.59 1481.16 1278.9 1481.74 Q1281.22 1482.32 1283.74 1482.32 Q1288.14 1482.32 1290.43 1480.58 Q1292.75 1478.84 1292.75 1475.53 Q1292.75 1472.48 1290.59 1470.77 Q1288.46 1469.03 1284.64 1469.03 L1280.62 1469.03 L1280.62 1465.19 L1284.83 1465.19 Q1288.28 1465.19 1290.11 1463.82 Q1291.94 1462.43 1291.94 1459.84 Q1291.94 1457.18 1290.04 1455.77 Q1288.16 1454.33 1284.64 1454.33 Q1282.72 1454.33 1280.52 1454.75 Q1278.33 1455.16 1275.69 1456.04 L1275.69 1451.88 Q1278.35 1451.14 1280.66 1450.77 Q1283 1450.39 1285.06 1450.39 Q1290.39 1450.39 1293.49 1452.83 Q1296.59 1455.23 1296.59 1459.35 Q1296.59 1462.22 1294.95 1464.21 Q1293.3 1466.18 1290.27 1466.95 Z\" fill=\"#000000\" fill-rule=\"evenodd\" fill-opacity=\"1\" /><path clip-path=\"url(#clip430)\" d=\"M1792.21 1455.09 L1780.4 1473.54 L1792.21 1473.54 L1792.21 1455.09 M1790.98 1451.02 L1796.86 1451.02 L1796.86 1473.54 L1801.79 1473.54 L1801.79 1477.43 L1796.86 1477.43 L1796.86 1485.58 L1792.21 1485.58 L1792.21 1477.43 L1776.61 1477.43 L1776.61 1472.92 L1790.98 1451.02 Z\" fill=\"#000000\" fill-rule=\"evenodd\" fill-opacity=\"1\" /><path clip-path=\"url(#clip430)\" d=\"M2282.65 1451.02 L2301.01 1451.02 L2301.01 1454.96 L2286.93 1454.96 L2286.93 1463.43 Q2287.95 1463.08 2288.97 1462.92 Q2289.99 1462.73 2291.01 1462.73 Q2296.8 1462.73 2300.18 1465.9 Q2303.56 1469.08 2303.56 1474.49 Q2303.56 1480.07 2300.08 1483.17 Q2296.61 1486.25 2290.29 1486.25 Q2288.12 1486.25 2285.85 1485.88 Q2283.6 1485.51 2281.19 1484.77 L2281.19 1480.07 Q2283.28 1481.2 2285.5 1481.76 Q2287.72 1482.32 2290.2 1482.32 Q2294.2 1482.32 2296.54 1480.21 Q2298.88 1478.1 2298.88 1474.49 Q2298.88 1470.88 2296.54 1468.77 Q2294.2 1466.67 2290.2 1466.67 Q2288.32 1466.67 2286.45 1467.08 Q2284.6 1467.5 2282.65 1468.38 L2282.65 1451.02 Z\" fill=\"#000000\" fill-rule=\"evenodd\" fill-opacity=\"1\" /><path clip-path=\"url(#clip430)\" d=\"M1222.78 1520.52 L1232.36 1520.52 L1244.49 1552.86 L1256.68 1520.52 L1266.26 1520.52 L1266.26 1568.04 L1259.99 1568.04 L1259.99 1526.32 L1247.73 1558.91 L1241.27 1558.91 L1229.02 1526.32 L1229.02 1568.04 L1222.78 1568.04 L1222.78 1520.52 Z\" fill=\"#000000\" fill-rule=\"evenodd\" fill-opacity=\"1\" /><path clip-path=\"url(#clip430)\" d=\"M1305.85 1578.87 L1305.85 1583.42 L1271.99 1583.42 L1271.99 1578.87 L1305.85 1578.87 Z\" fill=\"#000000\" fill-rule=\"evenodd\" fill-opacity=\"1\" /><path clip-path=\"url(#clip430)\" d=\"M1327.49 1526.86 L1318.77 1550.51 L1336.25 1550.51 L1327.49 1526.86 M1323.87 1520.52 L1331.15 1520.52 L1349.27 1568.04 L1342.58 1568.04 L1338.25 1555.85 L1316.83 1555.85 L1312.5 1568.04 L1305.72 1568.04 L1323.87 1520.52 Z\" fill=\"#000000\" fill-rule=\"evenodd\" fill-opacity=\"1\" /><polyline clip-path=\"url(#clip432)\" style=\"stroke:#000000; stroke-linecap:butt; stroke-linejoin:round; stroke-width:2; stroke-opacity:0.1; fill:none\" points=\"\n",
       "  219.288,1284.19 2352.76,1284.19 \n",
       "  \"/>\n",
       "<polyline clip-path=\"url(#clip432)\" style=\"stroke:#000000; stroke-linecap:butt; stroke-linejoin:round; stroke-width:2; stroke-opacity:0.1; fill:none\" points=\"\n",
       "  219.288,1096.92 2352.76,1096.92 \n",
       "  \"/>\n",
       "<polyline clip-path=\"url(#clip432)\" style=\"stroke:#000000; stroke-linecap:butt; stroke-linejoin:round; stroke-width:2; stroke-opacity:0.1; fill:none\" points=\"\n",
       "  219.288,909.648 2352.76,909.648 \n",
       "  \"/>\n",
       "<polyline clip-path=\"url(#clip432)\" style=\"stroke:#000000; stroke-linecap:butt; stroke-linejoin:round; stroke-width:2; stroke-opacity:0.1; fill:none\" points=\"\n",
       "  219.288,722.379 2352.76,722.379 \n",
       "  \"/>\n",
       "<polyline clip-path=\"url(#clip432)\" style=\"stroke:#000000; stroke-linecap:butt; stroke-linejoin:round; stroke-width:2; stroke-opacity:0.1; fill:none\" points=\"\n",
       "  219.288,535.109 2352.76,535.109 \n",
       "  \"/>\n",
       "<polyline clip-path=\"url(#clip432)\" style=\"stroke:#000000; stroke-linecap:butt; stroke-linejoin:round; stroke-width:2; stroke-opacity:0.1; fill:none\" points=\"\n",
       "  219.288,347.84 2352.76,347.84 \n",
       "  \"/>\n",
       "<polyline clip-path=\"url(#clip432)\" style=\"stroke:#000000; stroke-linecap:butt; stroke-linejoin:round; stroke-width:2; stroke-opacity:0.1; fill:none\" points=\"\n",
       "  219.288,160.571 2352.76,160.571 \n",
       "  \"/>\n",
       "<polyline clip-path=\"url(#clip430)\" style=\"stroke:#000000; stroke-linecap:butt; stroke-linejoin:round; stroke-width:4; stroke-opacity:1; fill:none\" points=\"\n",
       "  219.288,1423.18 219.288,47.2441 \n",
       "  \"/>\n",
       "<polyline clip-path=\"url(#clip430)\" style=\"stroke:#000000; stroke-linecap:butt; stroke-linejoin:round; stroke-width:4; stroke-opacity:1; fill:none\" points=\"\n",
       "  219.288,1284.19 238.185,1284.19 \n",
       "  \"/>\n",
       "<polyline clip-path=\"url(#clip430)\" style=\"stroke:#000000; stroke-linecap:butt; stroke-linejoin:round; stroke-width:4; stroke-opacity:1; fill:none\" points=\"\n",
       "  219.288,1096.92 238.185,1096.92 \n",
       "  \"/>\n",
       "<polyline clip-path=\"url(#clip430)\" style=\"stroke:#000000; stroke-linecap:butt; stroke-linejoin:round; stroke-width:4; stroke-opacity:1; fill:none\" points=\"\n",
       "  219.288,909.648 238.185,909.648 \n",
       "  \"/>\n",
       "<polyline clip-path=\"url(#clip430)\" style=\"stroke:#000000; stroke-linecap:butt; stroke-linejoin:round; stroke-width:4; stroke-opacity:1; fill:none\" points=\"\n",
       "  219.288,722.379 238.185,722.379 \n",
       "  \"/>\n",
       "<polyline clip-path=\"url(#clip430)\" style=\"stroke:#000000; stroke-linecap:butt; stroke-linejoin:round; stroke-width:4; stroke-opacity:1; fill:none\" points=\"\n",
       "  219.288,535.109 238.185,535.109 \n",
       "  \"/>\n",
       "<polyline clip-path=\"url(#clip430)\" style=\"stroke:#000000; stroke-linecap:butt; stroke-linejoin:round; stroke-width:4; stroke-opacity:1; fill:none\" points=\"\n",
       "  219.288,347.84 238.185,347.84 \n",
       "  \"/>\n",
       "<polyline clip-path=\"url(#clip430)\" style=\"stroke:#000000; stroke-linecap:butt; stroke-linejoin:round; stroke-width:4; stroke-opacity:1; fill:none\" points=\"\n",
       "  219.288,160.571 238.185,160.571 \n",
       "  \"/>\n",
       "<path clip-path=\"url(#clip430)\" d=\"M126.205 1269.99 Q122.593 1269.99 120.765 1273.55 Q118.959 1277.09 118.959 1284.22 Q118.959 1291.33 120.765 1294.89 Q122.593 1298.43 126.205 1298.43 Q129.839 1298.43 131.644 1294.89 Q133.473 1291.33 133.473 1284.22 Q133.473 1277.09 131.644 1273.55 Q129.839 1269.99 126.205 1269.99 M126.205 1266.28 Q132.015 1266.28 135.07 1270.89 Q138.149 1275.47 138.149 1284.22 Q138.149 1292.95 135.07 1297.55 Q132.015 1302.14 126.205 1302.14 Q120.394 1302.14 117.316 1297.55 Q114.26 1292.95 114.26 1284.22 Q114.26 1275.47 117.316 1270.89 Q120.394 1266.28 126.205 1266.28 Z\" fill=\"#000000\" fill-rule=\"evenodd\" fill-opacity=\"1\" /><path clip-path=\"url(#clip430)\" d=\"M146.366 1295.59 L151.251 1295.59 L151.251 1301.47 L146.366 1301.47 L146.366 1295.59 Z\" fill=\"#000000\" fill-rule=\"evenodd\" fill-opacity=\"1\" /><path clip-path=\"url(#clip430)\" d=\"M171.436 1285.05 Q168.102 1285.05 166.181 1286.84 Q164.283 1288.62 164.283 1291.74 Q164.283 1294.87 166.181 1296.65 Q168.102 1298.43 171.436 1298.43 Q174.769 1298.43 176.69 1296.65 Q178.612 1294.85 178.612 1291.74 Q178.612 1288.62 176.69 1286.84 Q174.792 1285.05 171.436 1285.05 M166.76 1283.06 Q163.751 1282.32 162.061 1280.26 Q160.394 1278.2 160.394 1275.24 Q160.394 1271.1 163.334 1268.69 Q166.297 1266.28 171.436 1266.28 Q176.598 1266.28 179.538 1268.69 Q182.477 1271.1 182.477 1275.24 Q182.477 1278.2 180.788 1280.26 Q179.121 1282.32 176.135 1283.06 Q179.514 1283.85 181.389 1286.14 Q183.288 1288.43 183.288 1291.74 Q183.288 1296.77 180.209 1299.45 Q177.153 1302.14 171.436 1302.14 Q165.718 1302.14 162.64 1299.45 Q159.584 1296.77 159.584 1291.74 Q159.584 1288.43 161.482 1286.14 Q163.38 1283.85 166.76 1283.06 M165.047 1275.68 Q165.047 1278.37 166.714 1279.87 Q168.403 1281.37 171.436 1281.37 Q174.445 1281.37 176.135 1279.87 Q177.848 1278.37 177.848 1275.68 Q177.848 1272.99 176.135 1271.49 Q174.445 1269.99 171.436 1269.99 Q168.403 1269.99 166.714 1271.49 Q165.047 1272.99 165.047 1275.68 Z\" fill=\"#000000\" fill-rule=\"evenodd\" fill-opacity=\"1\" /><path clip-path=\"url(#clip430)\" d=\"M116.922 1110.26 L124.561 1110.26 L124.561 1083.9 L116.251 1085.56 L116.251 1081.3 L124.515 1079.64 L129.191 1079.64 L129.191 1110.26 L136.829 1110.26 L136.829 1114.2 L116.922 1114.2 L116.922 1110.26 Z\" fill=\"#000000\" fill-rule=\"evenodd\" fill-opacity=\"1\" /><path clip-path=\"url(#clip430)\" d=\"M146.274 1108.32 L151.158 1108.32 L151.158 1114.2 L146.274 1114.2 L146.274 1108.32 Z\" fill=\"#000000\" fill-rule=\"evenodd\" fill-opacity=\"1\" /><path clip-path=\"url(#clip430)\" d=\"M171.343 1082.72 Q167.732 1082.72 165.903 1086.28 Q164.098 1089.82 164.098 1096.95 Q164.098 1104.06 165.903 1107.62 Q167.732 1111.17 171.343 1111.17 Q174.977 1111.17 176.783 1107.62 Q178.612 1104.06 178.612 1096.95 Q178.612 1089.82 176.783 1086.28 Q174.977 1082.72 171.343 1082.72 M171.343 1079.01 Q177.153 1079.01 180.209 1083.62 Q183.288 1088.2 183.288 1096.95 Q183.288 1105.68 180.209 1110.29 Q177.153 1114.87 171.343 1114.87 Q165.533 1114.87 162.454 1110.29 Q159.399 1105.68 159.399 1096.95 Q159.399 1088.2 162.454 1083.62 Q165.533 1079.01 171.343 1079.01 Z\" fill=\"#000000\" fill-rule=\"evenodd\" fill-opacity=\"1\" /><path clip-path=\"url(#clip430)\" d=\"M118.519 922.993 L126.158 922.993 L126.158 896.627 L117.848 898.294 L117.848 894.035 L126.112 892.368 L130.788 892.368 L130.788 922.993 L138.427 922.993 L138.427 926.928 L118.519 926.928 L118.519 922.993 Z\" fill=\"#000000\" fill-rule=\"evenodd\" fill-opacity=\"1\" /><path clip-path=\"url(#clip430)\" d=\"M147.871 921.049 L152.755 921.049 L152.755 926.928 L147.871 926.928 L147.871 921.049 Z\" fill=\"#000000\" fill-rule=\"evenodd\" fill-opacity=\"1\" /><path clip-path=\"url(#clip430)\" d=\"M166.968 922.993 L183.288 922.993 L183.288 926.928 L161.343 926.928 L161.343 922.993 Q164.005 920.238 168.589 915.609 Q173.195 910.956 174.376 909.613 Q176.621 907.09 177.501 905.354 Q178.403 903.595 178.403 901.905 Q178.403 899.151 176.459 897.414 Q174.538 895.678 171.436 895.678 Q169.237 895.678 166.783 896.442 Q164.352 897.206 161.575 898.757 L161.575 894.035 Q164.399 892.901 166.852 892.322 Q169.306 891.743 171.343 891.743 Q176.714 891.743 179.908 894.428 Q183.102 897.113 183.102 901.604 Q183.102 903.734 182.292 905.655 Q181.505 907.553 179.399 910.146 Q178.82 910.817 175.718 914.035 Q172.616 917.229 166.968 922.993 Z\" fill=\"#000000\" fill-rule=\"evenodd\" fill-opacity=\"1\" /><path clip-path=\"url(#clip430)\" d=\"M116.436 735.724 L124.075 735.724 L124.075 709.358 L115.765 711.025 L115.765 706.765 L124.029 705.099 L128.705 705.099 L128.705 735.724 L136.343 735.724 L136.343 739.659 L116.436 739.659 L116.436 735.724 Z\" fill=\"#000000\" fill-rule=\"evenodd\" fill-opacity=\"1\" /><path clip-path=\"url(#clip430)\" d=\"M145.788 733.779 L150.672 733.779 L150.672 739.659 L145.788 739.659 L145.788 733.779 Z\" fill=\"#000000\" fill-rule=\"evenodd\" fill-opacity=\"1\" /><path clip-path=\"url(#clip430)\" d=\"M173.704 709.173 L161.899 727.622 L173.704 727.622 L173.704 709.173 M172.477 705.099 L178.357 705.099 L178.357 727.622 L183.288 727.622 L183.288 731.511 L178.357 731.511 L178.357 739.659 L173.704 739.659 L173.704 731.511 L158.103 731.511 L158.103 726.997 L172.477 705.099 Z\" fill=\"#000000\" fill-rule=\"evenodd\" fill-opacity=\"1\" /><path clip-path=\"url(#clip430)\" d=\"M116.76 548.454 L124.399 548.454 L124.399 522.089 L116.089 523.755 L116.089 519.496 L124.353 517.829 L129.029 517.829 L129.029 548.454 L136.667 548.454 L136.667 552.389 L116.76 552.389 L116.76 548.454 Z\" fill=\"#000000\" fill-rule=\"evenodd\" fill-opacity=\"1\" /><path clip-path=\"url(#clip430)\" d=\"M146.112 546.51 L150.996 546.51 L150.996 552.389 L146.112 552.389 L146.112 546.51 Z\" fill=\"#000000\" fill-rule=\"evenodd\" fill-opacity=\"1\" /><path clip-path=\"url(#clip430)\" d=\"M171.76 533.246 Q168.612 533.246 166.76 535.399 Q164.931 537.551 164.931 541.301 Q164.931 545.028 166.76 547.204 Q168.612 549.357 171.76 549.357 Q174.908 549.357 176.737 547.204 Q178.589 545.028 178.589 541.301 Q178.589 537.551 176.737 535.399 Q174.908 533.246 171.76 533.246 M181.042 518.593 L181.042 522.852 Q179.283 522.019 177.477 521.579 Q175.695 521.139 173.936 521.139 Q169.306 521.139 166.852 524.264 Q164.422 527.389 164.075 533.709 Q165.44 531.695 167.501 530.63 Q169.561 529.542 172.038 529.542 Q177.246 529.542 180.255 532.714 Q183.288 535.862 183.288 541.301 Q183.288 546.625 180.139 549.843 Q176.991 553.061 171.76 553.061 Q165.765 553.061 162.593 548.477 Q159.422 543.871 159.422 535.144 Q159.422 526.95 163.311 522.089 Q167.2 517.204 173.751 517.204 Q175.51 517.204 177.292 517.552 Q179.098 517.899 181.042 518.593 Z\" fill=\"#000000\" fill-rule=\"evenodd\" fill-opacity=\"1\" /><path clip-path=\"url(#clip430)\" d=\"M117.015 361.185 L124.654 361.185 L124.654 334.819 L116.343 336.486 L116.343 332.227 L124.607 330.56 L129.283 330.56 L129.283 361.185 L136.922 361.185 L136.922 365.12 L117.015 365.12 L117.015 361.185 Z\" fill=\"#000000\" fill-rule=\"evenodd\" fill-opacity=\"1\" /><path clip-path=\"url(#clip430)\" d=\"M146.366 359.24 L151.251 359.24 L151.251 365.12 L146.366 365.12 L146.366 359.24 Z\" fill=\"#000000\" fill-rule=\"evenodd\" fill-opacity=\"1\" /><path clip-path=\"url(#clip430)\" d=\"M171.436 348.708 Q168.102 348.708 166.181 350.49 Q164.283 352.273 164.283 355.398 Q164.283 358.523 166.181 360.305 Q168.102 362.088 171.436 362.088 Q174.769 362.088 176.69 360.305 Q178.612 358.5 178.612 355.398 Q178.612 352.273 176.69 350.49 Q174.792 348.708 171.436 348.708 M166.76 346.717 Q163.751 345.977 162.061 343.916 Q160.394 341.856 160.394 338.893 Q160.394 334.75 163.334 332.342 Q166.297 329.935 171.436 329.935 Q176.598 329.935 179.538 332.342 Q182.477 334.75 182.477 338.893 Q182.477 341.856 180.788 343.916 Q179.121 345.977 176.135 346.717 Q179.514 347.504 181.389 349.796 Q183.288 352.088 183.288 355.398 Q183.288 360.421 180.209 363.106 Q177.153 365.791 171.436 365.791 Q165.718 365.791 162.64 363.106 Q159.584 360.421 159.584 355.398 Q159.584 352.088 161.482 349.796 Q163.38 347.504 166.76 346.717 M165.047 339.333 Q165.047 342.018 166.714 343.523 Q168.403 345.027 171.436 345.027 Q174.445 345.027 176.135 343.523 Q177.848 342.018 177.848 339.333 Q177.848 336.648 176.135 335.143 Q174.445 333.639 171.436 333.639 Q168.403 333.639 166.714 335.143 Q165.047 336.648 165.047 339.333 Z\" fill=\"#000000\" fill-rule=\"evenodd\" fill-opacity=\"1\" /><path clip-path=\"url(#clip430)\" d=\"M120.14 173.915 L136.459 173.915 L136.459 177.851 L114.515 177.851 L114.515 173.915 Q117.177 171.161 121.76 166.531 Q126.367 161.878 127.547 160.536 Q129.792 158.013 130.672 156.277 Q131.575 154.517 131.575 152.828 Q131.575 150.073 129.63 148.337 Q127.709 146.601 124.607 146.601 Q122.408 146.601 119.955 147.365 Q117.524 148.128 114.746 149.679 L114.746 144.957 Q117.57 143.823 120.024 143.244 Q122.478 142.666 124.515 142.666 Q129.885 142.666 133.08 145.351 Q136.274 148.036 136.274 152.527 Q136.274 154.656 135.464 156.577 Q134.677 158.476 132.57 161.068 Q131.992 161.739 128.89 164.957 Q125.788 168.152 120.14 173.915 Z\" fill=\"#000000\" fill-rule=\"evenodd\" fill-opacity=\"1\" /><path clip-path=\"url(#clip430)\" d=\"M146.274 171.971 L151.158 171.971 L151.158 177.851 L146.274 177.851 L146.274 171.971 Z\" fill=\"#000000\" fill-rule=\"evenodd\" fill-opacity=\"1\" /><path clip-path=\"url(#clip430)\" d=\"M171.343 146.369 Q167.732 146.369 165.903 149.934 Q164.098 153.476 164.098 160.605 Q164.098 167.712 165.903 171.276 Q167.732 174.818 171.343 174.818 Q174.977 174.818 176.783 171.276 Q178.612 167.712 178.612 160.605 Q178.612 153.476 176.783 149.934 Q174.977 146.369 171.343 146.369 M171.343 142.666 Q177.153 142.666 180.209 147.272 Q183.288 151.855 183.288 160.605 Q183.288 169.332 180.209 173.939 Q177.153 178.522 171.343 178.522 Q165.533 178.522 162.454 173.939 Q159.399 169.332 159.399 160.605 Q159.399 151.855 162.454 147.272 Q165.533 142.666 171.343 142.666 Z\" fill=\"#000000\" fill-rule=\"evenodd\" fill-opacity=\"1\" /><path clip-path=\"url(#clip430)\" d=\"M18.0438 734.703 L24.314 734.703 Q22.5634 738.363 21.704 741.61 Q20.8447 744.856 20.8447 747.88 Q20.8447 753.131 22.8817 755.996 Q24.9187 758.829 28.6745 758.829 Q31.8255 758.829 33.4488 756.951 Q35.0402 755.041 36.0269 749.758 L36.8226 745.875 Q38.1912 738.681 41.6605 735.276 Q45.098 731.838 50.8908 731.838 Q57.7976 731.838 61.3624 736.485 Q64.9272 741.1 64.9272 750.044 Q64.9272 753.418 64.1633 757.237 Q63.3994 761.025 61.9035 765.099 L55.2831 765.099 Q57.4793 761.184 58.5933 757.428 Q59.7073 753.673 59.7073 750.044 Q59.7073 744.538 57.543 741.546 Q55.3786 738.554 51.3682 738.554 Q47.8671 738.554 45.8937 740.718 Q43.9204 742.851 42.9337 747.752 L42.1698 751.667 Q40.7375 758.861 37.682 762.075 Q34.6264 765.29 29.1837 765.29 Q22.8817 765.29 19.2532 760.866 Q15.6248 756.41 15.6248 748.612 Q15.6248 745.27 16.2295 741.8 Q16.8343 738.331 18.0438 734.703 Z\" fill=\"#000000\" fill-rule=\"evenodd\" fill-opacity=\"1\" /><path clip-path=\"url(#clip430)\" d=\"M53.2143 705.134 L54.8057 705.134 L54.8057 722.099 Q58.1795 721.844 59.9619 719.807 Q61.7443 717.738 61.7443 714.078 Q61.7443 711.945 61.2669 709.94 Q60.8213 707.967 59.8983 705.993 L62.9856 705.993 Q63.7495 707.967 64.1315 710.067 Q64.5134 712.136 64.5134 714.301 Q64.5134 719.68 61.7443 722.799 Q58.9752 725.95 54.2328 725.95 Q49.3312 725.95 46.4348 722.958 Q43.5702 719.998 43.5702 714.937 Q43.5702 710.418 46.1484 707.776 Q48.7583 705.134 53.2143 705.134 M52.2276 708.826 Q49.554 708.858 47.9307 710.513 Q46.3393 712.168 46.3393 714.905 Q46.3393 717.993 47.8989 719.839 Q49.4267 721.685 52.2276 721.971 L52.2276 708.826 Z\" fill=\"#000000\" fill-rule=\"evenodd\" fill-opacity=\"1\" /><polyline clip-path=\"url(#clip432)\" style=\"stroke:#009af9; stroke-linecap:butt; stroke-linejoin:round; stroke-width:4; stroke-opacity:1; fill:none\" points=\"\n",
       "  279.669,1384.24 782.845,735.212 1286.02,220.871 1789.2,735.212 2292.37,1384.24 \n",
       "  \"/>\n",
       "<polyline clip-path=\"url(#clip432)\" style=\"stroke:#e26f46; stroke-linecap:butt; stroke-linejoin:round; stroke-width:4; stroke-opacity:1; fill:none\" points=\"\n",
       "  279.669,1384.24 782.845,735.212 1286.02,86.1857 1789.2,735.212 2292.37,1384.24 \n",
       "  \"/>\n",
       "<path clip-path=\"url(#clip430)\" d=\"\n",
       "M1931.21 248.629 L2281.64 248.629 L2281.64 93.1086 L1931.21 93.1086  Z\n",
       "  \" fill=\"#ffffff\" fill-rule=\"evenodd\" fill-opacity=\"1\"/>\n",
       "<polyline clip-path=\"url(#clip430)\" style=\"stroke:#000000; stroke-linecap:butt; stroke-linejoin:round; stroke-width:4; stroke-opacity:1; fill:none\" points=\"\n",
       "  1931.21,248.629 2281.64,248.629 2281.64,93.1086 1931.21,93.1086 1931.21,248.629 \n",
       "  \"/>\n",
       "<polyline clip-path=\"url(#clip430)\" style=\"stroke:#009af9; stroke-linecap:butt; stroke-linejoin:round; stroke-width:4; stroke-opacity:1; fill:none\" points=\"\n",
       "  1954.91,144.949 2097.15,144.949 \n",
       "  \"/>\n",
       "<path clip-path=\"url(#clip430)\" d=\"M2143.1 128.803 L2143.1 133.363 Q2140.43 132.09 2138.07 131.465 Q2135.71 130.84 2133.51 130.84 Q2129.69 130.84 2127.61 132.321 Q2125.55 133.803 2125.55 136.534 Q2125.55 138.826 2126.92 140.007 Q2128.3 141.164 2132.15 141.882 L2134.97 142.46 Q2140.2 143.456 2142.68 145.979 Q2145.18 148.479 2145.18 152.692 Q2145.18 157.715 2141.8 160.307 Q2138.44 162.9 2131.94 162.9 Q2129.49 162.9 2126.71 162.344 Q2123.95 161.789 2120.99 160.701 L2120.99 155.886 Q2123.84 157.483 2126.57 158.293 Q2129.3 159.104 2131.94 159.104 Q2135.94 159.104 2138.12 157.53 Q2140.3 155.956 2140.3 153.039 Q2140.3 150.493 2138.72 149.057 Q2137.17 147.622 2133.61 146.905 L2130.76 146.349 Q2125.53 145.307 2123.19 143.085 Q2120.85 140.863 2120.85 136.905 Q2120.85 132.321 2124.07 129.682 Q2127.31 127.044 2132.98 127.044 Q2135.41 127.044 2137.93 127.483 Q2140.46 127.923 2143.1 128.803 Z\" fill=\"#000000\" fill-rule=\"evenodd\" fill-opacity=\"1\" /><path clip-path=\"url(#clip430)\" d=\"M2164.6 154.381 L2164.6 155.539 L2152.26 155.539 Q2152.45 157.993 2153.93 159.289 Q2155.43 160.585 2158.1 160.585 Q2159.65 160.585 2161.11 160.238 Q2162.54 159.914 2163.98 159.243 L2163.98 161.488 Q2162.54 162.043 2161.01 162.321 Q2159.51 162.599 2157.93 162.599 Q2154.02 162.599 2151.75 160.585 Q2149.46 158.571 2149.46 155.122 Q2149.46 151.557 2151.64 149.451 Q2153.79 147.368 2157.47 147.368 Q2160.76 147.368 2162.68 149.243 Q2164.6 151.141 2164.6 154.381 M2161.92 153.664 Q2161.89 151.719 2160.69 150.539 Q2159.48 149.381 2157.49 149.381 Q2155.25 149.381 2153.91 150.516 Q2152.56 151.627 2152.36 153.664 L2161.92 153.664 Z\" fill=\"#000000\" fill-rule=\"evenodd\" fill-opacity=\"1\" /><polyline clip-path=\"url(#clip430)\" style=\"stroke:#e26f46; stroke-linecap:butt; stroke-linejoin:round; stroke-width:4; stroke-opacity:1; fill:none\" points=\"\n",
       "  1954.91,196.789 2097.15,196.789 \n",
       "  \"/>\n",
       "<path clip-path=\"url(#clip430)\" d=\"M2143.1 180.643 L2143.1 185.203 Q2140.43 183.93 2138.07 183.305 Q2135.71 182.68 2133.51 182.68 Q2129.69 182.68 2127.61 184.161 Q2125.55 185.643 2125.55 188.374 Q2125.55 190.666 2126.92 191.847 Q2128.3 193.004 2132.15 193.722 L2134.97 194.3 Q2140.2 195.296 2142.68 197.819 Q2145.18 200.319 2145.18 204.532 Q2145.18 209.555 2141.8 212.147 Q2138.44 214.74 2131.94 214.74 Q2129.49 214.74 2126.71 214.184 Q2123.95 213.629 2120.99 212.541 L2120.99 207.726 Q2123.84 209.323 2126.57 210.133 Q2129.3 210.944 2131.94 210.944 Q2135.94 210.944 2138.12 209.37 Q2140.3 207.796 2140.3 204.879 Q2140.3 202.333 2138.72 200.897 Q2137.17 199.462 2133.61 198.745 L2130.76 198.189 Q2125.53 197.147 2123.19 194.925 Q2120.85 192.703 2120.85 188.745 Q2120.85 184.161 2124.07 181.522 Q2127.31 178.884 2132.98 178.884 Q2135.41 178.884 2137.93 179.323 Q2140.46 179.763 2143.1 180.643 Z\" fill=\"#000000\" fill-rule=\"evenodd\" fill-opacity=\"1\" /><path clip-path=\"url(#clip430)\" d=\"M2164.6 206.221 L2164.6 207.379 L2152.26 207.379 Q2152.45 209.833 2153.93 211.129 Q2155.43 212.425 2158.1 212.425 Q2159.65 212.425 2161.11 212.078 Q2162.54 211.754 2163.98 211.083 L2163.98 213.328 Q2162.54 213.883 2161.01 214.161 Q2159.51 214.439 2157.93 214.439 Q2154.02 214.439 2151.75 212.425 Q2149.46 210.411 2149.46 206.962 Q2149.46 203.397 2151.64 201.291 Q2153.79 199.208 2157.47 199.208 Q2160.76 199.208 2162.68 201.083 Q2164.6 202.981 2164.6 206.221 M2161.92 205.504 Q2161.89 203.559 2160.69 202.379 Q2159.48 201.221 2157.49 201.221 Q2155.25 201.221 2153.91 202.356 Q2152.56 203.467 2152.36 205.504 L2161.92 205.504 Z\" fill=\"#000000\" fill-rule=\"evenodd\" fill-opacity=\"1\" /><path clip-path=\"url(#clip430)\" d=\"M2183.56 190.411 L2183.56 198.606 L2180.87 198.606 L2180.87 189.925 Q2180.87 187.819 2180.04 186.823 Q2179.21 185.805 2177.47 185.805 Q2175.41 185.805 2174.21 187.055 Q2173 188.282 2173 190.411 L2173 198.606 L2170.3 198.606 L2170.3 184.092 L2173 184.092 L2173 186.337 Q2173.91 185.018 2175.18 184.393 Q2176.48 183.745 2178.26 183.745 Q2180.02 183.745 2181.27 184.555 Q2182.52 185.342 2183.12 186.87 Q2184.11 185.272 2185.5 184.509 Q2186.92 183.745 2188.81 183.745 Q2191.38 183.745 2192.75 185.342 Q2194.14 186.916 2194.14 189.833 L2194.14 198.606 L2191.45 198.606 L2191.45 189.925 Q2191.45 187.842 2190.62 186.823 Q2189.79 185.805 2188.07 185.805 Q2185.99 185.805 2184.76 187.055 Q2183.56 188.282 2183.56 190.411 Z\" fill=\"#000000\" fill-rule=\"evenodd\" fill-opacity=\"1\" /><path clip-path=\"url(#clip430)\" d=\"M2207.36 191.314 Q2204.11 191.314 2202.86 191.962 Q2201.59 192.634 2201.59 194.231 Q2201.59 195.504 2202.54 196.245 Q2203.49 196.985 2205.11 196.985 Q2207.33 196.985 2208.67 195.573 Q2210.04 194.161 2210.04 191.847 L2210.04 191.314 L2207.36 191.314 M2212.7 190.319 L2212.7 198.606 L2210.04 198.606 L2210.04 196.407 Q2209.11 197.726 2207.75 198.351 Q2206.36 198.976 2204.39 198.976 Q2201.87 198.976 2200.39 197.726 Q2198.91 196.476 2198.91 194.37 Q2198.91 191.939 2200.76 190.689 Q2202.61 189.439 2206.27 189.439 L2210.04 189.439 L2210.04 189.208 Q2210.04 187.564 2208.81 186.661 Q2207.59 185.759 2205.39 185.759 Q2204 185.759 2202.66 186.06 Q2201.34 186.36 2200.11 186.962 L2200.11 184.74 Q2201.59 184.254 2202.98 183.999 Q2204.35 183.745 2205.67 183.745 Q2209.21 183.745 2210.97 185.365 Q2212.7 187.009 2212.7 190.319 Z\" fill=\"#000000\" fill-rule=\"evenodd\" fill-opacity=\"1\" /><path clip-path=\"url(#clip430)\" d=\"M2233.93 184.092 L2228.03 191.152 L2234.23 198.606 L2231.06 198.606 L2226.31 192.911 L2221.57 198.606 L2218.4 198.606 L2224.74 191.013 L2218.93 184.092 L2222.1 184.092 L2226.43 189.254 L2230.76 184.092 L2233.93 184.092 Z\" fill=\"#000000\" fill-rule=\"evenodd\" fill-opacity=\"1\" /></svg>\n"
      ]
     },
     "execution_count": 370,
     "metadata": {},
     "output_type": "execute_result"
    }
   ],
   "source": [
    "Sₑs_N6 = zeros(N6-1)\n",
    "\n",
    "for M_A in 1:(N6-1)\n",
    "    M_B = N6 - M_A\n",
    "    # calculate C\n",
    "    C = ψ2C(ψ_N6_g, M_A, M_B)\n",
    "    Sₑs_N6[M_A] = Sₑ(C * C')\n",
    "    println(\"$M_A,$M_B: \", Sₑs_N6[M_A])\n",
    "end\n",
    "\n",
    "#Sₑs_N6\n",
    "\n",
    "plot(Sₑs_N6, label=\"Sₑ\")\n",
    "plot!(1:(N6-1), Sₑmax.(1:(N6-1), N6 .- collect(1:(N6-1))), label=\"Sₑᵐᵃˣ\")\n",
    "xlabel!(\"M_A\")\n",
    "ylabel!(\"Sₑ\")\n",
    "xticks!(1:N6-1)"
   ]
  },
  {
   "cell_type": "markdown",
   "id": "d99aec2e",
   "metadata": {},
   "source": [
    "$\\checkmark$\n",
    "\n",
    "### Now find $-1 \\leq J_i < 0$ s.t. $S_e >1.5$"
   ]
  },
  {
   "cell_type": "code",
   "execution_count": 373,
   "id": "10206916",
   "metadata": {},
   "outputs": [
    {
     "data": {
      "text/plain": [
       "16807"
      ]
     },
     "execution_count": 373,
     "metadata": {},
     "output_type": "execute_result"
    }
   ],
   "source": [
    "Jis = collect(Iterators.product([[-1, -.25, -.001:.00025:0...] for i in 1:5]...));\n",
    "length(Jis)"
   ]
  },
  {
   "cell_type": "code",
   "execution_count": 372,
   "id": "537c4e61",
   "metadata": {
    "scrolled": false
   },
   "outputs": [
    {
     "name": "stderr",
     "output_type": "stream",
     "text": [
      "\u001b[32mProgress:   2%|▉                                        |  ETA: 0:01:53\u001b[39m"
     ]
    },
    {
     "ename": "LoadError",
     "evalue": "InterruptException:",
     "output_type": "error",
     "traceback": [
      "InterruptException:",
      "",
      "Stacktrace:",
      "  [1] Array",
      "    @ ./boot.jl:448 [inlined]",
      "  [2] similar",
      "    @ ./array.jl:357 [inlined]",
      "  [3] getindex",
      "    @ ./array.jl:813 [inlined]",
      "  [4] syevr!(jobz::Char, range::Char, uplo::Char, A::Matrix{Float64}, vl::Float64, vu::Float64, il::Int64, iu::Int64, abstol::Float64)",
      "    @ LinearAlgebra.LAPACK /Users/julia/buildbot/worker/package_macos64/build/usr/share/julia/stdlib/v1.6/LinearAlgebra/src/lapack.jl:5128",
      "  [5] #eigen!#99",
      "    @ /Users/julia/buildbot/worker/package_macos64/build/usr/share/julia/stdlib/v1.6/LinearAlgebra/src/symmetric.jl:675 [inlined]",
      "  [6] eigen!(A::Matrix{Float64}; permute::Bool, scale::Bool, sortby::typeof(LinearAlgebra.eigsortby))",
      "    @ LinearAlgebra /Users/julia/buildbot/worker/package_macos64/build/usr/share/julia/stdlib/v1.6/LinearAlgebra/src/eigen.jl:151",
      "  [7] eigen(A::Matrix{Rational{Int64}}; permute::Bool, scale::Bool, sortby::typeof(LinearAlgebra.eigsortby))",
      "    @ LinearAlgebra /Users/julia/buildbot/worker/package_macos64/build/usr/share/julia/stdlib/v1.6/LinearAlgebra/src/eigen.jl:237",
      "  [8] eigen",
      "    @ /Users/julia/buildbot/worker/package_macos64/build/usr/share/julia/stdlib/v1.6/LinearAlgebra/src/eigen.jl:235 [inlined]",
      "  [9] #eigvecs#74",
      "    @ /Users/julia/buildbot/worker/package_macos64/build/usr/share/julia/stdlib/v1.6/LinearAlgebra/src/eigen.jl:257 [inlined]",
      " [10] eigvecs(A::Matrix{Rational{Int64}})",
      "    @ LinearAlgebra /Users/julia/buildbot/worker/package_macos64/build/usr/share/julia/stdlib/v1.6/LinearAlgebra/src/eigen.jl:257",
      " [11] macro expansion",
      "    @ ./In[372]:26 [inlined]",
      " [12] macro expansion",
      "    @ ~/.julia/packages/ProgressMeter/sN2xr/src/ProgressMeter.jl:938 [inlined]",
      " [13] macro expansion",
      "    @ ./In[372]:12 [inlined]",
      " [14] macro expansion",
      "    @ ./task.jl:387 [inlined]",
      " [15] top-level scope",
      "    @ ./timing.jl:210 [inlined]",
      " [16] top-level scope",
      "    @ ./In[372]:0",
      " [17] eval",
      "    @ ./boot.jl:360 [inlined]",
      " [18] include_string(mapexpr::typeof(REPL.softscope), mod::Module, code::String, filename::String)",
      "    @ Base ./loading.jl:1116"
     ]
    }
   ],
   "source": [
    "N6 = 6\n",
    "N=N6\n",
    "\n",
    "\n",
    "#Ji = -1 * ones(N6-1)\n",
    "#Ji = [0, -.1, -1, -0.1, 0, 0]\n",
    "matches = SharedArray{Bool}(length(Jis))\n",
    "Smax = 0\n",
    "jmax = 0\n",
    "@showprogress for j in 1:length(Jis)\n",
    "    Ji = Jis[j]\n",
    "\n",
    "    Js_N6 = reset_Js(N6)\n",
    "\n",
    "    # couplings between (i,i+1) for α=x (1)\n",
    "    for i in 1:(N6-1)\n",
    "        Js_N6[1][i,i+1] = Ji[i]\n",
    "    end\n",
    "\n",
    "    Js_N6[2] = Js_N6[1]\n",
    "    Js_N6[3] = Js_N6[1]\n",
    "\n",
    "    H_N6 = calculate_hamilton_matrix(Js_N6, N6)\n",
    "    ψ_N6_g = eigvecs(rationalize.(Matrix(H_N6)))[:,1]\n",
    "\n",
    "    C_N6 = ψ2C(ψ_N6_g, 3,3)\n",
    "\n",
    "    S = Sₑ(C_N6 * C_N6')\n",
    "    #if S > 1.5\n",
    "        #println(\"$j: \", S)\n",
    "    #    matches[j] = true\n",
    "    #end\n",
    "    if S > Smax\n",
    "        Smax = S\n",
    "        jmax = j\n",
    "    end\n",
    "end\n",
    "println(\"Maximum Sₑ: $Smax @ j=$jmax: $(Jis[jmax])\")\n",
    "end\n",
    "#println(\"done. \", matches)\n",
    "#println(\"done. \", matches, \"\\n\")\n",
    "#println(sum(matches), \" matches\")"
   ]
  },
  {
   "cell_type": "code",
   "execution_count": null,
   "id": "a5fab263",
   "metadata": {},
   "outputs": [],
   "source": [
    ">>> 1.93555523821687 @ j=12361: (-0.00025, -0.25, -1.0, -0.25, -0.00025)\n",
    ">>> 1.9354169612807288 @ j=2009: (-0.0005, -0.25, -1.0, -0.25, -0.0005)\n",
    ">>> 1.9348463393576105 @ j=5411: (-0.001, -0.25, -1.0, -0.25, -0.001)\n",
    ">>> 1.9305052659023012 @ j=2009: (-0.0025, -0.25, -1.0, -0.25, -0.0025)\n",
    ">>> 1.9126668417110253 @ j=15113: (-0.005, -0.25, -1.0, -0.25, -0.005)\n",
    ">>> 1.757527490534869 @ j=15113: (-0.0125, -0.25, -1.0, -0.25, -0.0125)\n",
    "\n",
    "1.3853014261118082 @ j=16163: (0.0, -0.025, -1.0, -0.025, 0.0)\n",
    "1.3585450545598614 @ j=776: (-0.025, -0.125, -1.0, -1.0, -0.025)\n",
    "1.3558329737897314 @ j=2895: (0.0, -0.125, -1.0, -0.125, 0.0)\n",
    "1.3558329737897314 @ j=908: (0.0, -0.125, -1.0, -0.125, 0.0)"
   ]
  },
  {
   "cell_type": "code",
   "execution_count": 305,
   "id": "ed3d4ab8",
   "metadata": {},
   "outputs": [
    {
     "data": {
      "text/plain": [
       "5-element Vector{Float64}:\n",
       " -1.0\n",
       " -0.25\n",
       " -0.01\n",
       " -0.005\n",
       "  0.0"
      ]
     },
     "execution_count": 305,
     "metadata": {},
     "output_type": "execute_result"
    }
   ],
   "source": [
    "[-1, -.25, -.01:.005:0...]"
   ]
  },
  {
   "cell_type": "code",
   "execution_count": null,
   "id": "01f202e9",
   "metadata": {},
   "outputs": [],
   "source": []
  },
  {
   "cell_type": "code",
   "execution_count": null,
   "id": "601152a8",
   "metadata": {},
   "outputs": [],
   "source": []
  },
  {
   "cell_type": "code",
   "execution_count": null,
   "id": "eeaa80fa",
   "metadata": {},
   "outputs": [],
   "source": []
  },
  {
   "cell_type": "code",
   "execution_count": null,
   "id": "1c2d71a3",
   "metadata": {},
   "outputs": [],
   "source": []
  },
  {
   "cell_type": "code",
   "execution_count": null,
   "id": "f5fd18e1",
   "metadata": {},
   "outputs": [],
   "source": []
  },
  {
   "cell_type": "code",
   "execution_count": null,
   "id": "624b7d8e",
   "metadata": {},
   "outputs": [],
   "source": []
  },
  {
   "cell_type": "code",
   "execution_count": null,
   "id": "60a50b87",
   "metadata": {},
   "outputs": [],
   "source": []
  },
  {
   "cell_type": "code",
   "execution_count": null,
   "id": "74ed84b6",
   "metadata": {},
   "outputs": [],
   "source": []
  }
 ],
 "metadata": {
  "kernelspec": {
   "display_name": "Julia 1.6.6",
   "language": "julia",
   "name": "julia-1.6"
  },
  "language_info": {
   "file_extension": ".jl",
   "mimetype": "application/julia",
   "name": "julia",
   "version": "1.6.6"
  }
 },
 "nbformat": 4,
 "nbformat_minor": 5
}
