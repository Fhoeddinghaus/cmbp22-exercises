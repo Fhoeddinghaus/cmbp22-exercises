{
 "cells": [
  {
   "cell_type": "markdown",
   "id": "bc986bb4",
   "metadata": {},
   "source": [
    "# 2) Entanglement entropy for the one-dimensional Heisenberg model\n",
    "\n",
    "\n",
    "Consider the one-dimensional Heisenberg model with open boundary conditions:\n",
    "\\begin{equation}\n",
    "    H = -\\sum\\limits_{i=1}^{N-1}J_i \\vec S_i \\cdot \\vec S_{i+1}.\n",
    "\\end{equation}\n",
    "For an even number of sites $N$ and $J_i<0$ (anti-ferromagnetic case), the ground state is non-degenerate.\n",
    "\n",
    "Now divide the system in two parts $A$ and $B$ with sites $1,\\dots, M_A$ and $M_A+1,\\dots,N$.\n",
    "\n",
    "\n",
    "**Entanglement entropy**\n",
    "\n",
    "For a state\n",
    "\\begin{equation}\n",
    "    |\\psi\\rangle = \\sum\\limits_{i=1}^{\\dim_A} \\sum\\limits_{j=1}^{\\dim_B} c_{ij} |{i}\\rangle_A |{j}\\rangle_B\n",
    "\\end{equation}\n",
    "\n",
    "the reduced density operator is (with density operator $\\hat\\rho = |{\\psi}\\rangle\\langle{\\psi}|$)\n",
    "\\begin{align}\n",
    "    \\hat\\rho_A \n",
    "        &= \\operatorname{Tr}_B(\\underbrace{|{\\psi}\\rangle\\langle{\\psi}|}_{=\\hat\\rho})\n",
    "        \\\\\n",
    "        &= \\sum\\limits_l \\sum\\limits_{i,i'} c_{i'l}c_{il}^* |{i'}\\rangle_{AA}\\langle{i}| \n",
    "        \\\\\n",
    "        \\leadsto \\rho_A &= C C^\\dagger\n",
    "\\end{align}\n",
    "where $C$ is the matrix $(c_{ij})_{i=1,\\dots,\\dim_A; j=1,\\dots,\\dim_B}$, because $(\\rho_A)_{nm} = \\sum\\limits_l \\underbrace{(C)_{nl}}_{=c_{nl}} \\underbrace{(C^\\dagger)_{lm}}_{=c_{ml}^*}$.\n",
    "\n",
    "Then the entanglement entropy is\n",
    "\\begin{align}\n",
    "    S_e \n",
    "        &= - \\operatorname{Tr}_A [\\hat\\rho_A \\cdot \\ln\\hat\\rho_A] \\\\\n",
    "        &= - \\sum\\limits_\\alpha w_\\alpha \\cdot \\ln w_\\alpha\n",
    "\\end{align}\n",
    "with eigenvalues $w_\\alpha$ of $\\rho_A$."
   ]
  },
  {
   "cell_type": "markdown",
   "id": "d9d6a8f0",
   "metadata": {},
   "source": [
    "<blockquote>\n",
    "Analogous for $\\rho_B$ it is:\n",
    "\\begin{align}\n",
    "    \\hat\\rho_B \n",
    "        &= \\operatorname{Tr}_A(\\underbrace{|{\\psi}\\rangle\\langle{\\psi}|}_{=\\hat\\rho})\n",
    "        \\\\\n",
    "        &= \\sum\\limits_l \\sum\\limits_{j,j'} c_{lj'}c_{lj}^* |{j'}\\rangle_{BB}\\langle{j}| \n",
    "        \\\\\n",
    "        (\\rho_A)_{nm} &= \\sum\\limits_l \\underbrace{(C)_{ln}}_{=c_{ln}} \\underbrace{(C^\\dagger)_{ml}}_{=c_{lm}^*}\n",
    "        \\\\\n",
    "        &= \\sum\\limits_l (C^\\dagger)_{ml}(C)_{ln}\n",
    "        \\\\\n",
    "        \\leadsto \\rho_A &= C^\\dagger C\n",
    "\\end{align}\n",
    "</blockquote>"
   ]
  },
  {
   "cell_type": "markdown",
   "id": "26732060",
   "metadata": {},
   "source": [
    "To numerically figure out $\\rho_A$ to calculate $S_e$, we need to find $C$ from a given $|\\psi\\rangle$.\n",
    "\n",
    "<blockquote>\n",
    "The direct method over the definition: Calculate the partial trace of $|\\psi\\rangle\\langle\\psi|$ to get $\\rho_A$ and then proceed (complicated and includes all steps of the better option below).\n",
    "</blockquote>\n",
    "\n",
    "**Calculate $C$ directly from $|\\psi\\rangle$:** <br/>\n",
    "Consider $|\\psi\\rangle$ is given in the computational basis of the joint system as a vector of coefficients $\\psi:=\\vec\\psi$ with\n",
    "\\begin{align}\n",
    "    |\\psi\\rangle \n",
    "        = \\sum\\limits_{i=0}^{2^N-1} \\psi_i |i\\rangle_N\n",
    "        = \\sum\\limits_{i=0}^{2^N-1} \\psi_i |i_1,i_2,\\dots,i_N\\rangle\n",
    "\\end{align}\n",
    "\n",
    "If we now divide the system of $N$ sites in $M_A$ and $M_B = N-M_A$ sites, this can be seen as writing $|i_1,i_2,\\dots,i_N\\rangle$ as a product state $|i_1,i_2,\\dots,i_{M_A}\\rangle\\otimes |i_{M_A+1},\\dots,i_N\\rangle$\n",
    "\n",
    "\\begin{align}\n",
    "    |\\psi\\rangle \n",
    "        &= \\sum\\limits_{i=0}^{2^N-1} \\psi_i \\underbrace{|i_1,\\dots,i_{M_A}\\rangle}_{=:|j\\rangle} \\otimes \\underbrace{|i_{M_A+1},\\dots,i_N\\rangle}_{=:|l\\rangle}\n",
    "        \\\\\n",
    "        &= \\sum\\limits_{j=0}^{2^{M_A}-1}\\sum\\limits_{l=0}^{2^{M_B}-1} (C)_{jl} |j\\rangle \\otimes |l\\rangle\n",
    "\\end{align}\n",
    "with now constructed $C$:\n",
    "\\begin{equation}\n",
    "    (C)_{jl} = \\psi_{dec([j\\otimes l]_2)} = \\psi_{dec([j_1,\\dots,j_{M_A},l_1,\\dots,l_{M_B}]_2)} = \\psi_{i(j,l)},\n",
    "\\end{equation}\n",
    "where $dec(x)$ is the decimal representation of binary $x$.\n"
   ]
  },
  {
   "cell_type": "code",
   "execution_count": 340,
   "id": "6e2667d6",
   "metadata": {},
   "outputs": [],
   "source": [
    "using ProgressMeter\n",
    "using Plots"
   ]
  },
  {
   "cell_type": "code",
   "execution_count": 343,
   "id": "0ff7e695",
   "metadata": {},
   "outputs": [],
   "source": [
    "using LinearAlgebra"
   ]
  },
  {
   "cell_type": "code",
   "execution_count": 388,
   "id": "04f35d0a",
   "metadata": {},
   "outputs": [
    {
     "data": {
      "text/plain": [
       "bin2dec (generic function with 1 method)"
      ]
     },
     "execution_count": 388,
     "metadata": {},
     "output_type": "execute_result"
    }
   ],
   "source": [
    "# some helper functions\n",
    "#n_dual(n, pad=0) = digits(n, base=2, pad=pad)\n",
    "dec2bin(x, pad=0) = join(digits(x, base=2, pad=pad))\n",
    "bin2dec(x) = parse(Int, join(reverse(string.(x))), base=2)"
   ]
  },
  {
   "cell_type": "code",
   "execution_count": 208,
   "id": "e3981240",
   "metadata": {},
   "outputs": [
    {
     "data": {
      "text/plain": [
       "1×8 Matrix{Int64}:\n",
       " 1  0  1  0  0  0  0  0"
      ]
     },
     "execution_count": 208,
     "metadata": {},
     "output_type": "execute_result"
    }
   ],
   "source": [
    "# Test N=3\n",
    "ψ = [1 0 1 0 0 0 0 0] # =̂ |000⟩ + |010⟩ = |0⟩⊗(|00⟩ + |10⟩)"
   ]
  },
  {
   "cell_type": "code",
   "execution_count": 350,
   "id": "c3cf55c3",
   "metadata": {},
   "outputs": [
    {
     "data": {
      "text/plain": [
       "ψ2C (generic function with 1 method)"
      ]
     },
     "execution_count": 350,
     "metadata": {},
     "output_type": "execute_result"
    }
   ],
   "source": [
    "# Test\n",
    "M_A = 1 # dim_A = 2^M_A\n",
    "M_B = 2 # dim_B = 2^M_B\n",
    "\n",
    "# convert ψ to C:\n",
    "function ψ2C(ψ, M_A, M_B)\n",
    "    C = zeros(2^M_A,2^M_B)\n",
    "    for j in 0:(2^M_A-1)\n",
    "        for l in 0:(2^M_B-1)\n",
    "            C[j+1,l+1] = ψ[bin2dec(dec2bin(j, M_A) * dec2bin(l, M_B)) + 1]\n",
    "            #println(\"$j, $l: \", dec2bin(j,M_A),\",\", dec2bin(l, M_B), \" → \", C[j+1,l+1])\n",
    "        end\n",
    "    end\n",
    "    return C\n",
    "end"
   ]
  },
  {
   "cell_type": "code",
   "execution_count": 351,
   "id": "4fecb1e9",
   "metadata": {},
   "outputs": [
    {
     "data": {
      "text/plain": [
       "2×4 Matrix{Float64}:\n",
       " 1.0  1.0  0.0  0.0\n",
       " 0.0  0.0  0.0  0.0"
      ]
     },
     "execution_count": 351,
     "metadata": {},
     "output_type": "execute_result"
    }
   ],
   "source": [
    "# Test\n",
    "C = ψ2C(ψ, M_A, M_B)"
   ]
  },
  {
   "cell_type": "code",
   "execution_count": 352,
   "id": "1bbf181c",
   "metadata": {},
   "outputs": [
    {
     "data": {
      "text/plain": [
       "wₐlnwₐ (generic function with 1 method)"
      ]
     },
     "execution_count": 352,
     "metadata": {},
     "output_type": "execute_result"
    }
   ],
   "source": [
    "function wₐlnwₐ(wₐ)\n",
    "    if wₐ <= eps() \n",
    "        return 0.0 # lim(x→0) x ln(x) = 0\n",
    "    end\n",
    "    return wₐ * log(wₐ)\n",
    "end"
   ]
  },
  {
   "cell_type": "code",
   "execution_count": 353,
   "id": "fa18f936",
   "metadata": {},
   "outputs": [
    {
     "data": {
      "text/plain": [
       "Sₑ (generic function with 1 method)"
      ]
     },
     "execution_count": 353,
     "metadata": {},
     "output_type": "execute_result"
    }
   ],
   "source": [
    "function Sₑ(ρ)\n",
    "    return -sum(wₐlnwₐ.(eigvals(ρ)))\n",
    "end"
   ]
  },
  {
   "cell_type": "code",
   "execution_count": 354,
   "id": "48215a43",
   "metadata": {},
   "outputs": [
    {
     "data": {
      "text/plain": [
       "2×2 Matrix{Float64}:\n",
       " 1.0  0.0\n",
       " 0.0  0.0"
      ]
     },
     "execution_count": 354,
     "metadata": {},
     "output_type": "execute_result"
    }
   ],
   "source": [
    "# Test\n",
    "ρ = 1/2 * C * C' # normalization here for precision"
   ]
  },
  {
   "cell_type": "code",
   "execution_count": 355,
   "id": "f70b41bf",
   "metadata": {},
   "outputs": [
    {
     "name": "stdout",
     "output_type": "stream",
     "text": [
      "[0.0, 1.0]\n",
      "-0.0\n"
     ]
    }
   ],
   "source": [
    "# Test\n",
    "println(eigvals(ρ))\n",
    "println(Sₑ(ρ))"
   ]
  },
  {
   "cell_type": "markdown",
   "id": "3fdf638e",
   "metadata": {},
   "source": [
    "## a) 1d-Heisenberg model for $N=10$ and $J=-1$"
   ]
  },
  {
   "cell_type": "code",
   "execution_count": 357,
   "id": "6fac3f42",
   "metadata": {},
   "outputs": [],
   "source": [
    "include(\"hamilton_spins.jl\");"
   ]
  },
  {
   "cell_type": "markdown",
   "id": "6bf078d3",
   "metadata": {},
   "source": [
    "Calculate the ground state of the 1d-Heisenberg model:"
   ]
  },
  {
   "cell_type": "code",
   "execution_count": 393,
   "id": "be7edd02",
   "metadata": {},
   "outputs": [],
   "source": [
    "J = -1\n",
    "N = 10\n",
    "\n",
    "Js = reset_Js(N)\n",
    "\n",
    "# couplings between (i,i+1) for α=x (1)\n",
    "for i in 1:(N-1)\n",
    "    Js[1][i,i+1] = J\n",
    "end\n",
    "\n",
    "Js[2] = Js[1]\n",
    "Js[3] = Js[1]\n",
    "\n",
    "H = calculate_hamilton_matrix(Js, N)\n",
    "ψ_g = eigvecs(rationalize.(Matrix(H)))[:,1];"
   ]
  },
  {
   "cell_type": "code",
   "execution_count": 394,
   "id": "17389fc1",
   "metadata": {},
   "outputs": [
    {
     "data": {
      "text/plain": [
       "-4.258035207282881"
      ]
     },
     "execution_count": 394,
     "metadata": {},
     "output_type": "execute_result"
    }
   ],
   "source": [
    "E_g = eigvals(rationalize.(Matrix(H)))[1]"
   ]
  },
  {
   "cell_type": "code",
   "execution_count": 494,
   "id": "b3477f7c",
   "metadata": {},
   "outputs": [
    {
     "data": {
      "text/plain": [
       "Sₑ_M_A (generic function with 2 methods)"
      ]
     },
     "execution_count": 494,
     "metadata": {},
     "output_type": "execute_result"
    }
   ],
   "source": [
    "# calculate the entanglement entropy as a function of M_A\n",
    "function Sₑ_M_A(ψ_g, M_A, N)\n",
    "    M_B = N-M_A\n",
    "    # calculate C\n",
    "    C = ψ2C(ψ_g, M_A, M_B)\n",
    "    return Sₑ(C * C')\n",
    "end"
   ]
  },
  {
   "cell_type": "code",
   "execution_count": 495,
   "id": "29d94c46",
   "metadata": {},
   "outputs": [
    {
     "name": "stdout",
     "output_type": "stream",
     "text": [
      "1: 1.2829258684147938e-6\n",
      "2: 1.3012051694275398e-6\n",
      "3: 1.2665538439828308e-6\n",
      "4: 1.2537501854286675e-6\n",
      "5: 1.2527919973660063e-6\n"
     ]
    },
    {
     "data": {
      "text/plain": [
       "5-element Vector{Float64}:\n",
       " 1.2829258684147938e-6\n",
       " 1.3012051694275398e-6\n",
       " 1.2665538439828308e-6\n",
       " 1.2537501854286675e-6\n",
       " 1.2527919973660063e-6"
      ]
     },
     "execution_count": 495,
     "metadata": {},
     "output_type": "execute_result"
    }
   ],
   "source": [
    "Sₑs = zeros(N-1)\n",
    "\n",
    "for M_A in 1:(N-1)\n",
    "    #M_B = N-M_A\n",
    "    # calculate C\n",
    "    #C = ψ2C(ψ_g, M_A, M_B)\n",
    "    #Sₑs[M_A] = Sₑ(C * C')\n",
    "    Sₑs[M_A] = Sₑ_M_A(ψ_g, M_A, N)\n",
    "    println(\"$M_A: \", Sₑs[M_A])\n",
    "end\n",
    "\n",
    "Sₑs"
   ]
  },
  {
   "cell_type": "code",
   "execution_count": null,
   "id": "cfcd6db3",
   "metadata": {},
   "outputs": [],
   "source": []
  },
  {
   "cell_type": "markdown",
   "id": "9f729ea9",
   "metadata": {},
   "source": [
    "## b)"
   ]
  },
  {
   "cell_type": "code",
   "execution_count": 397,
   "id": "aa29a3c3",
   "metadata": {},
   "outputs": [
    {
     "data": {
      "text/plain": [
       "Sₑmax (generic function with 1 method)"
      ]
     },
     "execution_count": 397,
     "metadata": {},
     "output_type": "execute_result"
    }
   ],
   "source": [
    "function Sₑmax(M_A, M_B)\n",
    "    return log(minimum([2^M_A, 2^M_B]))\n",
    "end"
   ]
  },
  {
   "cell_type": "code",
   "execution_count": 399,
   "id": "f164f6c0",
   "metadata": {},
   "outputs": [
    {
     "data": {
      "image/svg+xml": [
       "<?xml version=\"1.0\" encoding=\"utf-8\"?>\n",
       "<svg xmlns=\"http://www.w3.org/2000/svg\" xmlns:xlink=\"http://www.w3.org/1999/xlink\" width=\"600\" height=\"400\" viewBox=\"0 0 2400 1600\">\n",
       "<defs>\n",
       "  <clipPath id=\"clip510\">\n",
       "    <rect x=\"0\" y=\"0\" width=\"2400\" height=\"1600\"/>\n",
       "  </clipPath>\n",
       "</defs>\n",
       "<path clip-path=\"url(#clip510)\" d=\"\n",
       "M0 1600 L2400 1600 L2400 0 L0 0  Z\n",
       "  \" fill=\"#ffffff\" fill-rule=\"evenodd\" fill-opacity=\"1\"/>\n",
       "<defs>\n",
       "  <clipPath id=\"clip511\">\n",
       "    <rect x=\"480\" y=\"0\" width=\"1681\" height=\"1600\"/>\n",
       "  </clipPath>\n",
       "</defs>\n",
       "<path clip-path=\"url(#clip510)\" d=\"\n",
       "M219.033 1423.18 L2352.76 1423.18 L2352.76 47.2441 L219.033 47.2441  Z\n",
       "  \" fill=\"#ffffff\" fill-rule=\"evenodd\" fill-opacity=\"1\"/>\n",
       "<defs>\n",
       "  <clipPath id=\"clip512\">\n",
       "    <rect x=\"219\" y=\"47\" width=\"2135\" height=\"1377\"/>\n",
       "  </clipPath>\n",
       "</defs>\n",
       "<polyline clip-path=\"url(#clip512)\" style=\"stroke:#000000; stroke-linecap:butt; stroke-linejoin:round; stroke-width:2; stroke-opacity:0.1; fill:none\" points=\"\n",
       "  279.421,1423.18 279.421,47.2441 \n",
       "  \"/>\n",
       "<polyline clip-path=\"url(#clip512)\" style=\"stroke:#000000; stroke-linecap:butt; stroke-linejoin:round; stroke-width:2; stroke-opacity:0.1; fill:none\" points=\"\n",
       "  531.04,1423.18 531.04,47.2441 \n",
       "  \"/>\n",
       "<polyline clip-path=\"url(#clip512)\" style=\"stroke:#000000; stroke-linecap:butt; stroke-linejoin:round; stroke-width:2; stroke-opacity:0.1; fill:none\" points=\"\n",
       "  782.658,1423.18 782.658,47.2441 \n",
       "  \"/>\n",
       "<polyline clip-path=\"url(#clip512)\" style=\"stroke:#000000; stroke-linecap:butt; stroke-linejoin:round; stroke-width:2; stroke-opacity:0.1; fill:none\" points=\"\n",
       "  1034.28,1423.18 1034.28,47.2441 \n",
       "  \"/>\n",
       "<polyline clip-path=\"url(#clip512)\" style=\"stroke:#000000; stroke-linecap:butt; stroke-linejoin:round; stroke-width:2; stroke-opacity:0.1; fill:none\" points=\"\n",
       "  1285.89,1423.18 1285.89,47.2441 \n",
       "  \"/>\n",
       "<polyline clip-path=\"url(#clip512)\" style=\"stroke:#000000; stroke-linecap:butt; stroke-linejoin:round; stroke-width:2; stroke-opacity:0.1; fill:none\" points=\"\n",
       "  1537.51,1423.18 1537.51,47.2441 \n",
       "  \"/>\n",
       "<polyline clip-path=\"url(#clip512)\" style=\"stroke:#000000; stroke-linecap:butt; stroke-linejoin:round; stroke-width:2; stroke-opacity:0.1; fill:none\" points=\"\n",
       "  1789.13,1423.18 1789.13,47.2441 \n",
       "  \"/>\n",
       "<polyline clip-path=\"url(#clip512)\" style=\"stroke:#000000; stroke-linecap:butt; stroke-linejoin:round; stroke-width:2; stroke-opacity:0.1; fill:none\" points=\"\n",
       "  2040.75,1423.18 2040.75,47.2441 \n",
       "  \"/>\n",
       "<polyline clip-path=\"url(#clip512)\" style=\"stroke:#000000; stroke-linecap:butt; stroke-linejoin:round; stroke-width:2; stroke-opacity:0.1; fill:none\" points=\"\n",
       "  2292.37,1423.18 2292.37,47.2441 \n",
       "  \"/>\n",
       "<polyline clip-path=\"url(#clip510)\" style=\"stroke:#000000; stroke-linecap:butt; stroke-linejoin:round; stroke-width:4; stroke-opacity:1; fill:none\" points=\"\n",
       "  219.033,1423.18 2352.76,1423.18 \n",
       "  \"/>\n",
       "<polyline clip-path=\"url(#clip510)\" style=\"stroke:#000000; stroke-linecap:butt; stroke-linejoin:round; stroke-width:4; stroke-opacity:1; fill:none\" points=\"\n",
       "  279.421,1423.18 279.421,1404.28 \n",
       "  \"/>\n",
       "<polyline clip-path=\"url(#clip510)\" style=\"stroke:#000000; stroke-linecap:butt; stroke-linejoin:round; stroke-width:4; stroke-opacity:1; fill:none\" points=\"\n",
       "  531.04,1423.18 531.04,1404.28 \n",
       "  \"/>\n",
       "<polyline clip-path=\"url(#clip510)\" style=\"stroke:#000000; stroke-linecap:butt; stroke-linejoin:round; stroke-width:4; stroke-opacity:1; fill:none\" points=\"\n",
       "  782.658,1423.18 782.658,1404.28 \n",
       "  \"/>\n",
       "<polyline clip-path=\"url(#clip510)\" style=\"stroke:#000000; stroke-linecap:butt; stroke-linejoin:round; stroke-width:4; stroke-opacity:1; fill:none\" points=\"\n",
       "  1034.28,1423.18 1034.28,1404.28 \n",
       "  \"/>\n",
       "<polyline clip-path=\"url(#clip510)\" style=\"stroke:#000000; stroke-linecap:butt; stroke-linejoin:round; stroke-width:4; stroke-opacity:1; fill:none\" points=\"\n",
       "  1285.89,1423.18 1285.89,1404.28 \n",
       "  \"/>\n",
       "<polyline clip-path=\"url(#clip510)\" style=\"stroke:#000000; stroke-linecap:butt; stroke-linejoin:round; stroke-width:4; stroke-opacity:1; fill:none\" points=\"\n",
       "  1537.51,1423.18 1537.51,1404.28 \n",
       "  \"/>\n",
       "<polyline clip-path=\"url(#clip510)\" style=\"stroke:#000000; stroke-linecap:butt; stroke-linejoin:round; stroke-width:4; stroke-opacity:1; fill:none\" points=\"\n",
       "  1789.13,1423.18 1789.13,1404.28 \n",
       "  \"/>\n",
       "<polyline clip-path=\"url(#clip510)\" style=\"stroke:#000000; stroke-linecap:butt; stroke-linejoin:round; stroke-width:4; stroke-opacity:1; fill:none\" points=\"\n",
       "  2040.75,1423.18 2040.75,1404.28 \n",
       "  \"/>\n",
       "<polyline clip-path=\"url(#clip510)\" style=\"stroke:#000000; stroke-linecap:butt; stroke-linejoin:round; stroke-width:4; stroke-opacity:1; fill:none\" points=\"\n",
       "  2292.37,1423.18 2292.37,1404.28 \n",
       "  \"/>\n",
       "<path clip-path=\"url(#clip510)\" d=\"M269.803 1481.64 L277.442 1481.64 L277.442 1455.28 L269.132 1456.95 L269.132 1452.69 L277.396 1451.02 L282.072 1451.02 L282.072 1481.64 L289.711 1481.64 L289.711 1485.58 L269.803 1485.58 L269.803 1481.64 Z\" fill=\"#000000\" fill-rule=\"evenodd\" fill-opacity=\"1\" /><path clip-path=\"url(#clip510)\" d=\"M525.692 1481.64 L542.012 1481.64 L542.012 1485.58 L520.067 1485.58 L520.067 1481.64 Q522.729 1478.89 527.313 1474.26 Q531.919 1469.61 533.1 1468.27 Q535.345 1465.74 536.225 1464.01 Q537.128 1462.25 537.128 1460.56 Q537.128 1457.8 535.183 1456.07 Q533.262 1454.33 530.16 1454.33 Q527.961 1454.33 525.507 1455.09 Q523.077 1455.86 520.299 1457.41 L520.299 1452.69 Q523.123 1451.55 525.577 1450.97 Q528.03 1450.39 530.067 1450.39 Q535.438 1450.39 538.632 1453.08 Q541.827 1455.77 541.827 1460.26 Q541.827 1462.39 541.016 1464.31 Q540.229 1466.2 538.123 1468.8 Q537.544 1469.47 534.442 1472.69 Q531.341 1475.88 525.692 1481.64 Z\" fill=\"#000000\" fill-rule=\"evenodd\" fill-opacity=\"1\" /><path clip-path=\"url(#clip510)\" d=\"M786.906 1466.95 Q790.262 1467.66 792.137 1469.93 Q794.035 1472.2 794.035 1475.53 Q794.035 1480.65 790.517 1483.45 Q786.998 1486.25 780.517 1486.25 Q778.341 1486.25 776.026 1485.81 Q773.734 1485.39 771.281 1484.54 L771.281 1480.02 Q773.225 1481.16 775.54 1481.74 Q777.855 1482.32 780.378 1482.32 Q784.776 1482.32 787.068 1480.58 Q789.382 1478.84 789.382 1475.53 Q789.382 1472.48 787.23 1470.77 Q785.1 1469.03 781.281 1469.03 L777.253 1469.03 L777.253 1465.19 L781.466 1465.19 Q784.915 1465.19 786.743 1463.82 Q788.572 1462.43 788.572 1459.84 Q788.572 1457.18 786.674 1455.77 Q784.799 1454.33 781.281 1454.33 Q779.359 1454.33 777.16 1454.75 Q774.961 1455.16 772.322 1456.04 L772.322 1451.88 Q774.984 1451.14 777.299 1450.77 Q779.637 1450.39 781.697 1450.39 Q787.021 1450.39 790.123 1452.83 Q793.225 1455.23 793.225 1459.35 Q793.225 1462.22 791.581 1464.21 Q789.938 1466.18 786.906 1466.95 Z\" fill=\"#000000\" fill-rule=\"evenodd\" fill-opacity=\"1\" /><path clip-path=\"url(#clip510)\" d=\"M1037.29 1455.09 L1025.48 1473.54 L1037.29 1473.54 L1037.29 1455.09 M1036.06 1451.02 L1041.94 1451.02 L1041.94 1473.54 L1046.87 1473.54 L1046.87 1477.43 L1041.94 1477.43 L1041.94 1485.58 L1037.29 1485.58 L1037.29 1477.43 L1021.68 1477.43 L1021.68 1472.92 L1036.06 1451.02 Z\" fill=\"#000000\" fill-rule=\"evenodd\" fill-opacity=\"1\" /><path clip-path=\"url(#clip510)\" d=\"M1276.17 1451.02 L1294.53 1451.02 L1294.53 1454.96 L1280.45 1454.96 L1280.45 1463.43 Q1281.47 1463.08 1282.49 1462.92 Q1283.51 1462.73 1284.53 1462.73 Q1290.32 1462.73 1293.7 1465.9 Q1297.07 1469.08 1297.07 1474.49 Q1297.07 1480.07 1293.6 1483.17 Q1290.13 1486.25 1283.81 1486.25 Q1281.64 1486.25 1279.37 1485.88 Q1277.12 1485.51 1274.71 1484.77 L1274.71 1480.07 Q1276.8 1481.2 1279.02 1481.76 Q1281.24 1482.32 1283.72 1482.32 Q1287.72 1482.32 1290.06 1480.21 Q1292.4 1478.1 1292.4 1474.49 Q1292.4 1470.88 1290.06 1468.77 Q1287.72 1466.67 1283.72 1466.67 Q1281.84 1466.67 1279.97 1467.08 Q1278.12 1467.5 1276.17 1468.38 L1276.17 1451.02 Z\" fill=\"#000000\" fill-rule=\"evenodd\" fill-opacity=\"1\" /><path clip-path=\"url(#clip510)\" d=\"M1537.92 1466.44 Q1534.77 1466.44 1532.92 1468.59 Q1531.09 1470.74 1531.09 1474.49 Q1531.09 1478.22 1532.92 1480.39 Q1534.77 1482.55 1537.92 1482.55 Q1541.07 1482.55 1542.89 1480.39 Q1544.75 1478.22 1544.75 1474.49 Q1544.75 1470.74 1542.89 1468.59 Q1541.07 1466.44 1537.92 1466.44 M1547.2 1451.78 L1547.2 1456.04 Q1545.44 1455.21 1543.64 1454.77 Q1541.85 1454.33 1540.09 1454.33 Q1535.46 1454.33 1533.01 1457.45 Q1530.58 1460.58 1530.23 1466.9 Q1531.6 1464.89 1533.66 1463.82 Q1535.72 1462.73 1538.2 1462.73 Q1543.4 1462.73 1546.41 1465.9 Q1549.45 1469.05 1549.45 1474.49 Q1549.45 1479.82 1546.3 1483.03 Q1543.15 1486.25 1537.92 1486.25 Q1531.92 1486.25 1528.75 1481.67 Q1525.58 1477.06 1525.58 1468.33 Q1525.58 1460.14 1529.47 1455.28 Q1533.36 1450.39 1539.91 1450.39 Q1541.67 1450.39 1543.45 1450.74 Q1545.26 1451.09 1547.2 1451.78 Z\" fill=\"#000000\" fill-rule=\"evenodd\" fill-opacity=\"1\" /><path clip-path=\"url(#clip510)\" d=\"M1778.02 1451.02 L1800.24 1451.02 L1800.24 1453.01 L1787.7 1485.58 L1782.81 1485.58 L1794.62 1454.96 L1778.02 1454.96 L1778.02 1451.02 Z\" fill=\"#000000\" fill-rule=\"evenodd\" fill-opacity=\"1\" /><path clip-path=\"url(#clip510)\" d=\"M2040.75 1469.17 Q2037.42 1469.17 2035.49 1470.95 Q2033.6 1472.73 2033.6 1475.86 Q2033.6 1478.98 2035.49 1480.77 Q2037.42 1482.55 2040.75 1482.55 Q2044.08 1482.55 2046 1480.77 Q2047.93 1478.96 2047.93 1475.86 Q2047.93 1472.73 2046 1470.95 Q2044.11 1469.17 2040.75 1469.17 M2036.07 1467.18 Q2033.06 1466.44 2031.37 1464.38 Q2029.71 1462.32 2029.71 1459.35 Q2029.71 1455.21 2032.65 1452.8 Q2035.61 1450.39 2040.75 1450.39 Q2045.91 1450.39 2048.85 1452.8 Q2051.79 1455.21 2051.79 1459.35 Q2051.79 1462.32 2050.1 1464.38 Q2048.43 1466.44 2045.45 1467.18 Q2048.83 1467.96 2050.7 1470.26 Q2052.6 1472.55 2052.6 1475.86 Q2052.6 1480.88 2049.52 1483.57 Q2046.47 1486.25 2040.75 1486.25 Q2035.03 1486.25 2031.95 1483.57 Q2028.9 1480.88 2028.9 1475.86 Q2028.9 1472.55 2030.8 1470.26 Q2032.69 1467.96 2036.07 1467.18 M2034.36 1459.79 Q2034.36 1462.48 2036.03 1463.98 Q2037.72 1465.49 2040.75 1465.49 Q2043.76 1465.49 2045.45 1463.98 Q2047.16 1462.48 2047.16 1459.79 Q2047.16 1457.11 2045.45 1455.6 Q2043.76 1454.1 2040.75 1454.1 Q2037.72 1454.1 2036.03 1455.6 Q2034.36 1457.11 2034.36 1459.79 Z\" fill=\"#000000\" fill-rule=\"evenodd\" fill-opacity=\"1\" /><path clip-path=\"url(#clip510)\" d=\"M2282.67 1484.86 L2282.67 1480.6 Q2284.43 1481.44 2286.23 1481.88 Q2288.04 1482.32 2289.77 1482.32 Q2294.4 1482.32 2296.84 1479.21 Q2299.29 1476.09 2299.64 1469.75 Q2298.29 1471.74 2296.23 1472.8 Q2294.17 1473.87 2291.67 1473.87 Q2286.49 1473.87 2283.46 1470.74 Q2280.45 1467.59 2280.45 1462.15 Q2280.45 1456.83 2283.59 1453.61 Q2286.74 1450.39 2291.97 1450.39 Q2297.97 1450.39 2301.12 1455 Q2304.29 1459.58 2304.29 1468.33 Q2304.29 1476.51 2300.4 1481.39 Q2296.53 1486.25 2289.98 1486.25 Q2288.22 1486.25 2286.42 1485.9 Q2284.61 1485.56 2282.67 1484.86 M2291.97 1470.21 Q2295.12 1470.21 2296.95 1468.06 Q2298.8 1465.9 2298.8 1462.15 Q2298.8 1458.43 2296.95 1456.27 Q2295.12 1454.1 2291.97 1454.1 Q2288.83 1454.1 2286.97 1456.27 Q2285.15 1458.43 2285.15 1462.15 Q2285.15 1465.9 2286.97 1468.06 Q2288.83 1470.21 2291.97 1470.21 Z\" fill=\"#000000\" fill-rule=\"evenodd\" fill-opacity=\"1\" /><path clip-path=\"url(#clip510)\" d=\"M1222.65 1520.52 L1232.23 1520.52 L1244.36 1552.86 L1256.55 1520.52 L1266.13 1520.52 L1266.13 1568.04 L1259.86 1568.04 L1259.86 1526.32 L1247.6 1558.91 L1241.14 1558.91 L1228.89 1526.32 L1228.89 1568.04 L1222.65 1568.04 L1222.65 1520.52 Z\" fill=\"#000000\" fill-rule=\"evenodd\" fill-opacity=\"1\" /><path clip-path=\"url(#clip510)\" d=\"M1305.72 1578.87 L1305.72 1583.42 L1271.86 1583.42 L1271.86 1578.87 L1305.72 1578.87 Z\" fill=\"#000000\" fill-rule=\"evenodd\" fill-opacity=\"1\" /><path clip-path=\"url(#clip510)\" d=\"M1327.37 1526.86 L1318.65 1550.51 L1336.12 1550.51 L1327.37 1526.86 M1323.74 1520.52 L1331.03 1520.52 L1349.14 1568.04 L1342.45 1568.04 L1338.13 1555.85 L1316.7 1555.85 L1312.38 1568.04 L1305.6 1568.04 L1323.74 1520.52 Z\" fill=\"#000000\" fill-rule=\"evenodd\" fill-opacity=\"1\" /><polyline clip-path=\"url(#clip512)\" style=\"stroke:#000000; stroke-linecap:butt; stroke-linejoin:round; stroke-width:2; stroke-opacity:0.1; fill:none\" points=\"\n",
       "  219.033,1345.14 2352.76,1345.14 \n",
       "  \"/>\n",
       "<polyline clip-path=\"url(#clip512)\" style=\"stroke:#000000; stroke-linecap:butt; stroke-linejoin:round; stroke-width:2; stroke-opacity:0.1; fill:none\" points=\"\n",
       "  219.033,1132.89 2352.76,1132.89 \n",
       "  \"/>\n",
       "<polyline clip-path=\"url(#clip512)\" style=\"stroke:#000000; stroke-linecap:butt; stroke-linejoin:round; stroke-width:2; stroke-opacity:0.1; fill:none\" points=\"\n",
       "  219.033,920.639 2352.76,920.639 \n",
       "  \"/>\n",
       "<polyline clip-path=\"url(#clip512)\" style=\"stroke:#000000; stroke-linecap:butt; stroke-linejoin:round; stroke-width:2; stroke-opacity:0.1; fill:none\" points=\"\n",
       "  219.033,708.39 2352.76,708.39 \n",
       "  \"/>\n",
       "<polyline clip-path=\"url(#clip512)\" style=\"stroke:#000000; stroke-linecap:butt; stroke-linejoin:round; stroke-width:2; stroke-opacity:0.1; fill:none\" points=\"\n",
       "  219.033,496.14 2352.76,496.14 \n",
       "  \"/>\n",
       "<polyline clip-path=\"url(#clip512)\" style=\"stroke:#000000; stroke-linecap:butt; stroke-linejoin:round; stroke-width:2; stroke-opacity:0.1; fill:none\" points=\"\n",
       "  219.033,283.89 2352.76,283.89 \n",
       "  \"/>\n",
       "<polyline clip-path=\"url(#clip512)\" style=\"stroke:#000000; stroke-linecap:butt; stroke-linejoin:round; stroke-width:2; stroke-opacity:0.1; fill:none\" points=\"\n",
       "  219.033,71.6406 2352.76,71.6406 \n",
       "  \"/>\n",
       "<polyline clip-path=\"url(#clip510)\" style=\"stroke:#000000; stroke-linecap:butt; stroke-linejoin:round; stroke-width:4; stroke-opacity:1; fill:none\" points=\"\n",
       "  219.033,1423.18 219.033,47.2441 \n",
       "  \"/>\n",
       "<polyline clip-path=\"url(#clip510)\" style=\"stroke:#000000; stroke-linecap:butt; stroke-linejoin:round; stroke-width:4; stroke-opacity:1; fill:none\" points=\"\n",
       "  219.033,1345.14 237.931,1345.14 \n",
       "  \"/>\n",
       "<polyline clip-path=\"url(#clip510)\" style=\"stroke:#000000; stroke-linecap:butt; stroke-linejoin:round; stroke-width:4; stroke-opacity:1; fill:none\" points=\"\n",
       "  219.033,1132.89 237.931,1132.89 \n",
       "  \"/>\n",
       "<polyline clip-path=\"url(#clip510)\" style=\"stroke:#000000; stroke-linecap:butt; stroke-linejoin:round; stroke-width:4; stroke-opacity:1; fill:none\" points=\"\n",
       "  219.033,920.639 237.931,920.639 \n",
       "  \"/>\n",
       "<polyline clip-path=\"url(#clip510)\" style=\"stroke:#000000; stroke-linecap:butt; stroke-linejoin:round; stroke-width:4; stroke-opacity:1; fill:none\" points=\"\n",
       "  219.033,708.39 237.931,708.39 \n",
       "  \"/>\n",
       "<polyline clip-path=\"url(#clip510)\" style=\"stroke:#000000; stroke-linecap:butt; stroke-linejoin:round; stroke-width:4; stroke-opacity:1; fill:none\" points=\"\n",
       "  219.033,496.14 237.931,496.14 \n",
       "  \"/>\n",
       "<polyline clip-path=\"url(#clip510)\" style=\"stroke:#000000; stroke-linecap:butt; stroke-linejoin:round; stroke-width:4; stroke-opacity:1; fill:none\" points=\"\n",
       "  219.033,283.89 237.931,283.89 \n",
       "  \"/>\n",
       "<polyline clip-path=\"url(#clip510)\" style=\"stroke:#000000; stroke-linecap:butt; stroke-linejoin:round; stroke-width:4; stroke-opacity:1; fill:none\" points=\"\n",
       "  219.033,71.6406 237.931,71.6406 \n",
       "  \"/>\n",
       "<path clip-path=\"url(#clip510)\" d=\"M126.853 1330.94 Q123.242 1330.94 121.413 1334.5 Q119.607 1338.04 119.607 1345.17 Q119.607 1352.28 121.413 1355.84 Q123.242 1359.39 126.853 1359.39 Q130.487 1359.39 132.292 1355.84 Q134.121 1352.28 134.121 1345.17 Q134.121 1338.04 132.292 1334.5 Q130.487 1330.94 126.853 1330.94 M126.853 1327.23 Q132.663 1327.23 135.718 1331.84 Q138.797 1336.42 138.797 1345.17 Q138.797 1353.9 135.718 1358.51 Q132.663 1363.09 126.853 1363.09 Q121.043 1363.09 117.964 1358.51 Q114.908 1353.9 114.908 1345.17 Q114.908 1336.42 117.964 1331.84 Q121.043 1327.23 126.853 1327.23 Z\" fill=\"#000000\" fill-rule=\"evenodd\" fill-opacity=\"1\" /><path clip-path=\"url(#clip510)\" d=\"M147.015 1356.54 L151.899 1356.54 L151.899 1362.42 L147.015 1362.42 L147.015 1356.54 Z\" fill=\"#000000\" fill-rule=\"evenodd\" fill-opacity=\"1\" /><path clip-path=\"url(#clip510)\" d=\"M162.13 1327.86 L180.487 1327.86 L180.487 1331.79 L166.413 1331.79 L166.413 1340.27 Q167.431 1339.92 168.45 1339.76 Q169.468 1339.57 170.487 1339.57 Q176.274 1339.57 179.653 1342.74 Q183.033 1345.91 183.033 1351.33 Q183.033 1356.91 179.561 1360.01 Q176.089 1363.09 169.769 1363.09 Q167.593 1363.09 165.325 1362.72 Q163.079 1362.35 160.672 1361.61 L160.672 1356.91 Q162.755 1358.04 164.977 1358.6 Q167.2 1359.15 169.677 1359.15 Q173.681 1359.15 176.019 1357.05 Q178.357 1354.94 178.357 1351.33 Q178.357 1347.72 176.019 1345.61 Q173.681 1343.51 169.677 1343.51 Q167.802 1343.51 165.927 1343.92 Q164.075 1344.34 162.13 1345.22 L162.13 1327.86 Z\" fill=\"#000000\" fill-rule=\"evenodd\" fill-opacity=\"1\" /><path clip-path=\"url(#clip510)\" d=\"M116.668 1146.23 L124.306 1146.23 L124.306 1119.87 L115.996 1121.54 L115.996 1117.28 L124.26 1115.61 L128.936 1115.61 L128.936 1146.23 L136.575 1146.23 L136.575 1150.17 L116.668 1150.17 L116.668 1146.23 Z\" fill=\"#000000\" fill-rule=\"evenodd\" fill-opacity=\"1\" /><path clip-path=\"url(#clip510)\" d=\"M146.019 1144.29 L150.903 1144.29 L150.903 1150.17 L146.019 1150.17 L146.019 1144.29 Z\" fill=\"#000000\" fill-rule=\"evenodd\" fill-opacity=\"1\" /><path clip-path=\"url(#clip510)\" d=\"M171.089 1118.69 Q167.477 1118.69 165.649 1122.25 Q163.843 1125.79 163.843 1132.92 Q163.843 1140.03 165.649 1143.6 Q167.477 1147.14 171.089 1147.14 Q174.723 1147.14 176.528 1143.6 Q178.357 1140.03 178.357 1132.92 Q178.357 1125.79 176.528 1122.25 Q174.723 1118.69 171.089 1118.69 M171.089 1114.98 Q176.899 1114.98 179.954 1119.59 Q183.033 1124.17 183.033 1132.92 Q183.033 1141.65 179.954 1146.26 Q176.899 1150.84 171.089 1150.84 Q165.278 1150.84 162.2 1146.26 Q159.144 1141.65 159.144 1132.92 Q159.144 1124.17 162.2 1119.59 Q165.278 1114.98 171.089 1114.98 Z\" fill=\"#000000\" fill-rule=\"evenodd\" fill-opacity=\"1\" /><path clip-path=\"url(#clip510)\" d=\"M117.663 933.984 L125.302 933.984 L125.302 907.619 L116.992 909.285 L116.992 905.026 L125.255 903.359 L129.931 903.359 L129.931 933.984 L137.57 933.984 L137.57 937.919 L117.663 937.919 L117.663 933.984 Z\" fill=\"#000000\" fill-rule=\"evenodd\" fill-opacity=\"1\" /><path clip-path=\"url(#clip510)\" d=\"M147.015 932.04 L151.899 932.04 L151.899 937.919 L147.015 937.919 L147.015 932.04 Z\" fill=\"#000000\" fill-rule=\"evenodd\" fill-opacity=\"1\" /><path clip-path=\"url(#clip510)\" d=\"M162.13 903.359 L180.487 903.359 L180.487 907.295 L166.413 907.295 L166.413 915.767 Q167.431 915.42 168.45 915.258 Q169.468 915.072 170.487 915.072 Q176.274 915.072 179.653 918.244 Q183.033 921.415 183.033 926.832 Q183.033 932.41 179.561 935.512 Q176.089 938.591 169.769 938.591 Q167.593 938.591 165.325 938.22 Q163.079 937.85 160.672 937.109 L160.672 932.41 Q162.755 933.544 164.977 934.1 Q167.2 934.656 169.677 934.656 Q173.681 934.656 176.019 932.549 Q178.357 930.443 178.357 926.832 Q178.357 923.22 176.019 921.114 Q173.681 919.008 169.677 919.008 Q167.802 919.008 165.927 919.424 Q164.075 919.841 162.13 920.72 L162.13 903.359 Z\" fill=\"#000000\" fill-rule=\"evenodd\" fill-opacity=\"1\" /><path clip-path=\"url(#clip510)\" d=\"M119.885 721.735 L136.204 721.735 L136.204 725.67 L114.26 725.67 L114.26 721.735 Q116.922 718.98 121.505 714.35 Q126.112 709.698 127.292 708.355 Q129.538 705.832 130.417 704.096 Q131.32 702.337 131.32 700.647 Q131.32 697.892 129.376 696.156 Q127.455 694.42 124.353 694.42 Q122.154 694.42 119.7 695.184 Q117.269 695.948 114.492 697.499 L114.492 692.776 Q117.316 691.642 119.769 691.063 Q122.223 690.485 124.26 690.485 Q129.63 690.485 132.825 693.17 Q136.019 695.855 136.019 700.346 Q136.019 702.475 135.209 704.397 Q134.422 706.295 132.316 708.887 Q131.737 709.559 128.635 712.776 Q125.533 715.971 119.885 721.735 Z\" fill=\"#000000\" fill-rule=\"evenodd\" fill-opacity=\"1\" /><path clip-path=\"url(#clip510)\" d=\"M146.019 719.79 L150.903 719.79 L150.903 725.67 L146.019 725.67 L146.019 719.79 Z\" fill=\"#000000\" fill-rule=\"evenodd\" fill-opacity=\"1\" /><path clip-path=\"url(#clip510)\" d=\"M171.089 694.188 Q167.477 694.188 165.649 697.753 Q163.843 701.295 163.843 708.424 Q163.843 715.531 165.649 719.096 Q167.477 722.637 171.089 722.637 Q174.723 722.637 176.528 719.096 Q178.357 715.531 178.357 708.424 Q178.357 701.295 176.528 697.753 Q174.723 694.188 171.089 694.188 M171.089 690.485 Q176.899 690.485 179.954 695.091 Q183.033 699.674 183.033 708.424 Q183.033 717.151 179.954 721.758 Q176.899 726.341 171.089 726.341 Q165.278 726.341 162.2 721.758 Q159.144 717.151 159.144 708.424 Q159.144 699.674 162.2 695.091 Q165.278 690.485 171.089 690.485 Z\" fill=\"#000000\" fill-rule=\"evenodd\" fill-opacity=\"1\" /><path clip-path=\"url(#clip510)\" d=\"M120.88 509.485 L137.2 509.485 L137.2 513.42 L115.256 513.42 L115.256 509.485 Q117.918 506.73 122.501 502.101 Q127.107 497.448 128.288 496.105 Q130.533 493.582 131.413 491.846 Q132.316 490.087 132.316 488.397 Q132.316 485.642 130.371 483.906 Q128.45 482.17 125.348 482.17 Q123.149 482.17 120.695 482.934 Q118.265 483.698 115.487 485.249 L115.487 480.527 Q118.311 479.392 120.765 478.814 Q123.218 478.235 125.255 478.235 Q130.626 478.235 133.82 480.92 Q137.015 483.605 137.015 488.096 Q137.015 490.226 136.204 492.147 Q135.417 494.045 133.311 496.638 Q132.732 497.309 129.63 500.527 Q126.529 503.721 120.88 509.485 Z\" fill=\"#000000\" fill-rule=\"evenodd\" fill-opacity=\"1\" /><path clip-path=\"url(#clip510)\" d=\"M147.015 507.54 L151.899 507.54 L151.899 513.42 L147.015 513.42 L147.015 507.54 Z\" fill=\"#000000\" fill-rule=\"evenodd\" fill-opacity=\"1\" /><path clip-path=\"url(#clip510)\" d=\"M162.13 478.86 L180.487 478.86 L180.487 482.795 L166.413 482.795 L166.413 491.267 Q167.431 490.92 168.45 490.758 Q169.468 490.573 170.487 490.573 Q176.274 490.573 179.653 493.744 Q183.033 496.915 183.033 502.332 Q183.033 507.911 179.561 511.013 Q176.089 514.091 169.769 514.091 Q167.593 514.091 165.325 513.721 Q163.079 513.351 160.672 512.61 L160.672 507.911 Q162.755 509.045 164.977 509.601 Q167.2 510.156 169.677 510.156 Q173.681 510.156 176.019 508.05 Q178.357 505.943 178.357 502.332 Q178.357 498.721 176.019 496.615 Q173.681 494.508 169.677 494.508 Q167.802 494.508 165.927 494.925 Q164.075 495.341 162.13 496.221 L162.13 478.86 Z\" fill=\"#000000\" fill-rule=\"evenodd\" fill-opacity=\"1\" /><path clip-path=\"url(#clip510)\" d=\"M130.024 282.536 Q133.38 283.254 135.255 285.522 Q137.154 287.791 137.154 291.124 Q137.154 296.24 133.635 299.041 Q130.117 301.842 123.635 301.842 Q121.459 301.842 119.144 301.402 Q116.853 300.985 114.399 300.129 L114.399 295.615 Q116.343 296.749 118.658 297.328 Q120.973 297.906 123.496 297.906 Q127.894 297.906 130.186 296.17 Q132.501 294.434 132.501 291.124 Q132.501 288.069 130.348 286.356 Q128.218 284.619 124.399 284.619 L120.371 284.619 L120.371 280.777 L124.584 280.777 Q128.033 280.777 129.862 279.411 Q131.691 278.022 131.691 275.43 Q131.691 272.768 129.792 271.356 Q127.917 269.92 124.399 269.92 Q122.478 269.92 120.279 270.337 Q118.08 270.754 115.441 271.633 L115.441 267.467 Q118.103 266.726 120.418 266.356 Q122.755 265.985 124.816 265.985 Q130.14 265.985 133.242 268.416 Q136.343 270.823 136.343 274.944 Q136.343 277.814 134.7 279.805 Q133.056 281.772 130.024 282.536 Z\" fill=\"#000000\" fill-rule=\"evenodd\" fill-opacity=\"1\" /><path clip-path=\"url(#clip510)\" d=\"M146.019 295.291 L150.903 295.291 L150.903 301.17 L146.019 301.17 L146.019 295.291 Z\" fill=\"#000000\" fill-rule=\"evenodd\" fill-opacity=\"1\" /><path clip-path=\"url(#clip510)\" d=\"M171.089 269.689 Q167.477 269.689 165.649 273.254 Q163.843 276.795 163.843 283.925 Q163.843 291.031 165.649 294.596 Q167.477 298.138 171.089 298.138 Q174.723 298.138 176.528 294.596 Q178.357 291.031 178.357 283.925 Q178.357 276.795 176.528 273.254 Q174.723 269.689 171.089 269.689 M171.089 265.985 Q176.899 265.985 179.954 270.592 Q183.033 275.175 183.033 283.925 Q183.033 292.652 179.954 297.258 Q176.899 301.842 171.089 301.842 Q165.278 301.842 162.2 297.258 Q159.144 292.652 159.144 283.925 Q159.144 275.175 162.2 270.592 Q165.278 265.985 171.089 265.985 Z\" fill=\"#000000\" fill-rule=\"evenodd\" fill-opacity=\"1\" /><path clip-path=\"url(#clip510)\" d=\"M131.019 70.2864 Q134.376 71.004 136.251 73.2725 Q138.149 75.541 138.149 78.8743 Q138.149 83.9901 134.63 86.791 Q131.112 89.5919 124.63 89.5919 Q122.455 89.5919 120.14 89.1521 Q117.848 88.7354 115.394 87.8789 L115.394 83.3651 Q117.339 84.4993 119.654 85.078 Q121.968 85.6567 124.492 85.6567 Q128.89 85.6567 131.181 83.9206 Q133.496 82.1845 133.496 78.8743 Q133.496 75.8188 131.343 74.1058 Q129.214 72.3697 125.394 72.3697 L121.367 72.3697 L121.367 68.5272 L125.58 68.5272 Q129.029 68.5272 130.857 67.1614 Q132.686 65.7726 132.686 63.18 Q132.686 60.518 130.788 59.1059 Q128.913 57.6708 125.394 57.6708 Q123.473 57.6708 121.274 58.0874 Q119.075 58.5041 116.436 59.3837 L116.436 55.2171 Q119.098 54.4763 121.413 54.106 Q123.751 53.7356 125.811 53.7356 Q131.135 53.7356 134.237 56.1661 Q137.339 58.5735 137.339 62.6939 Q137.339 65.5642 135.695 67.555 Q134.052 69.5225 131.019 70.2864 Z\" fill=\"#000000\" fill-rule=\"evenodd\" fill-opacity=\"1\" /><path clip-path=\"url(#clip510)\" d=\"M147.015 83.041 L151.899 83.041 L151.899 88.9206 L147.015 88.9206 L147.015 83.041 Z\" fill=\"#000000\" fill-rule=\"evenodd\" fill-opacity=\"1\" /><path clip-path=\"url(#clip510)\" d=\"M162.13 54.3606 L180.487 54.3606 L180.487 58.2957 L166.413 58.2957 L166.413 66.7679 Q167.431 66.4207 168.45 66.2587 Q169.468 66.0735 170.487 66.0735 Q176.274 66.0735 179.653 69.2448 Q183.033 72.416 183.033 77.8327 Q183.033 83.4114 179.561 86.5132 Q176.089 89.5919 169.769 89.5919 Q167.593 89.5919 165.325 89.2215 Q163.079 88.8511 160.672 88.1104 L160.672 83.4114 Q162.755 84.5456 164.977 85.1012 Q167.2 85.6567 169.677 85.6567 Q173.681 85.6567 176.019 83.5502 Q178.357 81.4438 178.357 77.8327 Q178.357 74.2216 176.019 72.1151 Q173.681 70.0086 169.677 70.0086 Q167.802 70.0086 165.927 70.4253 Q164.075 70.842 162.13 71.7216 L162.13 54.3606 Z\" fill=\"#000000\" fill-rule=\"evenodd\" fill-opacity=\"1\" /><path clip-path=\"url(#clip510)\" d=\"M18.0438 734.703 L24.314 734.703 Q22.5634 738.363 21.704 741.61 Q20.8447 744.856 20.8447 747.88 Q20.8447 753.131 22.8817 755.996 Q24.9187 758.829 28.6745 758.829 Q31.8255 758.829 33.4488 756.951 Q35.0402 755.041 36.0269 749.758 L36.8226 745.875 Q38.1912 738.681 41.6605 735.276 Q45.098 731.838 50.8908 731.838 Q57.7976 731.838 61.3624 736.485 Q64.9272 741.1 64.9272 750.044 Q64.9272 753.418 64.1633 757.237 Q63.3994 761.025 61.9035 765.099 L55.2831 765.099 Q57.4793 761.184 58.5933 757.428 Q59.7073 753.673 59.7073 750.044 Q59.7073 744.538 57.543 741.546 Q55.3786 738.554 51.3682 738.554 Q47.8671 738.554 45.8937 740.718 Q43.9204 742.851 42.9337 747.752 L42.1698 751.667 Q40.7375 758.861 37.682 762.075 Q34.6264 765.29 29.1837 765.29 Q22.8817 765.29 19.2532 760.866 Q15.6248 756.41 15.6248 748.612 Q15.6248 745.27 16.2295 741.8 Q16.8343 738.331 18.0438 734.703 Z\" fill=\"#000000\" fill-rule=\"evenodd\" fill-opacity=\"1\" /><path clip-path=\"url(#clip510)\" d=\"M53.2143 705.134 L54.8057 705.134 L54.8057 722.099 Q58.1795 721.844 59.9619 719.807 Q61.7443 717.738 61.7443 714.078 Q61.7443 711.945 61.2669 709.94 Q60.8213 707.967 59.8983 705.993 L62.9856 705.993 Q63.7495 707.967 64.1315 710.067 Q64.5134 712.136 64.5134 714.301 Q64.5134 719.68 61.7443 722.799 Q58.9752 725.95 54.2328 725.95 Q49.3312 725.95 46.4348 722.958 Q43.5702 719.998 43.5702 714.937 Q43.5702 710.418 46.1484 707.776 Q48.7583 705.134 53.2143 705.134 M52.2276 708.826 Q49.554 708.858 47.9307 710.513 Q46.3393 712.168 46.3393 714.905 Q46.3393 717.993 47.8989 719.839 Q49.4267 721.685 52.2276 721.971 L52.2276 708.826 Z\" fill=\"#000000\" fill-rule=\"evenodd\" fill-opacity=\"1\" /><polyline clip-path=\"url(#clip512)\" style=\"stroke:#009af9; stroke-linecap:butt; stroke-linejoin:round; stroke-width:4; stroke-opacity:1; fill:none\" points=\"\n",
       "  279.421,1263.15 531.04,1384.24 782.658,1249.12 1034.28,1348.39 1285.89,1244.16 1537.51,1348.39 1789.13,1249.12 2040.75,1384.24 2292.37,1263.15 \n",
       "  \"/>\n",
       "<polyline clip-path=\"url(#clip512)\" style=\"stroke:#e26f46; stroke-linecap:butt; stroke-linejoin:round; stroke-width:4; stroke-opacity:1; fill:none\" points=\"\n",
       "  279.421,1263.15 531.04,968.907 782.658,674.667 1034.28,380.426 1285.89,86.1857 1537.51,380.426 1789.13,674.667 2040.75,968.907 2292.37,1263.15 \n",
       "  \"/>\n",
       "<path clip-path=\"url(#clip510)\" d=\"\n",
       "M1931.17 248.629 L2281.63 248.629 L2281.63 93.1086 L1931.17 93.1086  Z\n",
       "  \" fill=\"#ffffff\" fill-rule=\"evenodd\" fill-opacity=\"1\"/>\n",
       "<polyline clip-path=\"url(#clip510)\" style=\"stroke:#000000; stroke-linecap:butt; stroke-linejoin:round; stroke-width:4; stroke-opacity:1; fill:none\" points=\"\n",
       "  1931.17,248.629 2281.63,248.629 2281.63,93.1086 1931.17,93.1086 1931.17,248.629 \n",
       "  \"/>\n",
       "<polyline clip-path=\"url(#clip510)\" style=\"stroke:#009af9; stroke-linecap:butt; stroke-linejoin:round; stroke-width:4; stroke-opacity:1; fill:none\" points=\"\n",
       "  1954.88,144.949 2097.13,144.949 \n",
       "  \"/>\n",
       "<path clip-path=\"url(#clip510)\" d=\"M2143.08 128.803 L2143.08 133.363 Q2140.42 132.09 2138.06 131.465 Q2135.7 130.84 2133.5 130.84 Q2129.68 130.84 2127.6 132.321 Q2125.54 133.803 2125.54 136.534 Q2125.54 138.826 2126.9 140.007 Q2128.29 141.164 2132.13 141.882 L2134.96 142.46 Q2140.19 143.456 2142.67 145.979 Q2145.17 148.479 2145.17 152.692 Q2145.17 157.715 2141.79 160.307 Q2138.43 162.9 2131.92 162.9 Q2129.47 162.9 2126.69 162.344 Q2123.94 161.789 2120.98 160.701 L2120.98 155.886 Q2123.82 157.483 2126.55 158.293 Q2129.29 159.104 2131.92 159.104 Q2135.93 159.104 2138.11 157.53 Q2140.28 155.956 2140.28 153.039 Q2140.28 150.493 2138.71 149.057 Q2137.16 147.622 2133.59 146.905 L2130.74 146.349 Q2125.51 145.307 2123.17 143.085 Q2120.84 140.863 2120.84 136.905 Q2120.84 132.321 2124.05 129.682 Q2127.3 127.044 2132.97 127.044 Q2135.4 127.044 2137.92 127.483 Q2140.44 127.923 2143.08 128.803 Z\" fill=\"#000000\" fill-rule=\"evenodd\" fill-opacity=\"1\" /><path clip-path=\"url(#clip510)\" d=\"M2164.59 154.381 L2164.59 155.539 L2152.25 155.539 Q2152.43 157.993 2153.92 159.289 Q2155.42 160.585 2158.08 160.585 Q2159.63 160.585 2161.09 160.238 Q2162.53 159.914 2163.96 159.243 L2163.96 161.488 Q2162.53 162.043 2161 162.321 Q2159.49 162.599 2157.92 162.599 Q2154.01 162.599 2151.74 160.585 Q2149.45 158.571 2149.45 155.122 Q2149.45 151.557 2151.62 149.451 Q2153.78 147.368 2157.46 147.368 Q2160.74 147.368 2162.67 149.243 Q2164.59 151.141 2164.59 154.381 M2161.9 153.664 Q2161.88 151.719 2160.67 150.539 Q2159.47 149.381 2157.48 149.381 Q2155.23 149.381 2153.89 150.516 Q2152.55 151.627 2152.34 153.664 L2161.9 153.664 Z\" fill=\"#000000\" fill-rule=\"evenodd\" fill-opacity=\"1\" /><polyline clip-path=\"url(#clip510)\" style=\"stroke:#e26f46; stroke-linecap:butt; stroke-linejoin:round; stroke-width:4; stroke-opacity:1; fill:none\" points=\"\n",
       "  1954.88,196.789 2097.13,196.789 \n",
       "  \"/>\n",
       "<path clip-path=\"url(#clip510)\" d=\"M2143.08 180.643 L2143.08 185.203 Q2140.42 183.93 2138.06 183.305 Q2135.7 182.68 2133.5 182.68 Q2129.68 182.68 2127.6 184.161 Q2125.54 185.643 2125.54 188.374 Q2125.54 190.666 2126.9 191.847 Q2128.29 193.004 2132.13 193.722 L2134.96 194.3 Q2140.19 195.296 2142.67 197.819 Q2145.17 200.319 2145.17 204.532 Q2145.17 209.555 2141.79 212.147 Q2138.43 214.74 2131.92 214.74 Q2129.47 214.74 2126.69 214.184 Q2123.94 213.629 2120.98 212.541 L2120.98 207.726 Q2123.82 209.323 2126.55 210.133 Q2129.29 210.944 2131.92 210.944 Q2135.93 210.944 2138.11 209.37 Q2140.28 207.796 2140.28 204.879 Q2140.28 202.333 2138.71 200.897 Q2137.16 199.462 2133.59 198.745 L2130.74 198.189 Q2125.51 197.147 2123.17 194.925 Q2120.84 192.703 2120.84 188.745 Q2120.84 184.161 2124.05 181.522 Q2127.3 178.884 2132.97 178.884 Q2135.4 178.884 2137.92 179.323 Q2140.44 179.763 2143.08 180.643 Z\" fill=\"#000000\" fill-rule=\"evenodd\" fill-opacity=\"1\" /><path clip-path=\"url(#clip510)\" d=\"M2164.59 206.221 L2164.59 207.379 L2152.25 207.379 Q2152.43 209.833 2153.92 211.129 Q2155.42 212.425 2158.08 212.425 Q2159.63 212.425 2161.09 212.078 Q2162.53 211.754 2163.96 211.083 L2163.96 213.328 Q2162.53 213.883 2161 214.161 Q2159.49 214.439 2157.92 214.439 Q2154.01 214.439 2151.74 212.425 Q2149.45 210.411 2149.45 206.962 Q2149.45 203.397 2151.62 201.291 Q2153.78 199.208 2157.46 199.208 Q2160.74 199.208 2162.67 201.083 Q2164.59 202.981 2164.59 206.221 M2161.9 205.504 Q2161.88 203.559 2160.67 202.379 Q2159.47 201.221 2157.48 201.221 Q2155.23 201.221 2153.89 202.356 Q2152.55 203.467 2152.34 205.504 L2161.9 205.504 Z\" fill=\"#000000\" fill-rule=\"evenodd\" fill-opacity=\"1\" /><path clip-path=\"url(#clip510)\" d=\"M2183.54 190.411 L2183.54 198.606 L2180.86 198.606 L2180.86 189.925 Q2180.86 187.819 2180.03 186.823 Q2179.19 185.805 2177.46 185.805 Q2175.4 185.805 2174.19 187.055 Q2172.99 188.282 2172.99 190.411 L2172.99 198.606 L2170.28 198.606 L2170.28 184.092 L2172.99 184.092 L2172.99 186.337 Q2173.89 185.018 2175.17 184.393 Q2176.46 183.745 2178.24 183.745 Q2180 183.745 2181.25 184.555 Q2182.5 185.342 2183.1 186.87 Q2184.1 185.272 2185.49 184.509 Q2186.9 183.745 2188.8 183.745 Q2191.37 183.745 2192.73 185.342 Q2194.12 186.916 2194.12 189.833 L2194.12 198.606 L2191.44 198.606 L2191.44 189.925 Q2191.44 187.842 2190.6 186.823 Q2189.77 185.805 2188.06 185.805 Q2185.98 185.805 2184.75 187.055 Q2183.54 188.282 2183.54 190.411 Z\" fill=\"#000000\" fill-rule=\"evenodd\" fill-opacity=\"1\" /><path clip-path=\"url(#clip510)\" d=\"M2207.34 191.314 Q2204.1 191.314 2202.85 191.962 Q2201.58 192.634 2201.58 194.231 Q2201.58 195.504 2202.53 196.245 Q2203.48 196.985 2205.1 196.985 Q2207.32 196.985 2208.66 195.573 Q2210.03 194.161 2210.03 191.847 L2210.03 191.314 L2207.34 191.314 M2212.69 190.319 L2212.69 198.606 L2210.03 198.606 L2210.03 196.407 Q2209.1 197.726 2207.73 198.351 Q2206.35 198.976 2204.38 198.976 Q2201.85 198.976 2200.37 197.726 Q2198.89 196.476 2198.89 194.37 Q2198.89 191.939 2200.74 190.689 Q2202.6 189.439 2206.25 189.439 L2210.03 189.439 L2210.03 189.208 Q2210.03 187.564 2208.8 186.661 Q2207.57 185.759 2205.37 185.759 Q2203.98 185.759 2202.64 186.06 Q2201.32 186.36 2200.1 186.962 L2200.1 184.74 Q2201.58 184.254 2202.97 183.999 Q2204.33 183.745 2205.65 183.745 Q2209.19 183.745 2210.95 185.365 Q2212.69 187.009 2212.69 190.319 Z\" fill=\"#000000\" fill-rule=\"evenodd\" fill-opacity=\"1\" /><path clip-path=\"url(#clip510)\" d=\"M2233.91 184.092 L2228.01 191.152 L2234.22 198.606 L2231.04 198.606 L2226.3 192.911 L2221.55 198.606 L2218.38 198.606 L2224.73 191.013 L2218.91 184.092 L2222.09 184.092 L2226.41 189.254 L2230.74 184.092 L2233.91 184.092 Z\" fill=\"#000000\" fill-rule=\"evenodd\" fill-opacity=\"1\" /></svg>\n"
      ]
     },
     "execution_count": 399,
     "metadata": {},
     "output_type": "execute_result"
    }
   ],
   "source": [
    "plot(Sₑs, label=\"Sₑ\")\n",
    "plot!(1:(N-1), Sₑmax.(1:(N-1), N .- collect(1:(N-1))), label=\"Sₑᵐᵃˣ\")\n",
    "xlabel!(\"M_A\")\n",
    "ylabel!(\"Sₑ\")\n",
    "xticks!(1:N-1)"
   ]
  },
  {
   "cell_type": "code",
   "execution_count": 400,
   "id": "e7d6aeb9",
   "metadata": {},
   "outputs": [],
   "source": [
    "savefig(\"2b.png\")"
   ]
  },
  {
   "cell_type": "markdown",
   "id": "a07098f6",
   "metadata": {},
   "source": [
    "## c)\n",
    "\n",
    "### verifying the $J=-1$ case"
   ]
  },
  {
   "cell_type": "code",
   "execution_count": 367,
   "id": "57813d32",
   "metadata": {},
   "outputs": [],
   "source": [
    "N6 = 6\n",
    "N = 6\n",
    "\n",
    "Ji = (-0.00001, -0.25, -1.0, -0.25, -0.00001) #-1 * ones(N6-1)\n",
    "\n",
    "Js_N6 = reset_Js(N6)\n",
    "\n",
    "# couplings between (i,i+1) for α=x (1)\n",
    "for i in 1:(N6-1)\n",
    "    Js_N6[1][i,i+1] = Ji[i]\n",
    "end\n",
    "\n",
    "Js_N6[2] = Js_N6[1]\n",
    "Js_N6[3] = Js_N6[1]\n",
    "\n",
    "H_N6 = calculate_hamilton_matrix(Js_N6, N6)\n",
    "ψ_N6_g = eigvecs(rationalize.(Matrix(H_N6)))[:,1];"
   ]
  },
  {
   "cell_type": "code",
   "execution_count": 368,
   "id": "241c2acd",
   "metadata": {
    "scrolled": true
   },
   "outputs": [
    {
     "data": {
      "text/plain": [
       "1.935600433969269"
      ]
     },
     "execution_count": 368,
     "metadata": {},
     "output_type": "execute_result"
    }
   ],
   "source": [
    "C_N6 = ψ2C(ψ_N6_g, 3,3)\n",
    "\n",
    "Sₑ(C_N6 * C_N6')"
   ]
  },
  {
   "cell_type": "code",
   "execution_count": 369,
   "id": "6cad1c25",
   "metadata": {},
   "outputs": [],
   "source": [
    "#ψ_N6_g = round.(ψ_N6_g, digits=5);"
   ]
  },
  {
   "cell_type": "code",
   "execution_count": 370,
   "id": "ffc9a16a",
   "metadata": {},
   "outputs": [
    {
     "name": "stdout",
     "output_type": "stream",
     "text": [
      "1,5: 0.6931471805588341\n",
      "2,4: 1.3862942858655758\n",
      "3,3: 1.935600433969269\n",
      "4,2: 1.3862942858655758\n",
      "5,1: 0.693147180558834\n"
     ]
    },
    {
     "data": {
      "image/svg+xml": [
       "<?xml version=\"1.0\" encoding=\"utf-8\"?>\n",
       "<svg xmlns=\"http://www.w3.org/2000/svg\" xmlns:xlink=\"http://www.w3.org/1999/xlink\" width=\"600\" height=\"400\" viewBox=\"0 0 2400 1600\">\n",
       "<defs>\n",
       "  <clipPath id=\"clip430\">\n",
       "    <rect x=\"0\" y=\"0\" width=\"2400\" height=\"1600\"/>\n",
       "  </clipPath>\n",
       "</defs>\n",
       "<path clip-path=\"url(#clip430)\" d=\"\n",
       "M0 1600 L2400 1600 L2400 0 L0 0  Z\n",
       "  \" fill=\"#ffffff\" fill-rule=\"evenodd\" fill-opacity=\"1\"/>\n",
       "<defs>\n",
       "  <clipPath id=\"clip431\">\n",
       "    <rect x=\"480\" y=\"0\" width=\"1681\" height=\"1600\"/>\n",
       "  </clipPath>\n",
       "</defs>\n",
       "<path clip-path=\"url(#clip430)\" d=\"\n",
       "M219.288 1423.18 L2352.76 1423.18 L2352.76 47.2441 L219.288 47.2441  Z\n",
       "  \" fill=\"#ffffff\" fill-rule=\"evenodd\" fill-opacity=\"1\"/>\n",
       "<defs>\n",
       "  <clipPath id=\"clip432\">\n",
       "    <rect x=\"219\" y=\"47\" width=\"2134\" height=\"1377\"/>\n",
       "  </clipPath>\n",
       "</defs>\n",
       "<polyline clip-path=\"url(#clip432)\" style=\"stroke:#000000; stroke-linecap:butt; stroke-linejoin:round; stroke-width:2; stroke-opacity:0.1; fill:none\" points=\"\n",
       "  279.669,1423.18 279.669,47.2441 \n",
       "  \"/>\n",
       "<polyline clip-path=\"url(#clip432)\" style=\"stroke:#000000; stroke-linecap:butt; stroke-linejoin:round; stroke-width:2; stroke-opacity:0.1; fill:none\" points=\"\n",
       "  782.845,1423.18 782.845,47.2441 \n",
       "  \"/>\n",
       "<polyline clip-path=\"url(#clip432)\" style=\"stroke:#000000; stroke-linecap:butt; stroke-linejoin:round; stroke-width:2; stroke-opacity:0.1; fill:none\" points=\"\n",
       "  1286.02,1423.18 1286.02,47.2441 \n",
       "  \"/>\n",
       "<polyline clip-path=\"url(#clip432)\" style=\"stroke:#000000; stroke-linecap:butt; stroke-linejoin:round; stroke-width:2; stroke-opacity:0.1; fill:none\" points=\"\n",
       "  1789.2,1423.18 1789.2,47.2441 \n",
       "  \"/>\n",
       "<polyline clip-path=\"url(#clip432)\" style=\"stroke:#000000; stroke-linecap:butt; stroke-linejoin:round; stroke-width:2; stroke-opacity:0.1; fill:none\" points=\"\n",
       "  2292.37,1423.18 2292.37,47.2441 \n",
       "  \"/>\n",
       "<polyline clip-path=\"url(#clip430)\" style=\"stroke:#000000; stroke-linecap:butt; stroke-linejoin:round; stroke-width:4; stroke-opacity:1; fill:none\" points=\"\n",
       "  219.288,1423.18 2352.76,1423.18 \n",
       "  \"/>\n",
       "<polyline clip-path=\"url(#clip430)\" style=\"stroke:#000000; stroke-linecap:butt; stroke-linejoin:round; stroke-width:4; stroke-opacity:1; fill:none\" points=\"\n",
       "  279.669,1423.18 279.669,1404.28 \n",
       "  \"/>\n",
       "<polyline clip-path=\"url(#clip430)\" style=\"stroke:#000000; stroke-linecap:butt; stroke-linejoin:round; stroke-width:4; stroke-opacity:1; fill:none\" points=\"\n",
       "  782.845,1423.18 782.845,1404.28 \n",
       "  \"/>\n",
       "<polyline clip-path=\"url(#clip430)\" style=\"stroke:#000000; stroke-linecap:butt; stroke-linejoin:round; stroke-width:4; stroke-opacity:1; fill:none\" points=\"\n",
       "  1286.02,1423.18 1286.02,1404.28 \n",
       "  \"/>\n",
       "<polyline clip-path=\"url(#clip430)\" style=\"stroke:#000000; stroke-linecap:butt; stroke-linejoin:round; stroke-width:4; stroke-opacity:1; fill:none\" points=\"\n",
       "  1789.2,1423.18 1789.2,1404.28 \n",
       "  \"/>\n",
       "<polyline clip-path=\"url(#clip430)\" style=\"stroke:#000000; stroke-linecap:butt; stroke-linejoin:round; stroke-width:4; stroke-opacity:1; fill:none\" points=\"\n",
       "  2292.37,1423.18 2292.37,1404.28 \n",
       "  \"/>\n",
       "<path clip-path=\"url(#clip430)\" d=\"M270.051 1481.64 L277.69 1481.64 L277.69 1455.28 L269.379 1456.95 L269.379 1452.69 L277.643 1451.02 L282.319 1451.02 L282.319 1481.64 L289.958 1481.64 L289.958 1485.58 L270.051 1485.58 L270.051 1481.64 Z\" fill=\"#000000\" fill-rule=\"evenodd\" fill-opacity=\"1\" /><path clip-path=\"url(#clip430)\" d=\"M777.498 1481.64 L793.817 1481.64 L793.817 1485.58 L771.873 1485.58 L771.873 1481.64 Q774.535 1478.89 779.118 1474.26 Q783.725 1469.61 784.905 1468.27 Q787.151 1465.74 788.03 1464.01 Q788.933 1462.25 788.933 1460.56 Q788.933 1457.8 786.989 1456.07 Q785.067 1454.33 781.966 1454.33 Q779.767 1454.33 777.313 1455.09 Q774.882 1455.86 772.105 1457.41 L772.105 1452.69 Q774.929 1451.55 777.382 1450.97 Q779.836 1450.39 781.873 1450.39 Q787.243 1450.39 790.438 1453.08 Q793.632 1455.77 793.632 1460.26 Q793.632 1462.39 792.822 1464.31 Q792.035 1466.2 789.929 1468.8 Q789.35 1469.47 786.248 1472.69 Q783.146 1475.88 777.498 1481.64 Z\" fill=\"#000000\" fill-rule=\"evenodd\" fill-opacity=\"1\" /><path clip-path=\"url(#clip430)\" d=\"M1290.27 1466.95 Q1293.63 1467.66 1295.5 1469.93 Q1297.4 1472.2 1297.4 1475.53 Q1297.4 1480.65 1293.88 1483.45 Q1290.36 1486.25 1283.88 1486.25 Q1281.7 1486.25 1279.39 1485.81 Q1277.1 1485.39 1274.64 1484.54 L1274.64 1480.02 Q1276.59 1481.16 1278.9 1481.74 Q1281.22 1482.32 1283.74 1482.32 Q1288.14 1482.32 1290.43 1480.58 Q1292.75 1478.84 1292.75 1475.53 Q1292.75 1472.48 1290.59 1470.77 Q1288.46 1469.03 1284.64 1469.03 L1280.62 1469.03 L1280.62 1465.19 L1284.83 1465.19 Q1288.28 1465.19 1290.11 1463.82 Q1291.94 1462.43 1291.94 1459.84 Q1291.94 1457.18 1290.04 1455.77 Q1288.16 1454.33 1284.64 1454.33 Q1282.72 1454.33 1280.52 1454.75 Q1278.33 1455.16 1275.69 1456.04 L1275.69 1451.88 Q1278.35 1451.14 1280.66 1450.77 Q1283 1450.39 1285.06 1450.39 Q1290.39 1450.39 1293.49 1452.83 Q1296.59 1455.23 1296.59 1459.35 Q1296.59 1462.22 1294.95 1464.21 Q1293.3 1466.18 1290.27 1466.95 Z\" fill=\"#000000\" fill-rule=\"evenodd\" fill-opacity=\"1\" /><path clip-path=\"url(#clip430)\" d=\"M1792.21 1455.09 L1780.4 1473.54 L1792.21 1473.54 L1792.21 1455.09 M1790.98 1451.02 L1796.86 1451.02 L1796.86 1473.54 L1801.79 1473.54 L1801.79 1477.43 L1796.86 1477.43 L1796.86 1485.58 L1792.21 1485.58 L1792.21 1477.43 L1776.61 1477.43 L1776.61 1472.92 L1790.98 1451.02 Z\" fill=\"#000000\" fill-rule=\"evenodd\" fill-opacity=\"1\" /><path clip-path=\"url(#clip430)\" d=\"M2282.65 1451.02 L2301.01 1451.02 L2301.01 1454.96 L2286.93 1454.96 L2286.93 1463.43 Q2287.95 1463.08 2288.97 1462.92 Q2289.99 1462.73 2291.01 1462.73 Q2296.8 1462.73 2300.18 1465.9 Q2303.56 1469.08 2303.56 1474.49 Q2303.56 1480.07 2300.08 1483.17 Q2296.61 1486.25 2290.29 1486.25 Q2288.12 1486.25 2285.85 1485.88 Q2283.6 1485.51 2281.19 1484.77 L2281.19 1480.07 Q2283.28 1481.2 2285.5 1481.76 Q2287.72 1482.32 2290.2 1482.32 Q2294.2 1482.32 2296.54 1480.21 Q2298.88 1478.1 2298.88 1474.49 Q2298.88 1470.88 2296.54 1468.77 Q2294.2 1466.67 2290.2 1466.67 Q2288.32 1466.67 2286.45 1467.08 Q2284.6 1467.5 2282.65 1468.38 L2282.65 1451.02 Z\" fill=\"#000000\" fill-rule=\"evenodd\" fill-opacity=\"1\" /><path clip-path=\"url(#clip430)\" d=\"M1222.78 1520.52 L1232.36 1520.52 L1244.49 1552.86 L1256.68 1520.52 L1266.26 1520.52 L1266.26 1568.04 L1259.99 1568.04 L1259.99 1526.32 L1247.73 1558.91 L1241.27 1558.91 L1229.02 1526.32 L1229.02 1568.04 L1222.78 1568.04 L1222.78 1520.52 Z\" fill=\"#000000\" fill-rule=\"evenodd\" fill-opacity=\"1\" /><path clip-path=\"url(#clip430)\" d=\"M1305.85 1578.87 L1305.85 1583.42 L1271.99 1583.42 L1271.99 1578.87 L1305.85 1578.87 Z\" fill=\"#000000\" fill-rule=\"evenodd\" fill-opacity=\"1\" /><path clip-path=\"url(#clip430)\" d=\"M1327.49 1526.86 L1318.77 1550.51 L1336.25 1550.51 L1327.49 1526.86 M1323.87 1520.52 L1331.15 1520.52 L1349.27 1568.04 L1342.58 1568.04 L1338.25 1555.85 L1316.83 1555.85 L1312.5 1568.04 L1305.72 1568.04 L1323.87 1520.52 Z\" fill=\"#000000\" fill-rule=\"evenodd\" fill-opacity=\"1\" /><polyline clip-path=\"url(#clip432)\" style=\"stroke:#000000; stroke-linecap:butt; stroke-linejoin:round; stroke-width:2; stroke-opacity:0.1; fill:none\" points=\"\n",
       "  219.288,1284.19 2352.76,1284.19 \n",
       "  \"/>\n",
       "<polyline clip-path=\"url(#clip432)\" style=\"stroke:#000000; stroke-linecap:butt; stroke-linejoin:round; stroke-width:2; stroke-opacity:0.1; fill:none\" points=\"\n",
       "  219.288,1096.92 2352.76,1096.92 \n",
       "  \"/>\n",
       "<polyline clip-path=\"url(#clip432)\" style=\"stroke:#000000; stroke-linecap:butt; stroke-linejoin:round; stroke-width:2; stroke-opacity:0.1; fill:none\" points=\"\n",
       "  219.288,909.648 2352.76,909.648 \n",
       "  \"/>\n",
       "<polyline clip-path=\"url(#clip432)\" style=\"stroke:#000000; stroke-linecap:butt; stroke-linejoin:round; stroke-width:2; stroke-opacity:0.1; fill:none\" points=\"\n",
       "  219.288,722.379 2352.76,722.379 \n",
       "  \"/>\n",
       "<polyline clip-path=\"url(#clip432)\" style=\"stroke:#000000; stroke-linecap:butt; stroke-linejoin:round; stroke-width:2; stroke-opacity:0.1; fill:none\" points=\"\n",
       "  219.288,535.109 2352.76,535.109 \n",
       "  \"/>\n",
       "<polyline clip-path=\"url(#clip432)\" style=\"stroke:#000000; stroke-linecap:butt; stroke-linejoin:round; stroke-width:2; stroke-opacity:0.1; fill:none\" points=\"\n",
       "  219.288,347.84 2352.76,347.84 \n",
       "  \"/>\n",
       "<polyline clip-path=\"url(#clip432)\" style=\"stroke:#000000; stroke-linecap:butt; stroke-linejoin:round; stroke-width:2; stroke-opacity:0.1; fill:none\" points=\"\n",
       "  219.288,160.571 2352.76,160.571 \n",
       "  \"/>\n",
       "<polyline clip-path=\"url(#clip430)\" style=\"stroke:#000000; stroke-linecap:butt; stroke-linejoin:round; stroke-width:4; stroke-opacity:1; fill:none\" points=\"\n",
       "  219.288,1423.18 219.288,47.2441 \n",
       "  \"/>\n",
       "<polyline clip-path=\"url(#clip430)\" style=\"stroke:#000000; stroke-linecap:butt; stroke-linejoin:round; stroke-width:4; stroke-opacity:1; fill:none\" points=\"\n",
       "  219.288,1284.19 238.185,1284.19 \n",
       "  \"/>\n",
       "<polyline clip-path=\"url(#clip430)\" style=\"stroke:#000000; stroke-linecap:butt; stroke-linejoin:round; stroke-width:4; stroke-opacity:1; fill:none\" points=\"\n",
       "  219.288,1096.92 238.185,1096.92 \n",
       "  \"/>\n",
       "<polyline clip-path=\"url(#clip430)\" style=\"stroke:#000000; stroke-linecap:butt; stroke-linejoin:round; stroke-width:4; stroke-opacity:1; fill:none\" points=\"\n",
       "  219.288,909.648 238.185,909.648 \n",
       "  \"/>\n",
       "<polyline clip-path=\"url(#clip430)\" style=\"stroke:#000000; stroke-linecap:butt; stroke-linejoin:round; stroke-width:4; stroke-opacity:1; fill:none\" points=\"\n",
       "  219.288,722.379 238.185,722.379 \n",
       "  \"/>\n",
       "<polyline clip-path=\"url(#clip430)\" style=\"stroke:#000000; stroke-linecap:butt; stroke-linejoin:round; stroke-width:4; stroke-opacity:1; fill:none\" points=\"\n",
       "  219.288,535.109 238.185,535.109 \n",
       "  \"/>\n",
       "<polyline clip-path=\"url(#clip430)\" style=\"stroke:#000000; stroke-linecap:butt; stroke-linejoin:round; stroke-width:4; stroke-opacity:1; fill:none\" points=\"\n",
       "  219.288,347.84 238.185,347.84 \n",
       "  \"/>\n",
       "<polyline clip-path=\"url(#clip430)\" style=\"stroke:#000000; stroke-linecap:butt; stroke-linejoin:round; stroke-width:4; stroke-opacity:1; fill:none\" points=\"\n",
       "  219.288,160.571 238.185,160.571 \n",
       "  \"/>\n",
       "<path clip-path=\"url(#clip430)\" d=\"M126.205 1269.99 Q122.593 1269.99 120.765 1273.55 Q118.959 1277.09 118.959 1284.22 Q118.959 1291.33 120.765 1294.89 Q122.593 1298.43 126.205 1298.43 Q129.839 1298.43 131.644 1294.89 Q133.473 1291.33 133.473 1284.22 Q133.473 1277.09 131.644 1273.55 Q129.839 1269.99 126.205 1269.99 M126.205 1266.28 Q132.015 1266.28 135.07 1270.89 Q138.149 1275.47 138.149 1284.22 Q138.149 1292.95 135.07 1297.55 Q132.015 1302.14 126.205 1302.14 Q120.394 1302.14 117.316 1297.55 Q114.26 1292.95 114.26 1284.22 Q114.26 1275.47 117.316 1270.89 Q120.394 1266.28 126.205 1266.28 Z\" fill=\"#000000\" fill-rule=\"evenodd\" fill-opacity=\"1\" /><path clip-path=\"url(#clip430)\" d=\"M146.366 1295.59 L151.251 1295.59 L151.251 1301.47 L146.366 1301.47 L146.366 1295.59 Z\" fill=\"#000000\" fill-rule=\"evenodd\" fill-opacity=\"1\" /><path clip-path=\"url(#clip430)\" d=\"M171.436 1285.05 Q168.102 1285.05 166.181 1286.84 Q164.283 1288.62 164.283 1291.74 Q164.283 1294.87 166.181 1296.65 Q168.102 1298.43 171.436 1298.43 Q174.769 1298.43 176.69 1296.65 Q178.612 1294.85 178.612 1291.74 Q178.612 1288.62 176.69 1286.84 Q174.792 1285.05 171.436 1285.05 M166.76 1283.06 Q163.751 1282.32 162.061 1280.26 Q160.394 1278.2 160.394 1275.24 Q160.394 1271.1 163.334 1268.69 Q166.297 1266.28 171.436 1266.28 Q176.598 1266.28 179.538 1268.69 Q182.477 1271.1 182.477 1275.24 Q182.477 1278.2 180.788 1280.26 Q179.121 1282.32 176.135 1283.06 Q179.514 1283.85 181.389 1286.14 Q183.288 1288.43 183.288 1291.74 Q183.288 1296.77 180.209 1299.45 Q177.153 1302.14 171.436 1302.14 Q165.718 1302.14 162.64 1299.45 Q159.584 1296.77 159.584 1291.74 Q159.584 1288.43 161.482 1286.14 Q163.38 1283.85 166.76 1283.06 M165.047 1275.68 Q165.047 1278.37 166.714 1279.87 Q168.403 1281.37 171.436 1281.37 Q174.445 1281.37 176.135 1279.87 Q177.848 1278.37 177.848 1275.68 Q177.848 1272.99 176.135 1271.49 Q174.445 1269.99 171.436 1269.99 Q168.403 1269.99 166.714 1271.49 Q165.047 1272.99 165.047 1275.68 Z\" fill=\"#000000\" fill-rule=\"evenodd\" fill-opacity=\"1\" /><path clip-path=\"url(#clip430)\" d=\"M116.922 1110.26 L124.561 1110.26 L124.561 1083.9 L116.251 1085.56 L116.251 1081.3 L124.515 1079.64 L129.191 1079.64 L129.191 1110.26 L136.829 1110.26 L136.829 1114.2 L116.922 1114.2 L116.922 1110.26 Z\" fill=\"#000000\" fill-rule=\"evenodd\" fill-opacity=\"1\" /><path clip-path=\"url(#clip430)\" d=\"M146.274 1108.32 L151.158 1108.32 L151.158 1114.2 L146.274 1114.2 L146.274 1108.32 Z\" fill=\"#000000\" fill-rule=\"evenodd\" fill-opacity=\"1\" /><path clip-path=\"url(#clip430)\" d=\"M171.343 1082.72 Q167.732 1082.72 165.903 1086.28 Q164.098 1089.82 164.098 1096.95 Q164.098 1104.06 165.903 1107.62 Q167.732 1111.17 171.343 1111.17 Q174.977 1111.17 176.783 1107.62 Q178.612 1104.06 178.612 1096.95 Q178.612 1089.82 176.783 1086.28 Q174.977 1082.72 171.343 1082.72 M171.343 1079.01 Q177.153 1079.01 180.209 1083.62 Q183.288 1088.2 183.288 1096.95 Q183.288 1105.68 180.209 1110.29 Q177.153 1114.87 171.343 1114.87 Q165.533 1114.87 162.454 1110.29 Q159.399 1105.68 159.399 1096.95 Q159.399 1088.2 162.454 1083.62 Q165.533 1079.01 171.343 1079.01 Z\" fill=\"#000000\" fill-rule=\"evenodd\" fill-opacity=\"1\" /><path clip-path=\"url(#clip430)\" d=\"M118.519 922.993 L126.158 922.993 L126.158 896.627 L117.848 898.294 L117.848 894.035 L126.112 892.368 L130.788 892.368 L130.788 922.993 L138.427 922.993 L138.427 926.928 L118.519 926.928 L118.519 922.993 Z\" fill=\"#000000\" fill-rule=\"evenodd\" fill-opacity=\"1\" /><path clip-path=\"url(#clip430)\" d=\"M147.871 921.049 L152.755 921.049 L152.755 926.928 L147.871 926.928 L147.871 921.049 Z\" fill=\"#000000\" fill-rule=\"evenodd\" fill-opacity=\"1\" /><path clip-path=\"url(#clip430)\" d=\"M166.968 922.993 L183.288 922.993 L183.288 926.928 L161.343 926.928 L161.343 922.993 Q164.005 920.238 168.589 915.609 Q173.195 910.956 174.376 909.613 Q176.621 907.09 177.501 905.354 Q178.403 903.595 178.403 901.905 Q178.403 899.151 176.459 897.414 Q174.538 895.678 171.436 895.678 Q169.237 895.678 166.783 896.442 Q164.352 897.206 161.575 898.757 L161.575 894.035 Q164.399 892.901 166.852 892.322 Q169.306 891.743 171.343 891.743 Q176.714 891.743 179.908 894.428 Q183.102 897.113 183.102 901.604 Q183.102 903.734 182.292 905.655 Q181.505 907.553 179.399 910.146 Q178.82 910.817 175.718 914.035 Q172.616 917.229 166.968 922.993 Z\" fill=\"#000000\" fill-rule=\"evenodd\" fill-opacity=\"1\" /><path clip-path=\"url(#clip430)\" d=\"M116.436 735.724 L124.075 735.724 L124.075 709.358 L115.765 711.025 L115.765 706.765 L124.029 705.099 L128.705 705.099 L128.705 735.724 L136.343 735.724 L136.343 739.659 L116.436 739.659 L116.436 735.724 Z\" fill=\"#000000\" fill-rule=\"evenodd\" fill-opacity=\"1\" /><path clip-path=\"url(#clip430)\" d=\"M145.788 733.779 L150.672 733.779 L150.672 739.659 L145.788 739.659 L145.788 733.779 Z\" fill=\"#000000\" fill-rule=\"evenodd\" fill-opacity=\"1\" /><path clip-path=\"url(#clip430)\" d=\"M173.704 709.173 L161.899 727.622 L173.704 727.622 L173.704 709.173 M172.477 705.099 L178.357 705.099 L178.357 727.622 L183.288 727.622 L183.288 731.511 L178.357 731.511 L178.357 739.659 L173.704 739.659 L173.704 731.511 L158.103 731.511 L158.103 726.997 L172.477 705.099 Z\" fill=\"#000000\" fill-rule=\"evenodd\" fill-opacity=\"1\" /><path clip-path=\"url(#clip430)\" d=\"M116.76 548.454 L124.399 548.454 L124.399 522.089 L116.089 523.755 L116.089 519.496 L124.353 517.829 L129.029 517.829 L129.029 548.454 L136.667 548.454 L136.667 552.389 L116.76 552.389 L116.76 548.454 Z\" fill=\"#000000\" fill-rule=\"evenodd\" fill-opacity=\"1\" /><path clip-path=\"url(#clip430)\" d=\"M146.112 546.51 L150.996 546.51 L150.996 552.389 L146.112 552.389 L146.112 546.51 Z\" fill=\"#000000\" fill-rule=\"evenodd\" fill-opacity=\"1\" /><path clip-path=\"url(#clip430)\" d=\"M171.76 533.246 Q168.612 533.246 166.76 535.399 Q164.931 537.551 164.931 541.301 Q164.931 545.028 166.76 547.204 Q168.612 549.357 171.76 549.357 Q174.908 549.357 176.737 547.204 Q178.589 545.028 178.589 541.301 Q178.589 537.551 176.737 535.399 Q174.908 533.246 171.76 533.246 M181.042 518.593 L181.042 522.852 Q179.283 522.019 177.477 521.579 Q175.695 521.139 173.936 521.139 Q169.306 521.139 166.852 524.264 Q164.422 527.389 164.075 533.709 Q165.44 531.695 167.501 530.63 Q169.561 529.542 172.038 529.542 Q177.246 529.542 180.255 532.714 Q183.288 535.862 183.288 541.301 Q183.288 546.625 180.139 549.843 Q176.991 553.061 171.76 553.061 Q165.765 553.061 162.593 548.477 Q159.422 543.871 159.422 535.144 Q159.422 526.95 163.311 522.089 Q167.2 517.204 173.751 517.204 Q175.51 517.204 177.292 517.552 Q179.098 517.899 181.042 518.593 Z\" fill=\"#000000\" fill-rule=\"evenodd\" fill-opacity=\"1\" /><path clip-path=\"url(#clip430)\" d=\"M117.015 361.185 L124.654 361.185 L124.654 334.819 L116.343 336.486 L116.343 332.227 L124.607 330.56 L129.283 330.56 L129.283 361.185 L136.922 361.185 L136.922 365.12 L117.015 365.12 L117.015 361.185 Z\" fill=\"#000000\" fill-rule=\"evenodd\" fill-opacity=\"1\" /><path clip-path=\"url(#clip430)\" d=\"M146.366 359.24 L151.251 359.24 L151.251 365.12 L146.366 365.12 L146.366 359.24 Z\" fill=\"#000000\" fill-rule=\"evenodd\" fill-opacity=\"1\" /><path clip-path=\"url(#clip430)\" d=\"M171.436 348.708 Q168.102 348.708 166.181 350.49 Q164.283 352.273 164.283 355.398 Q164.283 358.523 166.181 360.305 Q168.102 362.088 171.436 362.088 Q174.769 362.088 176.69 360.305 Q178.612 358.5 178.612 355.398 Q178.612 352.273 176.69 350.49 Q174.792 348.708 171.436 348.708 M166.76 346.717 Q163.751 345.977 162.061 343.916 Q160.394 341.856 160.394 338.893 Q160.394 334.75 163.334 332.342 Q166.297 329.935 171.436 329.935 Q176.598 329.935 179.538 332.342 Q182.477 334.75 182.477 338.893 Q182.477 341.856 180.788 343.916 Q179.121 345.977 176.135 346.717 Q179.514 347.504 181.389 349.796 Q183.288 352.088 183.288 355.398 Q183.288 360.421 180.209 363.106 Q177.153 365.791 171.436 365.791 Q165.718 365.791 162.64 363.106 Q159.584 360.421 159.584 355.398 Q159.584 352.088 161.482 349.796 Q163.38 347.504 166.76 346.717 M165.047 339.333 Q165.047 342.018 166.714 343.523 Q168.403 345.027 171.436 345.027 Q174.445 345.027 176.135 343.523 Q177.848 342.018 177.848 339.333 Q177.848 336.648 176.135 335.143 Q174.445 333.639 171.436 333.639 Q168.403 333.639 166.714 335.143 Q165.047 336.648 165.047 339.333 Z\" fill=\"#000000\" fill-rule=\"evenodd\" fill-opacity=\"1\" /><path clip-path=\"url(#clip430)\" d=\"M120.14 173.915 L136.459 173.915 L136.459 177.851 L114.515 177.851 L114.515 173.915 Q117.177 171.161 121.76 166.531 Q126.367 161.878 127.547 160.536 Q129.792 158.013 130.672 156.277 Q131.575 154.517 131.575 152.828 Q131.575 150.073 129.63 148.337 Q127.709 146.601 124.607 146.601 Q122.408 146.601 119.955 147.365 Q117.524 148.128 114.746 149.679 L114.746 144.957 Q117.57 143.823 120.024 143.244 Q122.478 142.666 124.515 142.666 Q129.885 142.666 133.08 145.351 Q136.274 148.036 136.274 152.527 Q136.274 154.656 135.464 156.577 Q134.677 158.476 132.57 161.068 Q131.992 161.739 128.89 164.957 Q125.788 168.152 120.14 173.915 Z\" fill=\"#000000\" fill-rule=\"evenodd\" fill-opacity=\"1\" /><path clip-path=\"url(#clip430)\" d=\"M146.274 171.971 L151.158 171.971 L151.158 177.851 L146.274 177.851 L146.274 171.971 Z\" fill=\"#000000\" fill-rule=\"evenodd\" fill-opacity=\"1\" /><path clip-path=\"url(#clip430)\" d=\"M171.343 146.369 Q167.732 146.369 165.903 149.934 Q164.098 153.476 164.098 160.605 Q164.098 167.712 165.903 171.276 Q167.732 174.818 171.343 174.818 Q174.977 174.818 176.783 171.276 Q178.612 167.712 178.612 160.605 Q178.612 153.476 176.783 149.934 Q174.977 146.369 171.343 146.369 M171.343 142.666 Q177.153 142.666 180.209 147.272 Q183.288 151.855 183.288 160.605 Q183.288 169.332 180.209 173.939 Q177.153 178.522 171.343 178.522 Q165.533 178.522 162.454 173.939 Q159.399 169.332 159.399 160.605 Q159.399 151.855 162.454 147.272 Q165.533 142.666 171.343 142.666 Z\" fill=\"#000000\" fill-rule=\"evenodd\" fill-opacity=\"1\" /><path clip-path=\"url(#clip430)\" d=\"M18.0438 734.703 L24.314 734.703 Q22.5634 738.363 21.704 741.61 Q20.8447 744.856 20.8447 747.88 Q20.8447 753.131 22.8817 755.996 Q24.9187 758.829 28.6745 758.829 Q31.8255 758.829 33.4488 756.951 Q35.0402 755.041 36.0269 749.758 L36.8226 745.875 Q38.1912 738.681 41.6605 735.276 Q45.098 731.838 50.8908 731.838 Q57.7976 731.838 61.3624 736.485 Q64.9272 741.1 64.9272 750.044 Q64.9272 753.418 64.1633 757.237 Q63.3994 761.025 61.9035 765.099 L55.2831 765.099 Q57.4793 761.184 58.5933 757.428 Q59.7073 753.673 59.7073 750.044 Q59.7073 744.538 57.543 741.546 Q55.3786 738.554 51.3682 738.554 Q47.8671 738.554 45.8937 740.718 Q43.9204 742.851 42.9337 747.752 L42.1698 751.667 Q40.7375 758.861 37.682 762.075 Q34.6264 765.29 29.1837 765.29 Q22.8817 765.29 19.2532 760.866 Q15.6248 756.41 15.6248 748.612 Q15.6248 745.27 16.2295 741.8 Q16.8343 738.331 18.0438 734.703 Z\" fill=\"#000000\" fill-rule=\"evenodd\" fill-opacity=\"1\" /><path clip-path=\"url(#clip430)\" d=\"M53.2143 705.134 L54.8057 705.134 L54.8057 722.099 Q58.1795 721.844 59.9619 719.807 Q61.7443 717.738 61.7443 714.078 Q61.7443 711.945 61.2669 709.94 Q60.8213 707.967 59.8983 705.993 L62.9856 705.993 Q63.7495 707.967 64.1315 710.067 Q64.5134 712.136 64.5134 714.301 Q64.5134 719.68 61.7443 722.799 Q58.9752 725.95 54.2328 725.95 Q49.3312 725.95 46.4348 722.958 Q43.5702 719.998 43.5702 714.937 Q43.5702 710.418 46.1484 707.776 Q48.7583 705.134 53.2143 705.134 M52.2276 708.826 Q49.554 708.858 47.9307 710.513 Q46.3393 712.168 46.3393 714.905 Q46.3393 717.993 47.8989 719.839 Q49.4267 721.685 52.2276 721.971 L52.2276 708.826 Z\" fill=\"#000000\" fill-rule=\"evenodd\" fill-opacity=\"1\" /><polyline clip-path=\"url(#clip432)\" style=\"stroke:#009af9; stroke-linecap:butt; stroke-linejoin:round; stroke-width:4; stroke-opacity:1; fill:none\" points=\"\n",
       "  279.669,1384.24 782.845,735.212 1286.02,220.871 1789.2,735.212 2292.37,1384.24 \n",
       "  \"/>\n",
       "<polyline clip-path=\"url(#clip432)\" style=\"stroke:#e26f46; stroke-linecap:butt; stroke-linejoin:round; stroke-width:4; stroke-opacity:1; fill:none\" points=\"\n",
       "  279.669,1384.24 782.845,735.212 1286.02,86.1857 1789.2,735.212 2292.37,1384.24 \n",
       "  \"/>\n",
       "<path clip-path=\"url(#clip430)\" d=\"\n",
       "M1931.21 248.629 L2281.64 248.629 L2281.64 93.1086 L1931.21 93.1086  Z\n",
       "  \" fill=\"#ffffff\" fill-rule=\"evenodd\" fill-opacity=\"1\"/>\n",
       "<polyline clip-path=\"url(#clip430)\" style=\"stroke:#000000; stroke-linecap:butt; stroke-linejoin:round; stroke-width:4; stroke-opacity:1; fill:none\" points=\"\n",
       "  1931.21,248.629 2281.64,248.629 2281.64,93.1086 1931.21,93.1086 1931.21,248.629 \n",
       "  \"/>\n",
       "<polyline clip-path=\"url(#clip430)\" style=\"stroke:#009af9; stroke-linecap:butt; stroke-linejoin:round; stroke-width:4; stroke-opacity:1; fill:none\" points=\"\n",
       "  1954.91,144.949 2097.15,144.949 \n",
       "  \"/>\n",
       "<path clip-path=\"url(#clip430)\" d=\"M2143.1 128.803 L2143.1 133.363 Q2140.43 132.09 2138.07 131.465 Q2135.71 130.84 2133.51 130.84 Q2129.69 130.84 2127.61 132.321 Q2125.55 133.803 2125.55 136.534 Q2125.55 138.826 2126.92 140.007 Q2128.3 141.164 2132.15 141.882 L2134.97 142.46 Q2140.2 143.456 2142.68 145.979 Q2145.18 148.479 2145.18 152.692 Q2145.18 157.715 2141.8 160.307 Q2138.44 162.9 2131.94 162.9 Q2129.49 162.9 2126.71 162.344 Q2123.95 161.789 2120.99 160.701 L2120.99 155.886 Q2123.84 157.483 2126.57 158.293 Q2129.3 159.104 2131.94 159.104 Q2135.94 159.104 2138.12 157.53 Q2140.3 155.956 2140.3 153.039 Q2140.3 150.493 2138.72 149.057 Q2137.17 147.622 2133.61 146.905 L2130.76 146.349 Q2125.53 145.307 2123.19 143.085 Q2120.85 140.863 2120.85 136.905 Q2120.85 132.321 2124.07 129.682 Q2127.31 127.044 2132.98 127.044 Q2135.41 127.044 2137.93 127.483 Q2140.46 127.923 2143.1 128.803 Z\" fill=\"#000000\" fill-rule=\"evenodd\" fill-opacity=\"1\" /><path clip-path=\"url(#clip430)\" d=\"M2164.6 154.381 L2164.6 155.539 L2152.26 155.539 Q2152.45 157.993 2153.93 159.289 Q2155.43 160.585 2158.1 160.585 Q2159.65 160.585 2161.11 160.238 Q2162.54 159.914 2163.98 159.243 L2163.98 161.488 Q2162.54 162.043 2161.01 162.321 Q2159.51 162.599 2157.93 162.599 Q2154.02 162.599 2151.75 160.585 Q2149.46 158.571 2149.46 155.122 Q2149.46 151.557 2151.64 149.451 Q2153.79 147.368 2157.47 147.368 Q2160.76 147.368 2162.68 149.243 Q2164.6 151.141 2164.6 154.381 M2161.92 153.664 Q2161.89 151.719 2160.69 150.539 Q2159.48 149.381 2157.49 149.381 Q2155.25 149.381 2153.91 150.516 Q2152.56 151.627 2152.36 153.664 L2161.92 153.664 Z\" fill=\"#000000\" fill-rule=\"evenodd\" fill-opacity=\"1\" /><polyline clip-path=\"url(#clip430)\" style=\"stroke:#e26f46; stroke-linecap:butt; stroke-linejoin:round; stroke-width:4; stroke-opacity:1; fill:none\" points=\"\n",
       "  1954.91,196.789 2097.15,196.789 \n",
       "  \"/>\n",
       "<path clip-path=\"url(#clip430)\" d=\"M2143.1 180.643 L2143.1 185.203 Q2140.43 183.93 2138.07 183.305 Q2135.71 182.68 2133.51 182.68 Q2129.69 182.68 2127.61 184.161 Q2125.55 185.643 2125.55 188.374 Q2125.55 190.666 2126.92 191.847 Q2128.3 193.004 2132.15 193.722 L2134.97 194.3 Q2140.2 195.296 2142.68 197.819 Q2145.18 200.319 2145.18 204.532 Q2145.18 209.555 2141.8 212.147 Q2138.44 214.74 2131.94 214.74 Q2129.49 214.74 2126.71 214.184 Q2123.95 213.629 2120.99 212.541 L2120.99 207.726 Q2123.84 209.323 2126.57 210.133 Q2129.3 210.944 2131.94 210.944 Q2135.94 210.944 2138.12 209.37 Q2140.3 207.796 2140.3 204.879 Q2140.3 202.333 2138.72 200.897 Q2137.17 199.462 2133.61 198.745 L2130.76 198.189 Q2125.53 197.147 2123.19 194.925 Q2120.85 192.703 2120.85 188.745 Q2120.85 184.161 2124.07 181.522 Q2127.31 178.884 2132.98 178.884 Q2135.41 178.884 2137.93 179.323 Q2140.46 179.763 2143.1 180.643 Z\" fill=\"#000000\" fill-rule=\"evenodd\" fill-opacity=\"1\" /><path clip-path=\"url(#clip430)\" d=\"M2164.6 206.221 L2164.6 207.379 L2152.26 207.379 Q2152.45 209.833 2153.93 211.129 Q2155.43 212.425 2158.1 212.425 Q2159.65 212.425 2161.11 212.078 Q2162.54 211.754 2163.98 211.083 L2163.98 213.328 Q2162.54 213.883 2161.01 214.161 Q2159.51 214.439 2157.93 214.439 Q2154.02 214.439 2151.75 212.425 Q2149.46 210.411 2149.46 206.962 Q2149.46 203.397 2151.64 201.291 Q2153.79 199.208 2157.47 199.208 Q2160.76 199.208 2162.68 201.083 Q2164.6 202.981 2164.6 206.221 M2161.92 205.504 Q2161.89 203.559 2160.69 202.379 Q2159.48 201.221 2157.49 201.221 Q2155.25 201.221 2153.91 202.356 Q2152.56 203.467 2152.36 205.504 L2161.92 205.504 Z\" fill=\"#000000\" fill-rule=\"evenodd\" fill-opacity=\"1\" /><path clip-path=\"url(#clip430)\" d=\"M2183.56 190.411 L2183.56 198.606 L2180.87 198.606 L2180.87 189.925 Q2180.87 187.819 2180.04 186.823 Q2179.21 185.805 2177.47 185.805 Q2175.41 185.805 2174.21 187.055 Q2173 188.282 2173 190.411 L2173 198.606 L2170.3 198.606 L2170.3 184.092 L2173 184.092 L2173 186.337 Q2173.91 185.018 2175.18 184.393 Q2176.48 183.745 2178.26 183.745 Q2180.02 183.745 2181.27 184.555 Q2182.52 185.342 2183.12 186.87 Q2184.11 185.272 2185.5 184.509 Q2186.92 183.745 2188.81 183.745 Q2191.38 183.745 2192.75 185.342 Q2194.14 186.916 2194.14 189.833 L2194.14 198.606 L2191.45 198.606 L2191.45 189.925 Q2191.45 187.842 2190.62 186.823 Q2189.79 185.805 2188.07 185.805 Q2185.99 185.805 2184.76 187.055 Q2183.56 188.282 2183.56 190.411 Z\" fill=\"#000000\" fill-rule=\"evenodd\" fill-opacity=\"1\" /><path clip-path=\"url(#clip430)\" d=\"M2207.36 191.314 Q2204.11 191.314 2202.86 191.962 Q2201.59 192.634 2201.59 194.231 Q2201.59 195.504 2202.54 196.245 Q2203.49 196.985 2205.11 196.985 Q2207.33 196.985 2208.67 195.573 Q2210.04 194.161 2210.04 191.847 L2210.04 191.314 L2207.36 191.314 M2212.7 190.319 L2212.7 198.606 L2210.04 198.606 L2210.04 196.407 Q2209.11 197.726 2207.75 198.351 Q2206.36 198.976 2204.39 198.976 Q2201.87 198.976 2200.39 197.726 Q2198.91 196.476 2198.91 194.37 Q2198.91 191.939 2200.76 190.689 Q2202.61 189.439 2206.27 189.439 L2210.04 189.439 L2210.04 189.208 Q2210.04 187.564 2208.81 186.661 Q2207.59 185.759 2205.39 185.759 Q2204 185.759 2202.66 186.06 Q2201.34 186.36 2200.11 186.962 L2200.11 184.74 Q2201.59 184.254 2202.98 183.999 Q2204.35 183.745 2205.67 183.745 Q2209.21 183.745 2210.97 185.365 Q2212.7 187.009 2212.7 190.319 Z\" fill=\"#000000\" fill-rule=\"evenodd\" fill-opacity=\"1\" /><path clip-path=\"url(#clip430)\" d=\"M2233.93 184.092 L2228.03 191.152 L2234.23 198.606 L2231.06 198.606 L2226.31 192.911 L2221.57 198.606 L2218.4 198.606 L2224.74 191.013 L2218.93 184.092 L2222.1 184.092 L2226.43 189.254 L2230.76 184.092 L2233.93 184.092 Z\" fill=\"#000000\" fill-rule=\"evenodd\" fill-opacity=\"1\" /></svg>\n"
      ]
     },
     "execution_count": 370,
     "metadata": {},
     "output_type": "execute_result"
    }
   ],
   "source": [
    "Sₑs_N6 = zeros(N6-1)\n",
    "\n",
    "for M_A in 1:(N6-1)\n",
    "    M_B = N6 - M_A\n",
    "    # calculate C\n",
    "    C = ψ2C(ψ_N6_g, M_A, M_B)\n",
    "    Sₑs_N6[M_A] = Sₑ(C * C')\n",
    "    println(\"$M_A,$M_B: \", Sₑs_N6[M_A])\n",
    "end\n",
    "\n",
    "#Sₑs_N6\n",
    "\n",
    "plot(Sₑs_N6, label=\"Sₑ\")\n",
    "plot!(1:(N6-1), Sₑmax.(1:(N6-1), N6 .- collect(1:(N6-1))), label=\"Sₑᵐᵃˣ\")\n",
    "xlabel!(\"M_A\")\n",
    "ylabel!(\"Sₑ\")\n",
    "xticks!(1:N6-1)"
   ]
  },
  {
   "cell_type": "markdown",
   "id": "4c3293c1",
   "metadata": {},
   "source": [
    "$\\checkmark$\n",
    "\n",
    "### Now find $-1 \\leq J_i < 0$ s.t. $S_e >1.5$"
   ]
  },
  {
   "cell_type": "code",
   "execution_count": 438,
   "id": "2144cd46",
   "metadata": {},
   "outputs": [
    {
     "data": {
      "text/plain": [
       "3125"
      ]
     },
     "execution_count": 438,
     "metadata": {},
     "output_type": "execute_result"
    }
   ],
   "source": [
    "# [-1, -.75, -.5, -.25, 0]\n",
    "# [-1, -.25, -.125, 0]\n",
    "# [-1, -.25, -.125, -.0625, 0]\n",
    "# [-1, -.25, -.125:.05:0...]\n",
    "# [-1, -.25, -.025:.0125:0...]\n",
    "# [-1, -.25, -.0125:.00625:0...]\n",
    "# >>> [-1, -.5, -.25, -.00025:.000125:0...]\n",
    "Jis = collect(Iterators.product([[-1, -.25, -.0125:.00625:0...] for i in 1:5]...));\n",
    "length(Jis)"
   ]
  },
  {
   "cell_type": "code",
   "execution_count": 486,
   "id": "f5dff0ac",
   "metadata": {},
   "outputs": [
    {
     "data": {
      "text/plain": [
       "1681"
      ]
     },
     "execution_count": 486,
     "metadata": {},
     "output_type": "execute_result"
    }
   ],
   "source": [
    "# [[-.0001:.00005:0...], [-.125:0.0125:0.025...], -1.0, [-.125:0.0125:0.025...], [-.0001:.00005:0...]]\n",
    "Jis = collect(Iterators.product([-.00005, [-.1:0.0025:0...], -1.0, [-.1:0.0025:0...], -.00005]...));\n",
    "length(Jis)"
   ]
  },
  {
   "cell_type": "code",
   "execution_count": 487,
   "id": "a1f91210",
   "metadata": {
    "scrolled": false
   },
   "outputs": [
    {
     "name": "stderr",
     "output_type": "stream",
     "text": [
      "\u001b[32mProgress: 100%|█████████████████████████████████████████| Time: 0:00:10\u001b[39m\n"
     ]
    },
    {
     "name": "stdout",
     "output_type": "stream",
     "text": [
      "Maximum Sₑ: 2.0729963353163017 @ (-5.0e-5, -0.05, -1.0, -0.0525, -5.0e-5)\n"
     ]
    }
   ],
   "source": [
    "N6 = 6\n",
    "N=N6\n",
    "\n",
    "\n",
    "#Ji = -1 * ones(N6-1)\n",
    "#Ji = [0, -.1, -1, -0.1, 0, 0]\n",
    "#matches = SharedArray{Bool}(length(Jis))\n",
    "Smax = 0\n",
    "jmax = 0\n",
    "@showprogress for j in 1:length(Jis)\n",
    "    Ji = Jis[j]\n",
    "\n",
    "    Js_N6 = reset_Js(N6)\n",
    "\n",
    "    # couplings between (i,i+1) for α=x (1)\n",
    "    for i in 1:(N6-1)\n",
    "        Js_N6[1][i,i+1] = Ji[i]\n",
    "    end\n",
    "\n",
    "    Js_N6[2] = Js_N6[1]\n",
    "    Js_N6[3] = Js_N6[1]\n",
    "\n",
    "    H_N6 = calculate_hamilton_matrix(Js_N6, N6)\n",
    "    ψ_N6_g = eigvecs(rationalize.(Matrix(H_N6)))[:,1]\n",
    "\n",
    "    C_N6 = ψ2C(ψ_N6_g, 3,3)\n",
    "\n",
    "    S = Sₑ(C_N6 * C_N6')\n",
    "    if S > Smax\n",
    "        Smax = S\n",
    "        jmax = j\n",
    "    end\n",
    "end\n",
    "println(\"Maximum Sₑ: $Smax @ $(Jis[jmax])\")"
   ]
  },
  {
   "cell_type": "markdown",
   "id": "3596f737",
   "metadata": {},
   "source": [
    ">>> 1.9355987144428572 @ (-5.0e-5, -0.25, -1.0, -0.25, -5.0e-5)\n",
    ">>> 1.9355892655964044 @ j=12361: (-0.000125, -0.25, -1.0, -0.25, -0.000125)\n",
    ">>> 1.93555523821687 @ j=12361: (-0.00025, -0.25, -1.0, -0.25, -0.00025)\n",
    ">>> 1.9354169612807288 @ j=2009: (-0.0005, -0.25, -1.0, -0.25, -0.0005)\n",
    ">>> 1.9348463393576105 @ j=5411: (-0.001, -0.25, -1.0, -0.25, -0.001)\n",
    ">>> 1.9305052659023012 @ j=2009: (-0.0025, -0.25, -1.0, -0.25, -0.0025)\n",
    ">>> 1.9126668417110253 @ j=15113: (-0.005, -0.25, -1.0, -0.25, -0.005)\n",
    ">>> 1.757527490534869 @ j=15113: (-0.0125, -0.25, -1.0, -0.25, -0.0125)\n",
    "\n",
    "1.3853014261118082 @ j=16163: (0.0, -0.025, -1.0, -0.025, 0.0)\n",
    "1.3585450545598614 @ j=776: (-0.025, -0.125, -1.0, -1.0, -0.025)\n",
    "1.3558329737897314 @ j=2895: (0.0, -0.125, -1.0, -0.125, 0.0)\n",
    "1.3558329737897314 @ j=908: (0.0, -0.125, -1.0, -0.125, 0.0)"
   ]
  },
  {
   "cell_type": "code",
   "execution_count": null,
   "id": "92c49a96",
   "metadata": {},
   "outputs": [],
   "source": []
  },
  {
   "cell_type": "code",
   "execution_count": null,
   "id": "5aacc4a6",
   "metadata": {},
   "outputs": [],
   "source": []
  },
  {
   "cell_type": "code",
   "execution_count": 525,
   "id": "7efe8cff",
   "metadata": {},
   "outputs": [
    {
     "data": {
      "image/svg+xml": [
       "<?xml version=\"1.0\" encoding=\"utf-8\"?>\n",
       "<svg xmlns=\"http://www.w3.org/2000/svg\" xmlns:xlink=\"http://www.w3.org/1999/xlink\" width=\"600\" height=\"400\" viewBox=\"0 0 2400 1600\">\n",
       "<defs>\n",
       "  <clipPath id=\"clip490\">\n",
       "    <rect x=\"0\" y=\"0\" width=\"2400\" height=\"1600\"/>\n",
       "  </clipPath>\n",
       "</defs>\n",
       "<path clip-path=\"url(#clip490)\" d=\"\n",
       "M0 1600 L2400 1600 L2400 0 L0 0  Z\n",
       "  \" fill=\"#ffffff\" fill-rule=\"evenodd\" fill-opacity=\"1\"/>\n",
       "<defs>\n",
       "  <clipPath id=\"clip491\">\n",
       "    <rect x=\"480\" y=\"0\" width=\"1681\" height=\"1600\"/>\n",
       "  </clipPath>\n",
       "</defs>\n",
       "<defs>\n",
       "  <clipPath id=\"clip492\">\n",
       "    <rect x=\"219\" y=\"47\" width=\"2134\" height=\"1377\"/>\n",
       "  </clipPath>\n",
       "</defs>\n",
       "<path clip-path=\"url(#clip490)\" d=\"\n",
       "M219.288 1423.18 L2352.76 1423.18 L2352.76 47.2441 L219.288 47.2441  Z\n",
       "  \" fill=\"#ffffff\" fill-rule=\"evenodd\" fill-opacity=\"1\"/>\n",
       "<polyline clip-path=\"url(#clip492)\" style=\"stroke:#000000; stroke-linecap:butt; stroke-linejoin:round; stroke-width:2; stroke-opacity:0.1; fill:none\" points=\"\n",
       "  279.669,1423.18 279.669,47.2441 \n",
       "  \"/>\n",
       "<polyline clip-path=\"url(#clip492)\" style=\"stroke:#000000; stroke-linecap:butt; stroke-linejoin:round; stroke-width:2; stroke-opacity:0.1; fill:none\" points=\"\n",
       "  782.845,1423.18 782.845,47.2441 \n",
       "  \"/>\n",
       "<polyline clip-path=\"url(#clip492)\" style=\"stroke:#000000; stroke-linecap:butt; stroke-linejoin:round; stroke-width:2; stroke-opacity:0.1; fill:none\" points=\"\n",
       "  1286.02,1423.18 1286.02,47.2441 \n",
       "  \"/>\n",
       "<polyline clip-path=\"url(#clip492)\" style=\"stroke:#000000; stroke-linecap:butt; stroke-linejoin:round; stroke-width:2; stroke-opacity:0.1; fill:none\" points=\"\n",
       "  1789.2,1423.18 1789.2,47.2441 \n",
       "  \"/>\n",
       "<polyline clip-path=\"url(#clip492)\" style=\"stroke:#000000; stroke-linecap:butt; stroke-linejoin:round; stroke-width:2; stroke-opacity:0.1; fill:none\" points=\"\n",
       "  2292.37,1423.18 2292.37,47.2441 \n",
       "  \"/>\n",
       "<polyline clip-path=\"url(#clip490)\" style=\"stroke:#000000; stroke-linecap:butt; stroke-linejoin:round; stroke-width:4; stroke-opacity:1; fill:none\" points=\"\n",
       "  219.288,1423.18 2352.76,1423.18 \n",
       "  \"/>\n",
       "<polyline clip-path=\"url(#clip490)\" style=\"stroke:#000000; stroke-linecap:butt; stroke-linejoin:round; stroke-width:4; stroke-opacity:1; fill:none\" points=\"\n",
       "  279.669,1423.18 279.669,1404.28 \n",
       "  \"/>\n",
       "<polyline clip-path=\"url(#clip490)\" style=\"stroke:#000000; stroke-linecap:butt; stroke-linejoin:round; stroke-width:4; stroke-opacity:1; fill:none\" points=\"\n",
       "  782.845,1423.18 782.845,1404.28 \n",
       "  \"/>\n",
       "<polyline clip-path=\"url(#clip490)\" style=\"stroke:#000000; stroke-linecap:butt; stroke-linejoin:round; stroke-width:4; stroke-opacity:1; fill:none\" points=\"\n",
       "  1286.02,1423.18 1286.02,1404.28 \n",
       "  \"/>\n",
       "<polyline clip-path=\"url(#clip490)\" style=\"stroke:#000000; stroke-linecap:butt; stroke-linejoin:round; stroke-width:4; stroke-opacity:1; fill:none\" points=\"\n",
       "  1789.2,1423.18 1789.2,1404.28 \n",
       "  \"/>\n",
       "<polyline clip-path=\"url(#clip490)\" style=\"stroke:#000000; stroke-linecap:butt; stroke-linejoin:round; stroke-width:4; stroke-opacity:1; fill:none\" points=\"\n",
       "  2292.37,1423.18 2292.37,1404.28 \n",
       "  \"/>\n",
       "<path clip-path=\"url(#clip490)\" d=\"M270.051 1481.64 L277.69 1481.64 L277.69 1455.28 L269.379 1456.95 L269.379 1452.69 L277.643 1451.02 L282.319 1451.02 L282.319 1481.64 L289.958 1481.64 L289.958 1485.58 L270.051 1485.58 L270.051 1481.64 Z\" fill=\"#000000\" fill-rule=\"evenodd\" fill-opacity=\"1\" /><path clip-path=\"url(#clip490)\" d=\"M777.498 1481.64 L793.817 1481.64 L793.817 1485.58 L771.873 1485.58 L771.873 1481.64 Q774.535 1478.89 779.118 1474.26 Q783.725 1469.61 784.905 1468.27 Q787.151 1465.74 788.03 1464.01 Q788.933 1462.25 788.933 1460.56 Q788.933 1457.8 786.989 1456.07 Q785.067 1454.33 781.966 1454.33 Q779.767 1454.33 777.313 1455.09 Q774.882 1455.86 772.105 1457.41 L772.105 1452.69 Q774.929 1451.55 777.382 1450.97 Q779.836 1450.39 781.873 1450.39 Q787.243 1450.39 790.438 1453.08 Q793.632 1455.77 793.632 1460.26 Q793.632 1462.39 792.822 1464.31 Q792.035 1466.2 789.929 1468.8 Q789.35 1469.47 786.248 1472.69 Q783.146 1475.88 777.498 1481.64 Z\" fill=\"#000000\" fill-rule=\"evenodd\" fill-opacity=\"1\" /><path clip-path=\"url(#clip490)\" d=\"M1290.27 1466.95 Q1293.63 1467.66 1295.5 1469.93 Q1297.4 1472.2 1297.4 1475.53 Q1297.4 1480.65 1293.88 1483.45 Q1290.36 1486.25 1283.88 1486.25 Q1281.7 1486.25 1279.39 1485.81 Q1277.1 1485.39 1274.64 1484.54 L1274.64 1480.02 Q1276.59 1481.16 1278.9 1481.74 Q1281.22 1482.32 1283.74 1482.32 Q1288.14 1482.32 1290.43 1480.58 Q1292.75 1478.84 1292.75 1475.53 Q1292.75 1472.48 1290.59 1470.77 Q1288.46 1469.03 1284.64 1469.03 L1280.62 1469.03 L1280.62 1465.19 L1284.83 1465.19 Q1288.28 1465.19 1290.11 1463.82 Q1291.94 1462.43 1291.94 1459.84 Q1291.94 1457.18 1290.04 1455.77 Q1288.16 1454.33 1284.64 1454.33 Q1282.72 1454.33 1280.52 1454.75 Q1278.33 1455.16 1275.69 1456.04 L1275.69 1451.88 Q1278.35 1451.14 1280.66 1450.77 Q1283 1450.39 1285.06 1450.39 Q1290.39 1450.39 1293.49 1452.83 Q1296.59 1455.23 1296.59 1459.35 Q1296.59 1462.22 1294.95 1464.21 Q1293.3 1466.18 1290.27 1466.95 Z\" fill=\"#000000\" fill-rule=\"evenodd\" fill-opacity=\"1\" /><path clip-path=\"url(#clip490)\" d=\"M1792.21 1455.09 L1780.4 1473.54 L1792.21 1473.54 L1792.21 1455.09 M1790.98 1451.02 L1796.86 1451.02 L1796.86 1473.54 L1801.79 1473.54 L1801.79 1477.43 L1796.86 1477.43 L1796.86 1485.58 L1792.21 1485.58 L1792.21 1477.43 L1776.61 1477.43 L1776.61 1472.92 L1790.98 1451.02 Z\" fill=\"#000000\" fill-rule=\"evenodd\" fill-opacity=\"1\" /><path clip-path=\"url(#clip490)\" d=\"M2282.65 1451.02 L2301.01 1451.02 L2301.01 1454.96 L2286.93 1454.96 L2286.93 1463.43 Q2287.95 1463.08 2288.97 1462.92 Q2289.99 1462.73 2291.01 1462.73 Q2296.8 1462.73 2300.18 1465.9 Q2303.56 1469.08 2303.56 1474.49 Q2303.56 1480.07 2300.08 1483.17 Q2296.61 1486.25 2290.29 1486.25 Q2288.12 1486.25 2285.85 1485.88 Q2283.6 1485.51 2281.19 1484.77 L2281.19 1480.07 Q2283.28 1481.2 2285.5 1481.76 Q2287.72 1482.32 2290.2 1482.32 Q2294.2 1482.32 2296.54 1480.21 Q2298.88 1478.1 2298.88 1474.49 Q2298.88 1470.88 2296.54 1468.77 Q2294.2 1466.67 2290.2 1466.67 Q2288.32 1466.67 2286.45 1467.08 Q2284.6 1467.5 2282.65 1468.38 L2282.65 1451.02 Z\" fill=\"#000000\" fill-rule=\"evenodd\" fill-opacity=\"1\" /><path clip-path=\"url(#clip490)\" d=\"M1296.66 1507.71 Q1296.66 1508.64 1296.24 1508.84 Q1295.85 1509.03 1294.56 1509.03 Q1293.05 1509.03 1292.12 1509.16 Q1291.18 1509.25 1290.6 1509.42 Q1290.02 1509.54 1289.67 1509.99 Q1289.35 1510.45 1289.22 1510.83 Q1289.09 1511.19 1288.86 1512.06 L1280.1 1547.19 Q1279.78 1548.38 1279.78 1548.8 Q1279.78 1549.22 1280.04 1549.48 Q1280.33 1549.74 1281.04 1549.87 Q1281.75 1549.96 1282.29 1549.99 Q1282.87 1549.99 1284.06 1549.99 Q1285.55 1549.99 1285.77 1550.25 Q1285.9 1550.41 1285.9 1550.7 Q1285.9 1551.32 1285.64 1551.64 Q1285.39 1551.93 1285.16 1551.99 Q1284.97 1552.02 1284.64 1552.02 Q1283.29 1552.02 1280.52 1551.93 Q1277.75 1551.83 1276.4 1551.83 L1268.22 1552.02 Q1267.25 1552.02 1267.25 1551.22 Q1267.25 1550.61 1267.51 1550.35 Q1267.77 1550.06 1268.06 1550.03 Q1268.35 1549.99 1269.09 1549.99 Q1271.73 1549.99 1272.86 1549.7 Q1274.02 1549.41 1274.34 1548.9 Q1274.69 1548.35 1275.08 1546.87 L1284.52 1509.09 L1284.45 1509.09 L1257.82 1550.83 L1257.62 1551.12 Q1257.43 1551.38 1257.37 1551.48 Q1257.3 1551.54 1257.11 1551.73 Q1256.95 1551.89 1256.75 1551.96 Q1256.59 1552.02 1256.37 1552.02 Q1255.98 1552.02 1255.76 1551.77 Q1255.56 1551.51 1255.5 1551.32 Q1255.47 1551.09 1255.37 1550.51 L1249.7 1509.61 L1249.64 1509.61 L1240.65 1545.55 Q1240.39 1546.55 1240.39 1547.06 Q1240.39 1548.38 1241.33 1549.19 Q1242.29 1549.96 1244.87 1549.99 Q1246.06 1549.99 1246.06 1550.7 Q1246.06 1552.02 1244.87 1552.02 Q1243.78 1552.02 1241.49 1551.93 Q1239.2 1551.83 1238.07 1551.83 Q1236.98 1551.83 1234.76 1551.93 Q1232.57 1552.02 1231.5 1552.02 Q1230.57 1552.02 1230.57 1551.22 Q1230.57 1549.99 1231.76 1549.99 Q1233.69 1549.93 1235.02 1549.54 Q1236.34 1549.16 1237.08 1548.42 Q1237.85 1547.68 1238.2 1546.94 Q1238.59 1546.16 1238.88 1545.03 L1247.25 1511.44 Q1247.51 1510.38 1247.51 1510.22 Q1247.51 1509.67 1247.19 1509.48 Q1246.9 1509.25 1246.06 1509.16 Q1244.45 1509.03 1243.23 1509.03 Q1242.42 1509.03 1242.1 1509 Q1241.81 1508.96 1241.55 1508.8 Q1241.33 1508.61 1241.33 1508.22 Q1241.33 1507.61 1241.59 1507.35 Q1241.88 1507.06 1242.2 1507.03 Q1242.52 1506.97 1243.29 1506.97 L1252.34 1506.97 Q1253.66 1506.97 1253.95 1507.19 Q1254.24 1507.39 1254.37 1508.48 L1259.52 1545.81 L1283.61 1508.22 Q1284.23 1507.29 1284.55 1507.13 Q1284.87 1506.97 1286.16 1506.97 L1294.89 1506.97 Q1295.59 1506.97 1295.88 1507 Q1296.17 1507.03 1296.4 1507.19 Q1296.66 1507.35 1296.66 1507.71 Z\" fill=\"#000000\" fill-rule=\"evenodd\" fill-opacity=\"1\" /><path clip-path=\"url(#clip490)\" d=\"M1334.74 1570.74 Q1334.74 1571.17 1334.56 1571.39 Q1334.4 1571.6 1334.24 1571.64 Q1334.11 1571.67 1333.9 1571.67 Q1333.32 1571.67 1331.29 1571.6 Q1329.26 1571.53 1328.67 1571.53 Q1327.73 1571.53 1325.79 1571.6 Q1323.85 1571.67 1322.9 1571.67 Q1322.27 1571.67 1322.27 1571.15 Q1322.27 1570.81 1322.34 1570.63 Q1322.41 1570.43 1322.59 1570.36 Q1322.79 1570.27 1322.9 1570.27 Q1323.04 1570.24 1323.38 1570.24 Q1323.83 1570.24 1324.3 1570.2 Q1324.77 1570.13 1325.36 1570 Q1325.95 1569.86 1326.31 1569.52 Q1326.69 1569.19 1326.69 1568.71 Q1326.69 1568.51 1326.53 1566.84 Q1326.37 1565.17 1326.17 1563.23 Q1325.97 1561.27 1325.95 1561 L1314.36 1561 Q1313.3 1562.83 1312.55 1564.09 Q1311.81 1565.35 1311.54 1565.78 Q1311.27 1566.21 1311.11 1566.48 Q1310.95 1566.75 1310.86 1566.91 Q1310.21 1568.1 1310.21 1568.62 Q1310.21 1570.06 1312.37 1570.24 Q1313.12 1570.24 1313.12 1570.79 Q1313.12 1571.19 1312.94 1571.42 Q1312.76 1571.62 1312.6 1571.64 Q1312.46 1571.67 1312.24 1571.67 Q1311.5 1571.67 1309.94 1571.6 Q1308.38 1571.53 1307.62 1571.53 Q1306.96 1571.53 1305.61 1571.6 Q1304.26 1571.67 1303.65 1571.67 Q1303.38 1571.67 1303.22 1571.51 Q1303.06 1571.35 1303.06 1571.15 Q1303.06 1570.83 1303.11 1570.65 Q1303.18 1570.47 1303.36 1570.38 Q1303.54 1570.29 1303.63 1570.29 Q1303.72 1570.27 1304.03 1570.24 Q1305.75 1570.13 1307.08 1569.32 Q1308.43 1568.49 1309.71 1566.34 L1325.77 1539.38 Q1325.92 1539.11 1326.04 1538.98 Q1326.15 1538.84 1326.37 1538.73 Q1326.62 1538.62 1326.98 1538.62 Q1327.55 1538.62 1327.66 1538.8 Q1327.77 1538.95 1327.84 1539.72 L1330.66 1568.58 Q1330.73 1569.19 1330.77 1569.43 Q1330.84 1569.66 1331.13 1569.91 Q1331.45 1570.13 1332.01 1570.2 Q1332.6 1570.24 1333.68 1570.24 Q1334.08 1570.24 1334.24 1570.27 Q1334.4 1570.27 1334.56 1570.38 Q1334.74 1570.49 1334.74 1570.74 M1325.81 1559.56 L1324.35 1544.34 L1315.24 1559.56 L1325.81 1559.56 Z\" fill=\"#000000\" fill-rule=\"evenodd\" fill-opacity=\"1\" /><polyline clip-path=\"url(#clip492)\" style=\"stroke:#000000; stroke-linecap:butt; stroke-linejoin:round; stroke-width:2; stroke-opacity:0.1; fill:none\" points=\"\n",
       "  219.288,1284.19 2352.76,1284.19 \n",
       "  \"/>\n",
       "<polyline clip-path=\"url(#clip492)\" style=\"stroke:#000000; stroke-linecap:butt; stroke-linejoin:round; stroke-width:2; stroke-opacity:0.1; fill:none\" points=\"\n",
       "  219.288,1096.92 2352.76,1096.92 \n",
       "  \"/>\n",
       "<polyline clip-path=\"url(#clip492)\" style=\"stroke:#000000; stroke-linecap:butt; stroke-linejoin:round; stroke-width:2; stroke-opacity:0.1; fill:none\" points=\"\n",
       "  219.288,909.648 2352.76,909.648 \n",
       "  \"/>\n",
       "<polyline clip-path=\"url(#clip492)\" style=\"stroke:#000000; stroke-linecap:butt; stroke-linejoin:round; stroke-width:2; stroke-opacity:0.1; fill:none\" points=\"\n",
       "  219.288,722.379 2352.76,722.379 \n",
       "  \"/>\n",
       "<polyline clip-path=\"url(#clip492)\" style=\"stroke:#000000; stroke-linecap:butt; stroke-linejoin:round; stroke-width:2; stroke-opacity:0.1; fill:none\" points=\"\n",
       "  219.288,535.109 2352.76,535.109 \n",
       "  \"/>\n",
       "<polyline clip-path=\"url(#clip492)\" style=\"stroke:#000000; stroke-linecap:butt; stroke-linejoin:round; stroke-width:2; stroke-opacity:0.1; fill:none\" points=\"\n",
       "  219.288,347.84 2352.76,347.84 \n",
       "  \"/>\n",
       "<polyline clip-path=\"url(#clip492)\" style=\"stroke:#000000; stroke-linecap:butt; stroke-linejoin:round; stroke-width:2; stroke-opacity:0.1; fill:none\" points=\"\n",
       "  219.288,160.571 2352.76,160.571 \n",
       "  \"/>\n",
       "<polyline clip-path=\"url(#clip490)\" style=\"stroke:#000000; stroke-linecap:butt; stroke-linejoin:round; stroke-width:4; stroke-opacity:1; fill:none\" points=\"\n",
       "  219.288,1423.18 219.288,47.2441 \n",
       "  \"/>\n",
       "<polyline clip-path=\"url(#clip490)\" style=\"stroke:#000000; stroke-linecap:butt; stroke-linejoin:round; stroke-width:4; stroke-opacity:1; fill:none\" points=\"\n",
       "  219.288,1284.19 238.185,1284.19 \n",
       "  \"/>\n",
       "<polyline clip-path=\"url(#clip490)\" style=\"stroke:#000000; stroke-linecap:butt; stroke-linejoin:round; stroke-width:4; stroke-opacity:1; fill:none\" points=\"\n",
       "  219.288,1096.92 238.185,1096.92 \n",
       "  \"/>\n",
       "<polyline clip-path=\"url(#clip490)\" style=\"stroke:#000000; stroke-linecap:butt; stroke-linejoin:round; stroke-width:4; stroke-opacity:1; fill:none\" points=\"\n",
       "  219.288,909.648 238.185,909.648 \n",
       "  \"/>\n",
       "<polyline clip-path=\"url(#clip490)\" style=\"stroke:#000000; stroke-linecap:butt; stroke-linejoin:round; stroke-width:4; stroke-opacity:1; fill:none\" points=\"\n",
       "  219.288,722.379 238.185,722.379 \n",
       "  \"/>\n",
       "<polyline clip-path=\"url(#clip490)\" style=\"stroke:#000000; stroke-linecap:butt; stroke-linejoin:round; stroke-width:4; stroke-opacity:1; fill:none\" points=\"\n",
       "  219.288,535.109 238.185,535.109 \n",
       "  \"/>\n",
       "<polyline clip-path=\"url(#clip490)\" style=\"stroke:#000000; stroke-linecap:butt; stroke-linejoin:round; stroke-width:4; stroke-opacity:1; fill:none\" points=\"\n",
       "  219.288,347.84 238.185,347.84 \n",
       "  \"/>\n",
       "<polyline clip-path=\"url(#clip490)\" style=\"stroke:#000000; stroke-linecap:butt; stroke-linejoin:round; stroke-width:4; stroke-opacity:1; fill:none\" points=\"\n",
       "  219.288,160.571 238.185,160.571 \n",
       "  \"/>\n",
       "<path clip-path=\"url(#clip490)\" d=\"M126.205 1269.99 Q122.593 1269.99 120.765 1273.55 Q118.959 1277.09 118.959 1284.22 Q118.959 1291.33 120.765 1294.89 Q122.593 1298.43 126.205 1298.43 Q129.839 1298.43 131.644 1294.89 Q133.473 1291.33 133.473 1284.22 Q133.473 1277.09 131.644 1273.55 Q129.839 1269.99 126.205 1269.99 M126.205 1266.28 Q132.015 1266.28 135.07 1270.89 Q138.149 1275.47 138.149 1284.22 Q138.149 1292.95 135.07 1297.55 Q132.015 1302.14 126.205 1302.14 Q120.394 1302.14 117.316 1297.55 Q114.26 1292.95 114.26 1284.22 Q114.26 1275.47 117.316 1270.89 Q120.394 1266.28 126.205 1266.28 Z\" fill=\"#000000\" fill-rule=\"evenodd\" fill-opacity=\"1\" /><path clip-path=\"url(#clip490)\" d=\"M146.366 1295.59 L151.251 1295.59 L151.251 1301.47 L146.366 1301.47 L146.366 1295.59 Z\" fill=\"#000000\" fill-rule=\"evenodd\" fill-opacity=\"1\" /><path clip-path=\"url(#clip490)\" d=\"M171.436 1285.05 Q168.102 1285.05 166.181 1286.84 Q164.283 1288.62 164.283 1291.74 Q164.283 1294.87 166.181 1296.65 Q168.102 1298.43 171.436 1298.43 Q174.769 1298.43 176.69 1296.65 Q178.612 1294.85 178.612 1291.74 Q178.612 1288.62 176.69 1286.84 Q174.792 1285.05 171.436 1285.05 M166.76 1283.06 Q163.751 1282.32 162.061 1280.26 Q160.394 1278.2 160.394 1275.24 Q160.394 1271.1 163.334 1268.69 Q166.297 1266.28 171.436 1266.28 Q176.598 1266.28 179.538 1268.69 Q182.477 1271.1 182.477 1275.24 Q182.477 1278.2 180.788 1280.26 Q179.121 1282.32 176.135 1283.06 Q179.514 1283.85 181.389 1286.14 Q183.288 1288.43 183.288 1291.74 Q183.288 1296.77 180.209 1299.45 Q177.153 1302.14 171.436 1302.14 Q165.718 1302.14 162.64 1299.45 Q159.584 1296.77 159.584 1291.74 Q159.584 1288.43 161.482 1286.14 Q163.38 1283.85 166.76 1283.06 M165.047 1275.68 Q165.047 1278.37 166.714 1279.87 Q168.403 1281.37 171.436 1281.37 Q174.445 1281.37 176.135 1279.87 Q177.848 1278.37 177.848 1275.68 Q177.848 1272.99 176.135 1271.49 Q174.445 1269.99 171.436 1269.99 Q168.403 1269.99 166.714 1271.49 Q165.047 1272.99 165.047 1275.68 Z\" fill=\"#000000\" fill-rule=\"evenodd\" fill-opacity=\"1\" /><path clip-path=\"url(#clip490)\" d=\"M116.922 1110.26 L124.561 1110.26 L124.561 1083.9 L116.251 1085.56 L116.251 1081.3 L124.515 1079.64 L129.191 1079.64 L129.191 1110.26 L136.829 1110.26 L136.829 1114.2 L116.922 1114.2 L116.922 1110.26 Z\" fill=\"#000000\" fill-rule=\"evenodd\" fill-opacity=\"1\" /><path clip-path=\"url(#clip490)\" d=\"M146.274 1108.32 L151.158 1108.32 L151.158 1114.2 L146.274 1114.2 L146.274 1108.32 Z\" fill=\"#000000\" fill-rule=\"evenodd\" fill-opacity=\"1\" /><path clip-path=\"url(#clip490)\" d=\"M171.343 1082.72 Q167.732 1082.72 165.903 1086.28 Q164.098 1089.82 164.098 1096.95 Q164.098 1104.06 165.903 1107.62 Q167.732 1111.17 171.343 1111.17 Q174.977 1111.17 176.783 1107.62 Q178.612 1104.06 178.612 1096.95 Q178.612 1089.82 176.783 1086.28 Q174.977 1082.72 171.343 1082.72 M171.343 1079.01 Q177.153 1079.01 180.209 1083.62 Q183.288 1088.2 183.288 1096.95 Q183.288 1105.68 180.209 1110.29 Q177.153 1114.87 171.343 1114.87 Q165.533 1114.87 162.454 1110.29 Q159.399 1105.68 159.399 1096.95 Q159.399 1088.2 162.454 1083.62 Q165.533 1079.01 171.343 1079.01 Z\" fill=\"#000000\" fill-rule=\"evenodd\" fill-opacity=\"1\" /><path clip-path=\"url(#clip490)\" d=\"M118.519 922.993 L126.158 922.993 L126.158 896.627 L117.848 898.294 L117.848 894.035 L126.112 892.368 L130.788 892.368 L130.788 922.993 L138.427 922.993 L138.427 926.928 L118.519 926.928 L118.519 922.993 Z\" fill=\"#000000\" fill-rule=\"evenodd\" fill-opacity=\"1\" /><path clip-path=\"url(#clip490)\" d=\"M147.871 921.049 L152.755 921.049 L152.755 926.928 L147.871 926.928 L147.871 921.049 Z\" fill=\"#000000\" fill-rule=\"evenodd\" fill-opacity=\"1\" /><path clip-path=\"url(#clip490)\" d=\"M166.968 922.993 L183.288 922.993 L183.288 926.928 L161.343 926.928 L161.343 922.993 Q164.005 920.238 168.589 915.609 Q173.195 910.956 174.376 909.613 Q176.621 907.09 177.501 905.354 Q178.403 903.595 178.403 901.905 Q178.403 899.151 176.459 897.414 Q174.538 895.678 171.436 895.678 Q169.237 895.678 166.783 896.442 Q164.352 897.206 161.575 898.757 L161.575 894.035 Q164.399 892.901 166.852 892.322 Q169.306 891.743 171.343 891.743 Q176.714 891.743 179.908 894.428 Q183.102 897.113 183.102 901.604 Q183.102 903.734 182.292 905.655 Q181.505 907.553 179.399 910.146 Q178.82 910.817 175.718 914.035 Q172.616 917.229 166.968 922.993 Z\" fill=\"#000000\" fill-rule=\"evenodd\" fill-opacity=\"1\" /><path clip-path=\"url(#clip490)\" d=\"M116.436 735.724 L124.075 735.724 L124.075 709.358 L115.765 711.025 L115.765 706.765 L124.029 705.099 L128.705 705.099 L128.705 735.724 L136.343 735.724 L136.343 739.659 L116.436 739.659 L116.436 735.724 Z\" fill=\"#000000\" fill-rule=\"evenodd\" fill-opacity=\"1\" /><path clip-path=\"url(#clip490)\" d=\"M145.788 733.779 L150.672 733.779 L150.672 739.659 L145.788 739.659 L145.788 733.779 Z\" fill=\"#000000\" fill-rule=\"evenodd\" fill-opacity=\"1\" /><path clip-path=\"url(#clip490)\" d=\"M173.704 709.173 L161.899 727.622 L173.704 727.622 L173.704 709.173 M172.477 705.099 L178.357 705.099 L178.357 727.622 L183.288 727.622 L183.288 731.511 L178.357 731.511 L178.357 739.659 L173.704 739.659 L173.704 731.511 L158.103 731.511 L158.103 726.997 L172.477 705.099 Z\" fill=\"#000000\" fill-rule=\"evenodd\" fill-opacity=\"1\" /><path clip-path=\"url(#clip490)\" d=\"M116.76 548.454 L124.399 548.454 L124.399 522.089 L116.089 523.755 L116.089 519.496 L124.353 517.829 L129.029 517.829 L129.029 548.454 L136.667 548.454 L136.667 552.389 L116.76 552.389 L116.76 548.454 Z\" fill=\"#000000\" fill-rule=\"evenodd\" fill-opacity=\"1\" /><path clip-path=\"url(#clip490)\" d=\"M146.112 546.51 L150.996 546.51 L150.996 552.389 L146.112 552.389 L146.112 546.51 Z\" fill=\"#000000\" fill-rule=\"evenodd\" fill-opacity=\"1\" /><path clip-path=\"url(#clip490)\" d=\"M171.76 533.246 Q168.612 533.246 166.76 535.399 Q164.931 537.551 164.931 541.301 Q164.931 545.028 166.76 547.204 Q168.612 549.357 171.76 549.357 Q174.908 549.357 176.737 547.204 Q178.589 545.028 178.589 541.301 Q178.589 537.551 176.737 535.399 Q174.908 533.246 171.76 533.246 M181.042 518.593 L181.042 522.852 Q179.283 522.019 177.477 521.579 Q175.695 521.139 173.936 521.139 Q169.306 521.139 166.852 524.264 Q164.422 527.389 164.075 533.709 Q165.44 531.695 167.501 530.63 Q169.561 529.542 172.038 529.542 Q177.246 529.542 180.255 532.714 Q183.288 535.862 183.288 541.301 Q183.288 546.625 180.139 549.843 Q176.991 553.061 171.76 553.061 Q165.765 553.061 162.593 548.477 Q159.422 543.871 159.422 535.144 Q159.422 526.95 163.311 522.089 Q167.2 517.204 173.751 517.204 Q175.51 517.204 177.292 517.552 Q179.098 517.899 181.042 518.593 Z\" fill=\"#000000\" fill-rule=\"evenodd\" fill-opacity=\"1\" /><path clip-path=\"url(#clip490)\" d=\"M117.015 361.185 L124.654 361.185 L124.654 334.819 L116.343 336.486 L116.343 332.227 L124.607 330.56 L129.283 330.56 L129.283 361.185 L136.922 361.185 L136.922 365.12 L117.015 365.12 L117.015 361.185 Z\" fill=\"#000000\" fill-rule=\"evenodd\" fill-opacity=\"1\" /><path clip-path=\"url(#clip490)\" d=\"M146.366 359.24 L151.251 359.24 L151.251 365.12 L146.366 365.12 L146.366 359.24 Z\" fill=\"#000000\" fill-rule=\"evenodd\" fill-opacity=\"1\" /><path clip-path=\"url(#clip490)\" d=\"M171.436 348.708 Q168.102 348.708 166.181 350.49 Q164.283 352.273 164.283 355.398 Q164.283 358.523 166.181 360.305 Q168.102 362.088 171.436 362.088 Q174.769 362.088 176.69 360.305 Q178.612 358.5 178.612 355.398 Q178.612 352.273 176.69 350.49 Q174.792 348.708 171.436 348.708 M166.76 346.717 Q163.751 345.977 162.061 343.916 Q160.394 341.856 160.394 338.893 Q160.394 334.75 163.334 332.342 Q166.297 329.935 171.436 329.935 Q176.598 329.935 179.538 332.342 Q182.477 334.75 182.477 338.893 Q182.477 341.856 180.788 343.916 Q179.121 345.977 176.135 346.717 Q179.514 347.504 181.389 349.796 Q183.288 352.088 183.288 355.398 Q183.288 360.421 180.209 363.106 Q177.153 365.791 171.436 365.791 Q165.718 365.791 162.64 363.106 Q159.584 360.421 159.584 355.398 Q159.584 352.088 161.482 349.796 Q163.38 347.504 166.76 346.717 M165.047 339.333 Q165.047 342.018 166.714 343.523 Q168.403 345.027 171.436 345.027 Q174.445 345.027 176.135 343.523 Q177.848 342.018 177.848 339.333 Q177.848 336.648 176.135 335.143 Q174.445 333.639 171.436 333.639 Q168.403 333.639 166.714 335.143 Q165.047 336.648 165.047 339.333 Z\" fill=\"#000000\" fill-rule=\"evenodd\" fill-opacity=\"1\" /><path clip-path=\"url(#clip490)\" d=\"M120.14 173.915 L136.459 173.915 L136.459 177.851 L114.515 177.851 L114.515 173.915 Q117.177 171.161 121.76 166.531 Q126.367 161.878 127.547 160.536 Q129.792 158.013 130.672 156.277 Q131.575 154.517 131.575 152.828 Q131.575 150.073 129.63 148.337 Q127.709 146.601 124.607 146.601 Q122.408 146.601 119.955 147.365 Q117.524 148.128 114.746 149.679 L114.746 144.957 Q117.57 143.823 120.024 143.244 Q122.478 142.666 124.515 142.666 Q129.885 142.666 133.08 145.351 Q136.274 148.036 136.274 152.527 Q136.274 154.656 135.464 156.577 Q134.677 158.476 132.57 161.068 Q131.992 161.739 128.89 164.957 Q125.788 168.152 120.14 173.915 Z\" fill=\"#000000\" fill-rule=\"evenodd\" fill-opacity=\"1\" /><path clip-path=\"url(#clip490)\" d=\"M146.274 171.971 L151.158 171.971 L151.158 177.851 L146.274 177.851 L146.274 171.971 Z\" fill=\"#000000\" fill-rule=\"evenodd\" fill-opacity=\"1\" /><path clip-path=\"url(#clip490)\" d=\"M171.343 146.369 Q167.732 146.369 165.903 149.934 Q164.098 153.476 164.098 160.605 Q164.098 167.712 165.903 171.276 Q167.732 174.818 171.343 174.818 Q174.977 174.818 176.783 171.276 Q178.612 167.712 178.612 160.605 Q178.612 153.476 176.783 149.934 Q174.977 146.369 171.343 146.369 M171.343 142.666 Q177.153 142.666 180.209 147.272 Q183.288 151.855 183.288 160.605 Q183.288 169.332 180.209 173.939 Q177.153 178.522 171.343 178.522 Q165.533 178.522 162.454 173.939 Q159.399 169.332 159.399 160.605 Q159.399 151.855 162.454 147.272 Q165.533 142.666 171.343 142.666 Z\" fill=\"#000000\" fill-rule=\"evenodd\" fill-opacity=\"1\" /><path clip-path=\"url(#clip490)\" d=\"M18.0438 734.703 L24.314 734.703 Q22.5634 738.363 21.704 741.61 Q20.8447 744.856 20.8447 747.88 Q20.8447 753.131 22.8817 755.996 Q24.9187 758.829 28.6745 758.829 Q31.8255 758.829 33.4488 756.951 Q35.0402 755.041 36.0269 749.758 L36.8226 745.875 Q38.1912 738.681 41.6605 735.276 Q45.098 731.838 50.8908 731.838 Q57.7976 731.838 61.3624 736.485 Q64.9272 741.1 64.9272 750.044 Q64.9272 753.418 64.1633 757.237 Q63.3994 761.025 61.9035 765.099 L55.2831 765.099 Q57.4793 761.184 58.5933 757.428 Q59.7073 753.673 59.7073 750.044 Q59.7073 744.538 57.543 741.546 Q55.3786 738.554 51.3682 738.554 Q47.8671 738.554 45.8937 740.718 Q43.9204 742.851 42.9337 747.752 L42.1698 751.667 Q40.7375 758.861 37.682 762.075 Q34.6264 765.29 29.1837 765.29 Q22.8817 765.29 19.2532 760.866 Q15.6248 756.41 15.6248 748.612 Q15.6248 745.27 16.2295 741.8 Q16.8343 738.331 18.0438 734.703 Z\" fill=\"#000000\" fill-rule=\"evenodd\" fill-opacity=\"1\" /><path clip-path=\"url(#clip490)\" d=\"M53.2143 705.134 L54.8057 705.134 L54.8057 722.099 Q58.1795 721.844 59.9619 719.807 Q61.7443 717.738 61.7443 714.078 Q61.7443 711.945 61.2669 709.94 Q60.8213 707.967 59.8983 705.993 L62.9856 705.993 Q63.7495 707.967 64.1315 710.067 Q64.5134 712.136 64.5134 714.301 Q64.5134 719.68 61.7443 722.799 Q58.9752 725.95 54.2328 725.95 Q49.3312 725.95 46.4348 722.958 Q43.5702 719.998 43.5702 714.937 Q43.5702 710.418 46.1484 707.776 Q48.7583 705.134 53.2143 705.134 M52.2276 708.826 Q49.554 708.858 47.9307 710.513 Q46.3393 712.168 46.3393 714.905 Q46.3393 717.993 47.8989 719.839 Q49.4267 721.685 52.2276 721.971 L52.2276 708.826 Z\" fill=\"#000000\" fill-rule=\"evenodd\" fill-opacity=\"1\" /><polyline clip-path=\"url(#clip492)\" style=\"stroke:#009af9; stroke-linecap:butt; stroke-linejoin:round; stroke-width:4; stroke-opacity:1; fill:none\" points=\"\n",
       "  279.669,1384.24 782.845,909.907 1286.02,387.609 1789.2,909.907 2292.37,1384.24 \n",
       "  \"/>\n",
       "<polyline clip-path=\"url(#clip492)\" style=\"stroke:#e26f46; stroke-linecap:butt; stroke-linejoin:round; stroke-width:4; stroke-opacity:1; fill:none\" points=\"\n",
       "  279.669,1384.24 782.845,772.317 1286.02,256.213 1789.2,772.317 2292.37,1384.24 \n",
       "  \"/>\n",
       "<polyline clip-path=\"url(#clip492)\" style=\"stroke:#3da44d; stroke-linecap:butt; stroke-linejoin:round; stroke-width:4; stroke-opacity:1; fill:none\" points=\"\n",
       "  279.669,1384.24 782.845,735.393 1286.02,221.043 1789.2,735.393 2292.37,1384.24 \n",
       "  \"/>\n",
       "<polyline clip-path=\"url(#clip492)\" style=\"stroke:#c271d2; stroke-linecap:butt; stroke-linejoin:round; stroke-width:4; stroke-opacity:1; fill:none\" points=\"\n",
       "  279.669,1384.24 782.845,735.252 1286.02,114.748 1789.2,735.252 2292.37,1384.24 \n",
       "  \"/>\n",
       "<polyline clip-path=\"url(#clip492)\" style=\"stroke:#ac8d18; stroke-linecap:butt; stroke-linejoin:round; stroke-width:4; stroke-opacity:1; fill:none\" points=\"\n",
       "  279.669,1384.24 782.845,737.319 1286.02,92.221 1789.2,737.319 2292.37,1384.24 \n",
       "  \"/>\n",
       "<polyline clip-path=\"url(#clip492)\" style=\"stroke:#00a9ad; stroke-linecap:butt; stroke-linejoin:round; stroke-width:4; stroke-opacity:1; fill:none\" points=\"\n",
       "  279.669,1384.24 782.845,735.212 1286.02,86.1857 1789.2,735.212 2292.37,1384.24 \n",
       "  \"/>\n",
       "<path clip-path=\"url(#clip490)\" d=\"\n",
       "M1766.19 455.989 L2281.64 455.989 L2281.64 93.1086 L1766.19 93.1086  Z\n",
       "  \" fill=\"#ffffff\" fill-rule=\"evenodd\" fill-opacity=\"1\"/>\n",
       "<polyline clip-path=\"url(#clip490)\" style=\"stroke:#000000; stroke-linecap:butt; stroke-linejoin:round; stroke-width:4; stroke-opacity:1; fill:none\" points=\"\n",
       "  1766.19,455.989 2281.64,455.989 2281.64,93.1086 1766.19,93.1086 1766.19,455.989 \n",
       "  \"/>\n",
       "<polyline clip-path=\"url(#clip490)\" style=\"stroke:#009af9; stroke-linecap:butt; stroke-linejoin:round; stroke-width:4; stroke-opacity:1; fill:none\" points=\"\n",
       "  1789.89,144.949 1932.12,144.949 \n",
       "  \"/>\n",
       "<path clip-path=\"url(#clip490)\" d=\"M1955.83 127.669 L1960.5 127.669 L1960.5 162.229 L1955.83 162.229 L1955.83 127.669 Z\" fill=\"#000000\" fill-rule=\"evenodd\" fill-opacity=\"1\" /><path clip-path=\"url(#clip490)\" d=\"M1973.84 128.942 L1973.84 136.303 L1982.61 136.303 L1982.61 139.613 L1973.84 139.613 L1973.84 153.687 Q1973.84 156.858 1974.69 157.761 Q1975.57 158.664 1978.24 158.664 L1982.61 158.664 L1982.61 162.229 L1978.24 162.229 Q1973.31 162.229 1971.43 160.4 Q1969.56 158.548 1969.56 153.687 L1969.56 139.613 L1966.43 139.613 L1966.43 136.303 L1969.56 136.303 L1969.56 128.942 L1973.84 128.942 Z\" fill=\"#000000\" fill-rule=\"evenodd\" fill-opacity=\"1\" /><path clip-path=\"url(#clip490)\" d=\"M2010.39 148.201 L2010.39 150.284 L1990.81 150.284 Q1991.08 154.682 1993.44 156.997 Q1995.83 159.289 2000.06 159.289 Q2002.52 159.289 2004.81 158.687 Q2007.12 158.085 2009.39 156.881 L2009.39 160.909 Q2007.1 161.881 2004.69 162.391 Q2002.29 162.9 1999.81 162.9 Q1993.61 162.9 1989.97 159.289 Q1986.36 155.678 1986.36 149.52 Q1986.36 143.155 1989.79 139.428 Q1993.24 135.678 1999.07 135.678 Q2004.3 135.678 2007.33 139.057 Q2010.39 142.414 2010.39 148.201 M2006.13 146.951 Q2006.08 143.456 2004.16 141.372 Q2002.26 139.289 1999.12 139.289 Q1995.55 139.289 1993.4 141.303 Q1991.27 143.317 1990.94 146.974 L2006.13 146.951 Z\" fill=\"#000000\" fill-rule=\"evenodd\" fill-opacity=\"1\" /><path clip-path=\"url(#clip490)\" d=\"M2032.4 140.284 Q2031.68 139.868 2030.83 139.682 Q2029.99 139.474 2028.98 139.474 Q2025.37 139.474 2023.42 141.835 Q2021.5 144.173 2021.5 148.571 L2021.5 162.229 L2017.22 162.229 L2017.22 136.303 L2021.5 136.303 L2021.5 140.331 Q2022.84 137.969 2024.99 136.835 Q2027.15 135.678 2030.23 135.678 Q2030.67 135.678 2031.2 135.747 Q2031.73 135.794 2032.38 135.909 L2032.4 140.284 Z\" fill=\"#000000\" fill-rule=\"evenodd\" fill-opacity=\"1\" /><path clip-path=\"url(#clip490)\" d=\"M2048.65 149.196 Q2043.49 149.196 2041.5 150.377 Q2039.51 151.557 2039.51 154.405 Q2039.51 156.673 2040.99 158.016 Q2042.49 159.335 2045.06 159.335 Q2048.61 159.335 2050.74 156.835 Q2052.89 154.312 2052.89 150.145 L2052.89 149.196 L2048.65 149.196 M2057.15 147.437 L2057.15 162.229 L2052.89 162.229 L2052.89 158.293 Q2051.43 160.655 2049.25 161.789 Q2047.08 162.9 2043.93 162.9 Q2039.95 162.9 2037.59 160.678 Q2035.25 158.432 2035.25 154.682 Q2035.25 150.307 2038.17 148.085 Q2041.11 145.863 2046.92 145.863 L2052.89 145.863 L2052.89 145.446 Q2052.89 142.507 2050.94 140.909 Q2049.02 139.289 2045.53 139.289 Q2043.3 139.289 2041.2 139.821 Q2039.09 140.354 2037.15 141.419 L2037.15 137.483 Q2039.49 136.581 2041.68 136.141 Q2043.88 135.678 2045.97 135.678 Q2051.59 135.678 2054.37 138.594 Q2057.15 141.511 2057.15 147.437 Z\" fill=\"#000000\" fill-rule=\"evenodd\" fill-opacity=\"1\" /><path clip-path=\"url(#clip490)\" d=\"M2070.13 128.942 L2070.13 136.303 L2078.91 136.303 L2078.91 139.613 L2070.13 139.613 L2070.13 153.687 Q2070.13 156.858 2070.99 157.761 Q2071.87 158.664 2074.53 158.664 L2078.91 158.664 L2078.91 162.229 L2074.53 162.229 Q2069.6 162.229 2067.73 160.4 Q2065.85 158.548 2065.85 153.687 L2065.85 139.613 L2062.73 139.613 L2062.73 136.303 L2065.85 136.303 L2065.85 128.942 L2070.13 128.942 Z\" fill=\"#000000\" fill-rule=\"evenodd\" fill-opacity=\"1\" /><path clip-path=\"url(#clip490)\" d=\"M2084.51 136.303 L2088.77 136.303 L2088.77 162.229 L2084.51 162.229 L2084.51 136.303 M2084.51 126.21 L2088.77 126.21 L2088.77 131.604 L2084.51 131.604 L2084.51 126.21 Z\" fill=\"#000000\" fill-rule=\"evenodd\" fill-opacity=\"1\" /><path clip-path=\"url(#clip490)\" d=\"M2107.73 139.289 Q2104.3 139.289 2102.31 141.974 Q2100.32 144.636 2100.32 149.289 Q2100.32 153.942 2102.29 156.627 Q2104.28 159.289 2107.73 159.289 Q2111.13 159.289 2113.12 156.604 Q2115.11 153.918 2115.11 149.289 Q2115.11 144.682 2113.12 141.997 Q2111.13 139.289 2107.73 139.289 M2107.73 135.678 Q2113.28 135.678 2116.45 139.289 Q2119.62 142.9 2119.62 149.289 Q2119.62 155.655 2116.45 159.289 Q2113.28 162.9 2107.73 162.9 Q2102.15 162.9 2098.98 159.289 Q2095.83 155.655 2095.83 149.289 Q2095.83 142.9 2098.98 139.289 Q2102.15 135.678 2107.73 135.678 Z\" fill=\"#000000\" fill-rule=\"evenodd\" fill-opacity=\"1\" /><path clip-path=\"url(#clip490)\" d=\"M2148.23 146.581 L2148.23 162.229 L2143.98 162.229 L2143.98 146.719 Q2143.98 143.039 2142.54 141.21 Q2141.11 139.382 2138.24 139.382 Q2134.79 139.382 2132.8 141.581 Q2130.8 143.78 2130.8 147.576 L2130.8 162.229 L2126.52 162.229 L2126.52 136.303 L2130.8 136.303 L2130.8 140.331 Q2132.33 137.993 2134.39 136.835 Q2136.48 135.678 2139.18 135.678 Q2143.65 135.678 2145.94 138.456 Q2148.23 141.21 2148.23 146.581 Z\" fill=\"#000000\" fill-rule=\"evenodd\" fill-opacity=\"1\" /><path clip-path=\"url(#clip490)\" d=\"M2191.57 141.372 L2184.83 141.372 L2182.89 149.104 L2189.67 149.104 L2191.57 141.372 M2188.1 128.201 L2185.69 137.807 L2192.45 137.807 L2194.88 128.201 L2198.58 128.201 L2196.2 137.807 L2203.42 137.807 L2203.42 141.372 L2195.29 141.372 L2193.4 149.104 L2200.76 149.104 L2200.76 152.645 L2192.49 152.645 L2190.09 162.229 L2186.38 162.229 L2188.77 152.645 L2181.98 152.645 L2179.6 162.229 L2175.87 162.229 L2178.28 152.645 L2170.99 152.645 L2170.99 149.104 L2179.14 149.104 L2181.08 141.372 L2173.63 141.372 L2173.63 137.807 L2181.98 137.807 L2184.35 128.201 L2188.1 128.201 Z\" fill=\"#000000\" fill-rule=\"evenodd\" fill-opacity=\"1\" /><path clip-path=\"url(#clip490)\" d=\"M2212.17 127.669 L2230.53 127.669 L2230.53 131.604 L2216.45 131.604 L2216.45 140.076 Q2217.47 139.729 2218.49 139.567 Q2219.51 139.382 2220.53 139.382 Q2226.31 139.382 2229.69 142.553 Q2233.07 145.724 2233.07 151.141 Q2233.07 156.719 2229.6 159.821 Q2226.13 162.9 2219.81 162.9 Q2217.63 162.9 2215.36 162.53 Q2213.12 162.159 2210.71 161.418 L2210.71 156.719 Q2212.79 157.854 2215.02 158.409 Q2217.24 158.965 2219.72 158.965 Q2223.72 158.965 2226.06 156.858 Q2228.4 154.752 2228.4 151.141 Q2228.4 147.53 2226.06 145.423 Q2223.72 143.317 2219.72 143.317 Q2217.84 143.317 2215.97 143.733 Q2214.11 144.15 2212.17 145.03 L2212.17 127.669 Z\" fill=\"#000000\" fill-rule=\"evenodd\" fill-opacity=\"1\" /><polyline clip-path=\"url(#clip490)\" style=\"stroke:#e26f46; stroke-linecap:butt; stroke-linejoin:round; stroke-width:4; stroke-opacity:1; fill:none\" points=\"\n",
       "  1789.89,196.789 1932.12,196.789 \n",
       "  \"/>\n",
       "<path clip-path=\"url(#clip490)\" d=\"M1955.83 179.509 L1960.5 179.509 L1960.5 214.069 L1955.83 214.069 L1955.83 179.509 Z\" fill=\"#000000\" fill-rule=\"evenodd\" fill-opacity=\"1\" /><path clip-path=\"url(#clip490)\" d=\"M1973.84 180.782 L1973.84 188.143 L1982.61 188.143 L1982.61 191.453 L1973.84 191.453 L1973.84 205.527 Q1973.84 208.698 1974.69 209.601 Q1975.57 210.504 1978.24 210.504 L1982.61 210.504 L1982.61 214.069 L1978.24 214.069 Q1973.31 214.069 1971.43 212.24 Q1969.56 210.388 1969.56 205.527 L1969.56 191.453 L1966.43 191.453 L1966.43 188.143 L1969.56 188.143 L1969.56 180.782 L1973.84 180.782 Z\" fill=\"#000000\" fill-rule=\"evenodd\" fill-opacity=\"1\" /><path clip-path=\"url(#clip490)\" d=\"M2010.39 200.041 L2010.39 202.124 L1990.81 202.124 Q1991.08 206.522 1993.44 208.837 Q1995.83 211.129 2000.06 211.129 Q2002.52 211.129 2004.81 210.527 Q2007.12 209.925 2009.39 208.721 L2009.39 212.749 Q2007.1 213.721 2004.69 214.231 Q2002.29 214.74 1999.81 214.74 Q1993.61 214.74 1989.97 211.129 Q1986.36 207.518 1986.36 201.36 Q1986.36 194.995 1989.79 191.268 Q1993.24 187.518 1999.07 187.518 Q2004.3 187.518 2007.33 190.897 Q2010.39 194.254 2010.39 200.041 M2006.13 198.791 Q2006.08 195.296 2004.16 193.212 Q2002.26 191.129 1999.12 191.129 Q1995.55 191.129 1993.4 193.143 Q1991.27 195.157 1990.94 198.814 L2006.13 198.791 Z\" fill=\"#000000\" fill-rule=\"evenodd\" fill-opacity=\"1\" /><path clip-path=\"url(#clip490)\" d=\"M2032.4 192.124 Q2031.68 191.708 2030.83 191.522 Q2029.99 191.314 2028.98 191.314 Q2025.37 191.314 2023.42 193.675 Q2021.5 196.013 2021.5 200.411 L2021.5 214.069 L2017.22 214.069 L2017.22 188.143 L2021.5 188.143 L2021.5 192.171 Q2022.84 189.809 2024.99 188.675 Q2027.15 187.518 2030.23 187.518 Q2030.67 187.518 2031.2 187.587 Q2031.73 187.634 2032.38 187.749 L2032.4 192.124 Z\" fill=\"#000000\" fill-rule=\"evenodd\" fill-opacity=\"1\" /><path clip-path=\"url(#clip490)\" d=\"M2048.65 201.036 Q2043.49 201.036 2041.5 202.217 Q2039.51 203.397 2039.51 206.245 Q2039.51 208.513 2040.99 209.856 Q2042.49 211.175 2045.06 211.175 Q2048.61 211.175 2050.74 208.675 Q2052.89 206.152 2052.89 201.985 L2052.89 201.036 L2048.65 201.036 M2057.15 199.277 L2057.15 214.069 L2052.89 214.069 L2052.89 210.133 Q2051.43 212.495 2049.25 213.629 Q2047.08 214.74 2043.93 214.74 Q2039.95 214.74 2037.59 212.518 Q2035.25 210.272 2035.25 206.522 Q2035.25 202.147 2038.17 199.925 Q2041.11 197.703 2046.92 197.703 L2052.89 197.703 L2052.89 197.286 Q2052.89 194.347 2050.94 192.749 Q2049.02 191.129 2045.53 191.129 Q2043.3 191.129 2041.2 191.661 Q2039.09 192.194 2037.15 193.259 L2037.15 189.323 Q2039.49 188.421 2041.68 187.981 Q2043.88 187.518 2045.97 187.518 Q2051.59 187.518 2054.37 190.434 Q2057.15 193.351 2057.15 199.277 Z\" fill=\"#000000\" fill-rule=\"evenodd\" fill-opacity=\"1\" /><path clip-path=\"url(#clip490)\" d=\"M2070.13 180.782 L2070.13 188.143 L2078.91 188.143 L2078.91 191.453 L2070.13 191.453 L2070.13 205.527 Q2070.13 208.698 2070.99 209.601 Q2071.87 210.504 2074.53 210.504 L2078.91 210.504 L2078.91 214.069 L2074.53 214.069 Q2069.6 214.069 2067.73 212.24 Q2065.85 210.388 2065.85 205.527 L2065.85 191.453 L2062.73 191.453 L2062.73 188.143 L2065.85 188.143 L2065.85 180.782 L2070.13 180.782 Z\" fill=\"#000000\" fill-rule=\"evenodd\" fill-opacity=\"1\" /><path clip-path=\"url(#clip490)\" d=\"M2084.51 188.143 L2088.77 188.143 L2088.77 214.069 L2084.51 214.069 L2084.51 188.143 M2084.51 178.05 L2088.77 178.05 L2088.77 183.444 L2084.51 183.444 L2084.51 178.05 Z\" fill=\"#000000\" fill-rule=\"evenodd\" fill-opacity=\"1\" /><path clip-path=\"url(#clip490)\" d=\"M2107.73 191.129 Q2104.3 191.129 2102.31 193.814 Q2100.32 196.476 2100.32 201.129 Q2100.32 205.782 2102.29 208.467 Q2104.28 211.129 2107.73 211.129 Q2111.13 211.129 2113.12 208.444 Q2115.11 205.758 2115.11 201.129 Q2115.11 196.522 2113.12 193.837 Q2111.13 191.129 2107.73 191.129 M2107.73 187.518 Q2113.28 187.518 2116.45 191.129 Q2119.62 194.74 2119.62 201.129 Q2119.62 207.495 2116.45 211.129 Q2113.28 214.74 2107.73 214.74 Q2102.15 214.74 2098.98 211.129 Q2095.83 207.495 2095.83 201.129 Q2095.83 194.74 2098.98 191.129 Q2102.15 187.518 2107.73 187.518 Z\" fill=\"#000000\" fill-rule=\"evenodd\" fill-opacity=\"1\" /><path clip-path=\"url(#clip490)\" d=\"M2148.23 198.421 L2148.23 214.069 L2143.98 214.069 L2143.98 198.559 Q2143.98 194.879 2142.54 193.05 Q2141.11 191.222 2138.24 191.222 Q2134.79 191.222 2132.8 193.421 Q2130.8 195.62 2130.8 199.416 L2130.8 214.069 L2126.52 214.069 L2126.52 188.143 L2130.8 188.143 L2130.8 192.171 Q2132.33 189.833 2134.39 188.675 Q2136.48 187.518 2139.18 187.518 Q2143.65 187.518 2145.94 190.296 Q2148.23 193.05 2148.23 198.421 Z\" fill=\"#000000\" fill-rule=\"evenodd\" fill-opacity=\"1\" /><path clip-path=\"url(#clip490)\" d=\"M2191.57 193.212 L2184.83 193.212 L2182.89 200.944 L2189.67 200.944 L2191.57 193.212 M2188.1 180.041 L2185.69 189.647 L2192.45 189.647 L2194.88 180.041 L2198.58 180.041 L2196.2 189.647 L2203.42 189.647 L2203.42 193.212 L2195.29 193.212 L2193.4 200.944 L2200.76 200.944 L2200.76 204.485 L2192.49 204.485 L2190.09 214.069 L2186.38 214.069 L2188.77 204.485 L2181.98 204.485 L2179.6 214.069 L2175.87 214.069 L2178.28 204.485 L2170.99 204.485 L2170.99 200.944 L2179.14 200.944 L2181.08 193.212 L2173.63 193.212 L2173.63 189.647 L2181.98 189.647 L2184.35 180.041 L2188.1 180.041 Z\" fill=\"#000000\" fill-rule=\"evenodd\" fill-opacity=\"1\" /><path clip-path=\"url(#clip490)\" d=\"M2222.7 194.925 Q2219.55 194.925 2217.7 197.078 Q2215.87 199.231 2215.87 202.981 Q2215.87 206.708 2217.7 208.883 Q2219.55 211.036 2222.7 211.036 Q2225.85 211.036 2227.68 208.883 Q2229.53 206.708 2229.53 202.981 Q2229.53 199.231 2227.68 197.078 Q2225.85 194.925 2222.7 194.925 M2231.98 180.273 L2231.98 184.532 Q2230.23 183.698 2228.42 183.259 Q2226.64 182.819 2224.88 182.819 Q2220.25 182.819 2217.79 185.944 Q2215.36 189.069 2215.02 195.388 Q2216.38 193.374 2218.44 192.309 Q2220.5 191.222 2222.98 191.222 Q2228.19 191.222 2231.2 194.393 Q2234.23 197.541 2234.23 202.981 Q2234.23 208.305 2231.08 211.522 Q2227.93 214.74 2222.7 214.74 Q2216.71 214.74 2213.54 210.157 Q2210.36 205.55 2210.36 196.823 Q2210.36 188.629 2214.25 183.768 Q2218.14 178.884 2224.69 178.884 Q2226.45 178.884 2228.23 179.231 Q2230.04 179.578 2231.98 180.273 Z\" fill=\"#000000\" fill-rule=\"evenodd\" fill-opacity=\"1\" /><polyline clip-path=\"url(#clip490)\" style=\"stroke:#3da44d; stroke-linecap:butt; stroke-linejoin:round; stroke-width:4; stroke-opacity:1; fill:none\" points=\"\n",
       "  1789.89,248.629 1932.12,248.629 \n",
       "  \"/>\n",
       "<path clip-path=\"url(#clip490)\" d=\"M1955.83 231.349 L1960.5 231.349 L1960.5 265.909 L1955.83 265.909 L1955.83 231.349 Z\" fill=\"#000000\" fill-rule=\"evenodd\" fill-opacity=\"1\" /><path clip-path=\"url(#clip490)\" d=\"M1973.84 232.622 L1973.84 239.983 L1982.61 239.983 L1982.61 243.293 L1973.84 243.293 L1973.84 257.367 Q1973.84 260.538 1974.69 261.441 Q1975.57 262.344 1978.24 262.344 L1982.61 262.344 L1982.61 265.909 L1978.24 265.909 Q1973.31 265.909 1971.43 264.08 Q1969.56 262.228 1969.56 257.367 L1969.56 243.293 L1966.43 243.293 L1966.43 239.983 L1969.56 239.983 L1969.56 232.622 L1973.84 232.622 Z\" fill=\"#000000\" fill-rule=\"evenodd\" fill-opacity=\"1\" /><path clip-path=\"url(#clip490)\" d=\"M2010.39 251.881 L2010.39 253.964 L1990.81 253.964 Q1991.08 258.362 1993.44 260.677 Q1995.83 262.969 2000.06 262.969 Q2002.52 262.969 2004.81 262.367 Q2007.12 261.765 2009.39 260.561 L2009.39 264.589 Q2007.1 265.561 2004.69 266.071 Q2002.29 266.58 1999.81 266.58 Q1993.61 266.58 1989.97 262.969 Q1986.36 259.358 1986.36 253.2 Q1986.36 246.835 1989.79 243.108 Q1993.24 239.358 1999.07 239.358 Q2004.3 239.358 2007.33 242.737 Q2010.39 246.094 2010.39 251.881 M2006.13 250.631 Q2006.08 247.136 2004.16 245.052 Q2002.26 242.969 1999.12 242.969 Q1995.55 242.969 1993.4 244.983 Q1991.27 246.997 1990.94 250.654 L2006.13 250.631 Z\" fill=\"#000000\" fill-rule=\"evenodd\" fill-opacity=\"1\" /><path clip-path=\"url(#clip490)\" d=\"M2032.4 243.964 Q2031.68 243.548 2030.83 243.362 Q2029.99 243.154 2028.98 243.154 Q2025.37 243.154 2023.42 245.515 Q2021.5 247.853 2021.5 252.251 L2021.5 265.909 L2017.22 265.909 L2017.22 239.983 L2021.5 239.983 L2021.5 244.011 Q2022.84 241.649 2024.99 240.515 Q2027.15 239.358 2030.23 239.358 Q2030.67 239.358 2031.2 239.427 Q2031.73 239.474 2032.38 239.589 L2032.4 243.964 Z\" fill=\"#000000\" fill-rule=\"evenodd\" fill-opacity=\"1\" /><path clip-path=\"url(#clip490)\" d=\"M2048.65 252.876 Q2043.49 252.876 2041.5 254.057 Q2039.51 255.237 2039.51 258.085 Q2039.51 260.353 2040.99 261.696 Q2042.49 263.015 2045.06 263.015 Q2048.61 263.015 2050.74 260.515 Q2052.89 257.992 2052.89 253.825 L2052.89 252.876 L2048.65 252.876 M2057.15 251.117 L2057.15 265.909 L2052.89 265.909 L2052.89 261.973 Q2051.43 264.335 2049.25 265.469 Q2047.08 266.58 2043.93 266.58 Q2039.95 266.58 2037.59 264.358 Q2035.25 262.112 2035.25 258.362 Q2035.25 253.987 2038.17 251.765 Q2041.11 249.543 2046.92 249.543 L2052.89 249.543 L2052.89 249.126 Q2052.89 246.187 2050.94 244.589 Q2049.02 242.969 2045.53 242.969 Q2043.3 242.969 2041.2 243.501 Q2039.09 244.034 2037.15 245.099 L2037.15 241.163 Q2039.49 240.261 2041.68 239.821 Q2043.88 239.358 2045.97 239.358 Q2051.59 239.358 2054.37 242.274 Q2057.15 245.191 2057.15 251.117 Z\" fill=\"#000000\" fill-rule=\"evenodd\" fill-opacity=\"1\" /><path clip-path=\"url(#clip490)\" d=\"M2070.13 232.622 L2070.13 239.983 L2078.91 239.983 L2078.91 243.293 L2070.13 243.293 L2070.13 257.367 Q2070.13 260.538 2070.99 261.441 Q2071.87 262.344 2074.53 262.344 L2078.91 262.344 L2078.91 265.909 L2074.53 265.909 Q2069.6 265.909 2067.73 264.08 Q2065.85 262.228 2065.85 257.367 L2065.85 243.293 L2062.73 243.293 L2062.73 239.983 L2065.85 239.983 L2065.85 232.622 L2070.13 232.622 Z\" fill=\"#000000\" fill-rule=\"evenodd\" fill-opacity=\"1\" /><path clip-path=\"url(#clip490)\" d=\"M2084.51 239.983 L2088.77 239.983 L2088.77 265.909 L2084.51 265.909 L2084.51 239.983 M2084.51 229.89 L2088.77 229.89 L2088.77 235.284 L2084.51 235.284 L2084.51 229.89 Z\" fill=\"#000000\" fill-rule=\"evenodd\" fill-opacity=\"1\" /><path clip-path=\"url(#clip490)\" d=\"M2107.73 242.969 Q2104.3 242.969 2102.31 245.654 Q2100.32 248.316 2100.32 252.969 Q2100.32 257.622 2102.29 260.307 Q2104.28 262.969 2107.73 262.969 Q2111.13 262.969 2113.12 260.284 Q2115.11 257.598 2115.11 252.969 Q2115.11 248.362 2113.12 245.677 Q2111.13 242.969 2107.73 242.969 M2107.73 239.358 Q2113.28 239.358 2116.45 242.969 Q2119.62 246.58 2119.62 252.969 Q2119.62 259.335 2116.45 262.969 Q2113.28 266.58 2107.73 266.58 Q2102.15 266.58 2098.98 262.969 Q2095.83 259.335 2095.83 252.969 Q2095.83 246.58 2098.98 242.969 Q2102.15 239.358 2107.73 239.358 Z\" fill=\"#000000\" fill-rule=\"evenodd\" fill-opacity=\"1\" /><path clip-path=\"url(#clip490)\" d=\"M2148.23 250.261 L2148.23 265.909 L2143.98 265.909 L2143.98 250.399 Q2143.98 246.719 2142.54 244.89 Q2141.11 243.062 2138.24 243.062 Q2134.79 243.062 2132.8 245.261 Q2130.8 247.46 2130.8 251.256 L2130.8 265.909 L2126.52 265.909 L2126.52 239.983 L2130.8 239.983 L2130.8 244.011 Q2132.33 241.673 2134.39 240.515 Q2136.48 239.358 2139.18 239.358 Q2143.65 239.358 2145.94 242.136 Q2148.23 244.89 2148.23 250.261 Z\" fill=\"#000000\" fill-rule=\"evenodd\" fill-opacity=\"1\" /><path clip-path=\"url(#clip490)\" d=\"M2191.57 245.052 L2184.83 245.052 L2182.89 252.784 L2189.67 252.784 L2191.57 245.052 M2188.1 231.881 L2185.69 241.487 L2192.45 241.487 L2194.88 231.881 L2198.58 231.881 L2196.2 241.487 L2203.42 241.487 L2203.42 245.052 L2195.29 245.052 L2193.4 252.784 L2200.76 252.784 L2200.76 256.325 L2192.49 256.325 L2190.09 265.909 L2186.38 265.909 L2188.77 256.325 L2181.98 256.325 L2179.6 265.909 L2175.87 265.909 L2178.28 256.325 L2170.99 256.325 L2170.99 252.784 L2179.14 252.784 L2181.08 245.052 L2173.63 245.052 L2173.63 241.487 L2181.98 241.487 L2184.35 231.881 L2188.1 231.881 Z\" fill=\"#000000\" fill-rule=\"evenodd\" fill-opacity=\"1\" /><path clip-path=\"url(#clip490)\" d=\"M2210.94 231.349 L2233.17 231.349 L2233.17 233.339 L2220.62 265.909 L2215.73 265.909 L2227.54 235.284 L2210.94 235.284 L2210.94 231.349 Z\" fill=\"#000000\" fill-rule=\"evenodd\" fill-opacity=\"1\" /><polyline clip-path=\"url(#clip490)\" style=\"stroke:#c271d2; stroke-linecap:butt; stroke-linejoin:round; stroke-width:4; stroke-opacity:1; fill:none\" points=\"\n",
       "  1789.89,300.469 1932.12,300.469 \n",
       "  \"/>\n",
       "<path clip-path=\"url(#clip490)\" d=\"M1955.83 283.189 L1960.5 283.189 L1960.5 317.749 L1955.83 317.749 L1955.83 283.189 Z\" fill=\"#000000\" fill-rule=\"evenodd\" fill-opacity=\"1\" /><path clip-path=\"url(#clip490)\" d=\"M1973.84 284.462 L1973.84 291.823 L1982.61 291.823 L1982.61 295.133 L1973.84 295.133 L1973.84 309.207 Q1973.84 312.378 1974.69 313.281 Q1975.57 314.184 1978.24 314.184 L1982.61 314.184 L1982.61 317.749 L1978.24 317.749 Q1973.31 317.749 1971.43 315.92 Q1969.56 314.068 1969.56 309.207 L1969.56 295.133 L1966.43 295.133 L1966.43 291.823 L1969.56 291.823 L1969.56 284.462 L1973.84 284.462 Z\" fill=\"#000000\" fill-rule=\"evenodd\" fill-opacity=\"1\" /><path clip-path=\"url(#clip490)\" d=\"M2010.39 303.721 L2010.39 305.804 L1990.81 305.804 Q1991.08 310.202 1993.44 312.517 Q1995.83 314.809 2000.06 314.809 Q2002.52 314.809 2004.81 314.207 Q2007.12 313.605 2009.39 312.401 L2009.39 316.429 Q2007.1 317.401 2004.69 317.911 Q2002.29 318.42 1999.81 318.42 Q1993.61 318.42 1989.97 314.809 Q1986.36 311.198 1986.36 305.04 Q1986.36 298.675 1989.79 294.948 Q1993.24 291.198 1999.07 291.198 Q2004.3 291.198 2007.33 294.577 Q2010.39 297.934 2010.39 303.721 M2006.13 302.471 Q2006.08 298.976 2004.16 296.892 Q2002.26 294.809 1999.12 294.809 Q1995.55 294.809 1993.4 296.823 Q1991.27 298.837 1990.94 302.494 L2006.13 302.471 Z\" fill=\"#000000\" fill-rule=\"evenodd\" fill-opacity=\"1\" /><path clip-path=\"url(#clip490)\" d=\"M2032.4 295.804 Q2031.68 295.388 2030.83 295.202 Q2029.99 294.994 2028.98 294.994 Q2025.37 294.994 2023.42 297.355 Q2021.5 299.693 2021.5 304.091 L2021.5 317.749 L2017.22 317.749 L2017.22 291.823 L2021.5 291.823 L2021.5 295.851 Q2022.84 293.489 2024.99 292.355 Q2027.15 291.198 2030.23 291.198 Q2030.67 291.198 2031.2 291.267 Q2031.73 291.314 2032.38 291.429 L2032.4 295.804 Z\" fill=\"#000000\" fill-rule=\"evenodd\" fill-opacity=\"1\" /><path clip-path=\"url(#clip490)\" d=\"M2048.65 304.716 Q2043.49 304.716 2041.5 305.897 Q2039.51 307.077 2039.51 309.925 Q2039.51 312.193 2040.99 313.536 Q2042.49 314.855 2045.06 314.855 Q2048.61 314.855 2050.74 312.355 Q2052.89 309.832 2052.89 305.665 L2052.89 304.716 L2048.65 304.716 M2057.15 302.957 L2057.15 317.749 L2052.89 317.749 L2052.89 313.813 Q2051.43 316.175 2049.25 317.309 Q2047.08 318.42 2043.93 318.42 Q2039.95 318.42 2037.59 316.198 Q2035.25 313.952 2035.25 310.202 Q2035.25 305.827 2038.17 303.605 Q2041.11 301.383 2046.92 301.383 L2052.89 301.383 L2052.89 300.966 Q2052.89 298.027 2050.94 296.429 Q2049.02 294.809 2045.53 294.809 Q2043.3 294.809 2041.2 295.341 Q2039.09 295.874 2037.15 296.939 L2037.15 293.003 Q2039.49 292.101 2041.68 291.661 Q2043.88 291.198 2045.97 291.198 Q2051.59 291.198 2054.37 294.114 Q2057.15 297.031 2057.15 302.957 Z\" fill=\"#000000\" fill-rule=\"evenodd\" fill-opacity=\"1\" /><path clip-path=\"url(#clip490)\" d=\"M2070.13 284.462 L2070.13 291.823 L2078.91 291.823 L2078.91 295.133 L2070.13 295.133 L2070.13 309.207 Q2070.13 312.378 2070.99 313.281 Q2071.87 314.184 2074.53 314.184 L2078.91 314.184 L2078.91 317.749 L2074.53 317.749 Q2069.6 317.749 2067.73 315.92 Q2065.85 314.068 2065.85 309.207 L2065.85 295.133 L2062.73 295.133 L2062.73 291.823 L2065.85 291.823 L2065.85 284.462 L2070.13 284.462 Z\" fill=\"#000000\" fill-rule=\"evenodd\" fill-opacity=\"1\" /><path clip-path=\"url(#clip490)\" d=\"M2084.51 291.823 L2088.77 291.823 L2088.77 317.749 L2084.51 317.749 L2084.51 291.823 M2084.51 281.73 L2088.77 281.73 L2088.77 287.124 L2084.51 287.124 L2084.51 281.73 Z\" fill=\"#000000\" fill-rule=\"evenodd\" fill-opacity=\"1\" /><path clip-path=\"url(#clip490)\" d=\"M2107.73 294.809 Q2104.3 294.809 2102.31 297.494 Q2100.32 300.156 2100.32 304.809 Q2100.32 309.462 2102.29 312.147 Q2104.28 314.809 2107.73 314.809 Q2111.13 314.809 2113.12 312.124 Q2115.11 309.438 2115.11 304.809 Q2115.11 300.202 2113.12 297.517 Q2111.13 294.809 2107.73 294.809 M2107.73 291.198 Q2113.28 291.198 2116.45 294.809 Q2119.62 298.42 2119.62 304.809 Q2119.62 311.175 2116.45 314.809 Q2113.28 318.42 2107.73 318.42 Q2102.15 318.42 2098.98 314.809 Q2095.83 311.175 2095.83 304.809 Q2095.83 298.42 2098.98 294.809 Q2102.15 291.198 2107.73 291.198 Z\" fill=\"#000000\" fill-rule=\"evenodd\" fill-opacity=\"1\" /><path clip-path=\"url(#clip490)\" d=\"M2148.23 302.101 L2148.23 317.749 L2143.98 317.749 L2143.98 302.239 Q2143.98 298.559 2142.54 296.73 Q2141.11 294.902 2138.24 294.902 Q2134.79 294.902 2132.8 297.101 Q2130.8 299.3 2130.8 303.096 L2130.8 317.749 L2126.52 317.749 L2126.52 291.823 L2130.8 291.823 L2130.8 295.851 Q2132.33 293.513 2134.39 292.355 Q2136.48 291.198 2139.18 291.198 Q2143.65 291.198 2145.94 293.976 Q2148.23 296.73 2148.23 302.101 Z\" fill=\"#000000\" fill-rule=\"evenodd\" fill-opacity=\"1\" /><path clip-path=\"url(#clip490)\" d=\"M2191.57 296.892 L2184.83 296.892 L2182.89 304.624 L2189.67 304.624 L2191.57 296.892 M2188.1 283.721 L2185.69 293.327 L2192.45 293.327 L2194.88 283.721 L2198.58 283.721 L2196.2 293.327 L2203.42 293.327 L2203.42 296.892 L2195.29 296.892 L2193.4 304.624 L2200.76 304.624 L2200.76 308.165 L2192.49 308.165 L2190.09 317.749 L2186.38 317.749 L2188.77 308.165 L2181.98 308.165 L2179.6 317.749 L2175.87 317.749 L2178.28 308.165 L2170.99 308.165 L2170.99 304.624 L2179.14 304.624 L2181.08 296.892 L2173.63 296.892 L2173.63 293.327 L2181.98 293.327 L2184.35 283.721 L2188.1 283.721 Z\" fill=\"#000000\" fill-rule=\"evenodd\" fill-opacity=\"1\" /><path clip-path=\"url(#clip490)\" d=\"M2222.12 301.337 Q2218.79 301.337 2216.87 303.119 Q2214.97 304.901 2214.97 308.026 Q2214.97 311.151 2216.87 312.934 Q2218.79 314.716 2222.12 314.716 Q2225.46 314.716 2227.38 312.934 Q2229.3 311.128 2229.3 308.026 Q2229.3 304.901 2227.38 303.119 Q2225.48 301.337 2222.12 301.337 M2217.45 299.346 Q2214.44 298.605 2212.75 296.545 Q2211.08 294.485 2211.08 291.522 Q2211.08 287.378 2214.02 284.971 Q2216.98 282.564 2222.12 282.564 Q2227.29 282.564 2230.23 284.971 Q2233.17 287.378 2233.17 291.522 Q2233.17 294.485 2231.48 296.545 Q2229.81 298.605 2226.82 299.346 Q2230.2 300.133 2232.08 302.425 Q2233.98 304.716 2233.98 308.026 Q2233.98 313.05 2230.9 315.735 Q2227.84 318.42 2222.12 318.42 Q2216.41 318.42 2213.33 315.735 Q2210.27 313.05 2210.27 308.026 Q2210.27 304.716 2212.17 302.425 Q2214.07 300.133 2217.45 299.346 M2215.73 291.962 Q2215.73 294.647 2217.4 296.152 Q2219.09 297.656 2222.12 297.656 Q2225.13 297.656 2226.82 296.152 Q2228.54 294.647 2228.54 291.962 Q2228.54 289.277 2226.82 287.772 Q2225.13 286.267 2222.12 286.267 Q2219.09 286.267 2217.4 287.772 Q2215.73 289.277 2215.73 291.962 Z\" fill=\"#000000\" fill-rule=\"evenodd\" fill-opacity=\"1\" /><polyline clip-path=\"url(#clip490)\" style=\"stroke:#ac8d18; stroke-linecap:butt; stroke-linejoin:round; stroke-width:4; stroke-opacity:1; fill:none\" points=\"\n",
       "  1789.89,352.309 1932.12,352.309 \n",
       "  \"/>\n",
       "<path clip-path=\"url(#clip490)\" d=\"M1955.83 335.029 L1960.5 335.029 L1960.5 369.589 L1955.83 369.589 L1955.83 335.029 Z\" fill=\"#000000\" fill-rule=\"evenodd\" fill-opacity=\"1\" /><path clip-path=\"url(#clip490)\" d=\"M1973.84 336.302 L1973.84 343.663 L1982.61 343.663 L1982.61 346.973 L1973.84 346.973 L1973.84 361.047 Q1973.84 364.218 1974.69 365.121 Q1975.57 366.024 1978.24 366.024 L1982.61 366.024 L1982.61 369.589 L1978.24 369.589 Q1973.31 369.589 1971.43 367.76 Q1969.56 365.908 1969.56 361.047 L1969.56 346.973 L1966.43 346.973 L1966.43 343.663 L1969.56 343.663 L1969.56 336.302 L1973.84 336.302 Z\" fill=\"#000000\" fill-rule=\"evenodd\" fill-opacity=\"1\" /><path clip-path=\"url(#clip490)\" d=\"M2010.39 355.561 L2010.39 357.644 L1990.81 357.644 Q1991.08 362.042 1993.44 364.357 Q1995.83 366.649 2000.06 366.649 Q2002.52 366.649 2004.81 366.047 Q2007.12 365.445 2009.39 364.241 L2009.39 368.269 Q2007.1 369.241 2004.69 369.751 Q2002.29 370.26 1999.81 370.26 Q1993.61 370.26 1989.97 366.649 Q1986.36 363.038 1986.36 356.88 Q1986.36 350.515 1989.79 346.788 Q1993.24 343.038 1999.07 343.038 Q2004.3 343.038 2007.33 346.417 Q2010.39 349.774 2010.39 355.561 M2006.13 354.311 Q2006.08 350.816 2004.16 348.732 Q2002.26 346.649 1999.12 346.649 Q1995.55 346.649 1993.4 348.663 Q1991.27 350.677 1990.94 354.334 L2006.13 354.311 Z\" fill=\"#000000\" fill-rule=\"evenodd\" fill-opacity=\"1\" /><path clip-path=\"url(#clip490)\" d=\"M2032.4 347.644 Q2031.68 347.228 2030.83 347.042 Q2029.99 346.834 2028.98 346.834 Q2025.37 346.834 2023.42 349.195 Q2021.5 351.533 2021.5 355.931 L2021.5 369.589 L2017.22 369.589 L2017.22 343.663 L2021.5 343.663 L2021.5 347.691 Q2022.84 345.329 2024.99 344.195 Q2027.15 343.038 2030.23 343.038 Q2030.67 343.038 2031.2 343.107 Q2031.73 343.154 2032.38 343.269 L2032.4 347.644 Z\" fill=\"#000000\" fill-rule=\"evenodd\" fill-opacity=\"1\" /><path clip-path=\"url(#clip490)\" d=\"M2048.65 356.556 Q2043.49 356.556 2041.5 357.737 Q2039.51 358.917 2039.51 361.765 Q2039.51 364.033 2040.99 365.376 Q2042.49 366.695 2045.06 366.695 Q2048.61 366.695 2050.74 364.195 Q2052.89 361.672 2052.89 357.505 L2052.89 356.556 L2048.65 356.556 M2057.15 354.797 L2057.15 369.589 L2052.89 369.589 L2052.89 365.653 Q2051.43 368.015 2049.25 369.149 Q2047.08 370.26 2043.93 370.26 Q2039.95 370.26 2037.59 368.038 Q2035.25 365.792 2035.25 362.042 Q2035.25 357.667 2038.17 355.445 Q2041.11 353.223 2046.92 353.223 L2052.89 353.223 L2052.89 352.806 Q2052.89 349.867 2050.94 348.269 Q2049.02 346.649 2045.53 346.649 Q2043.3 346.649 2041.2 347.181 Q2039.09 347.714 2037.15 348.779 L2037.15 344.843 Q2039.49 343.941 2041.68 343.501 Q2043.88 343.038 2045.97 343.038 Q2051.59 343.038 2054.37 345.954 Q2057.15 348.871 2057.15 354.797 Z\" fill=\"#000000\" fill-rule=\"evenodd\" fill-opacity=\"1\" /><path clip-path=\"url(#clip490)\" d=\"M2070.13 336.302 L2070.13 343.663 L2078.91 343.663 L2078.91 346.973 L2070.13 346.973 L2070.13 361.047 Q2070.13 364.218 2070.99 365.121 Q2071.87 366.024 2074.53 366.024 L2078.91 366.024 L2078.91 369.589 L2074.53 369.589 Q2069.6 369.589 2067.73 367.76 Q2065.85 365.908 2065.85 361.047 L2065.85 346.973 L2062.73 346.973 L2062.73 343.663 L2065.85 343.663 L2065.85 336.302 L2070.13 336.302 Z\" fill=\"#000000\" fill-rule=\"evenodd\" fill-opacity=\"1\" /><path clip-path=\"url(#clip490)\" d=\"M2084.51 343.663 L2088.77 343.663 L2088.77 369.589 L2084.51 369.589 L2084.51 343.663 M2084.51 333.57 L2088.77 333.57 L2088.77 338.964 L2084.51 338.964 L2084.51 333.57 Z\" fill=\"#000000\" fill-rule=\"evenodd\" fill-opacity=\"1\" /><path clip-path=\"url(#clip490)\" d=\"M2107.73 346.649 Q2104.3 346.649 2102.31 349.334 Q2100.32 351.996 2100.32 356.649 Q2100.32 361.302 2102.29 363.987 Q2104.28 366.649 2107.73 366.649 Q2111.13 366.649 2113.12 363.964 Q2115.11 361.278 2115.11 356.649 Q2115.11 352.042 2113.12 349.357 Q2111.13 346.649 2107.73 346.649 M2107.73 343.038 Q2113.28 343.038 2116.45 346.649 Q2119.62 350.26 2119.62 356.649 Q2119.62 363.015 2116.45 366.649 Q2113.28 370.26 2107.73 370.26 Q2102.15 370.26 2098.98 366.649 Q2095.83 363.015 2095.83 356.649 Q2095.83 350.26 2098.98 346.649 Q2102.15 343.038 2107.73 343.038 Z\" fill=\"#000000\" fill-rule=\"evenodd\" fill-opacity=\"1\" /><path clip-path=\"url(#clip490)\" d=\"M2148.23 353.941 L2148.23 369.589 L2143.98 369.589 L2143.98 354.079 Q2143.98 350.399 2142.54 348.57 Q2141.11 346.742 2138.24 346.742 Q2134.79 346.742 2132.8 348.941 Q2130.8 351.14 2130.8 354.936 L2130.8 369.589 L2126.52 369.589 L2126.52 343.663 L2130.8 343.663 L2130.8 347.691 Q2132.33 345.353 2134.39 344.195 Q2136.48 343.038 2139.18 343.038 Q2143.65 343.038 2145.94 345.816 Q2148.23 348.57 2148.23 353.941 Z\" fill=\"#000000\" fill-rule=\"evenodd\" fill-opacity=\"1\" /><path clip-path=\"url(#clip490)\" d=\"M2191.57 348.732 L2184.83 348.732 L2182.89 356.464 L2189.67 356.464 L2191.57 348.732 M2188.1 335.561 L2185.69 345.167 L2192.45 345.167 L2194.88 335.561 L2198.58 335.561 L2196.2 345.167 L2203.42 345.167 L2203.42 348.732 L2195.29 348.732 L2193.4 356.464 L2200.76 356.464 L2200.76 360.005 L2192.49 360.005 L2190.09 369.589 L2186.38 369.589 L2188.77 360.005 L2181.98 360.005 L2179.6 369.589 L2175.87 369.589 L2178.28 360.005 L2170.99 360.005 L2170.99 356.464 L2179.14 356.464 L2181.08 348.732 L2173.63 348.732 L2173.63 345.167 L2181.98 345.167 L2184.35 335.561 L2188.1 335.561 Z\" fill=\"#000000\" fill-rule=\"evenodd\" fill-opacity=\"1\" /><path clip-path=\"url(#clip490)\" d=\"M2212.26 368.871 L2212.26 364.612 Q2214.02 365.445 2215.83 365.885 Q2217.63 366.325 2219.37 366.325 Q2224 366.325 2226.43 363.223 Q2228.88 360.098 2229.23 353.755 Q2227.89 355.746 2225.83 356.811 Q2223.77 357.876 2221.27 357.876 Q2216.08 357.876 2213.05 354.751 Q2210.04 351.603 2210.04 346.163 Q2210.04 340.839 2213.19 337.621 Q2216.34 334.404 2221.57 334.404 Q2227.56 334.404 2230.71 339.01 Q2233.88 343.593 2233.88 352.343 Q2233.88 360.515 2229.99 365.399 Q2226.13 370.26 2219.58 370.26 Q2217.82 370.26 2216.01 369.913 Q2214.21 369.565 2212.26 368.871 M2221.57 354.218 Q2224.72 354.218 2226.54 352.066 Q2228.4 349.913 2228.4 346.163 Q2228.4 342.436 2226.54 340.283 Q2224.72 338.107 2221.57 338.107 Q2218.42 338.107 2216.57 340.283 Q2214.74 342.436 2214.74 346.163 Q2214.74 349.913 2216.57 352.066 Q2218.42 354.218 2221.57 354.218 Z\" fill=\"#000000\" fill-rule=\"evenodd\" fill-opacity=\"1\" /><polyline clip-path=\"url(#clip490)\" style=\"stroke:#00a9ad; stroke-linecap:butt; stroke-linejoin:round; stroke-width:4; stroke-opacity:1; fill:none\" points=\"\n",
       "  1789.89,404.149 1932.12,404.149 \n",
       "  \"/>\n",
       "<path clip-path=\"url(#clip490)\" d=\"M1978.07 388.003 L1978.07 392.563 Q1975.41 391.29 1973.05 390.665 Q1970.69 390.04 1968.49 390.04 Q1964.67 390.04 1962.59 391.521 Q1960.53 393.003 1960.53 395.734 Q1960.53 398.026 1961.89 399.207 Q1963.28 400.364 1967.12 401.082 L1969.95 401.66 Q1975.18 402.656 1977.66 405.179 Q1980.16 407.679 1980.16 411.892 Q1980.16 416.915 1976.78 419.507 Q1973.42 422.1 1966.92 422.1 Q1964.46 422.1 1961.69 421.544 Q1958.93 420.989 1955.97 419.901 L1955.97 415.086 Q1958.81 416.683 1961.55 417.493 Q1964.28 418.304 1966.92 418.304 Q1970.92 418.304 1973.1 416.73 Q1975.27 415.156 1975.27 412.239 Q1975.27 409.693 1973.7 408.257 Q1972.15 406.822 1968.58 406.105 L1965.74 405.549 Q1960.5 404.507 1958.17 402.285 Q1955.83 400.063 1955.83 396.105 Q1955.83 391.521 1959.05 388.882 Q1962.29 386.244 1967.96 386.244 Q1970.39 386.244 1972.91 386.683 Q1975.43 387.123 1978.07 388.003 Z\" fill=\"#000000\" fill-rule=\"evenodd\" fill-opacity=\"1\" /><path clip-path=\"url(#clip490)\" d=\"M1999.58 413.581 L1999.58 414.739 L1987.24 414.739 Q1987.43 417.193 1988.91 418.489 Q1990.41 419.785 1993.07 419.785 Q1994.62 419.785 1996.08 419.438 Q1997.52 419.114 1998.95 418.443 L1998.95 420.688 Q1997.52 421.243 1995.99 421.521 Q1994.49 421.799 1992.91 421.799 Q1989 421.799 1986.73 419.785 Q1984.44 417.771 1984.44 414.322 Q1984.44 410.757 1986.62 408.651 Q1988.77 406.568 1992.45 406.568 Q1995.74 406.568 1997.66 408.443 Q1999.58 410.341 1999.58 413.581 M1996.89 412.864 Q1996.87 410.919 1995.67 409.739 Q1994.46 408.581 1992.47 408.581 Q1990.23 408.581 1988.88 409.716 Q1987.54 410.827 1987.33 412.864 L1996.89 412.864 Z\" fill=\"#000000\" fill-rule=\"evenodd\" fill-opacity=\"1\" /><path clip-path=\"url(#clip490)\" d=\"M2018.54 397.771 L2018.54 405.966 L2015.85 405.966 L2015.85 397.285 Q2015.85 395.179 2015.02 394.183 Q2014.18 393.165 2012.45 393.165 Q2010.39 393.165 2009.18 394.415 Q2007.98 395.642 2007.98 397.771 L2007.98 405.966 L2005.27 405.966 L2005.27 391.452 L2007.98 391.452 L2007.98 393.697 Q2008.88 392.378 2010.16 391.753 Q2011.45 391.105 2013.24 391.105 Q2014.99 391.105 2016.24 391.915 Q2017.49 392.702 2018.1 394.23 Q2019.09 392.632 2020.48 391.869 Q2021.89 391.105 2023.79 391.105 Q2026.36 391.105 2027.73 392.702 Q2029.12 394.276 2029.12 397.193 L2029.12 405.966 L2026.43 405.966 L2026.43 397.285 Q2026.43 395.202 2025.6 394.183 Q2024.76 393.165 2023.05 393.165 Q2020.97 393.165 2019.74 394.415 Q2018.54 395.642 2018.54 397.771 Z\" fill=\"#000000\" fill-rule=\"evenodd\" fill-opacity=\"1\" /><path clip-path=\"url(#clip490)\" d=\"M2042.33 398.674 Q2039.09 398.674 2037.84 399.322 Q2036.57 399.994 2036.57 401.591 Q2036.57 402.864 2037.52 403.605 Q2038.47 404.345 2040.09 404.345 Q2042.31 404.345 2043.65 402.933 Q2045.02 401.521 2045.02 399.207 L2045.02 398.674 L2042.33 398.674 M2047.68 397.679 L2047.68 405.966 L2045.02 405.966 L2045.02 403.767 Q2044.09 405.086 2042.73 405.711 Q2041.34 406.336 2039.37 406.336 Q2036.85 406.336 2035.37 405.086 Q2033.88 403.836 2033.88 401.73 Q2033.88 399.299 2035.74 398.049 Q2037.59 396.799 2041.24 396.799 L2045.02 396.799 L2045.02 396.568 Q2045.02 394.924 2043.79 394.021 Q2042.56 393.119 2040.37 393.119 Q2038.98 393.119 2037.63 393.42 Q2036.31 393.72 2035.09 394.322 L2035.09 392.1 Q2036.57 391.614 2037.96 391.359 Q2039.32 391.105 2040.64 391.105 Q2044.18 391.105 2045.94 392.725 Q2047.68 394.369 2047.68 397.679 Z\" fill=\"#000000\" fill-rule=\"evenodd\" fill-opacity=\"1\" /><path clip-path=\"url(#clip490)\" d=\"M2068.91 391.452 L2063 398.512 L2069.21 405.966 L2066.04 405.966 L2061.29 400.271 L2056.55 405.966 L2053.37 405.966 L2059.72 398.373 L2053.91 391.452 L2057.08 391.452 L2061.41 396.614 L2065.74 391.452 L2068.91 391.452 Z\" fill=\"#000000\" fill-rule=\"evenodd\" fill-opacity=\"1\" /></svg>\n"
      ]
     },
     "execution_count": 525,
     "metadata": {},
     "output_type": "execute_result"
    }
   ],
   "source": [
    "N6 = 6\n",
    "N = 6\n",
    "\n",
    "#Ji = (-0.00001, -0.25, -1.0, -0.25, -0.00001) #-1 * ones(N6-1)\n",
    "Jis = [\n",
    "    #(0.0, -0.25, -1.0, -0.25, 0.0),\n",
    "    #(0.0, -0.125, -1.0, -0.125, 0.0),\n",
    "    #(0.0, -0.0625, -1.0, -0.0625, 0.0),\n",
    "    #(0.0, -0.025, -1.0, -0.025, 0.0),\n",
    "    (-0.0125, -0.25, -1.0, -0.25, -0.0125),\n",
    "    (-0.00625, -0.25, -1.0, -0.25, -0.00625),\n",
    "    (-0.0005, -0.25, -1.0, -0.25, -0.0005),\n",
    "    (-5.0e-5, -0.125, -1.0, -0.125, -5.0e-5),\n",
    "    (-5.0e-5, -0.05, -1.0, -0.05, -5.0e-5)\n",
    "]\n",
    "\n",
    "plot()\n",
    "\n",
    "for j in 1:length(Jis)\n",
    "    # setup hamilton matrix\n",
    "    Ji = Jis[j]\n",
    "    Js_N6 = reset_Js(N6)\n",
    "    # couplings between (i,i+1) for α=x (1)\n",
    "    for i in 1:(N6-1)\n",
    "        Js_N6[1][i,i+1] = Ji[i]\n",
    "    end\n",
    "    Js_N6[2] = Js_N6[1] # y\n",
    "    Js_N6[3] = Js_N6[1] # z\n",
    "    H_N6 = calculate_hamilton_matrix(Js_N6, N6)\n",
    "    ψ_N6_g = eigvecs(rationalize.(Matrix(H_N6)))[:,1];\n",
    "    \n",
    "    # calculate Sₑ\n",
    "    Sₑs_N6 = zeros(N6-1)\n",
    "    for M_A in 1:(N6-1)\n",
    "        Sₑs_N6[M_A] =Sₑ_M_A(ψ_N6_g, M_A, N6)\n",
    "    end\n",
    "    \n",
    "    plot!(Sₑs_N6, label=\"Iteration #$(j+4)\")\n",
    "end\n",
    "\n",
    "\n",
    "\n",
    "\n",
    "#plot(Sₑs_N6, label=\"Sₑ\")\n",
    "plot!(1:(N6-1), Sₑmax.(1:(N6-1), N6 .- collect(1:(N6-1))), label=\"Sₑᵐᵃˣ\")\n",
    "xlabel!(L\"M_A\")\n",
    "ylabel!(\"Sₑ\")\n",
    "xticks!(1:N6-1)"
   ]
  },
  {
   "cell_type": "code",
   "execution_count": 513,
   "id": "96de27c1",
   "metadata": {},
   "outputs": [],
   "source": [
    "using LaTeXStrings"
   ]
  },
  {
   "cell_type": "code",
   "execution_count": 526,
   "id": "47bed781",
   "metadata": {},
   "outputs": [],
   "source": [
    "savefig(\"2c.png\")"
   ]
  },
  {
   "cell_type": "code",
   "execution_count": 532,
   "id": "d4f28e62",
   "metadata": {},
   "outputs": [
    {
     "data": {
      "text/plain": [
       "8.781573958908599"
      ]
     },
     "execution_count": 532,
     "metadata": {},
     "output_type": "execute_result"
    }
   ],
   "source": [
    "52223^(1/5)"
   ]
  },
  {
   "cell_type": "code",
   "execution_count": 538,
   "id": "d183cbf2",
   "metadata": {},
   "outputs": [
    {
     "data": {
      "text/plain": [
       "-1.0:0.125:0.0"
      ]
     },
     "execution_count": 538,
     "metadata": {},
     "output_type": "execute_result"
    }
   ],
   "source": [
    "range(-1,0,length=9)"
   ]
  }
 ],
 "metadata": {
  "kernelspec": {
   "display_name": "Julia 1.6.6",
   "language": "julia",
   "name": "julia-1.6"
  },
  "language_info": {
   "file_extension": ".jl",
   "mimetype": "application/julia",
   "name": "julia",
   "version": "1.6.6"
  }
 },
 "nbformat": 4,
 "nbformat_minor": 5
}
