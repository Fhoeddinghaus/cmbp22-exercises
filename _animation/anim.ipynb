{
 "cells": [
  {
   "cell_type": "code",
   "execution_count": 1,
   "id": "f4e840ab",
   "metadata": {},
   "outputs": [
    {
     "data": {
      "text/plain": [
       "false"
      ]
     },
     "execution_count": 1,
     "metadata": {},
     "output_type": "execute_result"
    }
   ],
   "source": [
    "using PyCall\n",
    "anim = pyimport(\"matplotlib.animation\")\n",
    "\n",
    "using PyPlot\n",
    "using Base64, ProgressMeter\n",
    "\n",
    "\n",
    "pygui(false)"
   ]
  },
  {
   "cell_type": "code",
   "execution_count": null,
   "id": "855721e6",
   "metadata": {},
   "outputs": [],
   "source": [
    "function showanim(filename)\n",
    "    base64_video = base64encode(open(filename))\n",
    "    display(\"text/html\", \"\"\"<video controls src=\"data:video/x-m4v;base64,$base64_video\">\"\"\")\n",
    "end\n",
    "\n",
    "fig = figure()\n",
    "cmaps = Dict([\n",
    "        \"gray_r\" => \"gray\",\n",
    "        \"gray\" => \"gray_r\"\n",
    "        ])\n",
    "cm = \"gray\"\n",
    "\n",
    "function make_frame(i)\n",
    "    global cm, cmaps\n",
    "    cm = cmaps[cm]\n",
    "    imshow(GRID[:,:,i+1], cmap=cm)\n",
    "end\n",
    "\n",
    "withfig(fig) do\n",
    "    myanim = anim.FuncAnimation(fig, make_frame, frames=size(GRID,3), interval=200)\n",
    "    myanim[:save](\"test2.mp4\", bitrate=-1, extra_args=[\"-vcodec\", \"libx264\", \"-pix_fmt\", \"yuv420p\"])\n",
    "end\n",
    "\n",
    "#writer = anim.FFMpegWriter(fps=1)\n",
    "#writer.setup(fig, \"test.mp4\")\n",
    "\n",
    "#@showprogress for i in 1:10\n",
    "#    make_frame(i)\n",
    "#    \n",
    "#    writer.grab_frame()\n",
    "#end\n",
    "\n",
    "#writer.finish()\n",
    "#close(fig)\n",
    "\n",
    "showanim(\"test2.mp4\")"
   ]
  }
 ],
 "metadata": {
  "kernelspec": {
   "display_name": "Julia 1.7.2",
   "language": "julia",
   "name": "julia-1.7"
  },
  "language_info": {
   "file_extension": ".jl",
   "mimetype": "application/julia",
   "name": "julia",
   "version": "1.7.2"
  }
 },
 "nbformat": 4,
 "nbformat_minor": 5
}
